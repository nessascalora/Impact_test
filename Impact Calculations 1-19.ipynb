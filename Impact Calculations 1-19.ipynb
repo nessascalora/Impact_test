{
  "metadata": {
    "createdOn": 1668611741016,
    "creator": "vanessa.scalora@myagro.org",
    "customFields": {},
    "hide_input": true,
    "kernelspec": {
      "name": "python3",
      "display_name": "Python 3",
      "language": "python"
    },
    "language_info": {
      "name": "python",
      "version": "3.6.8",
      "mimetype": "text/x-python",
      "codemirror_mode": {
        "name": "ipython",
        "version": 3
      },
      "pygments_lexer": "ipython3",
      "nbconvert_exporter": "python",
      "file_extension": ".py"
    },
    "modifiedBy": "vanessa.scalora@myagro.org",
    "tags": [],
    "vscode": {
      "interpreter": {
        "hash": "3ad933181bd8a04b432d3370b9dc3b0662ad032c4dfaa4e4f1596c548f763858"
      }
    }
  },
  "nbformat": 4,
  "nbformat_minor": 1,
  "cells": [
    {
      "cell_type": "markdown",
      "metadata": {},
      "source": [
        "# 2022 Impact Report"
      ]
    },
    {
      "cell_type": "markdown",
      "metadata": {},
      "source": [
        "## Introduction"
      ]
    },
    {
      "cell_type": "markdown",
      "metadata": {},
      "source": [
        "Insert intro"
      ]
    },
    {
      "cell_type": "markdown",
      "metadata": {},
      "source": [
        "## Methodology"
      ]
    },
    {
      "cell_type": "markdown",
      "metadata": {},
      "source": [
        "### 1. Data Inputs"
      ]
    },
    {
      "cell_type": "markdown",
      "metadata": {},
      "source": [
        "#### 1.a. Import datasets and data tools, like python libraries"
      ]
    },
    {
      "execution_count": 588,
      "cell_type": "code",
      "metadata": {},
      "source": [
        "%pylab inline"
      ],
      "outputs": [
        {
          "output_type": "stream",
          "text": "Populating the interactive namespace from numpy and matplotlib\n",
          "name": "stdout"
        }
      ]
    },
    {
      "execution_count": 589,
      "cell_type": "code",
      "metadata": {},
      "source": [
        "import dataiku\nfrom dataiku import pandasutils as pdu\nimport pandas as pd"
      ],
      "outputs": []
    },
    {
      "execution_count": 590,
      "cell_type": "code",
      "metadata": {
        "code_folding": []
      },
      "source": [
        "delivered_clients \u003d dataiku.Dataset(\"distinct_clients_delivered_FY22_dataiku\")\ndistinct_delivered_clients_per_country \u003d delivered_clients.get_dataframe()\n\npackage_price \u003d dataiku.Dataset(\"package_price_by_product_hectarage_FY22\")\npackage_price_by_product_hectarage \u003d package_price.get_dataframe()\n\nproducts_delivered \u003d dataiku.Dataset(\"delivered_packages_hectares_by_product_FY22\")\nproducts_delivered_hectarage \u003d products_delivered.get_dataframe()\n\ncereal_yield \u003d dataiku.Dataset(\"avg_yield_myagro_control_by_country_crop_FY22\")\ncereal_yield_by_country_crop_farmertype \u003d cereal_yield.get_dataframe()\n\nyield_per_farmer \u003d dataiku.Dataset(\"all_crops_2022_yield_prepared\")\nyield_per_farmer_by_country_crop_farmertype \u003d yield_per_farmer.get_dataframe()\n\npeanut_fodder \u003d dataiku.Dataset(\"peanut_fodder_FY22\")\npeanut_fodder_by_farmertype \u003d peanut_fodder.get_dataframe()\n\ncowpea_yield \u003d dataiku.Dataset(\"FAOSTAT_cowpea_avg_yield_by_country_prepared\")\ncowpea_yield_by_country \u003d cowpea_yield.get_dataframe()\n\ncontrol_farmer_expenses \u003d dataiku.Dataset(\"control_expenses_2022_by_country_crop\")\ncontrol_farmer_expenses_by_country_crop \u003d control_farmer_expenses.get_dataframe()"
      ],
      "outputs": []
    },
    {
      "cell_type": "markdown",
      "metadata": {},
      "source": [
        "#### 1.b. Create variables for calculations"
      ]
    },
    {
      "cell_type": "markdown",
      "metadata": {},
      "source": [
        "##### 1.b.1. Cereal average yields (T/Ha) for each farmer type: myAgro \u0026 control\n- Maize, Mali \u0026 Senegal\n- Peanut, Mali \u0026 Senegal\n- Rice, Mali \u0026 Senegal\n- Sorghum, Mali\n- Millet, Senegal"
      ]
    },
    {
      "execution_count": 591,
      "cell_type": "code",
      "metadata": {},
      "source": [
        "cereal_yield_by_country_crop_farmertype \u003d cereal_yield_by_country_crop_farmertype.set_index([\u0027country\u0027, \u0027crop\u0027, \u0027farmer_type\u0027])\ncereal_yield_by_country_crop_farmertype.style\\\n                                       .format({\u0027yield_avg\u0027: lambda val: f\u0027{val:,.2f}\u0027})\\\n                                       .set_caption(\u0027Cereal Crop Average Yield\u0027)"
      ],
      "outputs": [
        {
          "output_type": "execute_result",
          "execution_count": 591,
          "data": {
            "text/plain": "\u003cpandas.io.formats.style.Styler at 0x7fba1131fb38\u003e",
            "text/html": "\u003cstyle  type\u003d\"text/css\" \u003e\n\u003c/style\u003e  \n\u003ctable id\u003d\"T_f70c3e4e_983d_11ed_bb48_f23b1644f743\" \u003e\u003ccaption\u003eCereal Crop Average Yield\u003c/caption\u003e \n\u003cthead\u003e    \u003ctr\u003e \n        \u003cth class\u003d\"blank\" \u003e\u003c/th\u003e \n        \u003cth class\u003d\"blank\" \u003e\u003c/th\u003e \n        \u003cth class\u003d\"blank level0\" \u003e\u003c/th\u003e \n        \u003cth class\u003d\"col_heading level0 col0\" \u003eyield_avg\u003c/th\u003e \n        \u003cth class\u003d\"col_heading level0 col1\" \u003ecount\u003c/th\u003e \n    \u003c/tr\u003e    \u003ctr\u003e \n        \u003cth class\u003d\"index_name level0\" \u003ecountry\u003c/th\u003e \n        \u003cth class\u003d\"index_name level1\" \u003ecrop\u003c/th\u003e \n        \u003cth class\u003d\"index_name level2\" \u003efarmer_type\u003c/th\u003e \n        \u003cth class\u003d\"blank\" \u003e\u003c/th\u003e \n        \u003cth class\u003d\"blank\" \u003e\u003c/th\u003e \n    \u003c/tr\u003e\u003c/thead\u003e \n\u003ctbody\u003e    \u003ctr\u003e \n        \u003cth id\u003d\"T_f70c3e4e_983d_11ed_bb48_f23b1644f743level0_row0\" class\u003d\"row_heading level0 row0\" rowspan\u003d8\u003eMali\u003c/th\u003e \n        \u003cth id\u003d\"T_f70c3e4e_983d_11ed_bb48_f23b1644f743level1_row0\" class\u003d\"row_heading level1 row0\" rowspan\u003d2\u003emaize\u003c/th\u003e \n        \u003cth id\u003d\"T_f70c3e4e_983d_11ed_bb48_f23b1644f743level2_row0\" class\u003d\"row_heading level2 row0\" \u003econtrol\u003c/th\u003e \n        \u003ctd id\u003d\"T_f70c3e4e_983d_11ed_bb48_f23b1644f743row0_col0\" class\u003d\"data row0 col0\" \u003e1.48\u003c/td\u003e \n        \u003ctd id\u003d\"T_f70c3e4e_983d_11ed_bb48_f23b1644f743row0_col1\" class\u003d\"data row0 col1\" \u003e161\u003c/td\u003e \n    \u003c/tr\u003e    \u003ctr\u003e \n        \u003cth id\u003d\"T_f70c3e4e_983d_11ed_bb48_f23b1644f743level2_row1\" class\u003d\"row_heading level2 row1\" \u003emyagro\u003c/th\u003e \n        \u003ctd id\u003d\"T_f70c3e4e_983d_11ed_bb48_f23b1644f743row1_col0\" class\u003d\"data row1 col0\" \u003e2.92\u003c/td\u003e \n        \u003ctd id\u003d\"T_f70c3e4e_983d_11ed_bb48_f23b1644f743row1_col1\" class\u003d\"data row1 col1\" \u003e125\u003c/td\u003e \n    \u003c/tr\u003e    \u003ctr\u003e \n        \u003cth id\u003d\"T_f70c3e4e_983d_11ed_bb48_f23b1644f743level1_row2\" class\u003d\"row_heading level1 row2\" rowspan\u003d2\u003epeanut\u003c/th\u003e \n        \u003cth id\u003d\"T_f70c3e4e_983d_11ed_bb48_f23b1644f743level2_row2\" class\u003d\"row_heading level2 row2\" \u003econtrol\u003c/th\u003e \n        \u003ctd id\u003d\"T_f70c3e4e_983d_11ed_bb48_f23b1644f743row2_col0\" class\u003d\"data row2 col0\" \u003e0.60\u003c/td\u003e \n        \u003ctd id\u003d\"T_f70c3e4e_983d_11ed_bb48_f23b1644f743row2_col1\" class\u003d\"data row2 col1\" \u003e160\u003c/td\u003e \n    \u003c/tr\u003e    \u003ctr\u003e \n        \u003cth id\u003d\"T_f70c3e4e_983d_11ed_bb48_f23b1644f743level2_row3\" class\u003d\"row_heading level2 row3\" \u003emyagro\u003c/th\u003e \n        \u003ctd id\u003d\"T_f70c3e4e_983d_11ed_bb48_f23b1644f743row3_col0\" class\u003d\"data row3 col0\" \u003e1.54\u003c/td\u003e \n        \u003ctd id\u003d\"T_f70c3e4e_983d_11ed_bb48_f23b1644f743row3_col1\" class\u003d\"data row3 col1\" \u003e146\u003c/td\u003e \n    \u003c/tr\u003e    \u003ctr\u003e \n        \u003cth id\u003d\"T_f70c3e4e_983d_11ed_bb48_f23b1644f743level1_row4\" class\u003d\"row_heading level1 row4\" rowspan\u003d2\u003erice\u003c/th\u003e \n        \u003cth id\u003d\"T_f70c3e4e_983d_11ed_bb48_f23b1644f743level2_row4\" class\u003d\"row_heading level2 row4\" \u003econtrol\u003c/th\u003e \n        \u003ctd id\u003d\"T_f70c3e4e_983d_11ed_bb48_f23b1644f743row4_col0\" class\u003d\"data row4 col0\" \u003e0.87\u003c/td\u003e \n        \u003ctd id\u003d\"T_f70c3e4e_983d_11ed_bb48_f23b1644f743row4_col1\" class\u003d\"data row4 col1\" \u003e96\u003c/td\u003e \n    \u003c/tr\u003e    \u003ctr\u003e \n        \u003cth id\u003d\"T_f70c3e4e_983d_11ed_bb48_f23b1644f743level2_row5\" class\u003d\"row_heading level2 row5\" \u003emyagro\u003c/th\u003e \n        \u003ctd id\u003d\"T_f70c3e4e_983d_11ed_bb48_f23b1644f743row5_col0\" class\u003d\"data row5 col0\" \u003e2.05\u003c/td\u003e \n        \u003ctd id\u003d\"T_f70c3e4e_983d_11ed_bb48_f23b1644f743row5_col1\" class\u003d\"data row5 col1\" \u003e77\u003c/td\u003e \n    \u003c/tr\u003e    \u003ctr\u003e \n        \u003cth id\u003d\"T_f70c3e4e_983d_11ed_bb48_f23b1644f743level1_row6\" class\u003d\"row_heading level1 row6\" rowspan\u003d2\u003esorghum\u003c/th\u003e \n        \u003cth id\u003d\"T_f70c3e4e_983d_11ed_bb48_f23b1644f743level2_row6\" class\u003d\"row_heading level2 row6\" \u003econtrol\u003c/th\u003e \n        \u003ctd id\u003d\"T_f70c3e4e_983d_11ed_bb48_f23b1644f743row6_col0\" class\u003d\"data row6 col0\" \u003e0.45\u003c/td\u003e \n        \u003ctd id\u003d\"T_f70c3e4e_983d_11ed_bb48_f23b1644f743row6_col1\" class\u003d\"data row6 col1\" \u003e215\u003c/td\u003e \n    \u003c/tr\u003e    \u003ctr\u003e \n        \u003cth id\u003d\"T_f70c3e4e_983d_11ed_bb48_f23b1644f743level2_row7\" class\u003d\"row_heading level2 row7\" \u003emyagro\u003c/th\u003e \n        \u003ctd id\u003d\"T_f70c3e4e_983d_11ed_bb48_f23b1644f743row7_col0\" class\u003d\"data row7 col0\" \u003e1.43\u003c/td\u003e \n        \u003ctd id\u003d\"T_f70c3e4e_983d_11ed_bb48_f23b1644f743row7_col1\" class\u003d\"data row7 col1\" \u003e155\u003c/td\u003e \n    \u003c/tr\u003e    \u003ctr\u003e \n        \u003cth id\u003d\"T_f70c3e4e_983d_11ed_bb48_f23b1644f743level0_row8\" class\u003d\"row_heading level0 row8\" rowspan\u003d8\u003eSenegal\u003c/th\u003e \n        \u003cth id\u003d\"T_f70c3e4e_983d_11ed_bb48_f23b1644f743level1_row8\" class\u003d\"row_heading level1 row8\" rowspan\u003d2\u003emaize\u003c/th\u003e \n        \u003cth id\u003d\"T_f70c3e4e_983d_11ed_bb48_f23b1644f743level2_row8\" class\u003d\"row_heading level2 row8\" \u003econtrol\u003c/th\u003e \n        \u003ctd id\u003d\"T_f70c3e4e_983d_11ed_bb48_f23b1644f743row8_col0\" class\u003d\"data row8 col0\" \u003e1.21\u003c/td\u003e \n        \u003ctd id\u003d\"T_f70c3e4e_983d_11ed_bb48_f23b1644f743row8_col1\" class\u003d\"data row8 col1\" \u003e150\u003c/td\u003e \n    \u003c/tr\u003e    \u003ctr\u003e \n        \u003cth id\u003d\"T_f70c3e4e_983d_11ed_bb48_f23b1644f743level2_row9\" class\u003d\"row_heading level2 row9\" \u003emyagro\u003c/th\u003e \n        \u003ctd id\u003d\"T_f70c3e4e_983d_11ed_bb48_f23b1644f743row9_col0\" class\u003d\"data row9 col0\" \u003e2.11\u003c/td\u003e \n        \u003ctd id\u003d\"T_f70c3e4e_983d_11ed_bb48_f23b1644f743row9_col1\" class\u003d\"data row9 col1\" \u003e138\u003c/td\u003e \n    \u003c/tr\u003e    \u003ctr\u003e \n        \u003cth id\u003d\"T_f70c3e4e_983d_11ed_bb48_f23b1644f743level1_row10\" class\u003d\"row_heading level1 row10\" rowspan\u003d2\u003emillet\u003c/th\u003e \n        \u003cth id\u003d\"T_f70c3e4e_983d_11ed_bb48_f23b1644f743level2_row10\" class\u003d\"row_heading level2 row10\" \u003econtrol\u003c/th\u003e \n        \u003ctd id\u003d\"T_f70c3e4e_983d_11ed_bb48_f23b1644f743row10_col0\" class\u003d\"data row10 col0\" \u003e0.30\u003c/td\u003e \n        \u003ctd id\u003d\"T_f70c3e4e_983d_11ed_bb48_f23b1644f743row10_col1\" class\u003d\"data row10 col1\" \u003e152\u003c/td\u003e \n    \u003c/tr\u003e    \u003ctr\u003e \n        \u003cth id\u003d\"T_f70c3e4e_983d_11ed_bb48_f23b1644f743level2_row11\" class\u003d\"row_heading level2 row11\" \u003emyagro\u003c/th\u003e \n        \u003ctd id\u003d\"T_f70c3e4e_983d_11ed_bb48_f23b1644f743row11_col0\" class\u003d\"data row11 col0\" \u003e0.61\u003c/td\u003e \n        \u003ctd id\u003d\"T_f70c3e4e_983d_11ed_bb48_f23b1644f743row11_col1\" class\u003d\"data row11 col1\" \u003e105\u003c/td\u003e \n    \u003c/tr\u003e    \u003ctr\u003e \n        \u003cth id\u003d\"T_f70c3e4e_983d_11ed_bb48_f23b1644f743level1_row12\" class\u003d\"row_heading level1 row12\" rowspan\u003d2\u003epeanut\u003c/th\u003e \n        \u003cth id\u003d\"T_f70c3e4e_983d_11ed_bb48_f23b1644f743level2_row12\" class\u003d\"row_heading level2 row12\" \u003econtrol\u003c/th\u003e \n        \u003ctd id\u003d\"T_f70c3e4e_983d_11ed_bb48_f23b1644f743row12_col0\" class\u003d\"data row12 col0\" \u003e0.66\u003c/td\u003e \n        \u003ctd id\u003d\"T_f70c3e4e_983d_11ed_bb48_f23b1644f743row12_col1\" class\u003d\"data row12 col1\" \u003e194\u003c/td\u003e \n    \u003c/tr\u003e    \u003ctr\u003e \n        \u003cth id\u003d\"T_f70c3e4e_983d_11ed_bb48_f23b1644f743level2_row13\" class\u003d\"row_heading level2 row13\" \u003emyagro\u003c/th\u003e \n        \u003ctd id\u003d\"T_f70c3e4e_983d_11ed_bb48_f23b1644f743row13_col0\" class\u003d\"data row13 col0\" \u003e1.86\u003c/td\u003e \n        \u003ctd id\u003d\"T_f70c3e4e_983d_11ed_bb48_f23b1644f743row13_col1\" class\u003d\"data row13 col1\" \u003e177\u003c/td\u003e \n    \u003c/tr\u003e    \u003ctr\u003e \n        \u003cth id\u003d\"T_f70c3e4e_983d_11ed_bb48_f23b1644f743level1_row14\" class\u003d\"row_heading level1 row14\" rowspan\u003d2\u003erice\u003c/th\u003e \n        \u003cth id\u003d\"T_f70c3e4e_983d_11ed_bb48_f23b1644f743level2_row14\" class\u003d\"row_heading level2 row14\" \u003econtrol\u003c/th\u003e \n        \u003ctd id\u003d\"T_f70c3e4e_983d_11ed_bb48_f23b1644f743row14_col0\" class\u003d\"data row14 col0\" \u003e1.10\u003c/td\u003e \n        \u003ctd id\u003d\"T_f70c3e4e_983d_11ed_bb48_f23b1644f743row14_col1\" class\u003d\"data row14 col1\" \u003e150\u003c/td\u003e \n    \u003c/tr\u003e    \u003ctr\u003e \n        \u003cth id\u003d\"T_f70c3e4e_983d_11ed_bb48_f23b1644f743level2_row15\" class\u003d\"row_heading level2 row15\" \u003emyagro\u003c/th\u003e \n        \u003ctd id\u003d\"T_f70c3e4e_983d_11ed_bb48_f23b1644f743row15_col0\" class\u003d\"data row15 col0\" \u003e2.42\u003c/td\u003e \n        \u003ctd id\u003d\"T_f70c3e4e_983d_11ed_bb48_f23b1644f743row15_col1\" class\u003d\"data row15 col1\" \u003e120\u003c/td\u003e \n    \u003c/tr\u003e\u003c/tbody\u003e \n\u003c/table\u003e "
          },
          "metadata": {}
        }
      ]
    },
    {
      "execution_count": 592,
      "cell_type": "code",
      "metadata": {},
      "source": [
        "yield_ml_maize_myagro \u003d cereal_yield_by_country_crop_farmertype.at[(\"Mali\", \"maize\", \"myagro\"), \"yield_avg\"]\nyield_ml_peanut_myagro \u003d cereal_yield_by_country_crop_farmertype.at[(\"Mali\", \"peanut\", \"myagro\"), \"yield_avg\"]\nyield_ml_rice_myagro \u003d cereal_yield_by_country_crop_farmertype.at[(\"Mali\", \"rice\", \"myagro\"), \"yield_avg\"]\nyield_ml_sorghum_myagro \u003d cereal_yield_by_country_crop_farmertype.at[(\"Mali\", \"sorghum\", \"myagro\"), \"yield_avg\"]\nyield_ml_maize_control \u003d cereal_yield_by_country_crop_farmertype.at[(\"Mali\", \"maize\", \"control\"), \"yield_avg\"]\nyield_ml_peanut_control \u003d cereal_yield_by_country_crop_farmertype.at[(\"Mali\", \"peanut\", \"control\"), \"yield_avg\"]\nyield_ml_rice_control \u003d cereal_yield_by_country_crop_farmertype.at[(\"Mali\", \"rice\", \"control\"), \"yield_avg\"]\nyield_ml_sorghum_control \u003d cereal_yield_by_country_crop_farmertype.at[(\"Mali\", \"sorghum\", \"control\"), \"yield_avg\"]\n\nyield_sn_maize_myagro \u003d cereal_yield_by_country_crop_farmertype.at[(\"Senegal\", \"maize\", \"myagro\"), \"yield_avg\"]\nyield_sn_peanut_myagro \u003d cereal_yield_by_country_crop_farmertype.at[(\"Senegal\", \"peanut\", \"myagro\"), \"yield_avg\"]\nyield_sn_rice_myagro \u003d cereal_yield_by_country_crop_farmertype.at[(\"Senegal\", \"rice\", \"myagro\"), \"yield_avg\"]\nyield_sn_millet_myagro \u003d cereal_yield_by_country_crop_farmertype.at[(\"Senegal\", \"millet\", \"myagro\"), \"yield_avg\"]\nyield_sn_maize_control \u003d cereal_yield_by_country_crop_farmertype.at[(\"Senegal\", \"maize\", \"control\"), \"yield_avg\"]\nyield_sn_peanut_control \u003d cereal_yield_by_country_crop_farmertype.at[(\"Senegal\", \"peanut\", \"control\"), \"yield_avg\"]\nyield_sn_rice_control \u003d cereal_yield_by_country_crop_farmertype.at[(\"Senegal\", \"rice\", \"control\"), \"yield_avg\"]\nyield_sn_millet_control \u003d cereal_yield_by_country_crop_farmertype.at[(\"Senegal\", \"millet\", \"control\"), \"yield_avg\"]"
      ],
      "outputs": []
    },
    {
      "cell_type": "markdown",
      "metadata": {},
      "source": [
        "##### 1.b.2. Vegetable yields (T/Ha)\n- Bissap, Senegal\n- Watermelon, Senegal\n- Okra, Mali \u0026 Senegal\n- Cow pea, Mali \u0026 Senegal"
      ]
    },
    {
      "execution_count": 593,
      "cell_type": "code",
      "metadata": {},
      "source": [
        "bissap_kg_addon_ha_sn \u003d 62.5\nbissap_t_ha_sn \u003d bissap_kg_addon_ha_sn / 0.125 / 1000\n\nwatermelon_kg_addon_ha_sn \u003d 700\nwatermelon_t_ha_sn \u003d watermelon_kg_addon_ha_sn / 0.025 / 1000\n\nokra_kg_addon_ha_sn \u003d 83.5685648\nokra_kg_addon_ha_ml \u003d 95.7755287958115\nokra_t_ha_sn \u003d okra_kg_addon_ha_sn / 0.016 / 1000\nokra_t_ha_ml \u003d okra_kg_addon_ha_ml / 0.016 / 1000\n\ncowpea_t_ha_sn \u003d cowpea_yield_by_country.iloc[1][\"yield_t_ha\"]\ncowpea_t_ha_ml \u003d cowpea_yield_by_country.iloc[0][\"yield_t_ha\"]"
      ],
      "outputs": []
    },
    {
      "cell_type": "markdown",
      "metadata": {},
      "source": [
        "##### 1.b.3. XOF to USD Exhange Rate\n$1 USD \u003d 632.50 West African CFA as of 28/11/2022"
      ]
    },
    {
      "execution_count": 594,
      "cell_type": "code",
      "metadata": {},
      "source": [
        "ex_rate_cfa_to_usd \u003d 632.50"
      ],
      "outputs": []
    },
    {
      "cell_type": "markdown",
      "metadata": {},
      "source": [
        "##### 1.b.4. Market Prices of Agricultural Products (USD/Tonne), Mali \u0026 Senegal\n- Peanuts, unshelled\n- Maize\n- Sorghum\n- Millet\n- Rice\n- Okra\n- Bissap\n- Watermelon\n\nMarket price data is converted from CFA/kg to USD/metric tonne\n\n**Market prices from the 2021 Impact Report are currently used as placeholders** "
      ]
    },
    {
      "execution_count": 595,
      "cell_type": "code",
      "metadata": {},
      "source": [
        "peanuts_unshelled_cfa_kg_ml \u003d 392\nmaize_cfa_kg_ml \u003d 311\nsorghum_cfa_kg_ml \u003d 340\nrice_cfa_kg_ml \u003d 435\nokra_cfa_kg_ml \u003d 255\ncowpea_cfa_kg_ml \u003d 668\n\npeanuts_unshelled_cfa_kg_sn \u003d 459\nmaize_cfa_kg_sn \u003d 345\nmillet_cfa_kg_sn \u003d 433\nsorghum_cfa_kg_sn \u003d 463\nrice_cfa_kg_sn \u003d 377\nokra_cfa_kg_sn \u003d 522\nbissap_cfa_kg_sn \u003d 2452\nwatermelon_cfa_kg_sn \u003d 199\ncowpea_cfa_kg_sn \u003d 989"
      ],
      "outputs": []
    },
    {
      "execution_count": 596,
      "cell_type": "code",
      "metadata": {},
      "source": [
        "cfa_kg_to_usd_t_conversion \u003d 1000 / ex_rate_cfa_to_usd"
      ],
      "outputs": []
    },
    {
      "execution_count": 597,
      "cell_type": "code",
      "metadata": {},
      "source": [
        "peanuts_unshelled_usd_t_ml \u003d peanuts_unshelled_cfa_kg_ml * cfa_kg_to_usd_t_conversion\nmaize_usd_t_ml \u003d maize_cfa_kg_ml * cfa_kg_to_usd_t_conversion\nsorghum_usd_t_ml \u003d sorghum_cfa_kg_ml * cfa_kg_to_usd_t_conversion\nrice_usd_t_ml \u003d rice_cfa_kg_ml * cfa_kg_to_usd_t_conversion\nokra_usd_t_ml \u003d okra_cfa_kg_ml * cfa_kg_to_usd_t_conversion\ncowpea_usd_t_ml \u003d cowpea_cfa_kg_ml * cfa_kg_to_usd_t_conversion\n\npeanuts_unshelled_usd_t_sn \u003d peanuts_unshelled_cfa_kg_sn * cfa_kg_to_usd_t_conversion\nmaize_usd_t_sn \u003d maize_cfa_kg_sn * cfa_kg_to_usd_t_conversion\nmillet_usd_t_sn \u003d millet_cfa_kg_sn * cfa_kg_to_usd_t_conversion\nsorghum_usd_t_sn \u003d sorghum_cfa_kg_sn * cfa_kg_to_usd_t_conversion\nrice_usd_t_sn \u003d rice_cfa_kg_sn * cfa_kg_to_usd_t_conversion\nokra_usd_t_sn \u003d okra_cfa_kg_sn * cfa_kg_to_usd_t_conversion\nbissap_usd_t_sn \u003d bissap_cfa_kg_sn * cfa_kg_to_usd_t_conversion\nwatermelon_usd_t_sn \u003d watermelon_cfa_kg_sn * cfa_kg_to_usd_t_conversion\ncowpea_usd_t_sn \u003d cowpea_cfa_kg_sn * cfa_kg_to_usd_t_conversion"
      ],
      "outputs": []
    },
    {
      "cell_type": "markdown",
      "metadata": {},
      "source": [
        "##### 1.b.5. Peanut fodder, Senegal\n- Weight of peanut fodder (kg/bag)\n- Price of peanut fodder (CFA/bag)"
      ]
    },
    {
      "execution_count": 598,
      "cell_type": "code",
      "metadata": {
        "code_folding": []
      },
      "source": [
        "weight_per_bag_peanut_fodder_kg \u003d 21.6\n\npeanut_fodder_cfa_per_bag \u003d 4000"
      ],
      "outputs": []
    },
    {
      "cell_type": "markdown",
      "metadata": {},
      "source": [
        "**Decision 1.b.1.**\nData collected on the wet and dry weights of control farmer peanut plants during 2022 Harvest Evaluation--variables that determine the dry matter content of peanut fodder, an important factor in caclulating impact--deviated drastically from previous years. Following an investigation, the lack of agricultural explanation and magnitude of the difference from the norm led to the decision to replace calculated dry matter content values with the average of the figures from the previous three years (2019, 2020, and 2021) for both myAgro and control groups.\n\n\u003e*Dry Matter Content Values*\n\n\u003e\u003e**2019:** *myAgro* 0.5 | *Control* 0.44\n\n\u003e\u003e**2020:** *myAgro* 0.43 | *Control* 0.44\n\n\u003e\u003e**2021:** *myAgro* 0.39 | *Control* 0.44\n\n\u003e\u003e**2019-2021 Average:** *myAgro* 0.44 | *Control* 0.44\n\n\u003e\u003e**2022:** *myAgro* 0.46 | ***Control* 0.27**"
      ]
    },
    {
      "execution_count": 599,
      "cell_type": "code",
      "metadata": {},
      "source": [
        "peanut_fodder_by_farmertype \u003d peanut_fodder_by_farmertype.set_index([\u0027farmer_type\u0027])"
      ],
      "outputs": []
    },
    {
      "execution_count": 600,
      "cell_type": "code",
      "metadata": {},
      "source": [
        "# The dataframe manipulatuon in this cell is unique to 2022 data and will be removed/modified from future iterations\n# of this report, depending on decisions that are made (see decision above)\n\npeanut_fodder_by_farmertype.at[\u0027myagro\u0027, \u0027dry_matter_content_avg\u0027] \u003d 0.44\npeanut_fodder_by_farmertype.at[\u0027control\u0027, \u0027dry_matter_content_avg\u0027] \u003d 0.44"
      ],
      "outputs": []
    },
    {
      "execution_count": 601,
      "cell_type": "code",
      "metadata": {},
      "source": [
        "peanut_fodder_by_farmertype[\u0027wet_yield_of_plants_t_ha\u0027] \u003d peanut_fodder_by_farmertype[\u0027average_wet_weight\u0027] / 12* 10"
      ],
      "outputs": []
    },
    {
      "execution_count": 602,
      "cell_type": "code",
      "metadata": {},
      "source": [
        "peanut_fodder_by_farmertype[\u0027dry_yield_of_plants_t_ha\u0027] \u003d peanut_fodder_by_farmertype[\u0027wet_yield_of_plants_t_ha\u0027] * peanut_fodder_by_farmertype[\u0027dry_matter_content_avg\u0027]"
      ],
      "outputs": []
    },
    {
      "execution_count": 603,
      "cell_type": "code",
      "metadata": {},
      "source": [
        "peanut_fodder_by_farmertype[\u0027dry_fodder_yield_t_ha\u0027] \u003d peanut_fodder_by_farmertype[\u0027dry_yield_of_plants_t_ha\u0027] - peanut_fodder_by_farmertype[\u0027peanut_yield_t_ha_avg\u0027]"
      ],
      "outputs": []
    },
    {
      "execution_count": 604,
      "cell_type": "code",
      "metadata": {},
      "source": [
        "peanut_fodder_by_farmertype[\u0027number_of_bags\u0027] \u003d peanut_fodder_by_farmertype[\u0027dry_fodder_yield_t_ha\u0027] / weight_per_bag_peanut_fodder_kg * 1000\npeanut_fodder_by_farmertype[\u0027net_profit_usd\u0027] \u003d (peanut_fodder_by_farmertype[\u0027number_of_bags\u0027] * peanut_fodder_cfa_per_bag) / ex_rate_cfa_to_usd"
      ],
      "outputs": []
    },
    {
      "execution_count": 605,
      "cell_type": "code",
      "metadata": {},
      "source": [
        "peanut_fodder_net_profit_myagro \u003d peanut_fodder_by_farmertype.at[\u0027myagro\u0027, \u0027net_profit_usd\u0027]\npeanut_fodder_net_profit_control \u003d peanut_fodder_by_farmertype.at[\u0027control\u0027, \u0027net_profit_usd\u0027]"
      ],
      "outputs": []
    },
    {
      "cell_type": "markdown",
      "metadata": {},
      "source": [
        "##### 1.b.6. Planter impact (USD/Ha), Mali"
      ]
    },
    {
      "execution_count": 606,
      "cell_type": "code",
      "metadata": {},
      "source": [
        "planter_impact_usd_ha_ml \u003d 2559"
      ],
      "outputs": []
    },
    {
      "cell_type": "markdown",
      "metadata": {},
      "source": [
        "**Decision 1.b.2.**\nThe 2021 Impact Report uses a static value of \\$2,541 for planter impact. This figure is not consistent with the value used in all previous impact reports for this metric (\\$2,559), which was determined by the 2015 evaluation of myAgro impact per planter. The reason for this is not recorded, nor known to anyone. Therefore the original figure for this metric is used in the 2022 report."
      ]
    },
    {
      "cell_type": "markdown",
      "metadata": {},
      "source": [
        "##### 1.b.7. Control Farmer Expenses "
      ]
    },
    {
      "cell_type": "markdown",
      "metadata": {},
      "source": [
        "There are five control farmer expense metrics available.\n\nAverage expense (CFA/hectare) for:\n1. Pesticides\n2. Seeds\n3. Fertilizer\n4. Seeds and fertilizer\n5. All expenses"
      ]
    },
    {
      "execution_count": 607,
      "cell_type": "code",
      "metadata": {},
      "source": [
        "control_farmer_expenses_by_country_crop \u003d control_farmer_expenses_by_country_crop.set_index([\u0027country\u0027, \u0027crop\u0027])"
      ],
      "outputs": []
    },
    {
      "execution_count": 608,
      "cell_type": "code",
      "metadata": {
        "code_folding": [],
        "scrolled": true
      },
      "source": [
        "#Dataframe for table visual\ncontrol_farmer_expenses_country_crop \u003d control_farmer_expenses_by_country_crop[[\n    \u0027seed_fert_pest_expense_per_ha_no_outliers_avg\u0027,\n    \u0027seed_fert_expense_per_ha_no_outliers_avg\u0027,\n    \u0027seed_expense_per_ha_no_outliers_avg\u0027,\n    \u0027fertilizer_expense_per_ha_no_outliers_avg\u0027,\n    \u0027pesticide_expense_per_ha_no_outliers_avg\u0027\n]].rename(columns\u003d{\"seed_fert_pest_expense_per_ha_no_outliers_avg\": \"Seeds, Fertilizer \u0026 Pesticides\",\n                   \"seed_fert_expense_per_ha_no_outliers_avg\": \"Seeds \u0026 Fertilizer\",\n                   \u0027seed_expense_per_ha_no_outliers_avg\u0027 : \u0027Seeds\u0027,\n                   \u0027fertilizer_expense_per_ha_no_outliers_avg\u0027 : \"Fertilizer\",\n                   \u0027pesticide_expense_per_ha_no_outliers_avg\u0027: \"Pesticides\"\n                  }).round(1)\n\ncontrol_farmer_expenses_country_crop.fillna(0)\\\n                                    .style\\\n                                    .format({\u0027Seeds, Fertilizer \u0026 Pesticides\u0027: lambda val: f\u0027{val:,.0f} FCFA\u0027,\n                                             \u0027Seeds \u0026 Fertilizer\u0027: lambda val: f\u0027{val:,.0f} FCFA\u0027,\n                                             \u0027Seeds\u0027: lambda val: f\u0027{val:,.0f} FCFA\u0027,\n                                             \u0027Fertilizer\u0027: lambda val: f\u0027{val:,.0f} FCFA\u0027,\n                                             \u0027Pesticides\u0027: lambda val: f\u0027{val:,.0f} FCFA\u0027})\\\n                                    .set_caption(\u0027Control Farmer Expenses\u0027)"
      ],
      "outputs": [
        {
          "output_type": "execute_result",
          "execution_count": 608,
          "data": {
            "text/plain": "\u003cpandas.io.formats.style.Styler at 0x7fba118e7e48\u003e",
            "text/html": "\u003cstyle  type\u003d\"text/css\" \u003e\n\u003c/style\u003e  \n\u003ctable id\u003d\"T_f71dc920_983d_11ed_bb48_f23b1644f743\" \u003e\u003ccaption\u003eControl Farmer Expenses\u003c/caption\u003e \n\u003cthead\u003e    \u003ctr\u003e \n        \u003cth class\u003d\"blank\" \u003e\u003c/th\u003e \n        \u003cth class\u003d\"blank level0\" \u003e\u003c/th\u003e \n        \u003cth class\u003d\"col_heading level0 col0\" \u003eSeeds, Fertilizer \u0026 Pesticides\u003c/th\u003e \n        \u003cth class\u003d\"col_heading level0 col1\" \u003eSeeds \u0026 Fertilizer\u003c/th\u003e \n        \u003cth class\u003d\"col_heading level0 col2\" \u003eSeeds\u003c/th\u003e \n        \u003cth class\u003d\"col_heading level0 col3\" \u003eFertilizer\u003c/th\u003e \n        \u003cth class\u003d\"col_heading level0 col4\" \u003ePesticides\u003c/th\u003e \n    \u003c/tr\u003e    \u003ctr\u003e \n        \u003cth class\u003d\"index_name level0\" \u003ecountry\u003c/th\u003e \n        \u003cth class\u003d\"index_name level1\" \u003ecrop\u003c/th\u003e \n        \u003cth class\u003d\"blank\" \u003e\u003c/th\u003e \n        \u003cth class\u003d\"blank\" \u003e\u003c/th\u003e \n        \u003cth class\u003d\"blank\" \u003e\u003c/th\u003e \n        \u003cth class\u003d\"blank\" \u003e\u003c/th\u003e \n        \u003cth class\u003d\"blank\" \u003e\u003c/th\u003e \n    \u003c/tr\u003e\u003c/thead\u003e \n\u003ctbody\u003e    \u003ctr\u003e \n        \u003cth id\u003d\"T_f71dc920_983d_11ed_bb48_f23b1644f743level0_row0\" class\u003d\"row_heading level0 row0\" rowspan\u003d4\u003eMali\u003c/th\u003e \n        \u003cth id\u003d\"T_f71dc920_983d_11ed_bb48_f23b1644f743level1_row0\" class\u003d\"row_heading level1 row0\" \u003emaize\u003c/th\u003e \n        \u003ctd id\u003d\"T_f71dc920_983d_11ed_bb48_f23b1644f743row0_col0\" class\u003d\"data row0 col0\" \u003e56,397 FCFA\u003c/td\u003e \n        \u003ctd id\u003d\"T_f71dc920_983d_11ed_bb48_f23b1644f743row0_col1\" class\u003d\"data row0 col1\" \u003e41,920 FCFA\u003c/td\u003e \n        \u003ctd id\u003d\"T_f71dc920_983d_11ed_bb48_f23b1644f743row0_col2\" class\u003d\"data row0 col2\" \u003e2,234 FCFA\u003c/td\u003e \n        \u003ctd id\u003d\"T_f71dc920_983d_11ed_bb48_f23b1644f743row0_col3\" class\u003d\"data row0 col3\" \u003e39,585 FCFA\u003c/td\u003e \n        \u003ctd id\u003d\"T_f71dc920_983d_11ed_bb48_f23b1644f743row0_col4\" class\u003d\"data row0 col4\" \u003e17,018 FCFA\u003c/td\u003e \n    \u003c/tr\u003e    \u003ctr\u003e \n        \u003cth id\u003d\"T_f71dc920_983d_11ed_bb48_f23b1644f743level1_row1\" class\u003d\"row_heading level1 row1\" \u003epeanut\u003c/th\u003e \n        \u003ctd id\u003d\"T_f71dc920_983d_11ed_bb48_f23b1644f743row1_col0\" class\u003d\"data row1 col0\" \u003e19,326 FCFA\u003c/td\u003e \n        \u003ctd id\u003d\"T_f71dc920_983d_11ed_bb48_f23b1644f743row1_col1\" class\u003d\"data row1 col1\" \u003e3,194 FCFA\u003c/td\u003e \n        \u003ctd id\u003d\"T_f71dc920_983d_11ed_bb48_f23b1644f743row1_col2\" class\u003d\"data row1 col2\" \u003e3,194 FCFA\u003c/td\u003e \n        \u003ctd id\u003d\"T_f71dc920_983d_11ed_bb48_f23b1644f743row1_col3\" class\u003d\"data row1 col3\" \u003e0 FCFA\u003c/td\u003e \n        \u003ctd id\u003d\"T_f71dc920_983d_11ed_bb48_f23b1644f743row1_col4\" class\u003d\"data row1 col4\" \u003e16,008 FCFA\u003c/td\u003e \n    \u003c/tr\u003e    \u003ctr\u003e \n        \u003cth id\u003d\"T_f71dc920_983d_11ed_bb48_f23b1644f743level1_row2\" class\u003d\"row_heading level1 row2\" \u003erice\u003c/th\u003e \n        \u003ctd id\u003d\"T_f71dc920_983d_11ed_bb48_f23b1644f743row2_col0\" class\u003d\"data row2 col0\" \u003e86,253 FCFA\u003c/td\u003e \n        \u003ctd id\u003d\"T_f71dc920_983d_11ed_bb48_f23b1644f743row2_col1\" class\u003d\"data row2 col1\" \u003e29,632 FCFA\u003c/td\u003e \n        \u003ctd id\u003d\"T_f71dc920_983d_11ed_bb48_f23b1644f743row2_col2\" class\u003d\"data row2 col2\" \u003e4,189 FCFA\u003c/td\u003e \n        \u003ctd id\u003d\"T_f71dc920_983d_11ed_bb48_f23b1644f743row2_col3\" class\u003d\"data row2 col3\" \u003e25,399 FCFA\u003c/td\u003e \n        \u003ctd id\u003d\"T_f71dc920_983d_11ed_bb48_f23b1644f743row2_col4\" class\u003d\"data row2 col4\" \u003e60,714 FCFA\u003c/td\u003e \n    \u003c/tr\u003e    \u003ctr\u003e \n        \u003cth id\u003d\"T_f71dc920_983d_11ed_bb48_f23b1644f743level1_row3\" class\u003d\"row_heading level1 row3\" \u003esorghum\u003c/th\u003e \n        \u003ctd id\u003d\"T_f71dc920_983d_11ed_bb48_f23b1644f743row3_col0\" class\u003d\"data row3 col0\" \u003e11,943 FCFA\u003c/td\u003e \n        \u003ctd id\u003d\"T_f71dc920_983d_11ed_bb48_f23b1644f743row3_col1\" class\u003d\"data row3 col1\" \u003e3,078 FCFA\u003c/td\u003e \n        \u003ctd id\u003d\"T_f71dc920_983d_11ed_bb48_f23b1644f743row3_col2\" class\u003d\"data row3 col2\" \u003e0 FCFA\u003c/td\u003e \n        \u003ctd id\u003d\"T_f71dc920_983d_11ed_bb48_f23b1644f743row3_col3\" class\u003d\"data row3 col3\" \u003e3,078 FCFA\u003c/td\u003e \n        \u003ctd id\u003d\"T_f71dc920_983d_11ed_bb48_f23b1644f743row3_col4\" class\u003d\"data row3 col4\" \u003e8,822 FCFA\u003c/td\u003e \n    \u003c/tr\u003e    \u003ctr\u003e \n        \u003cth id\u003d\"T_f71dc920_983d_11ed_bb48_f23b1644f743level0_row4\" class\u003d\"row_heading level0 row4\" rowspan\u003d4\u003eSenegal\u003c/th\u003e \n        \u003cth id\u003d\"T_f71dc920_983d_11ed_bb48_f23b1644f743level1_row4\" class\u003d\"row_heading level1 row4\" \u003emaize\u003c/th\u003e \n        \u003ctd id\u003d\"T_f71dc920_983d_11ed_bb48_f23b1644f743row4_col0\" class\u003d\"data row4 col0\" \u003e31,189 FCFA\u003c/td\u003e \n        \u003ctd id\u003d\"T_f71dc920_983d_11ed_bb48_f23b1644f743row4_col1\" class\u003d\"data row4 col1\" \u003e29,173 FCFA\u003c/td\u003e \n        \u003ctd id\u003d\"T_f71dc920_983d_11ed_bb48_f23b1644f743row4_col2\" class\u003d\"data row4 col2\" \u003e1,160 FCFA\u003c/td\u003e \n        \u003ctd id\u003d\"T_f71dc920_983d_11ed_bb48_f23b1644f743row4_col3\" class\u003d\"data row4 col3\" \u003e28,226 FCFA\u003c/td\u003e \n        \u003ctd id\u003d\"T_f71dc920_983d_11ed_bb48_f23b1644f743row4_col4\" class\u003d\"data row4 col4\" \u003e4,894 FCFA\u003c/td\u003e \n    \u003c/tr\u003e    \u003ctr\u003e \n        \u003cth id\u003d\"T_f71dc920_983d_11ed_bb48_f23b1644f743level1_row5\" class\u003d\"row_heading level1 row5\" \u003emillet\u003c/th\u003e \n        \u003ctd id\u003d\"T_f71dc920_983d_11ed_bb48_f23b1644f743row5_col0\" class\u003d\"data row5 col0\" \u003e9,119 FCFA\u003c/td\u003e \n        \u003ctd id\u003d\"T_f71dc920_983d_11ed_bb48_f23b1644f743row5_col1\" class\u003d\"data row5 col1\" \u003e9,086 FCFA\u003c/td\u003e \n        \u003ctd id\u003d\"T_f71dc920_983d_11ed_bb48_f23b1644f743row5_col2\" class\u003d\"data row5 col2\" \u003e4,762 FCFA\u003c/td\u003e \n        \u003ctd id\u003d\"T_f71dc920_983d_11ed_bb48_f23b1644f743row5_col3\" class\u003d\"data row5 col3\" \u003e4,296 FCFA\u003c/td\u003e \n        \u003ctd id\u003d\"T_f71dc920_983d_11ed_bb48_f23b1644f743row5_col4\" class\u003d\"data row5 col4\" \u003e32 FCFA\u003c/td\u003e \n    \u003c/tr\u003e    \u003ctr\u003e \n        \u003cth id\u003d\"T_f71dc920_983d_11ed_bb48_f23b1644f743level1_row6\" class\u003d\"row_heading level1 row6\" \u003epeanut\u003c/th\u003e \n        \u003ctd id\u003d\"T_f71dc920_983d_11ed_bb48_f23b1644f743row6_col0\" class\u003d\"data row6 col0\" \u003e56,795 FCFA\u003c/td\u003e \n        \u003ctd id\u003d\"T_f71dc920_983d_11ed_bb48_f23b1644f743row6_col1\" class\u003d\"data row6 col1\" \u003e45,918 FCFA\u003c/td\u003e \n        \u003ctd id\u003d\"T_f71dc920_983d_11ed_bb48_f23b1644f743row6_col2\" class\u003d\"data row6 col2\" \u003e41,400 FCFA\u003c/td\u003e \n        \u003ctd id\u003d\"T_f71dc920_983d_11ed_bb48_f23b1644f743row6_col3\" class\u003d\"data row6 col3\" \u003e2,499 FCFA\u003c/td\u003e \n        \u003ctd id\u003d\"T_f71dc920_983d_11ed_bb48_f23b1644f743row6_col4\" class\u003d\"data row6 col4\" \u003e10,283 FCFA\u003c/td\u003e \n    \u003c/tr\u003e    \u003ctr\u003e \n        \u003cth id\u003d\"T_f71dc920_983d_11ed_bb48_f23b1644f743level1_row7\" class\u003d\"row_heading level1 row7\" \u003erice\u003c/th\u003e \n        \u003ctd id\u003d\"T_f71dc920_983d_11ed_bb48_f23b1644f743row7_col0\" class\u003d\"data row7 col0\" \u003e129,849 FCFA\u003c/td\u003e \n        \u003ctd id\u003d\"T_f71dc920_983d_11ed_bb48_f23b1644f743row7_col1\" class\u003d\"data row7 col1\" \u003e81,556 FCFA\u003c/td\u003e \n        \u003ctd id\u003d\"T_f71dc920_983d_11ed_bb48_f23b1644f743row7_col2\" class\u003d\"data row7 col2\" \u003e25,639 FCFA\u003c/td\u003e \n        \u003ctd id\u003d\"T_f71dc920_983d_11ed_bb48_f23b1644f743row7_col3\" class\u003d\"data row7 col3\" \u003e45,905 FCFA\u003c/td\u003e \n        \u003ctd id\u003d\"T_f71dc920_983d_11ed_bb48_f23b1644f743row7_col4\" class\u003d\"data row7 col4\" \u003e26,006 FCFA\u003c/td\u003e \n    \u003c/tr\u003e\u003c/tbody\u003e \n\u003c/table\u003e "
          },
          "metadata": {}
        }
      ]
    },
    {
      "cell_type": "markdown",
      "metadata": {},
      "source": [
        "**Decision 1.b.3.**\nThe metric used for this analysis is the average expense for seeds \u0026 fertilizer (CFA/hectare). Control farmer pesticide expense is not included this year because myAgro packages did not include pesticides. We collect pesticide expense data because packages have included pesticides in the past, and may again in the future."
      ]
    },
    {
      "cell_type": "markdown",
      "metadata": {},
      "source": [
        "**Decision 1.b.4.**\nOutliers were excluded from control farmer expense data with the following logic: observations with values greater than the 75% quantile of seeds + fertilizer expenses (calculated excluding seed + fertilizer expenses equal to zero) were excluded from each expense category, and thus do not contribute towards the average exepense figures per crop type. This value is 302,172 CFA/Hectare."
      ]
    },
    {
      "execution_count": 609,
      "cell_type": "code",
      "metadata": {},
      "source": [
        "control_expense_ml_maize \u003d control_farmer_expenses_by_country_crop.at[(\"Mali\", \"maize\"), \"seed_fert_expense_per_ha_no_outliers_avg\"]\ncontrol_expense_ml_peanut \u003d control_farmer_expenses_by_country_crop.at[(\"Mali\", \"peanut\"), \"seed_fert_expense_per_ha_no_outliers_avg\"]\ncontrol_expense_ml_rice \u003d control_farmer_expenses_by_country_crop.at[(\"Mali\", \"rice\"), \"seed_fert_expense_per_ha_no_outliers_avg\"]\ncontrol_expense_ml_sorghum \u003d control_farmer_expenses_by_country_crop.at[(\"Mali\", \"sorghum\"), \"seed_fert_expense_per_ha_no_outliers_avg\"]\n\ncontrol_expense_sn_maize \u003d control_farmer_expenses_by_country_crop.at[(\"Senegal\", \"maize\"), \"seed_fert_expense_per_ha_no_outliers_avg\"]\ncontrol_expense_sn_peanut \u003d control_farmer_expenses_by_country_crop.at[(\"Senegal\", \"peanut\"), \"seed_fert_expense_per_ha_no_outliers_avg\"]\ncontrol_expense_sn_rice \u003d control_farmer_expenses_by_country_crop.at[(\"Senegal\", \"rice\"), \"seed_fert_expense_per_ha_no_outliers_avg\"]\ncontrol_expense_sn_millet \u003d control_farmer_expenses_by_country_crop.at[(\"Senegal\", \"millet\"), \"seed_fert_expense_per_ha_no_outliers_avg\"]"
      ],
      "outputs": []
    },
    {
      "execution_count": 610,
      "cell_type": "code",
      "metadata": {},
      "source": [
        "# The dataframe manipulatuon in this cell is unique to 2022 data and will be removed from future iterations of this report\n# Mali includes two standalone okra packages with sizes 0.03 hectares and 0.0303 hectares that are technically one package\n# They have the same price, and so we may manually combine them by simply eliminating the row with the awkward package size in\n# the package prices dataframe\n\npackage_price_by_product_hectarage \u003d package_price_by_product_hectarage.set_index([\u0027country_name\u0027, \u0027product\u0027, \u0027size_hectares\u0027])\npackage_price_by_product_hectarage \u003d package_price_by_product_hectarage.drop((\u0027Mali\u0027, \u0027okra\u0027, 0.0303))\npackage_price_by_product_hectarage \u003d package_price_by_product_hectarage.reset_index()"
      ],
      "outputs": []
    },
    {
      "cell_type": "markdown",
      "metadata": {},
      "source": [
        "### 2. Impact Calculations"
      ]
    },
    {
      "cell_type": "markdown",
      "metadata": {},
      "source": [
        "#### 2.a. Net Profit Per myAgro Package"
      ]
    },
    {
      "cell_type": "markdown",
      "metadata": {},
      "source": [
        "The following metrics are determined by product \u0026 package size (hectares) for each country:\n\n\u003e**Average yield (tonnes/package size in hectares)** \u003d myAgro farmer average yield of product type (tonnes/hectare) * package size (hectares)\n\n\u003e**Gross value of yield (USD)** \u003d average yield (tonnes/package size in hectares) * product market price (USD/tonne)\n\n\u003e**Input costs (USD) *myAgro*** \u003d weighted average package price (CFA) / exchange rate (CFA to USD)\n\n\u003e**Input costs (USD) *control*** \u003d (average control input expenses (CFA/hectare) * package size (hectares)) / exchange rate (CFA to USD)\n\n\u003e**Net profit (USD)** \u003d gross value of yield (USD) - input costs (USD)\n\u003e\u003e**Senegal Only**\n- **Net profit peanut fodder only (USD)** \u003d number of bags * price per bag (USD)\n- **Net profit peanut with peanut fodder (USD)** \u003d net profit peanut + net profit peanut fodder only"
      ]
    },
    {
      "cell_type": "markdown",
      "metadata": {},
      "source": [
        "##### 2.a.1. Calculate MyAgro Cereal Net Profit Per Package"
      ]
    },
    {
      "cell_type": "markdown",
      "metadata": {},
      "source": [
        "**Decision 2.a.1.**\nIn data cleaning*, the prices for cereal packages were adjusted to reflect the package price without the add-on, using the assumption that the price of all add-on packages is 2,500CFA.\n\n\\*The initial prepare step in Dataiku for the package_price_by_product_hectarage dataset"
      ]
    },
    {
      "execution_count": 611,
      "cell_type": "code",
      "metadata": {},
      "source": [
        "package_price_by_product_hectarage_cereals_1 \u003d package_price_by_product_hectarage[package_price_by_product_hectarage[\u0027product_type\u0027] \u003d\u003d \u0027cereal\u0027].drop([\u0027product_type\u0027, \u0027count\u0027], axis\u003d1)"
      ],
      "outputs": []
    },
    {
      "execution_count": 612,
      "cell_type": "code",
      "metadata": {},
      "source": [
        "package_price_by_product_hectarage_cereals_1 \u003d package_price_by_product_hectarage_cereals_1.set_index([\u0027country_name\u0027, \u0027product\u0027])"
      ],
      "outputs": []
    },
    {
      "execution_count": 613,
      "cell_type": "code",
      "metadata": {},
      "source": [
        "avg_yield1 \u003d package_price_by_product_hectarage_cereals_1.loc[(\"Mali\", \"maize\")].assign(average_yield_t_package_size_ha \u003d yield_ml_maize_myagro)\navg_yield2 \u003d package_price_by_product_hectarage_cereals_1.loc[(\"Mali\", \"peanut\")].assign(average_yield_t_package_size_ha \u003d yield_ml_peanut_myagro)\navg_yield3 \u003d package_price_by_product_hectarage_cereals_1.loc[(\"Mali\", \"rice\")].assign(average_yield_t_package_size_ha \u003d yield_ml_rice_myagro)\navg_yield4 \u003d package_price_by_product_hectarage_cereals_1.loc[(\"Mali\", \"sorghum\")].assign(average_yield_t_package_size_ha \u003d yield_ml_sorghum_myagro)\navg_yield5 \u003d package_price_by_product_hectarage_cereals_1.loc[(\"Senegal\", \"maize\")].assign(average_yield_t_package_size_ha \u003d yield_sn_maize_myagro)\navg_yield6 \u003d package_price_by_product_hectarage_cereals_1.loc[(\"Senegal\", \"peanut\")].assign(average_yield_t_package_size_ha \u003d yield_sn_peanut_myagro)\navg_yield7 \u003d package_price_by_product_hectarage_cereals_1.loc[(\"Senegal\", \"rice\")].assign(average_yield_t_package_size_ha \u003d yield_sn_rice_myagro)\navg_yield8 \u003d package_price_by_product_hectarage_cereals_1.loc[(\"Senegal\", \"millet\")].assign(average_yield_t_package_size_ha \u003d yield_sn_millet_myagro)\n\npackage_price_by_product_hectarage_cereals \u003d avg_yield1.append([avg_yield2, avg_yield3, avg_yield4, avg_yield5, avg_yield6, avg_yield7, avg_yield8])"
      ],
      "outputs": []
    },
    {
      "execution_count": 614,
      "cell_type": "code",
      "metadata": {},
      "source": [
        "package_price_by_product_hectarage_cereals[\u0027average_yield_t_package_size_ha\u0027] \u003d package_price_by_product_hectarage_cereals[\u0027average_yield_t_package_size_ha\u0027] * package_price_by_product_hectarage_cereals[\u0027size_hectares\u0027]"
      ],
      "outputs": []
    },
    {
      "execution_count": 615,
      "cell_type": "code",
      "metadata": {},
      "source": [
        "package_price_by_product_hectarage_cereals \u003d package_price_by_product_hectarage_cereals.sort_index()"
      ],
      "outputs": []
    },
    {
      "execution_count": 616,
      "cell_type": "code",
      "metadata": {},
      "source": [
        "mkt_price1 \u003d package_price_by_product_hectarage_cereals.loc[(\"Mali\", \"maize\")].assign(gross_value_of_yield_usd \u003d maize_usd_t_ml)\nmkt_price2 \u003d package_price_by_product_hectarage_cereals.loc[(\"Mali\", \"peanut\")].assign(gross_value_of_yield_usd \u003d peanuts_unshelled_usd_t_ml)\nmkt_price3 \u003d package_price_by_product_hectarage_cereals.loc[(\"Mali\", \"rice\")].assign(gross_value_of_yield_usd \u003d rice_usd_t_ml)\nmkt_price4 \u003d package_price_by_product_hectarage_cereals.loc[(\"Mali\", \"sorghum\")].assign(gross_value_of_yield_usd \u003d sorghum_usd_t_ml)\nmkt_price5 \u003d package_price_by_product_hectarage_cereals.loc[(\"Senegal\", \"maize\")].assign(gross_value_of_yield_usd \u003d maize_usd_t_sn)\nmkt_price6 \u003d package_price_by_product_hectarage_cereals.loc[(\"Senegal\", \"peanut\")].assign(gross_value_of_yield_usd \u003d peanuts_unshelled_usd_t_sn)\nmkt_price7 \u003d package_price_by_product_hectarage_cereals.loc[(\"Senegal\", \"rice\")].assign(gross_value_of_yield_usd \u003d rice_usd_t_sn)\nmkt_price8 \u003d package_price_by_product_hectarage_cereals.loc[(\"Senegal\", \"millet\")].assign(gross_value_of_yield_usd \u003d millet_usd_t_sn)\n\npackage_price_by_product_hectarage_cereals \u003d mkt_price1.append([mkt_price2, mkt_price3, mkt_price4, mkt_price5, mkt_price6, mkt_price7, mkt_price8])"
      ],
      "outputs": []
    },
    {
      "execution_count": 617,
      "cell_type": "code",
      "metadata": {},
      "source": [
        "package_price_by_product_hectarage_cereals[\u0027gross_value_of_yield_usd\u0027] \u003d package_price_by_product_hectarage_cereals[\u0027average_yield_t_package_size_ha\u0027] * package_price_by_product_hectarage_cereals[\u0027gross_value_of_yield_usd\u0027]"
      ],
      "outputs": []
    },
    {
      "execution_count": 618,
      "cell_type": "code",
      "metadata": {},
      "source": [
        "package_price_by_product_hectarage_cereals[\u0027input_costs_usd\u0027] \u003d package_price_by_product_hectarage_cereals[\u0027price_cfa_avg\u0027] / ex_rate_cfa_to_usd\npackage_price_by_product_hectarage_cereals[\u0027net_profit_usd\u0027] \u003d package_price_by_product_hectarage_cereals[\u0027gross_value_of_yield_usd\u0027] - package_price_by_product_hectarage_cereals[\u0027input_costs_usd\u0027]"
      ],
      "outputs": []
    },
    {
      "execution_count": 619,
      "cell_type": "code",
      "metadata": {},
      "source": [
        "net_profit_ml_myagro \u003d package_price_by_product_hectarage_cereals.loc[\"Mali\"].rename(columns \u003d {\u0027size_hectares\u0027: \u0027Package Size (Hectares)\u0027}).set_index([\u0027Package Size (Hectares)\u0027], append\u003dTrue)\nnet_profit_sn_myagro \u003d package_price_by_product_hectarage_cereals.loc[\"Senegal\"].rename(columns \u003d {\u0027size_hectares\u0027: \u0027Package Size (Hectares)\u0027}).set_index([\u0027Package Size (Hectares)\u0027], append\u003dTrue)"
      ],
      "outputs": []
    },
    {
      "cell_type": "markdown",
      "metadata": {},
      "source": [
        "##### 2.a.2. Calculate MyAgro Peanut Fodder Net Profit Per Package (Senegal)\n\nInsert method notes"
      ]
    },
    {
      "execution_count": 620,
      "cell_type": "code",
      "metadata": {},
      "source": [
        "net_profit_sn_myagro_fodder \u003d net_profit_sn_myagro.loc[\u0027peanut\u0027].reset_index()"
      ],
      "outputs": []
    },
    {
      "execution_count": 621,
      "cell_type": "code",
      "metadata": {},
      "source": [
        "net_profit_sn_myagro_fodder[\u0027product\u0027] \u003d \u0027peanut (fodder only)\u0027\nnet_profit_sn_myagro_fodder[\u0027net_profit_usd_ha\u0027] \u003d peanut_fodder_net_profit_myagro\nnet_profit_sn_myagro_fodder[\u0027net_profit_usd\u0027] \u003d net_profit_sn_myagro_fodder[\u0027net_profit_usd_ha\u0027] * net_profit_sn_myagro_fodder[\u0027Package Size (Hectares)\u0027]"
      ],
      "outputs": []
    },
    {
      "execution_count": 622,
      "cell_type": "code",
      "metadata": {},
      "source": [
        "net_profit_sn_myagro_fodder \u003d net_profit_sn_myagro_fodder.set_index([\u0027product\u0027, \u0027Package Size (Hectares)\u0027])\nnet_profit_sn_myagro_fodder \u003d net_profit_sn_myagro_fodder[[\u0027net_profit_usd\u0027]]"
      ],
      "outputs": []
    },
    {
      "execution_count": 623,
      "cell_type": "code",
      "metadata": {},
      "source": [
        "net_profit_sn_myagro \u003d net_profit_sn_myagro.append(net_profit_sn_myagro_fodder, sort \u003d True)"
      ],
      "outputs": []
    },
    {
      "execution_count": 624,
      "cell_type": "code",
      "metadata": {},
      "source": [
        "net_profit_sn_myagro_peanut_fodder \u003d net_profit_sn_myagro.loc[[\u0027peanut\u0027, \u0027peanut (fodder only)\u0027]]\nnet_profit_sn_myagro_peanut_fodder \u003d net_profit_sn_myagro_peanut_fodder[[\u0027net_profit_usd\u0027]]"
      ],
      "outputs": []
    },
    {
      "execution_count": 625,
      "cell_type": "code",
      "metadata": {},
      "source": [
        "net_profit_sn_myagro_peanut_fodder_pivoted \u003d net_profit_sn_myagro_peanut_fodder.reset_index().pivot(index\u003d\u0027Package Size (Hectares)\u0027, columns\u003d\u0027product\u0027, values\u003d\u0027net_profit_usd\u0027)\nnet_profit_sn_myagro_peanut_fodder_pivoted[\u0027peanut (w/ fodder)\u0027] \u003d net_profit_sn_myagro_peanut_fodder_pivoted[\u0027peanut\u0027] + net_profit_sn_myagro_peanut_fodder_pivoted[\u0027peanut (fodder only)\u0027]"
      ],
      "outputs": []
    },
    {
      "execution_count": 626,
      "cell_type": "code",
      "metadata": {},
      "source": [
        "net_profit_sn_myagro_peanut_fodder_only \u003d net_profit_sn_myagro_peanut_fodder_pivoted[[\u0027peanut (w/ fodder)\u0027]].reset_index()\nnet_profit_sn_myagro_peanut_fodder_only \u003d net_profit_sn_myagro_peanut_fodder_only.rename(columns\u003d{\u0027peanut (w/ fodder)\u0027: \u0027net_profit_usd\u0027})\nnet_profit_sn_myagro_peanut_fodder_only[\u0027product\u0027] \u003d \u0027peanut (w/ fodder)\u0027\nnet_profit_sn_myagro_peanut_fodder_only \u003d net_profit_sn_myagro_peanut_fodder_only.set_index([\u0027product\u0027, \u0027Package Size (Hectares)\u0027])\nnet_profit_sn_myagro_peanut_fodder_only.columns.name \u003d None"
      ],
      "outputs": []
    },
    {
      "execution_count": 627,
      "cell_type": "code",
      "metadata": {},
      "source": [
        "net_profit_sn_myagro \u003d net_profit_sn_myagro.append(net_profit_sn_myagro_peanut_fodder_only, sort \u003d True)\nnet_profit_sn_myagro \u003d net_profit_sn_myagro.sort_index()"
      ],
      "outputs": []
    },
    {
      "cell_type": "markdown",
      "metadata": {},
      "source": [
        "**Mali Summary Table**"
      ]
    },
    {
      "execution_count": 628,
      "cell_type": "code",
      "metadata": {
        "scrolled": true
      },
      "source": [
        "net_profit_ml_myagro.loc[pd.IndexSlice[:, [1, 0.05]], :]\\\n                    .rename_axis([\u0027Product\u0027, \u0027Package Size (Hectares)\u0027])\\\n                    .rename(columns \u003d {\"price_cfa_avg\" : \"Price\",\n                                       \"average_yield_t_package_size_ha\" : \"Average Yield (T/Package Hectarage)\",\n                                       \"gross_value_of_yield_usd\" : \"Gross Value\",\n                                       \"input_costs_usd\" : \"Input Cost\",\"net_profit_usd\" : \"Net Profit\"})\\\n                    .style\\\n                    .format({\"Price\": lambda val: f\"{val:,.0f} FCFA\",\n                             \"Average Yield (T/Package Hectarage)\": lambda val: f\"{val:.2f}\",\n                             \"Gross Value\": lambda val: f\"${val:,.0f}\",\n                             \"Input Cost\": lambda val: f\"${val:,.0f}\",\n                             \"Net Profit\": lambda val: f\"${val:,.0f}\"})\\\n                    .set_caption(\u0027myAgro Cereal Net Profit Per Package\u0027)"
      ],
      "outputs": [
        {
          "output_type": "execute_result",
          "execution_count": 628,
          "data": {
            "text/plain": "\u003cpandas.io.formats.style.Styler at 0x7fba112a8a58\u003e",
            "text/html": "\u003cstyle  type\u003d\"text/css\" \u003e\n\u003c/style\u003e  \n\u003ctable id\u003d\"T_f73983fe_983d_11ed_bb48_f23b1644f743\" \u003e\u003ccaption\u003emyAgro Cereal Net Profit Per Package\u003c/caption\u003e \n\u003cthead\u003e    \u003ctr\u003e \n        \u003cth class\u003d\"blank\" \u003e\u003c/th\u003e \n        \u003cth class\u003d\"blank level0\" \u003e\u003c/th\u003e \n        \u003cth class\u003d\"col_heading level0 col0\" \u003ePrice\u003c/th\u003e \n        \u003cth class\u003d\"col_heading level0 col1\" \u003eAverage Yield (T/Package Hectarage)\u003c/th\u003e \n        \u003cth class\u003d\"col_heading level0 col2\" \u003eGross Value\u003c/th\u003e \n        \u003cth class\u003d\"col_heading level0 col3\" \u003eInput Cost\u003c/th\u003e \n        \u003cth class\u003d\"col_heading level0 col4\" \u003eNet Profit\u003c/th\u003e \n    \u003c/tr\u003e    \u003ctr\u003e \n        \u003cth class\u003d\"index_name level0\" \u003eProduct\u003c/th\u003e \n        \u003cth class\u003d\"index_name level1\" \u003ePackage Size (Hectares)\u003c/th\u003e \n        \u003cth class\u003d\"blank\" \u003e\u003c/th\u003e \n        \u003cth class\u003d\"blank\" \u003e\u003c/th\u003e \n        \u003cth class\u003d\"blank\" \u003e\u003c/th\u003e \n        \u003cth class\u003d\"blank\" \u003e\u003c/th\u003e \n        \u003cth class\u003d\"blank\" \u003e\u003c/th\u003e \n    \u003c/tr\u003e\u003c/thead\u003e \n\u003ctbody\u003e    \u003ctr\u003e \n        \u003cth id\u003d\"T_f73983fe_983d_11ed_bb48_f23b1644f743level0_row0\" class\u003d\"row_heading level0 row0\" \u003emaize\u003c/th\u003e \n        \u003cth id\u003d\"T_f73983fe_983d_11ed_bb48_f23b1644f743level1_row0\" class\u003d\"row_heading level1 row0\" \u003e1.0\u003c/th\u003e \n        \u003ctd id\u003d\"T_f73983fe_983d_11ed_bb48_f23b1644f743row0_col0\" class\u003d\"data row0 col0\" \u003e277,500 FCFA\u003c/td\u003e \n        \u003ctd id\u003d\"T_f73983fe_983d_11ed_bb48_f23b1644f743row0_col1\" class\u003d\"data row0 col1\" \u003e2.92\u003c/td\u003e \n        \u003ctd id\u003d\"T_f73983fe_983d_11ed_bb48_f23b1644f743row0_col2\" class\u003d\"data row0 col2\" \u003e$1,436\u003c/td\u003e \n        \u003ctd id\u003d\"T_f73983fe_983d_11ed_bb48_f23b1644f743row0_col3\" class\u003d\"data row0 col3\" \u003e$439\u003c/td\u003e \n        \u003ctd id\u003d\"T_f73983fe_983d_11ed_bb48_f23b1644f743row0_col4\" class\u003d\"data row0 col4\" \u003e$997\u003c/td\u003e \n    \u003c/tr\u003e    \u003ctr\u003e \n        \u003cth id\u003d\"T_f73983fe_983d_11ed_bb48_f23b1644f743level0_row1\" class\u003d\"row_heading level0 row1\" \u003epeanut\u003c/th\u003e \n        \u003cth id\u003d\"T_f73983fe_983d_11ed_bb48_f23b1644f743level1_row1\" class\u003d\"row_heading level1 row1\" \u003e1.0\u003c/th\u003e \n        \u003ctd id\u003d\"T_f73983fe_983d_11ed_bb48_f23b1644f743row1_col0\" class\u003d\"data row1 col0\" \u003e102,500 FCFA\u003c/td\u003e \n        \u003ctd id\u003d\"T_f73983fe_983d_11ed_bb48_f23b1644f743row1_col1\" class\u003d\"data row1 col1\" \u003e1.54\u003c/td\u003e \n        \u003ctd id\u003d\"T_f73983fe_983d_11ed_bb48_f23b1644f743row1_col2\" class\u003d\"data row1 col2\" \u003e$952\u003c/td\u003e \n        \u003ctd id\u003d\"T_f73983fe_983d_11ed_bb48_f23b1644f743row1_col3\" class\u003d\"data row1 col3\" \u003e$162\u003c/td\u003e \n        \u003ctd id\u003d\"T_f73983fe_983d_11ed_bb48_f23b1644f743row1_col4\" class\u003d\"data row1 col4\" \u003e$790\u003c/td\u003e \n    \u003c/tr\u003e    \u003ctr\u003e \n        \u003cth id\u003d\"T_f73983fe_983d_11ed_bb48_f23b1644f743level0_row2\" class\u003d\"row_heading level0 row2\" \u003erice\u003c/th\u003e \n        \u003cth id\u003d\"T_f73983fe_983d_11ed_bb48_f23b1644f743level1_row2\" class\u003d\"row_heading level1 row2\" \u003e0.05\u003c/th\u003e \n        \u003ctd id\u003d\"T_f73983fe_983d_11ed_bb48_f23b1644f743row2_col0\" class\u003d\"data row2 col0\" \u003e24,000 FCFA\u003c/td\u003e \n        \u003ctd id\u003d\"T_f73983fe_983d_11ed_bb48_f23b1644f743row2_col1\" class\u003d\"data row2 col1\" \u003e0.10\u003c/td\u003e \n        \u003ctd id\u003d\"T_f73983fe_983d_11ed_bb48_f23b1644f743row2_col2\" class\u003d\"data row2 col2\" \u003e$71\u003c/td\u003e \n        \u003ctd id\u003d\"T_f73983fe_983d_11ed_bb48_f23b1644f743row2_col3\" class\u003d\"data row2 col3\" \u003e$38\u003c/td\u003e \n        \u003ctd id\u003d\"T_f73983fe_983d_11ed_bb48_f23b1644f743row2_col4\" class\u003d\"data row2 col4\" \u003e$33\u003c/td\u003e \n    \u003c/tr\u003e    \u003ctr\u003e \n        \u003cth id\u003d\"T_f73983fe_983d_11ed_bb48_f23b1644f743level0_row3\" class\u003d\"row_heading level0 row3\" \u003esorghum\u003c/th\u003e \n        \u003cth id\u003d\"T_f73983fe_983d_11ed_bb48_f23b1644f743level1_row3\" class\u003d\"row_heading level1 row3\" \u003e1.0\u003c/th\u003e \n        \u003ctd id\u003d\"T_f73983fe_983d_11ed_bb48_f23b1644f743row3_col0\" class\u003d\"data row3 col0\" \u003e107,500 FCFA\u003c/td\u003e \n        \u003ctd id\u003d\"T_f73983fe_983d_11ed_bb48_f23b1644f743row3_col1\" class\u003d\"data row3 col1\" \u003e1.43\u003c/td\u003e \n        \u003ctd id\u003d\"T_f73983fe_983d_11ed_bb48_f23b1644f743row3_col2\" class\u003d\"data row3 col2\" \u003e$771\u003c/td\u003e \n        \u003ctd id\u003d\"T_f73983fe_983d_11ed_bb48_f23b1644f743row3_col3\" class\u003d\"data row3 col3\" \u003e$170\u003c/td\u003e \n        \u003ctd id\u003d\"T_f73983fe_983d_11ed_bb48_f23b1644f743row3_col4\" class\u003d\"data row3 col4\" \u003e$601\u003c/td\u003e \n    \u003c/tr\u003e\u003c/tbody\u003e \n\u003c/table\u003e "
          },
          "metadata": {}
        }
      ]
    },
    {
      "cell_type": "markdown",
      "metadata": {},
      "source": [
        "**Mali Full Table**"
      ]
    },
    {
      "execution_count": 629,
      "cell_type": "code",
      "metadata": {},
      "source": [
        "net_profit_ml_myagro.rename_axis([\u0027Product\u0027, \u0027Package Size (Hectares)\u0027])\\\n                    .rename(columns \u003d {\"price_cfa_avg\" : \"Price\",\n                                       \"average_yield_t_package_size_ha\" : \"Average Yield (T/Package Hectarage)\",\n                                       \"gross_value_of_yield_usd\" : \"Gross Value\",\n                                       \"input_costs_usd\" : \"Input Cost\",\n                                       \"net_profit_usd\" : \"Net Profit\"})\\\n                    .style\\\n                    .format({\"Price\": lambda val: f\"{val:,.0f} FCFA\",\n                             \"Average Yield (T/Package Hectarage)\": lambda val: f\"{val:.2f}\",\n                             \"Gross Value\": lambda val: f\"${val:,.0f}\",\n                             \"Input Cost\": lambda val: f\"${val:,.0f}\",\n                             \"Net Profit\": lambda val: f\"${val:,.0f}\"})\\\n                    .set_caption(\u0027myAgro Cereal Net Profit Per Package\u0027)"
      ],
      "outputs": [
        {
          "output_type": "execute_result",
          "execution_count": 629,
          "data": {
            "text/plain": "\u003cpandas.io.formats.style.Styler at 0x7fba113faef0\u003e",
            "text/html": "\u003cstyle  type\u003d\"text/css\" \u003e\n\u003c/style\u003e  \n\u003ctable id\u003d\"T_f73b70ce_983d_11ed_bb48_f23b1644f743\" \u003e\u003ccaption\u003emyAgro Cereal Net Profit Per Package\u003c/caption\u003e \n\u003cthead\u003e    \u003ctr\u003e \n        \u003cth class\u003d\"blank\" \u003e\u003c/th\u003e \n        \u003cth class\u003d\"blank level0\" \u003e\u003c/th\u003e \n        \u003cth class\u003d\"col_heading level0 col0\" \u003ePrice\u003c/th\u003e \n        \u003cth class\u003d\"col_heading level0 col1\" \u003eAverage Yield (T/Package Hectarage)\u003c/th\u003e \n        \u003cth class\u003d\"col_heading level0 col2\" \u003eGross Value\u003c/th\u003e \n        \u003cth class\u003d\"col_heading level0 col3\" \u003eInput Cost\u003c/th\u003e \n        \u003cth class\u003d\"col_heading level0 col4\" \u003eNet Profit\u003c/th\u003e \n    \u003c/tr\u003e    \u003ctr\u003e \n        \u003cth class\u003d\"index_name level0\" \u003eProduct\u003c/th\u003e \n        \u003cth class\u003d\"index_name level1\" \u003ePackage Size (Hectares)\u003c/th\u003e \n        \u003cth class\u003d\"blank\" \u003e\u003c/th\u003e \n        \u003cth class\u003d\"blank\" \u003e\u003c/th\u003e \n        \u003cth class\u003d\"blank\" \u003e\u003c/th\u003e \n        \u003cth class\u003d\"blank\" \u003e\u003c/th\u003e \n        \u003cth class\u003d\"blank\" \u003e\u003c/th\u003e \n    \u003c/tr\u003e\u003c/thead\u003e \n\u003ctbody\u003e    \u003ctr\u003e \n        \u003cth id\u003d\"T_f73b70ce_983d_11ed_bb48_f23b1644f743level0_row0\" class\u003d\"row_heading level0 row0\" rowspan\u003d6\u003emaize\u003c/th\u003e \n        \u003cth id\u003d\"T_f73b70ce_983d_11ed_bb48_f23b1644f743level1_row0\" class\u003d\"row_heading level1 row0\" \u003e0.125\u003c/th\u003e \n        \u003ctd id\u003d\"T_f73b70ce_983d_11ed_bb48_f23b1644f743row0_col0\" class\u003d\"data row0 col0\" \u003e41,500 FCFA\u003c/td\u003e \n        \u003ctd id\u003d\"T_f73b70ce_983d_11ed_bb48_f23b1644f743row0_col1\" class\u003d\"data row0 col1\" \u003e0.37\u003c/td\u003e \n        \u003ctd id\u003d\"T_f73b70ce_983d_11ed_bb48_f23b1644f743row0_col2\" class\u003d\"data row0 col2\" \u003e$180\u003c/td\u003e \n        \u003ctd id\u003d\"T_f73b70ce_983d_11ed_bb48_f23b1644f743row0_col3\" class\u003d\"data row0 col3\" \u003e$66\u003c/td\u003e \n        \u003ctd id\u003d\"T_f73b70ce_983d_11ed_bb48_f23b1644f743row0_col4\" class\u003d\"data row0 col4\" \u003e$114\u003c/td\u003e \n    \u003c/tr\u003e    \u003ctr\u003e \n        \u003cth id\u003d\"T_f73b70ce_983d_11ed_bb48_f23b1644f743level1_row1\" class\u003d\"row_heading level1 row1\" \u003e0.25\u003c/th\u003e \n        \u003ctd id\u003d\"T_f73b70ce_983d_11ed_bb48_f23b1644f743row1_col0\" class\u003d\"data row1 col0\" \u003e78,500 FCFA\u003c/td\u003e \n        \u003ctd id\u003d\"T_f73b70ce_983d_11ed_bb48_f23b1644f743row1_col1\" class\u003d\"data row1 col1\" \u003e0.73\u003c/td\u003e \n        \u003ctd id\u003d\"T_f73b70ce_983d_11ed_bb48_f23b1644f743row1_col2\" class\u003d\"data row1 col2\" \u003e$359\u003c/td\u003e \n        \u003ctd id\u003d\"T_f73b70ce_983d_11ed_bb48_f23b1644f743row1_col3\" class\u003d\"data row1 col3\" \u003e$124\u003c/td\u003e \n        \u003ctd id\u003d\"T_f73b70ce_983d_11ed_bb48_f23b1644f743row1_col4\" class\u003d\"data row1 col4\" \u003e$235\u003c/td\u003e \n    \u003c/tr\u003e    \u003ctr\u003e \n        \u003cth id\u003d\"T_f73b70ce_983d_11ed_bb48_f23b1644f743level1_row2\" class\u003d\"row_heading level1 row2\" \u003e0.5\u003c/th\u003e \n        \u003ctd id\u003d\"T_f73b70ce_983d_11ed_bb48_f23b1644f743row2_col0\" class\u003d\"data row2 col0\" \u003e137,500 FCFA\u003c/td\u003e \n        \u003ctd id\u003d\"T_f73b70ce_983d_11ed_bb48_f23b1644f743row2_col1\" class\u003d\"data row2 col1\" \u003e1.46\u003c/td\u003e \n        \u003ctd id\u003d\"T_f73b70ce_983d_11ed_bb48_f23b1644f743row2_col2\" class\u003d\"data row2 col2\" \u003e$718\u003c/td\u003e \n        \u003ctd id\u003d\"T_f73b70ce_983d_11ed_bb48_f23b1644f743row2_col3\" class\u003d\"data row2 col3\" \u003e$217\u003c/td\u003e \n        \u003ctd id\u003d\"T_f73b70ce_983d_11ed_bb48_f23b1644f743row2_col4\" class\u003d\"data row2 col4\" \u003e$501\u003c/td\u003e \n    \u003c/tr\u003e    \u003ctr\u003e \n        \u003cth id\u003d\"T_f73b70ce_983d_11ed_bb48_f23b1644f743level1_row3\" class\u003d\"row_heading level1 row3\" \u003e1.0\u003c/th\u003e \n        \u003ctd id\u003d\"T_f73b70ce_983d_11ed_bb48_f23b1644f743row3_col0\" class\u003d\"data row3 col0\" \u003e277,500 FCFA\u003c/td\u003e \n        \u003ctd id\u003d\"T_f73b70ce_983d_11ed_bb48_f23b1644f743row3_col1\" class\u003d\"data row3 col1\" \u003e2.92\u003c/td\u003e \n        \u003ctd id\u003d\"T_f73b70ce_983d_11ed_bb48_f23b1644f743row3_col2\" class\u003d\"data row3 col2\" \u003e$1,436\u003c/td\u003e \n        \u003ctd id\u003d\"T_f73b70ce_983d_11ed_bb48_f23b1644f743row3_col3\" class\u003d\"data row3 col3\" \u003e$439\u003c/td\u003e \n        \u003ctd id\u003d\"T_f73b70ce_983d_11ed_bb48_f23b1644f743row3_col4\" class\u003d\"data row3 col4\" \u003e$997\u003c/td\u003e \n    \u003c/tr\u003e    \u003ctr\u003e \n        \u003cth id\u003d\"T_f73b70ce_983d_11ed_bb48_f23b1644f743level1_row4\" class\u003d\"row_heading level1 row4\" \u003e2.0\u003c/th\u003e \n        \u003ctd id\u003d\"T_f73b70ce_983d_11ed_bb48_f23b1644f743row4_col0\" class\u003d\"data row4 col0\" \u003e557,500 FCFA\u003c/td\u003e \n        \u003ctd id\u003d\"T_f73b70ce_983d_11ed_bb48_f23b1644f743row4_col1\" class\u003d\"data row4 col1\" \u003e5.84\u003c/td\u003e \n        \u003ctd id\u003d\"T_f73b70ce_983d_11ed_bb48_f23b1644f743row4_col2\" class\u003d\"data row4 col2\" \u003e$2,872\u003c/td\u003e \n        \u003ctd id\u003d\"T_f73b70ce_983d_11ed_bb48_f23b1644f743row4_col3\" class\u003d\"data row4 col3\" \u003e$881\u003c/td\u003e \n        \u003ctd id\u003d\"T_f73b70ce_983d_11ed_bb48_f23b1644f743row4_col4\" class\u003d\"data row4 col4\" \u003e$1,991\u003c/td\u003e \n    \u003c/tr\u003e    \u003ctr\u003e \n        \u003cth id\u003d\"T_f73b70ce_983d_11ed_bb48_f23b1644f743level1_row5\" class\u003d\"row_heading level1 row5\" \u003e4.0\u003c/th\u003e \n        \u003ctd id\u003d\"T_f73b70ce_983d_11ed_bb48_f23b1644f743row5_col0\" class\u003d\"data row5 col0\" \u003e1,117,500 FCFA\u003c/td\u003e \n        \u003ctd id\u003d\"T_f73b70ce_983d_11ed_bb48_f23b1644f743row5_col1\" class\u003d\"data row5 col1\" \u003e11.68\u003c/td\u003e \n        \u003ctd id\u003d\"T_f73b70ce_983d_11ed_bb48_f23b1644f743row5_col2\" class\u003d\"data row5 col2\" \u003e$5,744\u003c/td\u003e \n        \u003ctd id\u003d\"T_f73b70ce_983d_11ed_bb48_f23b1644f743row5_col3\" class\u003d\"data row5 col3\" \u003e$1,767\u003c/td\u003e \n        \u003ctd id\u003d\"T_f73b70ce_983d_11ed_bb48_f23b1644f743row5_col4\" class\u003d\"data row5 col4\" \u003e$3,977\u003c/td\u003e \n    \u003c/tr\u003e    \u003ctr\u003e \n        \u003cth id\u003d\"T_f73b70ce_983d_11ed_bb48_f23b1644f743level0_row6\" class\u003d\"row_heading level0 row6\" rowspan\u003d7\u003epeanut\u003c/th\u003e \n        \u003cth id\u003d\"T_f73b70ce_983d_11ed_bb48_f23b1644f743level1_row6\" class\u003d\"row_heading level1 row6\" \u003e0.125\u003c/th\u003e \n        \u003ctd id\u003d\"T_f73b70ce_983d_11ed_bb48_f23b1644f743row6_col0\" class\u003d\"data row6 col0\" \u003e18,500 FCFA\u003c/td\u003e \n        \u003ctd id\u003d\"T_f73b70ce_983d_11ed_bb48_f23b1644f743row6_col1\" class\u003d\"data row6 col1\" \u003e0.19\u003c/td\u003e \n        \u003ctd id\u003d\"T_f73b70ce_983d_11ed_bb48_f23b1644f743row6_col2\" class\u003d\"data row6 col2\" \u003e$119\u003c/td\u003e \n        \u003ctd id\u003d\"T_f73b70ce_983d_11ed_bb48_f23b1644f743row6_col3\" class\u003d\"data row6 col3\" \u003e$29\u003c/td\u003e \n        \u003ctd id\u003d\"T_f73b70ce_983d_11ed_bb48_f23b1644f743row6_col4\" class\u003d\"data row6 col4\" \u003e$90\u003c/td\u003e \n    \u003c/tr\u003e    \u003ctr\u003e \n        \u003cth id\u003d\"T_f73b70ce_983d_11ed_bb48_f23b1644f743level1_row7\" class\u003d\"row_heading level1 row7\" \u003e0.25\u003c/th\u003e \n        \u003ctd id\u003d\"T_f73b70ce_983d_11ed_bb48_f23b1644f743row7_col0\" class\u003d\"data row7 col0\" \u003e34,500 FCFA\u003c/td\u003e \n        \u003ctd id\u003d\"T_f73b70ce_983d_11ed_bb48_f23b1644f743row7_col1\" class\u003d\"data row7 col1\" \u003e0.38\u003c/td\u003e \n        \u003ctd id\u003d\"T_f73b70ce_983d_11ed_bb48_f23b1644f743row7_col2\" class\u003d\"data row7 col2\" \u003e$238\u003c/td\u003e \n        \u003ctd id\u003d\"T_f73b70ce_983d_11ed_bb48_f23b1644f743row7_col3\" class\u003d\"data row7 col3\" \u003e$55\u003c/td\u003e \n        \u003ctd id\u003d\"T_f73b70ce_983d_11ed_bb48_f23b1644f743row7_col4\" class\u003d\"data row7 col4\" \u003e$183\u003c/td\u003e \n    \u003c/tr\u003e    \u003ctr\u003e \n        \u003cth id\u003d\"T_f73b70ce_983d_11ed_bb48_f23b1644f743level1_row8\" class\u003d\"row_heading level1 row8\" \u003e0.5\u003c/th\u003e \n        \u003ctd id\u003d\"T_f73b70ce_983d_11ed_bb48_f23b1644f743row8_col0\" class\u003d\"data row8 col0\" \u003e55,500 FCFA\u003c/td\u003e \n        \u003ctd id\u003d\"T_f73b70ce_983d_11ed_bb48_f23b1644f743row8_col1\" class\u003d\"data row8 col1\" \u003e0.77\u003c/td\u003e \n        \u003ctd id\u003d\"T_f73b70ce_983d_11ed_bb48_f23b1644f743row8_col2\" class\u003d\"data row8 col2\" \u003e$476\u003c/td\u003e \n        \u003ctd id\u003d\"T_f73b70ce_983d_11ed_bb48_f23b1644f743row8_col3\" class\u003d\"data row8 col3\" \u003e$88\u003c/td\u003e \n        \u003ctd id\u003d\"T_f73b70ce_983d_11ed_bb48_f23b1644f743row8_col4\" class\u003d\"data row8 col4\" \u003e$388\u003c/td\u003e \n    \u003c/tr\u003e    \u003ctr\u003e \n        \u003cth id\u003d\"T_f73b70ce_983d_11ed_bb48_f23b1644f743level1_row9\" class\u003d\"row_heading level1 row9\" \u003e1.0\u003c/th\u003e \n        \u003ctd id\u003d\"T_f73b70ce_983d_11ed_bb48_f23b1644f743row9_col0\" class\u003d\"data row9 col0\" \u003e102,500 FCFA\u003c/td\u003e \n        \u003ctd id\u003d\"T_f73b70ce_983d_11ed_bb48_f23b1644f743row9_col1\" class\u003d\"data row9 col1\" \u003e1.54\u003c/td\u003e \n        \u003ctd id\u003d\"T_f73b70ce_983d_11ed_bb48_f23b1644f743row9_col2\" class\u003d\"data row9 col2\" \u003e$952\u003c/td\u003e \n        \u003ctd id\u003d\"T_f73b70ce_983d_11ed_bb48_f23b1644f743row9_col3\" class\u003d\"data row9 col3\" \u003e$162\u003c/td\u003e \n        \u003ctd id\u003d\"T_f73b70ce_983d_11ed_bb48_f23b1644f743row9_col4\" class\u003d\"data row9 col4\" \u003e$790\u003c/td\u003e \n    \u003c/tr\u003e    \u003ctr\u003e \n        \u003cth id\u003d\"T_f73b70ce_983d_11ed_bb48_f23b1644f743level1_row10\" class\u003d\"row_heading level1 row10\" \u003e1.25\u003c/th\u003e \n        \u003ctd id\u003d\"T_f73b70ce_983d_11ed_bb48_f23b1644f743row10_col0\" class\u003d\"data row10 col0\" \u003e139,500 FCFA\u003c/td\u003e \n        \u003ctd id\u003d\"T_f73b70ce_983d_11ed_bb48_f23b1644f743row10_col1\" class\u003d\"data row10 col1\" \u003e1.92\u003c/td\u003e \n        \u003ctd id\u003d\"T_f73b70ce_983d_11ed_bb48_f23b1644f743row10_col2\" class\u003d\"data row10 col2\" \u003e$1,190\u003c/td\u003e \n        \u003ctd id\u003d\"T_f73b70ce_983d_11ed_bb48_f23b1644f743row10_col3\" class\u003d\"data row10 col3\" \u003e$221\u003c/td\u003e \n        \u003ctd id\u003d\"T_f73b70ce_983d_11ed_bb48_f23b1644f743row10_col4\" class\u003d\"data row10 col4\" \u003e$969\u003c/td\u003e \n    \u003c/tr\u003e    \u003ctr\u003e \n        \u003cth id\u003d\"T_f73b70ce_983d_11ed_bb48_f23b1644f743level1_row11\" class\u003d\"row_heading level1 row11\" \u003e1.5\u003c/th\u003e \n        \u003ctd id\u003d\"T_f73b70ce_983d_11ed_bb48_f23b1644f743row11_col0\" class\u003d\"data row11 col0\" \u003e160,500 FCFA\u003c/td\u003e \n        \u003ctd id\u003d\"T_f73b70ce_983d_11ed_bb48_f23b1644f743row11_col1\" class\u003d\"data row11 col1\" \u003e2.30\u003c/td\u003e \n        \u003ctd id\u003d\"T_f73b70ce_983d_11ed_bb48_f23b1644f743row11_col2\" class\u003d\"data row11 col2\" \u003e$1,428\u003c/td\u003e \n        \u003ctd id\u003d\"T_f73b70ce_983d_11ed_bb48_f23b1644f743row11_col3\" class\u003d\"data row11 col3\" \u003e$254\u003c/td\u003e \n        \u003ctd id\u003d\"T_f73b70ce_983d_11ed_bb48_f23b1644f743row11_col4\" class\u003d\"data row11 col4\" \u003e$1,174\u003c/td\u003e \n    \u003c/tr\u003e    \u003ctr\u003e \n        \u003cth id\u003d\"T_f73b70ce_983d_11ed_bb48_f23b1644f743level1_row12\" class\u003d\"row_heading level1 row12\" \u003e2.0\u003c/th\u003e \n        \u003ctd id\u003d\"T_f73b70ce_983d_11ed_bb48_f23b1644f743row12_col0\" class\u003d\"data row12 col0\" \u003e207,500 FCFA\u003c/td\u003e \n        \u003ctd id\u003d\"T_f73b70ce_983d_11ed_bb48_f23b1644f743row12_col1\" class\u003d\"data row12 col1\" \u003e3.07\u003c/td\u003e \n        \u003ctd id\u003d\"T_f73b70ce_983d_11ed_bb48_f23b1644f743row12_col2\" class\u003d\"data row12 col2\" \u003e$1,903\u003c/td\u003e \n        \u003ctd id\u003d\"T_f73b70ce_983d_11ed_bb48_f23b1644f743row12_col3\" class\u003d\"data row12 col3\" \u003e$328\u003c/td\u003e \n        \u003ctd id\u003d\"T_f73b70ce_983d_11ed_bb48_f23b1644f743row12_col4\" class\u003d\"data row12 col4\" \u003e$1,575\u003c/td\u003e \n    \u003c/tr\u003e    \u003ctr\u003e \n        \u003cth id\u003d\"T_f73b70ce_983d_11ed_bb48_f23b1644f743level0_row13\" class\u003d\"row_heading level0 row13\" \u003erice\u003c/th\u003e \n        \u003cth id\u003d\"T_f73b70ce_983d_11ed_bb48_f23b1644f743level1_row13\" class\u003d\"row_heading level1 row13\" \u003e0.05\u003c/th\u003e \n        \u003ctd id\u003d\"T_f73b70ce_983d_11ed_bb48_f23b1644f743row13_col0\" class\u003d\"data row13 col0\" \u003e24,000 FCFA\u003c/td\u003e \n        \u003ctd id\u003d\"T_f73b70ce_983d_11ed_bb48_f23b1644f743row13_col1\" class\u003d\"data row13 col1\" \u003e0.10\u003c/td\u003e \n        \u003ctd id\u003d\"T_f73b70ce_983d_11ed_bb48_f23b1644f743row13_col2\" class\u003d\"data row13 col2\" \u003e$71\u003c/td\u003e \n        \u003ctd id\u003d\"T_f73b70ce_983d_11ed_bb48_f23b1644f743row13_col3\" class\u003d\"data row13 col3\" \u003e$38\u003c/td\u003e \n        \u003ctd id\u003d\"T_f73b70ce_983d_11ed_bb48_f23b1644f743row13_col4\" class\u003d\"data row13 col4\" \u003e$33\u003c/td\u003e \n    \u003c/tr\u003e    \u003ctr\u003e \n        \u003cth id\u003d\"T_f73b70ce_983d_11ed_bb48_f23b1644f743level0_row14\" class\u003d\"row_heading level0 row14\" rowspan\u003d5\u003esorghum\u003c/th\u003e \n        \u003cth id\u003d\"T_f73b70ce_983d_11ed_bb48_f23b1644f743level1_row14\" class\u003d\"row_heading level1 row14\" \u003e0.25\u003c/th\u003e \n        \u003ctd id\u003d\"T_f73b70ce_983d_11ed_bb48_f23b1644f743row14_col0\" class\u003d\"data row14 col0\" \u003e33,500 FCFA\u003c/td\u003e \n        \u003ctd id\u003d\"T_f73b70ce_983d_11ed_bb48_f23b1644f743row14_col1\" class\u003d\"data row14 col1\" \u003e0.36\u003c/td\u003e \n        \u003ctd id\u003d\"T_f73b70ce_983d_11ed_bb48_f23b1644f743row14_col2\" class\u003d\"data row14 col2\" \u003e$193\u003c/td\u003e \n        \u003ctd id\u003d\"T_f73b70ce_983d_11ed_bb48_f23b1644f743row14_col3\" class\u003d\"data row14 col3\" \u003e$53\u003c/td\u003e \n        \u003ctd id\u003d\"T_f73b70ce_983d_11ed_bb48_f23b1644f743row14_col4\" class\u003d\"data row14 col4\" \u003e$140\u003c/td\u003e \n    \u003c/tr\u003e    \u003ctr\u003e \n        \u003cth id\u003d\"T_f73b70ce_983d_11ed_bb48_f23b1644f743level1_row15\" class\u003d\"row_heading level1 row15\" \u003e0.5\u003c/th\u003e \n        \u003ctd id\u003d\"T_f73b70ce_983d_11ed_bb48_f23b1644f743row15_col0\" class\u003d\"data row15 col0\" \u003e61,500 FCFA\u003c/td\u003e \n        \u003ctd id\u003d\"T_f73b70ce_983d_11ed_bb48_f23b1644f743row15_col1\" class\u003d\"data row15 col1\" \u003e0.72\u003c/td\u003e \n        \u003ctd id\u003d\"T_f73b70ce_983d_11ed_bb48_f23b1644f743row15_col2\" class\u003d\"data row15 col2\" \u003e$385\u003c/td\u003e \n        \u003ctd id\u003d\"T_f73b70ce_983d_11ed_bb48_f23b1644f743row15_col3\" class\u003d\"data row15 col3\" \u003e$97\u003c/td\u003e \n        \u003ctd id\u003d\"T_f73b70ce_983d_11ed_bb48_f23b1644f743row15_col4\" class\u003d\"data row15 col4\" \u003e$288\u003c/td\u003e \n    \u003c/tr\u003e    \u003ctr\u003e \n        \u003cth id\u003d\"T_f73b70ce_983d_11ed_bb48_f23b1644f743level1_row16\" class\u003d\"row_heading level1 row16\" \u003e1.0\u003c/th\u003e \n        \u003ctd id\u003d\"T_f73b70ce_983d_11ed_bb48_f23b1644f743row16_col0\" class\u003d\"data row16 col0\" \u003e107,500 FCFA\u003c/td\u003e \n        \u003ctd id\u003d\"T_f73b70ce_983d_11ed_bb48_f23b1644f743row16_col1\" class\u003d\"data row16 col1\" \u003e1.43\u003c/td\u003e \n        \u003ctd id\u003d\"T_f73b70ce_983d_11ed_bb48_f23b1644f743row16_col2\" class\u003d\"data row16 col2\" \u003e$771\u003c/td\u003e \n        \u003ctd id\u003d\"T_f73b70ce_983d_11ed_bb48_f23b1644f743row16_col3\" class\u003d\"data row16 col3\" \u003e$170\u003c/td\u003e \n        \u003ctd id\u003d\"T_f73b70ce_983d_11ed_bb48_f23b1644f743row16_col4\" class\u003d\"data row16 col4\" \u003e$601\u003c/td\u003e \n    \u003c/tr\u003e    \u003ctr\u003e \n        \u003cth id\u003d\"T_f73b70ce_983d_11ed_bb48_f23b1644f743level1_row17\" class\u003d\"row_heading level1 row17\" \u003e1.5\u003c/th\u003e \n        \u003ctd id\u003d\"T_f73b70ce_983d_11ed_bb48_f23b1644f743row17_col0\" class\u003d\"data row17 col0\" \u003e171,500 FCFA\u003c/td\u003e \n        \u003ctd id\u003d\"T_f73b70ce_983d_11ed_bb48_f23b1644f743row17_col1\" class\u003d\"data row17 col1\" \u003e2.15\u003c/td\u003e \n        \u003ctd id\u003d\"T_f73b70ce_983d_11ed_bb48_f23b1644f743row17_col2\" class\u003d\"data row17 col2\" \u003e$1,156\u003c/td\u003e \n        \u003ctd id\u003d\"T_f73b70ce_983d_11ed_bb48_f23b1644f743row17_col3\" class\u003d\"data row17 col3\" \u003e$271\u003c/td\u003e \n        \u003ctd id\u003d\"T_f73b70ce_983d_11ed_bb48_f23b1644f743row17_col4\" class\u003d\"data row17 col4\" \u003e$885\u003c/td\u003e \n    \u003c/tr\u003e    \u003ctr\u003e \n        \u003cth id\u003d\"T_f73b70ce_983d_11ed_bb48_f23b1644f743level1_row18\" class\u003d\"row_heading level1 row18\" \u003e2.0\u003c/th\u003e \n        \u003ctd id\u003d\"T_f73b70ce_983d_11ed_bb48_f23b1644f743row18_col0\" class\u003d\"data row18 col0\" \u003e217,500 FCFA\u003c/td\u003e \n        \u003ctd id\u003d\"T_f73b70ce_983d_11ed_bb48_f23b1644f743row18_col1\" class\u003d\"data row18 col1\" \u003e2.87\u003c/td\u003e \n        \u003ctd id\u003d\"T_f73b70ce_983d_11ed_bb48_f23b1644f743row18_col2\" class\u003d\"data row18 col2\" \u003e$1,542\u003c/td\u003e \n        \u003ctd id\u003d\"T_f73b70ce_983d_11ed_bb48_f23b1644f743row18_col3\" class\u003d\"data row18 col3\" \u003e$344\u003c/td\u003e \n        \u003ctd id\u003d\"T_f73b70ce_983d_11ed_bb48_f23b1644f743row18_col4\" class\u003d\"data row18 col4\" \u003e$1,198\u003c/td\u003e \n    \u003c/tr\u003e\u003c/tbody\u003e \n\u003c/table\u003e "
          },
          "metadata": {}
        }
      ]
    },
    {
      "cell_type": "markdown",
      "metadata": {},
      "source": [
        "**Senegal Summary Table**"
      ]
    },
    {
      "execution_count": 630,
      "cell_type": "code",
      "metadata": {},
      "source": [
        "net_profit_sn_myagro.loc[pd.IndexSlice[:, [1, 0.1]], :]\\\n                    .rename_axis([\u0027Product\u0027, \u0027Package Size (Hectares)\u0027])\\\n                    .rename(columns \u003d {\"price_cfa_avg\" : \"Price\",\n                                       \"average_yield_t_package_size_ha\" : \"Average Yield (T/Package Hectarage)\",\n                                       \"gross_value_of_yield_usd\" : \"Gross Value\",\n                                       \"input_costs_usd\" : \"Input Cost\",\n                                       \"net_profit_usd\" : \"Net Profit\"})\\\n                    .style\\\n                    .format({\"Price\": lambda val: f\"{val:,.0f} FCFA\",\n                             \"Average Yield (T/Package Hectarage)\": lambda val: f\"{val:.2f}\",\n                             \"Gross Value\": lambda val: f\"${val:,.0f}\",\n                             \"Input Cost\": lambda val: f\"${val:,.0f}\",\n                             \"Net Profit\": lambda val: f\"${val:,.0f}\"})\\\n                    .set_caption(\u0027myAgro Cereal Net Profit Per Package\u0027)"
      ],
      "outputs": [
        {
          "output_type": "execute_result",
          "execution_count": 630,
          "data": {
            "text/plain": "\u003cpandas.io.formats.style.Styler at 0x7fba118e5cf8\u003e",
            "text/html": "\u003cstyle  type\u003d\"text/css\" \u003e\n\u003c/style\u003e  \n\u003ctable id\u003d\"T_f73dd99a_983d_11ed_bb48_f23b1644f743\" \u003e\u003ccaption\u003emyAgro Cereal Net Profit Per Package\u003c/caption\u003e \n\u003cthead\u003e    \u003ctr\u003e \n        \u003cth class\u003d\"blank\" \u003e\u003c/th\u003e \n        \u003cth class\u003d\"blank level0\" \u003e\u003c/th\u003e \n        \u003cth class\u003d\"col_heading level0 col0\" \u003eAverage Yield (T/Package Hectarage)\u003c/th\u003e \n        \u003cth class\u003d\"col_heading level0 col1\" \u003eGross Value\u003c/th\u003e \n        \u003cth class\u003d\"col_heading level0 col2\" \u003eInput Cost\u003c/th\u003e \n        \u003cth class\u003d\"col_heading level0 col3\" \u003eNet Profit\u003c/th\u003e \n        \u003cth class\u003d\"col_heading level0 col4\" \u003ePrice\u003c/th\u003e \n    \u003c/tr\u003e    \u003ctr\u003e \n        \u003cth class\u003d\"index_name level0\" \u003eProduct\u003c/th\u003e \n        \u003cth class\u003d\"index_name level1\" \u003ePackage Size (Hectares)\u003c/th\u003e \n        \u003cth class\u003d\"blank\" \u003e\u003c/th\u003e \n        \u003cth class\u003d\"blank\" \u003e\u003c/th\u003e \n        \u003cth class\u003d\"blank\" \u003e\u003c/th\u003e \n        \u003cth class\u003d\"blank\" \u003e\u003c/th\u003e \n        \u003cth class\u003d\"blank\" \u003e\u003c/th\u003e \n    \u003c/tr\u003e\u003c/thead\u003e \n\u003ctbody\u003e    \u003ctr\u003e \n        \u003cth id\u003d\"T_f73dd99a_983d_11ed_bb48_f23b1644f743level0_row0\" class\u003d\"row_heading level0 row0\" \u003emaize\u003c/th\u003e \n        \u003cth id\u003d\"T_f73dd99a_983d_11ed_bb48_f23b1644f743level1_row0\" class\u003d\"row_heading level1 row0\" \u003e1.0\u003c/th\u003e \n        \u003ctd id\u003d\"T_f73dd99a_983d_11ed_bb48_f23b1644f743row0_col0\" class\u003d\"data row0 col0\" \u003e2.11\u003c/td\u003e \n        \u003ctd id\u003d\"T_f73dd99a_983d_11ed_bb48_f23b1644f743row0_col1\" class\u003d\"data row0 col1\" \u003e$1,154\u003c/td\u003e \n        \u003ctd id\u003d\"T_f73dd99a_983d_11ed_bb48_f23b1644f743row0_col2\" class\u003d\"data row0 col2\" \u003e$311\u003c/td\u003e \n        \u003ctd id\u003d\"T_f73dd99a_983d_11ed_bb48_f23b1644f743row0_col3\" class\u003d\"data row0 col3\" \u003e$843\u003c/td\u003e \n        \u003ctd id\u003d\"T_f73dd99a_983d_11ed_bb48_f23b1644f743row0_col4\" class\u003d\"data row0 col4\" \u003e196,500 FCFA\u003c/td\u003e \n    \u003c/tr\u003e    \u003ctr\u003e \n        \u003cth id\u003d\"T_f73dd99a_983d_11ed_bb48_f23b1644f743level0_row1\" class\u003d\"row_heading level0 row1\" \u003emillet\u003c/th\u003e \n        \u003cth id\u003d\"T_f73dd99a_983d_11ed_bb48_f23b1644f743level1_row1\" class\u003d\"row_heading level1 row1\" \u003e1.0\u003c/th\u003e \n        \u003ctd id\u003d\"T_f73dd99a_983d_11ed_bb48_f23b1644f743row1_col0\" class\u003d\"data row1 col0\" \u003e0.61\u003c/td\u003e \n        \u003ctd id\u003d\"T_f73dd99a_983d_11ed_bb48_f23b1644f743row1_col1\" class\u003d\"data row1 col1\" \u003e$419\u003c/td\u003e \n        \u003ctd id\u003d\"T_f73dd99a_983d_11ed_bb48_f23b1644f743row1_col2\" class\u003d\"data row1 col2\" \u003e$138\u003c/td\u003e \n        \u003ctd id\u003d\"T_f73dd99a_983d_11ed_bb48_f23b1644f743row1_col3\" class\u003d\"data row1 col3\" \u003e$281\u003c/td\u003e \n        \u003ctd id\u003d\"T_f73dd99a_983d_11ed_bb48_f23b1644f743row1_col4\" class\u003d\"data row1 col4\" \u003e87,500 FCFA\u003c/td\u003e \n    \u003c/tr\u003e    \u003ctr\u003e \n        \u003cth id\u003d\"T_f73dd99a_983d_11ed_bb48_f23b1644f743level0_row2\" class\u003d\"row_heading level0 row2\" \u003epeanut\u003c/th\u003e \n        \u003cth id\u003d\"T_f73dd99a_983d_11ed_bb48_f23b1644f743level1_row2\" class\u003d\"row_heading level1 row2\" \u003e1.0\u003c/th\u003e \n        \u003ctd id\u003d\"T_f73dd99a_983d_11ed_bb48_f23b1644f743row2_col0\" class\u003d\"data row2 col0\" \u003e1.86\u003c/td\u003e \n        \u003ctd id\u003d\"T_f73dd99a_983d_11ed_bb48_f23b1644f743row2_col1\" class\u003d\"data row2 col1\" \u003e$1,348\u003c/td\u003e \n        \u003ctd id\u003d\"T_f73dd99a_983d_11ed_bb48_f23b1644f743row2_col2\" class\u003d\"data row2 col2\" \u003e$115\u003c/td\u003e \n        \u003ctd id\u003d\"T_f73dd99a_983d_11ed_bb48_f23b1644f743row2_col3\" class\u003d\"data row2 col3\" \u003e$1,233\u003c/td\u003e \n        \u003ctd id\u003d\"T_f73dd99a_983d_11ed_bb48_f23b1644f743row2_col4\" class\u003d\"data row2 col4\" \u003e72,500 FCFA\u003c/td\u003e \n    \u003c/tr\u003e    \u003ctr\u003e \n        \u003cth id\u003d\"T_f73dd99a_983d_11ed_bb48_f23b1644f743level0_row3\" class\u003d\"row_heading level0 row3\" \u003epeanut (fodder only)\u003c/th\u003e \n        \u003cth id\u003d\"T_f73dd99a_983d_11ed_bb48_f23b1644f743level1_row3\" class\u003d\"row_heading level1 row3\" \u003e1.0\u003c/th\u003e \n        \u003ctd id\u003d\"T_f73dd99a_983d_11ed_bb48_f23b1644f743row3_col0\" class\u003d\"data row3 col0\" \u003enan\u003c/td\u003e \n        \u003ctd id\u003d\"T_f73dd99a_983d_11ed_bb48_f23b1644f743row3_col1\" class\u003d\"data row3 col1\" \u003e$nan\u003c/td\u003e \n        \u003ctd id\u003d\"T_f73dd99a_983d_11ed_bb48_f23b1644f743row3_col2\" class\u003d\"data row3 col2\" \u003e$nan\u003c/td\u003e \n        \u003ctd id\u003d\"T_f73dd99a_983d_11ed_bb48_f23b1644f743row3_col3\" class\u003d\"data row3 col3\" \u003e$1,046\u003c/td\u003e \n        \u003ctd id\u003d\"T_f73dd99a_983d_11ed_bb48_f23b1644f743row3_col4\" class\u003d\"data row3 col4\" \u003enan FCFA\u003c/td\u003e \n    \u003c/tr\u003e    \u003ctr\u003e \n        \u003cth id\u003d\"T_f73dd99a_983d_11ed_bb48_f23b1644f743level0_row4\" class\u003d\"row_heading level0 row4\" \u003epeanut (w/ fodder)\u003c/th\u003e \n        \u003cth id\u003d\"T_f73dd99a_983d_11ed_bb48_f23b1644f743level1_row4\" class\u003d\"row_heading level1 row4\" \u003e1.0\u003c/th\u003e \n        \u003ctd id\u003d\"T_f73dd99a_983d_11ed_bb48_f23b1644f743row4_col0\" class\u003d\"data row4 col0\" \u003enan\u003c/td\u003e \n        \u003ctd id\u003d\"T_f73dd99a_983d_11ed_bb48_f23b1644f743row4_col1\" class\u003d\"data row4 col1\" \u003e$nan\u003c/td\u003e \n        \u003ctd id\u003d\"T_f73dd99a_983d_11ed_bb48_f23b1644f743row4_col2\" class\u003d\"data row4 col2\" \u003e$nan\u003c/td\u003e \n        \u003ctd id\u003d\"T_f73dd99a_983d_11ed_bb48_f23b1644f743row4_col3\" class\u003d\"data row4 col3\" \u003e$2,279\u003c/td\u003e \n        \u003ctd id\u003d\"T_f73dd99a_983d_11ed_bb48_f23b1644f743row4_col4\" class\u003d\"data row4 col4\" \u003enan FCFA\u003c/td\u003e \n    \u003c/tr\u003e    \u003ctr\u003e \n        \u003cth id\u003d\"T_f73dd99a_983d_11ed_bb48_f23b1644f743level0_row5\" class\u003d\"row_heading level0 row5\" \u003erice\u003c/th\u003e \n        \u003cth id\u003d\"T_f73dd99a_983d_11ed_bb48_f23b1644f743level1_row5\" class\u003d\"row_heading level1 row5\" \u003e0.1\u003c/th\u003e \n        \u003ctd id\u003d\"T_f73dd99a_983d_11ed_bb48_f23b1644f743row5_col0\" class\u003d\"data row5 col0\" \u003e0.24\u003c/td\u003e \n        \u003ctd id\u003d\"T_f73dd99a_983d_11ed_bb48_f23b1644f743row5_col1\" class\u003d\"data row5 col1\" \u003e$144\u003c/td\u003e \n        \u003ctd id\u003d\"T_f73dd99a_983d_11ed_bb48_f23b1644f743row5_col2\" class\u003d\"data row5 col2\" \u003e$60\u003c/td\u003e \n        \u003ctd id\u003d\"T_f73dd99a_983d_11ed_bb48_f23b1644f743row5_col3\" class\u003d\"data row5 col3\" \u003e$84\u003c/td\u003e \n        \u003ctd id\u003d\"T_f73dd99a_983d_11ed_bb48_f23b1644f743row5_col4\" class\u003d\"data row5 col4\" \u003e38,000 FCFA\u003c/td\u003e \n    \u003c/tr\u003e\u003c/tbody\u003e \n\u003c/table\u003e "
          },
          "metadata": {}
        }
      ]
    },
    {
      "cell_type": "markdown",
      "metadata": {},
      "source": [
        "**Senegal Full Table**"
      ]
    },
    {
      "execution_count": 631,
      "cell_type": "code",
      "metadata": {
        "scrolled": false
      },
      "source": [
        "net_profit_sn_myagro.rename_axis([\u0027Product\u0027, \u0027Package Size (Hectares)\u0027])\\\n                    .rename(columns \u003d {\"price_cfa_avg\" : \"Price\",\n                                       \"average_yield_t_package_size_ha\" : \"Average Yield (T/Package Hectarage)\",\n                                       \"gross_value_of_yield_usd\" : \"Gross Value\",\n                                       \"input_costs_usd\" : \"Input Cost\",\n                                       \"net_profit_usd\" : \"Net Profit\"})\\\n                    .style\\\n                    .format({\"Price\": lambda val: f\"{val:,.0f} FCFA\",\n                             \"Average Yield (T/Package Hectarage)\": lambda val: f\"{val:.2f}\",\n                             \"Gross Value\": lambda val: f\"${val:,.0f}\",\n                             \"Input Cost\": lambda val: f\"${val:,.0f}\",\n                             \"Net Profit\": lambda val: f\"${val:,.0f}\"})\\\n                    .set_caption(\u0027myAgro Cereal Net Profit Per Package\u0027)"
      ],
      "outputs": [
        {
          "output_type": "execute_result",
          "execution_count": 631,
          "data": {
            "text/plain": "\u003cpandas.io.formats.style.Styler at 0x7fba118e5550\u003e",
            "text/html": "\u003cstyle  type\u003d\"text/css\" \u003e\n\u003c/style\u003e  \n\u003ctable id\u003d\"T_f73f9c1c_983d_11ed_bb48_f23b1644f743\" \u003e\u003ccaption\u003emyAgro Cereal Net Profit Per Package\u003c/caption\u003e \n\u003cthead\u003e    \u003ctr\u003e \n        \u003cth class\u003d\"blank\" \u003e\u003c/th\u003e \n        \u003cth class\u003d\"blank level0\" \u003e\u003c/th\u003e \n        \u003cth class\u003d\"col_heading level0 col0\" \u003eAverage Yield (T/Package Hectarage)\u003c/th\u003e \n        \u003cth class\u003d\"col_heading level0 col1\" \u003eGross Value\u003c/th\u003e \n        \u003cth class\u003d\"col_heading level0 col2\" \u003eInput Cost\u003c/th\u003e \n        \u003cth class\u003d\"col_heading level0 col3\" \u003eNet Profit\u003c/th\u003e \n        \u003cth class\u003d\"col_heading level0 col4\" \u003ePrice\u003c/th\u003e \n    \u003c/tr\u003e    \u003ctr\u003e \n        \u003cth class\u003d\"index_name level0\" \u003eProduct\u003c/th\u003e \n        \u003cth class\u003d\"index_name level1\" \u003ePackage Size (Hectares)\u003c/th\u003e \n        \u003cth class\u003d\"blank\" \u003e\u003c/th\u003e \n        \u003cth class\u003d\"blank\" \u003e\u003c/th\u003e \n        \u003cth class\u003d\"blank\" \u003e\u003c/th\u003e \n        \u003cth class\u003d\"blank\" \u003e\u003c/th\u003e \n        \u003cth class\u003d\"blank\" \u003e\u003c/th\u003e \n    \u003c/tr\u003e\u003c/thead\u003e \n\u003ctbody\u003e    \u003ctr\u003e \n        \u003cth id\u003d\"T_f73f9c1c_983d_11ed_bb48_f23b1644f743level0_row0\" class\u003d\"row_heading level0 row0\" rowspan\u003d4\u003emaize\u003c/th\u003e \n        \u003cth id\u003d\"T_f73f9c1c_983d_11ed_bb48_f23b1644f743level1_row0\" class\u003d\"row_heading level1 row0\" \u003e0.125\u003c/th\u003e \n        \u003ctd id\u003d\"T_f73f9c1c_983d_11ed_bb48_f23b1644f743row0_col0\" class\u003d\"data row0 col0\" \u003e0.26\u003c/td\u003e \n        \u003ctd id\u003d\"T_f73f9c1c_983d_11ed_bb48_f23b1644f743row0_col1\" class\u003d\"data row0 col1\" \u003e$144\u003c/td\u003e \n        \u003ctd id\u003d\"T_f73f9c1c_983d_11ed_bb48_f23b1644f743row0_col2\" class\u003d\"data row0 col2\" \u003e$47\u003c/td\u003e \n        \u003ctd id\u003d\"T_f73f9c1c_983d_11ed_bb48_f23b1644f743row0_col3\" class\u003d\"data row0 col3\" \u003e$98\u003c/td\u003e \n        \u003ctd id\u003d\"T_f73f9c1c_983d_11ed_bb48_f23b1644f743row0_col4\" class\u003d\"data row0 col4\" \u003e29,500 FCFA\u003c/td\u003e \n    \u003c/tr\u003e    \u003ctr\u003e \n        \u003cth id\u003d\"T_f73f9c1c_983d_11ed_bb48_f23b1644f743level1_row1\" class\u003d\"row_heading level1 row1\" \u003e0.25\u003c/th\u003e \n        \u003ctd id\u003d\"T_f73f9c1c_983d_11ed_bb48_f23b1644f743row1_col0\" class\u003d\"data row1 col0\" \u003e0.53\u003c/td\u003e \n        \u003ctd id\u003d\"T_f73f9c1c_983d_11ed_bb48_f23b1644f743row1_col1\" class\u003d\"data row1 col1\" \u003e$288\u003c/td\u003e \n        \u003ctd id\u003d\"T_f73f9c1c_983d_11ed_bb48_f23b1644f743row1_col2\" class\u003d\"data row1 col2\" \u003e$87\u003c/td\u003e \n        \u003ctd id\u003d\"T_f73f9c1c_983d_11ed_bb48_f23b1644f743row1_col3\" class\u003d\"data row1 col3\" \u003e$201\u003c/td\u003e \n        \u003ctd id\u003d\"T_f73f9c1c_983d_11ed_bb48_f23b1644f743row1_col4\" class\u003d\"data row1 col4\" \u003e55,000 FCFA\u003c/td\u003e \n    \u003c/tr\u003e    \u003ctr\u003e \n        \u003cth id\u003d\"T_f73f9c1c_983d_11ed_bb48_f23b1644f743level1_row2\" class\u003d\"row_heading level1 row2\" \u003e0.5\u003c/th\u003e \n        \u003ctd id\u003d\"T_f73f9c1c_983d_11ed_bb48_f23b1644f743row2_col0\" class\u003d\"data row2 col0\" \u003e1.06\u003c/td\u003e \n        \u003ctd id\u003d\"T_f73f9c1c_983d_11ed_bb48_f23b1644f743row2_col1\" class\u003d\"data row2 col1\" \u003e$577\u003c/td\u003e \n        \u003ctd id\u003d\"T_f73f9c1c_983d_11ed_bb48_f23b1644f743row2_col2\" class\u003d\"data row2 col2\" \u003e$160\u003c/td\u003e \n        \u003ctd id\u003d\"T_f73f9c1c_983d_11ed_bb48_f23b1644f743row2_col3\" class\u003d\"data row2 col3\" \u003e$417\u003c/td\u003e \n        \u003ctd id\u003d\"T_f73f9c1c_983d_11ed_bb48_f23b1644f743row2_col4\" class\u003d\"data row2 col4\" \u003e101,000 FCFA\u003c/td\u003e \n    \u003c/tr\u003e    \u003ctr\u003e \n        \u003cth id\u003d\"T_f73f9c1c_983d_11ed_bb48_f23b1644f743level1_row3\" class\u003d\"row_heading level1 row3\" \u003e1.0\u003c/th\u003e \n        \u003ctd id\u003d\"T_f73f9c1c_983d_11ed_bb48_f23b1644f743row3_col0\" class\u003d\"data row3 col0\" \u003e2.11\u003c/td\u003e \n        \u003ctd id\u003d\"T_f73f9c1c_983d_11ed_bb48_f23b1644f743row3_col1\" class\u003d\"data row3 col1\" \u003e$1,154\u003c/td\u003e \n        \u003ctd id\u003d\"T_f73f9c1c_983d_11ed_bb48_f23b1644f743row3_col2\" class\u003d\"data row3 col2\" \u003e$311\u003c/td\u003e \n        \u003ctd id\u003d\"T_f73f9c1c_983d_11ed_bb48_f23b1644f743row3_col3\" class\u003d\"data row3 col3\" \u003e$843\u003c/td\u003e \n        \u003ctd id\u003d\"T_f73f9c1c_983d_11ed_bb48_f23b1644f743row3_col4\" class\u003d\"data row3 col4\" \u003e196,500 FCFA\u003c/td\u003e \n    \u003c/tr\u003e    \u003ctr\u003e \n        \u003cth id\u003d\"T_f73f9c1c_983d_11ed_bb48_f23b1644f743level0_row4\" class\u003d\"row_heading level0 row4\" rowspan\u003d3\u003emillet\u003c/th\u003e \n        \u003cth id\u003d\"T_f73f9c1c_983d_11ed_bb48_f23b1644f743level1_row4\" class\u003d\"row_heading level1 row4\" \u003e0.33\u003c/th\u003e \n        \u003ctd id\u003d\"T_f73f9c1c_983d_11ed_bb48_f23b1644f743row4_col0\" class\u003d\"data row4 col0\" \u003e0.20\u003c/td\u003e \n        \u003ctd id\u003d\"T_f73f9c1c_983d_11ed_bb48_f23b1644f743row4_col1\" class\u003d\"data row4 col1\" \u003e$138\u003c/td\u003e \n        \u003ctd id\u003d\"T_f73f9c1c_983d_11ed_bb48_f23b1644f743row4_col2\" class\u003d\"data row4 col2\" \u003e$53\u003c/td\u003e \n        \u003ctd id\u003d\"T_f73f9c1c_983d_11ed_bb48_f23b1644f743row4_col3\" class\u003d\"data row4 col3\" \u003e$85\u003c/td\u003e \n        \u003ctd id\u003d\"T_f73f9c1c_983d_11ed_bb48_f23b1644f743row4_col4\" class\u003d\"data row4 col4\" \u003e33,500 FCFA\u003c/td\u003e \n    \u003c/tr\u003e    \u003ctr\u003e \n        \u003cth id\u003d\"T_f73f9c1c_983d_11ed_bb48_f23b1644f743level1_row5\" class\u003d\"row_heading level1 row5\" \u003e0.67\u003c/th\u003e \n        \u003ctd id\u003d\"T_f73f9c1c_983d_11ed_bb48_f23b1644f743row5_col0\" class\u003d\"data row5 col0\" \u003e0.41\u003c/td\u003e \n        \u003ctd id\u003d\"T_f73f9c1c_983d_11ed_bb48_f23b1644f743row5_col1\" class\u003d\"data row5 col1\" \u003e$281\u003c/td\u003e \n        \u003ctd id\u003d\"T_f73f9c1c_983d_11ed_bb48_f23b1644f743row5_col2\" class\u003d\"data row5 col2\" \u003e$99\u003c/td\u003e \n        \u003ctd id\u003d\"T_f73f9c1c_983d_11ed_bb48_f23b1644f743row5_col3\" class\u003d\"data row5 col3\" \u003e$182\u003c/td\u003e \n        \u003ctd id\u003d\"T_f73f9c1c_983d_11ed_bb48_f23b1644f743row5_col4\" class\u003d\"data row5 col4\" \u003e62,500 FCFA\u003c/td\u003e \n    \u003c/tr\u003e    \u003ctr\u003e \n        \u003cth id\u003d\"T_f73f9c1c_983d_11ed_bb48_f23b1644f743level1_row6\" class\u003d\"row_heading level1 row6\" \u003e1.0\u003c/th\u003e \n        \u003ctd id\u003d\"T_f73f9c1c_983d_11ed_bb48_f23b1644f743row6_col0\" class\u003d\"data row6 col0\" \u003e0.61\u003c/td\u003e \n        \u003ctd id\u003d\"T_f73f9c1c_983d_11ed_bb48_f23b1644f743row6_col1\" class\u003d\"data row6 col1\" \u003e$419\u003c/td\u003e \n        \u003ctd id\u003d\"T_f73f9c1c_983d_11ed_bb48_f23b1644f743row6_col2\" class\u003d\"data row6 col2\" \u003e$138\u003c/td\u003e \n        \u003ctd id\u003d\"T_f73f9c1c_983d_11ed_bb48_f23b1644f743row6_col3\" class\u003d\"data row6 col3\" \u003e$281\u003c/td\u003e \n        \u003ctd id\u003d\"T_f73f9c1c_983d_11ed_bb48_f23b1644f743row6_col4\" class\u003d\"data row6 col4\" \u003e87,500 FCFA\u003c/td\u003e \n    \u003c/tr\u003e    \u003ctr\u003e \n        \u003cth id\u003d\"T_f73f9c1c_983d_11ed_bb48_f23b1644f743level0_row7\" class\u003d\"row_heading level0 row7\" rowspan\u003d4\u003epeanut\u003c/th\u003e \n        \u003cth id\u003d\"T_f73f9c1c_983d_11ed_bb48_f23b1644f743level1_row7\" class\u003d\"row_heading level1 row7\" \u003e0.125\u003c/th\u003e \n        \u003ctd id\u003d\"T_f73f9c1c_983d_11ed_bb48_f23b1644f743row7_col0\" class\u003d\"data row7 col0\" \u003e0.23\u003c/td\u003e \n        \u003ctd id\u003d\"T_f73f9c1c_983d_11ed_bb48_f23b1644f743row7_col1\" class\u003d\"data row7 col1\" \u003e$168\u003c/td\u003e \n        \u003ctd id\u003d\"T_f73f9c1c_983d_11ed_bb48_f23b1644f743row7_col2\" class\u003d\"data row7 col2\" \u003e$15\u003c/td\u003e \n        \u003ctd id\u003d\"T_f73f9c1c_983d_11ed_bb48_f23b1644f743row7_col3\" class\u003d\"data row7 col3\" \u003e$153\u003c/td\u003e \n        \u003ctd id\u003d\"T_f73f9c1c_983d_11ed_bb48_f23b1644f743row7_col4\" class\u003d\"data row7 col4\" \u003e9,500 FCFA\u003c/td\u003e \n    \u003c/tr\u003e    \u003ctr\u003e \n        \u003cth id\u003d\"T_f73f9c1c_983d_11ed_bb48_f23b1644f743level1_row8\" class\u003d\"row_heading level1 row8\" \u003e0.25\u003c/th\u003e \n        \u003ctd id\u003d\"T_f73f9c1c_983d_11ed_bb48_f23b1644f743row8_col0\" class\u003d\"data row8 col0\" \u003e0.46\u003c/td\u003e \n        \u003ctd id\u003d\"T_f73f9c1c_983d_11ed_bb48_f23b1644f743row8_col1\" class\u003d\"data row8 col1\" \u003e$337\u003c/td\u003e \n        \u003ctd id\u003d\"T_f73f9c1c_983d_11ed_bb48_f23b1644f743row8_col2\" class\u003d\"data row8 col2\" \u003e$34\u003c/td\u003e \n        \u003ctd id\u003d\"T_f73f9c1c_983d_11ed_bb48_f23b1644f743row8_col3\" class\u003d\"data row8 col3\" \u003e$303\u003c/td\u003e \n        \u003ctd id\u003d\"T_f73f9c1c_983d_11ed_bb48_f23b1644f743row8_col4\" class\u003d\"data row8 col4\" \u003e21,500 FCFA\u003c/td\u003e \n    \u003c/tr\u003e    \u003ctr\u003e \n        \u003cth id\u003d\"T_f73f9c1c_983d_11ed_bb48_f23b1644f743level1_row9\" class\u003d\"row_heading level1 row9\" \u003e0.5\u003c/th\u003e \n        \u003ctd id\u003d\"T_f73f9c1c_983d_11ed_bb48_f23b1644f743row9_col0\" class\u003d\"data row9 col0\" \u003e0.93\u003c/td\u003e \n        \u003ctd id\u003d\"T_f73f9c1c_983d_11ed_bb48_f23b1644f743row9_col1\" class\u003d\"data row9 col1\" \u003e$674\u003c/td\u003e \n        \u003ctd id\u003d\"T_f73f9c1c_983d_11ed_bb48_f23b1644f743row9_col2\" class\u003d\"data row9 col2\" \u003e$61\u003c/td\u003e \n        \u003ctd id\u003d\"T_f73f9c1c_983d_11ed_bb48_f23b1644f743row9_col3\" class\u003d\"data row9 col3\" \u003e$613\u003c/td\u003e \n        \u003ctd id\u003d\"T_f73f9c1c_983d_11ed_bb48_f23b1644f743row9_col4\" class\u003d\"data row9 col4\" \u003e38,500 FCFA\u003c/td\u003e \n    \u003c/tr\u003e    \u003ctr\u003e \n        \u003cth id\u003d\"T_f73f9c1c_983d_11ed_bb48_f23b1644f743level1_row10\" class\u003d\"row_heading level1 row10\" \u003e1.0\u003c/th\u003e \n        \u003ctd id\u003d\"T_f73f9c1c_983d_11ed_bb48_f23b1644f743row10_col0\" class\u003d\"data row10 col0\" \u003e1.86\u003c/td\u003e \n        \u003ctd id\u003d\"T_f73f9c1c_983d_11ed_bb48_f23b1644f743row10_col1\" class\u003d\"data row10 col1\" \u003e$1,348\u003c/td\u003e \n        \u003ctd id\u003d\"T_f73f9c1c_983d_11ed_bb48_f23b1644f743row10_col2\" class\u003d\"data row10 col2\" \u003e$115\u003c/td\u003e \n        \u003ctd id\u003d\"T_f73f9c1c_983d_11ed_bb48_f23b1644f743row10_col3\" class\u003d\"data row10 col3\" \u003e$1,233\u003c/td\u003e \n        \u003ctd id\u003d\"T_f73f9c1c_983d_11ed_bb48_f23b1644f743row10_col4\" class\u003d\"data row10 col4\" \u003e72,500 FCFA\u003c/td\u003e \n    \u003c/tr\u003e    \u003ctr\u003e \n        \u003cth id\u003d\"T_f73f9c1c_983d_11ed_bb48_f23b1644f743level0_row11\" class\u003d\"row_heading level0 row11\" rowspan\u003d4\u003epeanut (fodder only)\u003c/th\u003e \n        \u003cth id\u003d\"T_f73f9c1c_983d_11ed_bb48_f23b1644f743level1_row11\" class\u003d\"row_heading level1 row11\" \u003e0.125\u003c/th\u003e \n        \u003ctd id\u003d\"T_f73f9c1c_983d_11ed_bb48_f23b1644f743row11_col0\" class\u003d\"data row11 col0\" \u003enan\u003c/td\u003e \n        \u003ctd id\u003d\"T_f73f9c1c_983d_11ed_bb48_f23b1644f743row11_col1\" class\u003d\"data row11 col1\" \u003e$nan\u003c/td\u003e \n        \u003ctd id\u003d\"T_f73f9c1c_983d_11ed_bb48_f23b1644f743row11_col2\" class\u003d\"data row11 col2\" \u003e$nan\u003c/td\u003e \n        \u003ctd id\u003d\"T_f73f9c1c_983d_11ed_bb48_f23b1644f743row11_col3\" class\u003d\"data row11 col3\" \u003e$131\u003c/td\u003e \n        \u003ctd id\u003d\"T_f73f9c1c_983d_11ed_bb48_f23b1644f743row11_col4\" class\u003d\"data row11 col4\" \u003enan FCFA\u003c/td\u003e \n    \u003c/tr\u003e    \u003ctr\u003e \n        \u003cth id\u003d\"T_f73f9c1c_983d_11ed_bb48_f23b1644f743level1_row12\" class\u003d\"row_heading level1 row12\" \u003e0.25\u003c/th\u003e \n        \u003ctd id\u003d\"T_f73f9c1c_983d_11ed_bb48_f23b1644f743row12_col0\" class\u003d\"data row12 col0\" \u003enan\u003c/td\u003e \n        \u003ctd id\u003d\"T_f73f9c1c_983d_11ed_bb48_f23b1644f743row12_col1\" class\u003d\"data row12 col1\" \u003e$nan\u003c/td\u003e \n        \u003ctd id\u003d\"T_f73f9c1c_983d_11ed_bb48_f23b1644f743row12_col2\" class\u003d\"data row12 col2\" \u003e$nan\u003c/td\u003e \n        \u003ctd id\u003d\"T_f73f9c1c_983d_11ed_bb48_f23b1644f743row12_col3\" class\u003d\"data row12 col3\" \u003e$261\u003c/td\u003e \n        \u003ctd id\u003d\"T_f73f9c1c_983d_11ed_bb48_f23b1644f743row12_col4\" class\u003d\"data row12 col4\" \u003enan FCFA\u003c/td\u003e \n    \u003c/tr\u003e    \u003ctr\u003e \n        \u003cth id\u003d\"T_f73f9c1c_983d_11ed_bb48_f23b1644f743level1_row13\" class\u003d\"row_heading level1 row13\" \u003e0.5\u003c/th\u003e \n        \u003ctd id\u003d\"T_f73f9c1c_983d_11ed_bb48_f23b1644f743row13_col0\" class\u003d\"data row13 col0\" \u003enan\u003c/td\u003e \n        \u003ctd id\u003d\"T_f73f9c1c_983d_11ed_bb48_f23b1644f743row13_col1\" class\u003d\"data row13 col1\" \u003e$nan\u003c/td\u003e \n        \u003ctd id\u003d\"T_f73f9c1c_983d_11ed_bb48_f23b1644f743row13_col2\" class\u003d\"data row13 col2\" \u003e$nan\u003c/td\u003e \n        \u003ctd id\u003d\"T_f73f9c1c_983d_11ed_bb48_f23b1644f743row13_col3\" class\u003d\"data row13 col3\" \u003e$523\u003c/td\u003e \n        \u003ctd id\u003d\"T_f73f9c1c_983d_11ed_bb48_f23b1644f743row13_col4\" class\u003d\"data row13 col4\" \u003enan FCFA\u003c/td\u003e \n    \u003c/tr\u003e    \u003ctr\u003e \n        \u003cth id\u003d\"T_f73f9c1c_983d_11ed_bb48_f23b1644f743level1_row14\" class\u003d\"row_heading level1 row14\" \u003e1.0\u003c/th\u003e \n        \u003ctd id\u003d\"T_f73f9c1c_983d_11ed_bb48_f23b1644f743row14_col0\" class\u003d\"data row14 col0\" \u003enan\u003c/td\u003e \n        \u003ctd id\u003d\"T_f73f9c1c_983d_11ed_bb48_f23b1644f743row14_col1\" class\u003d\"data row14 col1\" \u003e$nan\u003c/td\u003e \n        \u003ctd id\u003d\"T_f73f9c1c_983d_11ed_bb48_f23b1644f743row14_col2\" class\u003d\"data row14 col2\" \u003e$nan\u003c/td\u003e \n        \u003ctd id\u003d\"T_f73f9c1c_983d_11ed_bb48_f23b1644f743row14_col3\" class\u003d\"data row14 col3\" \u003e$1,046\u003c/td\u003e \n        \u003ctd id\u003d\"T_f73f9c1c_983d_11ed_bb48_f23b1644f743row14_col4\" class\u003d\"data row14 col4\" \u003enan FCFA\u003c/td\u003e \n    \u003c/tr\u003e    \u003ctr\u003e \n        \u003cth id\u003d\"T_f73f9c1c_983d_11ed_bb48_f23b1644f743level0_row15\" class\u003d\"row_heading level0 row15\" rowspan\u003d4\u003epeanut (w/ fodder)\u003c/th\u003e \n        \u003cth id\u003d\"T_f73f9c1c_983d_11ed_bb48_f23b1644f743level1_row15\" class\u003d\"row_heading level1 row15\" \u003e0.125\u003c/th\u003e \n        \u003ctd id\u003d\"T_f73f9c1c_983d_11ed_bb48_f23b1644f743row15_col0\" class\u003d\"data row15 col0\" \u003enan\u003c/td\u003e \n        \u003ctd id\u003d\"T_f73f9c1c_983d_11ed_bb48_f23b1644f743row15_col1\" class\u003d\"data row15 col1\" \u003e$nan\u003c/td\u003e \n        \u003ctd id\u003d\"T_f73f9c1c_983d_11ed_bb48_f23b1644f743row15_col2\" class\u003d\"data row15 col2\" \u003e$nan\u003c/td\u003e \n        \u003ctd id\u003d\"T_f73f9c1c_983d_11ed_bb48_f23b1644f743row15_col3\" class\u003d\"data row15 col3\" \u003e$284\u003c/td\u003e \n        \u003ctd id\u003d\"T_f73f9c1c_983d_11ed_bb48_f23b1644f743row15_col4\" class\u003d\"data row15 col4\" \u003enan FCFA\u003c/td\u003e \n    \u003c/tr\u003e    \u003ctr\u003e \n        \u003cth id\u003d\"T_f73f9c1c_983d_11ed_bb48_f23b1644f743level1_row16\" class\u003d\"row_heading level1 row16\" \u003e0.25\u003c/th\u003e \n        \u003ctd id\u003d\"T_f73f9c1c_983d_11ed_bb48_f23b1644f743row16_col0\" class\u003d\"data row16 col0\" \u003enan\u003c/td\u003e \n        \u003ctd id\u003d\"T_f73f9c1c_983d_11ed_bb48_f23b1644f743row16_col1\" class\u003d\"data row16 col1\" \u003e$nan\u003c/td\u003e \n        \u003ctd id\u003d\"T_f73f9c1c_983d_11ed_bb48_f23b1644f743row16_col2\" class\u003d\"data row16 col2\" \u003e$nan\u003c/td\u003e \n        \u003ctd id\u003d\"T_f73f9c1c_983d_11ed_bb48_f23b1644f743row16_col3\" class\u003d\"data row16 col3\" \u003e$564\u003c/td\u003e \n        \u003ctd id\u003d\"T_f73f9c1c_983d_11ed_bb48_f23b1644f743row16_col4\" class\u003d\"data row16 col4\" \u003enan FCFA\u003c/td\u003e \n    \u003c/tr\u003e    \u003ctr\u003e \n        \u003cth id\u003d\"T_f73f9c1c_983d_11ed_bb48_f23b1644f743level1_row17\" class\u003d\"row_heading level1 row17\" \u003e0.5\u003c/th\u003e \n        \u003ctd id\u003d\"T_f73f9c1c_983d_11ed_bb48_f23b1644f743row17_col0\" class\u003d\"data row17 col0\" \u003enan\u003c/td\u003e \n        \u003ctd id\u003d\"T_f73f9c1c_983d_11ed_bb48_f23b1644f743row17_col1\" class\u003d\"data row17 col1\" \u003e$nan\u003c/td\u003e \n        \u003ctd id\u003d\"T_f73f9c1c_983d_11ed_bb48_f23b1644f743row17_col2\" class\u003d\"data row17 col2\" \u003e$nan\u003c/td\u003e \n        \u003ctd id\u003d\"T_f73f9c1c_983d_11ed_bb48_f23b1644f743row17_col3\" class\u003d\"data row17 col3\" \u003e$1,136\u003c/td\u003e \n        \u003ctd id\u003d\"T_f73f9c1c_983d_11ed_bb48_f23b1644f743row17_col4\" class\u003d\"data row17 col4\" \u003enan FCFA\u003c/td\u003e \n    \u003c/tr\u003e    \u003ctr\u003e \n        \u003cth id\u003d\"T_f73f9c1c_983d_11ed_bb48_f23b1644f743level1_row18\" class\u003d\"row_heading level1 row18\" \u003e1.0\u003c/th\u003e \n        \u003ctd id\u003d\"T_f73f9c1c_983d_11ed_bb48_f23b1644f743row18_col0\" class\u003d\"data row18 col0\" \u003enan\u003c/td\u003e \n        \u003ctd id\u003d\"T_f73f9c1c_983d_11ed_bb48_f23b1644f743row18_col1\" class\u003d\"data row18 col1\" \u003e$nan\u003c/td\u003e \n        \u003ctd id\u003d\"T_f73f9c1c_983d_11ed_bb48_f23b1644f743row18_col2\" class\u003d\"data row18 col2\" \u003e$nan\u003c/td\u003e \n        \u003ctd id\u003d\"T_f73f9c1c_983d_11ed_bb48_f23b1644f743row18_col3\" class\u003d\"data row18 col3\" \u003e$2,279\u003c/td\u003e \n        \u003ctd id\u003d\"T_f73f9c1c_983d_11ed_bb48_f23b1644f743row18_col4\" class\u003d\"data row18 col4\" \u003enan FCFA\u003c/td\u003e \n    \u003c/tr\u003e    \u003ctr\u003e \n        \u003cth id\u003d\"T_f73f9c1c_983d_11ed_bb48_f23b1644f743level0_row19\" class\u003d\"row_heading level0 row19\" rowspan\u003d2\u003erice\u003c/th\u003e \n        \u003cth id\u003d\"T_f73f9c1c_983d_11ed_bb48_f23b1644f743level1_row19\" class\u003d\"row_heading level1 row19\" \u003e0.05\u003c/th\u003e \n        \u003ctd id\u003d\"T_f73f9c1c_983d_11ed_bb48_f23b1644f743row19_col0\" class\u003d\"data row19 col0\" \u003e0.12\u003c/td\u003e \n        \u003ctd id\u003d\"T_f73f9c1c_983d_11ed_bb48_f23b1644f743row19_col1\" class\u003d\"data row19 col1\" \u003e$72\u003c/td\u003e \n        \u003ctd id\u003d\"T_f73f9c1c_983d_11ed_bb48_f23b1644f743row19_col2\" class\u003d\"data row19 col2\" \u003e$32\u003c/td\u003e \n        \u003ctd id\u003d\"T_f73f9c1c_983d_11ed_bb48_f23b1644f743row19_col3\" class\u003d\"data row19 col3\" \u003e$40\u003c/td\u003e \n        \u003ctd id\u003d\"T_f73f9c1c_983d_11ed_bb48_f23b1644f743row19_col4\" class\u003d\"data row19 col4\" \u003e20,500 FCFA\u003c/td\u003e \n    \u003c/tr\u003e    \u003ctr\u003e \n        \u003cth id\u003d\"T_f73f9c1c_983d_11ed_bb48_f23b1644f743level1_row20\" class\u003d\"row_heading level1 row20\" \u003e0.1\u003c/th\u003e \n        \u003ctd id\u003d\"T_f73f9c1c_983d_11ed_bb48_f23b1644f743row20_col0\" class\u003d\"data row20 col0\" \u003e0.24\u003c/td\u003e \n        \u003ctd id\u003d\"T_f73f9c1c_983d_11ed_bb48_f23b1644f743row20_col1\" class\u003d\"data row20 col1\" \u003e$144\u003c/td\u003e \n        \u003ctd id\u003d\"T_f73f9c1c_983d_11ed_bb48_f23b1644f743row20_col2\" class\u003d\"data row20 col2\" \u003e$60\u003c/td\u003e \n        \u003ctd id\u003d\"T_f73f9c1c_983d_11ed_bb48_f23b1644f743row20_col3\" class\u003d\"data row20 col3\" \u003e$84\u003c/td\u003e \n        \u003ctd id\u003d\"T_f73f9c1c_983d_11ed_bb48_f23b1644f743row20_col4\" class\u003d\"data row20 col4\" \u003e38,000 FCFA\u003c/td\u003e \n    \u003c/tr\u003e\u003c/tbody\u003e \n\u003c/table\u003e "
          },
          "metadata": {}
        }
      ]
    },
    {
      "cell_type": "markdown",
      "metadata": {},
      "source": [
        "##### 2.a.3. Calculate Control Cereal Net Profit Per Package"
      ]
    },
    {
      "execution_count": 632,
      "cell_type": "code",
      "metadata": {},
      "source": [
        "control_net_profit \u003d package_price_by_product_hectarage_cereals_1[[\u0027size_hectares\u0027]]"
      ],
      "outputs": []
    },
    {
      "execution_count": 633,
      "cell_type": "code",
      "metadata": {},
      "source": [
        "avg_yield_control1 \u003d package_price_by_product_hectarage_cereals_1.loc[(\"Mali\", \"maize\")]\\\n                                                                 .assign(average_yield_t_package_size_ha \u003d yield_ml_maize_control)\navg_yield_control2 \u003d package_price_by_product_hectarage_cereals_1.loc[(\"Mali\", \"peanut\")]\\\n                                                                 .assign(average_yield_t_package_size_ha \u003d yield_ml_peanut_control)\navg_yield_control3 \u003d package_price_by_product_hectarage_cereals_1.loc[(\"Mali\", \"rice\")]\\\n                                                                 .assign(average_yield_t_package_size_ha \u003d yield_ml_rice_control)\navg_yield_control4 \u003d package_price_by_product_hectarage_cereals_1.loc[(\"Mali\", \"sorghum\")]\\\n                                                                 .assign(average_yield_t_package_size_ha \u003d yield_ml_sorghum_control)\navg_yield_control5 \u003d package_price_by_product_hectarage_cereals_1.loc[(\"Senegal\", \"maize\")]\\\n                                                                 .assign(average_yield_t_package_size_ha \u003d yield_sn_maize_control)\navg_yield_control6 \u003d package_price_by_product_hectarage_cereals_1.loc[(\"Senegal\", \"peanut\")]\\\n                                                                 .assign(average_yield_t_package_size_ha \u003d yield_sn_peanut_control)\navg_yield_control7 \u003d package_price_by_product_hectarage_cereals_1.loc[(\"Senegal\", \"rice\")]\\\n                                                                 .assign(average_yield_t_package_size_ha \u003d yield_sn_rice_control)\navg_yield_control8 \u003d package_price_by_product_hectarage_cereals_1.loc[(\"Senegal\", \"millet\")]\\\n                                                                 .assign(average_yield_t_package_size_ha \u003d yield_sn_millet_control)\n\ncontrol_net_profit \u003d avg_yield_control1.append([avg_yield_control2, avg_yield_control3, avg_yield_control4, avg_yield_control5,\n                                                avg_yield_control6, avg_yield_control7, avg_yield_control8])"
      ],
      "outputs": []
    },
    {
      "execution_count": 634,
      "cell_type": "code",
      "metadata": {},
      "source": [
        "control_net_profit[\u0027average_yield_t_package_size_ha\u0027] \u003d control_net_profit[\u0027average_yield_t_package_size_ha\u0027] * package_price_by_product_hectarage_cereals[\u0027size_hectares\u0027]"
      ],
      "outputs": []
    },
    {
      "execution_count": 635,
      "cell_type": "code",
      "metadata": {},
      "source": [
        "control_net_profit \u003d control_net_profit.sort_index()"
      ],
      "outputs": []
    },
    {
      "execution_count": 636,
      "cell_type": "code",
      "metadata": {},
      "source": [
        "mkt_price_control1 \u003d control_net_profit.loc[(\"Mali\", \"maize\")].assign(gross_value_of_yield_usd \u003d maize_usd_t_ml)\nmkt_price_control2 \u003d control_net_profit.loc[(\"Mali\", \"peanut\")].assign(gross_value_of_yield_usd \u003d peanuts_unshelled_usd_t_ml)\nmkt_price_control3 \u003d control_net_profit.loc[(\"Mali\", \"rice\")].assign(gross_value_of_yield_usd \u003d rice_usd_t_ml)\nmkt_price_control4 \u003d control_net_profit.loc[(\"Mali\", \"sorghum\")].assign(gross_value_of_yield_usd \u003d sorghum_usd_t_ml)\nmkt_price_control5 \u003d control_net_profit.loc[(\"Senegal\", \"maize\")].assign(gross_value_of_yield_usd \u003d maize_usd_t_sn)\nmkt_price_control6 \u003d control_net_profit.loc[(\"Senegal\", \"peanut\")].assign(gross_value_of_yield_usd \u003d peanuts_unshelled_usd_t_sn)\nmkt_price_control7 \u003d control_net_profit.loc[(\"Senegal\", \"rice\")].assign(gross_value_of_yield_usd \u003d rice_usd_t_sn)\nmkt_price_control8 \u003d control_net_profit.loc[(\"Senegal\", \"millet\")].assign(gross_value_of_yield_usd \u003d millet_usd_t_sn)\n\ncontrol_net_profit \u003d mkt_price_control1.append([mkt_price_control2, mkt_price_control3, mkt_price_control4, mkt_price_control5,\n                                                mkt_price_control6, mkt_price_control7, mkt_price_control8])"
      ],
      "outputs": []
    },
    {
      "execution_count": 637,
      "cell_type": "code",
      "metadata": {},
      "source": [
        "control_net_profit[\u0027gross_value_of_yield_usd\u0027] \u003d control_net_profit[\u0027average_yield_t_package_size_ha\u0027] * control_net_profit[\u0027gross_value_of_yield_usd\u0027]"
      ],
      "outputs": []
    },
    {
      "execution_count": 638,
      "cell_type": "code",
      "metadata": {},
      "source": [
        "control_net_profit \u003d control_net_profit.sort_index()"
      ],
      "outputs": []
    },
    {
      "execution_count": 639,
      "cell_type": "code",
      "metadata": {},
      "source": [
        "control_expenses1 \u003d control_net_profit.loc[(\"Mali\", \"maize\")].assign(input_costs_usd \u003d control_expense_ml_maize)\ncontrol_expenses2 \u003d control_net_profit.loc[(\"Mali\", \"peanut\")].assign(input_costs_usd \u003d control_expense_ml_peanut)\ncontrol_expenses3 \u003d control_net_profit.loc[(\"Mali\", \"rice\")].assign(input_costs_usd \u003d control_expense_ml_rice)\ncontrol_expenses4 \u003d control_net_profit.loc[(\"Mali\", \"sorghum\")].assign(input_costs_usd \u003d control_expense_ml_sorghum)\ncontrol_expenses5 \u003d control_net_profit.loc[(\"Senegal\", \"maize\")].assign(input_costs_usd \u003d control_expense_sn_maize)\ncontrol_expenses6 \u003d control_net_profit.loc[(\"Senegal\", \"peanut\")].assign(input_costs_usd \u003d control_expense_sn_peanut)\ncontrol_expenses7 \u003d control_net_profit.loc[(\"Senegal\", \"rice\")].assign(input_costs_usd \u003d control_expense_sn_rice)\ncontrol_expenses8 \u003d control_net_profit.loc[(\"Senegal\", \"millet\")].assign(input_costs_usd \u003d control_expense_sn_millet)\n\ncontrol_net_profit \u003d control_expenses1.append([control_expenses2, control_expenses3, control_expenses4, control_expenses5,\n                                               control_expenses6, control_expenses7, control_expenses8])"
      ],
      "outputs": []
    },
    {
      "execution_count": 640,
      "cell_type": "code",
      "metadata": {},
      "source": [
        "# If a control expense is zero in the original data, it is stored as a null value in the variable created for it\n# Therefore we must replace null values with zeros after the variables are added to the control net profit dataframe so that\n# input costs and net profit is correctly calculated\n\ncontrol_net_profit \u003d control_net_profit.fillna(0)"
      ],
      "outputs": []
    },
    {
      "execution_count": 641,
      "cell_type": "code",
      "metadata": {},
      "source": [
        "control_net_profit[\u0027input_costs_usd\u0027] \u003d (control_net_profit[\u0027input_costs_usd\u0027] * control_net_profit[\u0027size_hectares\u0027]) / ex_rate_cfa_to_usd"
      ],
      "outputs": []
    },
    {
      "execution_count": 642,
      "cell_type": "code",
      "metadata": {},
      "source": [
        "control_net_profit[\u0027net_profit_usd\u0027] \u003d control_net_profit[\u0027gross_value_of_yield_usd\u0027] - control_net_profit[\u0027input_costs_usd\u0027]"
      ],
      "outputs": []
    },
    {
      "execution_count": 643,
      "cell_type": "code",
      "metadata": {},
      "source": [
        "net_profit_ml_control \u003d control_net_profit.loc[\"Mali\"]\\\n                                          .rename(columns \u003d {\u0027size_hectares\u0027: \u0027Package Size (Hectares)\u0027})\\\n                                          .set_index([\u0027Package Size (Hectares)\u0027], append\u003dTrue)\nnet_profit_sn_control \u003d control_net_profit.loc[\"Senegal\"]\\\n                                          .rename(columns \u003d {\u0027size_hectares\u0027: \u0027Package Size (Hectares)\u0027})\\\n                                          .set_index([\u0027Package Size (Hectares)\u0027], append\u003dTrue)"
      ],
      "outputs": []
    },
    {
      "cell_type": "markdown",
      "metadata": {},
      "source": [
        "##### 2.a.4. Calculate Control Peanut Fodder Net Profit Per Package (Senegal)"
      ]
    },
    {
      "execution_count": 644,
      "cell_type": "code",
      "metadata": {},
      "source": [
        "net_profit_sn_control_fodder \u003d net_profit_sn_control.loc[\u0027peanut\u0027].reset_index()"
      ],
      "outputs": []
    },
    {
      "execution_count": 645,
      "cell_type": "code",
      "metadata": {},
      "source": [
        "net_profit_sn_control_fodder[\u0027product\u0027] \u003d \u0027peanut (fodder only)\u0027\nnet_profit_sn_control_fodder[\u0027net_profit_usd_ha\u0027] \u003d peanut_fodder_net_profit_control\nnet_profit_sn_control_fodder[\u0027net_profit_usd\u0027] \u003d net_profit_sn_control_fodder[\u0027net_profit_usd_ha\u0027] * net_profit_sn_control_fodder[\u0027Package Size (Hectares)\u0027]"
      ],
      "outputs": []
    },
    {
      "execution_count": 646,
      "cell_type": "code",
      "metadata": {},
      "source": [
        "net_profit_sn_control_fodder \u003d net_profit_sn_control_fodder.set_index([\u0027product\u0027, \u0027Package Size (Hectares)\u0027])\nnet_profit_sn_control_fodder \u003d net_profit_sn_control_fodder[[\u0027net_profit_usd\u0027]]"
      ],
      "outputs": []
    },
    {
      "execution_count": 647,
      "cell_type": "code",
      "metadata": {},
      "source": [
        "net_profit_sn_control \u003d net_profit_sn_control.append(net_profit_sn_control_fodder, sort \u003d True)"
      ],
      "outputs": []
    },
    {
      "execution_count": 648,
      "cell_type": "code",
      "metadata": {},
      "source": [
        "net_profit_sn_control_peanut_fodder \u003d net_profit_sn_control.loc[[\u0027peanut\u0027, \u0027peanut (fodder only)\u0027]]\nnet_profit_sn_control_peanut_fodder \u003d net_profit_sn_control_peanut_fodder[[\u0027net_profit_usd\u0027]]"
      ],
      "outputs": []
    },
    {
      "execution_count": 649,
      "cell_type": "code",
      "metadata": {},
      "source": [
        "net_profit_sn_control_peanut_fodder_pivoted \u003d net_profit_sn_control_peanut_fodder.reset_index()\\\n                                                                                 .pivot(index\u003d\u0027Package Size (Hectares)\u0027,\n                                                                                        columns\u003d\u0027product\u0027,\n                                                                                        values\u003d\u0027net_profit_usd\u0027)"
      ],
      "outputs": []
    },
    {
      "execution_count": 650,
      "cell_type": "code",
      "metadata": {},
      "source": [
        "net_profit_sn_control_peanut_fodder_pivoted[\u0027peanut (w/ fodder)\u0027] \u003d net_profit_sn_control_peanut_fodder_pivoted[\u0027peanut\u0027] + net_profit_sn_control_peanut_fodder_pivoted[\u0027peanut (fodder only)\u0027]"
      ],
      "outputs": []
    },
    {
      "execution_count": 651,
      "cell_type": "code",
      "metadata": {},
      "source": [
        "net_profit_sn_control_peanut_fodder_only \u003d net_profit_sn_control_peanut_fodder_pivoted[[\u0027peanut (w/ fodder)\u0027]].reset_index()\nnet_profit_sn_control_peanut_fodder_only \u003d net_profit_sn_control_peanut_fodder_only.rename(columns\u003d{\u0027peanut (w/ fodder)\u0027: \u0027net_profit_usd\u0027})\nnet_profit_sn_control_peanut_fodder_only[\u0027product\u0027] \u003d \u0027peanut (w/ fodder)\u0027\nnet_profit_sn_control_peanut_fodder_only \u003d net_profit_sn_control_peanut_fodder_only.set_index([\u0027product\u0027, \u0027Package Size (Hectares)\u0027])\nnet_profit_sn_control_peanut_fodder_only.columns.name \u003d None"
      ],
      "outputs": []
    },
    {
      "execution_count": 652,
      "cell_type": "code",
      "metadata": {},
      "source": [
        "net_profit_sn_control \u003d net_profit_sn_control.append(net_profit_sn_control_peanut_fodder_only, sort \u003d True)\nnet_profit_sn_control \u003d net_profit_sn_control.sort_index()"
      ],
      "outputs": []
    },
    {
      "cell_type": "markdown",
      "metadata": {},
      "source": [
        "**Mali Summary Table**"
      ]
    },
    {
      "execution_count": 653,
      "cell_type": "code",
      "metadata": {},
      "source": [
        "net_profit_ml_control.loc[pd.IndexSlice[:, [1, 0.05]], :]\\\n                     .rename_axis([\u0027Product\u0027, \u0027Package Size (Hectares)\u0027])\\\n                     .rename(columns \u003d {\"price_cfa_avg\" : \"Price\",\n                                        \"average_yield_t_package_size_ha\" : \"Average Yield (T/Package Hectarage)\",\n                                        \"gross_value_of_yield_usd\" : \"Gross Value\",\n                                        \"input_costs_usd\" : \"Input Cost\",\n                                        \"net_profit_usd\" : \"Net Profit\"})\\\n                     .style\\\n                     .format({\"Price\": lambda val: f\"{val:,.0f} FCFA\",\n                              \"Average Yield (T/Package Hectarage)\": lambda val: f\"{val:.2f}\",\n                              \"Gross Value\": lambda val: f\"${val:,.0f}\",\n                              \"Input Cost\": lambda val: f\"${val:,.0f}\",\n                              \"Net Profit\": lambda val: f\"${val:,.0f}\"})\\\n                     .set_caption(\u0027Control Cereal Net Profit Per Package\u0027)"
      ],
      "outputs": [
        {
          "output_type": "execute_result",
          "execution_count": 653,
          "data": {
            "text/plain": "\u003cpandas.io.formats.style.Styler at 0x7fba112ccb70\u003e",
            "text/html": "\u003cstyle  type\u003d\"text/css\" \u003e\n\u003c/style\u003e  \n\u003ctable id\u003d\"T_f75d73e0_983d_11ed_bb48_f23b1644f743\" \u003e\u003ccaption\u003eControl Cereal Net Profit Per Package\u003c/caption\u003e \n\u003cthead\u003e    \u003ctr\u003e \n        \u003cth class\u003d\"blank\" \u003e\u003c/th\u003e \n        \u003cth class\u003d\"blank level0\" \u003e\u003c/th\u003e \n        \u003cth class\u003d\"col_heading level0 col0\" \u003ePrice\u003c/th\u003e \n        \u003cth class\u003d\"col_heading level0 col1\" \u003eAverage Yield (T/Package Hectarage)\u003c/th\u003e \n        \u003cth class\u003d\"col_heading level0 col2\" \u003eGross Value\u003c/th\u003e \n        \u003cth class\u003d\"col_heading level0 col3\" \u003eInput Cost\u003c/th\u003e \n        \u003cth class\u003d\"col_heading level0 col4\" \u003eNet Profit\u003c/th\u003e \n    \u003c/tr\u003e    \u003ctr\u003e \n        \u003cth class\u003d\"index_name level0\" \u003eProduct\u003c/th\u003e \n        \u003cth class\u003d\"index_name level1\" \u003ePackage Size (Hectares)\u003c/th\u003e \n        \u003cth class\u003d\"blank\" \u003e\u003c/th\u003e \n        \u003cth class\u003d\"blank\" \u003e\u003c/th\u003e \n        \u003cth class\u003d\"blank\" \u003e\u003c/th\u003e \n        \u003cth class\u003d\"blank\" \u003e\u003c/th\u003e \n        \u003cth class\u003d\"blank\" \u003e\u003c/th\u003e \n    \u003c/tr\u003e\u003c/thead\u003e \n\u003ctbody\u003e    \u003ctr\u003e \n        \u003cth id\u003d\"T_f75d73e0_983d_11ed_bb48_f23b1644f743level0_row0\" class\u003d\"row_heading level0 row0\" \u003emaize\u003c/th\u003e \n        \u003cth id\u003d\"T_f75d73e0_983d_11ed_bb48_f23b1644f743level1_row0\" class\u003d\"row_heading level1 row0\" \u003e1.0\u003c/th\u003e \n        \u003ctd id\u003d\"T_f75d73e0_983d_11ed_bb48_f23b1644f743row0_col0\" class\u003d\"data row0 col0\" \u003e277,500 FCFA\u003c/td\u003e \n        \u003ctd id\u003d\"T_f75d73e0_983d_11ed_bb48_f23b1644f743row0_col1\" class\u003d\"data row0 col1\" \u003e1.48\u003c/td\u003e \n        \u003ctd id\u003d\"T_f75d73e0_983d_11ed_bb48_f23b1644f743row0_col2\" class\u003d\"data row0 col2\" \u003e$727\u003c/td\u003e \n        \u003ctd id\u003d\"T_f75d73e0_983d_11ed_bb48_f23b1644f743row0_col3\" class\u003d\"data row0 col3\" \u003e$66\u003c/td\u003e \n        \u003ctd id\u003d\"T_f75d73e0_983d_11ed_bb48_f23b1644f743row0_col4\" class\u003d\"data row0 col4\" \u003e$661\u003c/td\u003e \n    \u003c/tr\u003e    \u003ctr\u003e \n        \u003cth id\u003d\"T_f75d73e0_983d_11ed_bb48_f23b1644f743level0_row1\" class\u003d\"row_heading level0 row1\" \u003epeanut\u003c/th\u003e \n        \u003cth id\u003d\"T_f75d73e0_983d_11ed_bb48_f23b1644f743level1_row1\" class\u003d\"row_heading level1 row1\" \u003e1.0\u003c/th\u003e \n        \u003ctd id\u003d\"T_f75d73e0_983d_11ed_bb48_f23b1644f743row1_col0\" class\u003d\"data row1 col0\" \u003e102,500 FCFA\u003c/td\u003e \n        \u003ctd id\u003d\"T_f75d73e0_983d_11ed_bb48_f23b1644f743row1_col1\" class\u003d\"data row1 col1\" \u003e0.60\u003c/td\u003e \n        \u003ctd id\u003d\"T_f75d73e0_983d_11ed_bb48_f23b1644f743row1_col2\" class\u003d\"data row1 col2\" \u003e$374\u003c/td\u003e \n        \u003ctd id\u003d\"T_f75d73e0_983d_11ed_bb48_f23b1644f743row1_col3\" class\u003d\"data row1 col3\" \u003e$5\u003c/td\u003e \n        \u003ctd id\u003d\"T_f75d73e0_983d_11ed_bb48_f23b1644f743row1_col4\" class\u003d\"data row1 col4\" \u003e$369\u003c/td\u003e \n    \u003c/tr\u003e    \u003ctr\u003e \n        \u003cth id\u003d\"T_f75d73e0_983d_11ed_bb48_f23b1644f743level0_row2\" class\u003d\"row_heading level0 row2\" \u003erice\u003c/th\u003e \n        \u003cth id\u003d\"T_f75d73e0_983d_11ed_bb48_f23b1644f743level1_row2\" class\u003d\"row_heading level1 row2\" \u003e0.05\u003c/th\u003e \n        \u003ctd id\u003d\"T_f75d73e0_983d_11ed_bb48_f23b1644f743row2_col0\" class\u003d\"data row2 col0\" \u003e24,000 FCFA\u003c/td\u003e \n        \u003ctd id\u003d\"T_f75d73e0_983d_11ed_bb48_f23b1644f743row2_col1\" class\u003d\"data row2 col1\" \u003e0.04\u003c/td\u003e \n        \u003ctd id\u003d\"T_f75d73e0_983d_11ed_bb48_f23b1644f743row2_col2\" class\u003d\"data row2 col2\" \u003e$30\u003c/td\u003e \n        \u003ctd id\u003d\"T_f75d73e0_983d_11ed_bb48_f23b1644f743row2_col3\" class\u003d\"data row2 col3\" \u003e$2\u003c/td\u003e \n        \u003ctd id\u003d\"T_f75d73e0_983d_11ed_bb48_f23b1644f743row2_col4\" class\u003d\"data row2 col4\" \u003e$28\u003c/td\u003e \n    \u003c/tr\u003e    \u003ctr\u003e \n        \u003cth id\u003d\"T_f75d73e0_983d_11ed_bb48_f23b1644f743level0_row3\" class\u003d\"row_heading level0 row3\" \u003esorghum\u003c/th\u003e \n        \u003cth id\u003d\"T_f75d73e0_983d_11ed_bb48_f23b1644f743level1_row3\" class\u003d\"row_heading level1 row3\" \u003e1.0\u003c/th\u003e \n        \u003ctd id\u003d\"T_f75d73e0_983d_11ed_bb48_f23b1644f743row3_col0\" class\u003d\"data row3 col0\" \u003e107,500 FCFA\u003c/td\u003e \n        \u003ctd id\u003d\"T_f75d73e0_983d_11ed_bb48_f23b1644f743row3_col1\" class\u003d\"data row3 col1\" \u003e0.45\u003c/td\u003e \n        \u003ctd id\u003d\"T_f75d73e0_983d_11ed_bb48_f23b1644f743row3_col2\" class\u003d\"data row3 col2\" \u003e$242\u003c/td\u003e \n        \u003ctd id\u003d\"T_f75d73e0_983d_11ed_bb48_f23b1644f743row3_col3\" class\u003d\"data row3 col3\" \u003e$5\u003c/td\u003e \n        \u003ctd id\u003d\"T_f75d73e0_983d_11ed_bb48_f23b1644f743row3_col4\" class\u003d\"data row3 col4\" \u003e$237\u003c/td\u003e \n    \u003c/tr\u003e\u003c/tbody\u003e \n\u003c/table\u003e "
          },
          "metadata": {}
        }
      ]
    },
    {
      "cell_type": "markdown",
      "metadata": {},
      "source": [
        "**Mali Full Table**"
      ]
    },
    {
      "execution_count": 654,
      "cell_type": "code",
      "metadata": {},
      "source": [
        "net_profit_ml_control.rename_axis([\u0027Product\u0027, \u0027Package Size (Hectares)\u0027])\\\n                     .rename(columns \u003d {\"price_cfa_avg\" : \"Price\",\n                                        \"average_yield_t_package_size_ha\" : \"Average Yield (T/Package Hectarage)\",\n                                        \"gross_value_of_yield_usd\" : \"Gross Value\",\n                                        \"input_costs_usd\" : \"Input Cost\",\n                                        \"net_profit_usd\" : \"Net Profit\"})\\\n                     .style\\\n                     .format({\"Price\": lambda val: f\"{val:,.0f} FCFA\",\n                              \"Average Yield (T/Package Hectarage)\": lambda val: f\"{val:.2f}\",\n                              \"Gross Value\": lambda val: f\"${val:,.0f}\",\n                              \"Input Cost\": lambda val: f\"${val:,.0f}\",\n                              \"Net Profit\": lambda val: f\"${val:,.0f}\"})\\\n                     .set_caption(\u0027Control Cereal Net Profit Per Package\u0027)"
      ],
      "outputs": [
        {
          "output_type": "execute_result",
          "execution_count": 654,
          "data": {
            "text/plain": "\u003cpandas.io.formats.style.Styler at 0x7fba1198b748\u003e",
            "text/html": "\u003cstyle  type\u003d\"text/css\" \u003e\n\u003c/style\u003e  \n\u003ctable id\u003d\"T_f75f3568_983d_11ed_bb48_f23b1644f743\" \u003e\u003ccaption\u003eControl Cereal Net Profit Per Package\u003c/caption\u003e \n\u003cthead\u003e    \u003ctr\u003e \n        \u003cth class\u003d\"blank\" \u003e\u003c/th\u003e \n        \u003cth class\u003d\"blank level0\" \u003e\u003c/th\u003e \n        \u003cth class\u003d\"col_heading level0 col0\" \u003ePrice\u003c/th\u003e \n        \u003cth class\u003d\"col_heading level0 col1\" \u003eAverage Yield (T/Package Hectarage)\u003c/th\u003e \n        \u003cth class\u003d\"col_heading level0 col2\" \u003eGross Value\u003c/th\u003e \n        \u003cth class\u003d\"col_heading level0 col3\" \u003eInput Cost\u003c/th\u003e \n        \u003cth class\u003d\"col_heading level0 col4\" \u003eNet Profit\u003c/th\u003e \n    \u003c/tr\u003e    \u003ctr\u003e \n        \u003cth class\u003d\"index_name level0\" \u003eProduct\u003c/th\u003e \n        \u003cth class\u003d\"index_name level1\" \u003ePackage Size (Hectares)\u003c/th\u003e \n        \u003cth class\u003d\"blank\" \u003e\u003c/th\u003e \n        \u003cth class\u003d\"blank\" \u003e\u003c/th\u003e \n        \u003cth class\u003d\"blank\" \u003e\u003c/th\u003e \n        \u003cth class\u003d\"blank\" \u003e\u003c/th\u003e \n        \u003cth class\u003d\"blank\" \u003e\u003c/th\u003e \n    \u003c/tr\u003e\u003c/thead\u003e \n\u003ctbody\u003e    \u003ctr\u003e \n        \u003cth id\u003d\"T_f75f3568_983d_11ed_bb48_f23b1644f743level0_row0\" class\u003d\"row_heading level0 row0\" rowspan\u003d6\u003emaize\u003c/th\u003e \n        \u003cth id\u003d\"T_f75f3568_983d_11ed_bb48_f23b1644f743level1_row0\" class\u003d\"row_heading level1 row0\" \u003e0.125\u003c/th\u003e \n        \u003ctd id\u003d\"T_f75f3568_983d_11ed_bb48_f23b1644f743row0_col0\" class\u003d\"data row0 col0\" \u003e41,500 FCFA\u003c/td\u003e \n        \u003ctd id\u003d\"T_f75f3568_983d_11ed_bb48_f23b1644f743row0_col1\" class\u003d\"data row0 col1\" \u003e0.18\u003c/td\u003e \n        \u003ctd id\u003d\"T_f75f3568_983d_11ed_bb48_f23b1644f743row0_col2\" class\u003d\"data row0 col2\" \u003e$91\u003c/td\u003e \n        \u003ctd id\u003d\"T_f75f3568_983d_11ed_bb48_f23b1644f743row0_col3\" class\u003d\"data row0 col3\" \u003e$8\u003c/td\u003e \n        \u003ctd id\u003d\"T_f75f3568_983d_11ed_bb48_f23b1644f743row0_col4\" class\u003d\"data row0 col4\" \u003e$83\u003c/td\u003e \n    \u003c/tr\u003e    \u003ctr\u003e \n        \u003cth id\u003d\"T_f75f3568_983d_11ed_bb48_f23b1644f743level1_row1\" class\u003d\"row_heading level1 row1\" \u003e0.25\u003c/th\u003e \n        \u003ctd id\u003d\"T_f75f3568_983d_11ed_bb48_f23b1644f743row1_col0\" class\u003d\"data row1 col0\" \u003e78,500 FCFA\u003c/td\u003e \n        \u003ctd id\u003d\"T_f75f3568_983d_11ed_bb48_f23b1644f743row1_col1\" class\u003d\"data row1 col1\" \u003e0.37\u003c/td\u003e \n        \u003ctd id\u003d\"T_f75f3568_983d_11ed_bb48_f23b1644f743row1_col2\" class\u003d\"data row1 col2\" \u003e$182\u003c/td\u003e \n        \u003ctd id\u003d\"T_f75f3568_983d_11ed_bb48_f23b1644f743row1_col3\" class\u003d\"data row1 col3\" \u003e$17\u003c/td\u003e \n        \u003ctd id\u003d\"T_f75f3568_983d_11ed_bb48_f23b1644f743row1_col4\" class\u003d\"data row1 col4\" \u003e$165\u003c/td\u003e \n    \u003c/tr\u003e    \u003ctr\u003e \n        \u003cth id\u003d\"T_f75f3568_983d_11ed_bb48_f23b1644f743level1_row2\" class\u003d\"row_heading level1 row2\" \u003e0.5\u003c/th\u003e \n        \u003ctd id\u003d\"T_f75f3568_983d_11ed_bb48_f23b1644f743row2_col0\" class\u003d\"data row2 col0\" \u003e137,500 FCFA\u003c/td\u003e \n        \u003ctd id\u003d\"T_f75f3568_983d_11ed_bb48_f23b1644f743row2_col1\" class\u003d\"data row2 col1\" \u003e0.74\u003c/td\u003e \n        \u003ctd id\u003d\"T_f75f3568_983d_11ed_bb48_f23b1644f743row2_col2\" class\u003d\"data row2 col2\" \u003e$363\u003c/td\u003e \n        \u003ctd id\u003d\"T_f75f3568_983d_11ed_bb48_f23b1644f743row2_col3\" class\u003d\"data row2 col3\" \u003e$33\u003c/td\u003e \n        \u003ctd id\u003d\"T_f75f3568_983d_11ed_bb48_f23b1644f743row2_col4\" class\u003d\"data row2 col4\" \u003e$330\u003c/td\u003e \n    \u003c/tr\u003e    \u003ctr\u003e \n        \u003cth id\u003d\"T_f75f3568_983d_11ed_bb48_f23b1644f743level1_row3\" class\u003d\"row_heading level1 row3\" \u003e1.0\u003c/th\u003e \n        \u003ctd id\u003d\"T_f75f3568_983d_11ed_bb48_f23b1644f743row3_col0\" class\u003d\"data row3 col0\" \u003e277,500 FCFA\u003c/td\u003e \n        \u003ctd id\u003d\"T_f75f3568_983d_11ed_bb48_f23b1644f743row3_col1\" class\u003d\"data row3 col1\" \u003e1.48\u003c/td\u003e \n        \u003ctd id\u003d\"T_f75f3568_983d_11ed_bb48_f23b1644f743row3_col2\" class\u003d\"data row3 col2\" \u003e$727\u003c/td\u003e \n        \u003ctd id\u003d\"T_f75f3568_983d_11ed_bb48_f23b1644f743row3_col3\" class\u003d\"data row3 col3\" \u003e$66\u003c/td\u003e \n        \u003ctd id\u003d\"T_f75f3568_983d_11ed_bb48_f23b1644f743row3_col4\" class\u003d\"data row3 col4\" \u003e$661\u003c/td\u003e \n    \u003c/tr\u003e    \u003ctr\u003e \n        \u003cth id\u003d\"T_f75f3568_983d_11ed_bb48_f23b1644f743level1_row4\" class\u003d\"row_heading level1 row4\" \u003e2.0\u003c/th\u003e \n        \u003ctd id\u003d\"T_f75f3568_983d_11ed_bb48_f23b1644f743row4_col0\" class\u003d\"data row4 col0\" \u003e557,500 FCFA\u003c/td\u003e \n        \u003ctd id\u003d\"T_f75f3568_983d_11ed_bb48_f23b1644f743row4_col1\" class\u003d\"data row4 col1\" \u003e2.96\u003c/td\u003e \n        \u003ctd id\u003d\"T_f75f3568_983d_11ed_bb48_f23b1644f743row4_col2\" class\u003d\"data row4 col2\" \u003e$1,454\u003c/td\u003e \n        \u003ctd id\u003d\"T_f75f3568_983d_11ed_bb48_f23b1644f743row4_col3\" class\u003d\"data row4 col3\" \u003e$133\u003c/td\u003e \n        \u003ctd id\u003d\"T_f75f3568_983d_11ed_bb48_f23b1644f743row4_col4\" class\u003d\"data row4 col4\" \u003e$1,321\u003c/td\u003e \n    \u003c/tr\u003e    \u003ctr\u003e \n        \u003cth id\u003d\"T_f75f3568_983d_11ed_bb48_f23b1644f743level1_row5\" class\u003d\"row_heading level1 row5\" \u003e4.0\u003c/th\u003e \n        \u003ctd id\u003d\"T_f75f3568_983d_11ed_bb48_f23b1644f743row5_col0\" class\u003d\"data row5 col0\" \u003e1,117,500 FCFA\u003c/td\u003e \n        \u003ctd id\u003d\"T_f75f3568_983d_11ed_bb48_f23b1644f743row5_col1\" class\u003d\"data row5 col1\" \u003e5.91\u003c/td\u003e \n        \u003ctd id\u003d\"T_f75f3568_983d_11ed_bb48_f23b1644f743row5_col2\" class\u003d\"data row5 col2\" \u003e$2,907\u003c/td\u003e \n        \u003ctd id\u003d\"T_f75f3568_983d_11ed_bb48_f23b1644f743row5_col3\" class\u003d\"data row5 col3\" \u003e$265\u003c/td\u003e \n        \u003ctd id\u003d\"T_f75f3568_983d_11ed_bb48_f23b1644f743row5_col4\" class\u003d\"data row5 col4\" \u003e$2,642\u003c/td\u003e \n    \u003c/tr\u003e    \u003ctr\u003e \n        \u003cth id\u003d\"T_f75f3568_983d_11ed_bb48_f23b1644f743level0_row6\" class\u003d\"row_heading level0 row6\" rowspan\u003d7\u003epeanut\u003c/th\u003e \n        \u003cth id\u003d\"T_f75f3568_983d_11ed_bb48_f23b1644f743level1_row6\" class\u003d\"row_heading level1 row6\" \u003e0.125\u003c/th\u003e \n        \u003ctd id\u003d\"T_f75f3568_983d_11ed_bb48_f23b1644f743row6_col0\" class\u003d\"data row6 col0\" \u003e18,500 FCFA\u003c/td\u003e \n        \u003ctd id\u003d\"T_f75f3568_983d_11ed_bb48_f23b1644f743row6_col1\" class\u003d\"data row6 col1\" \u003e0.08\u003c/td\u003e \n        \u003ctd id\u003d\"T_f75f3568_983d_11ed_bb48_f23b1644f743row6_col2\" class\u003d\"data row6 col2\" \u003e$47\u003c/td\u003e \n        \u003ctd id\u003d\"T_f75f3568_983d_11ed_bb48_f23b1644f743row6_col3\" class\u003d\"data row6 col3\" \u003e$1\u003c/td\u003e \n        \u003ctd id\u003d\"T_f75f3568_983d_11ed_bb48_f23b1644f743row6_col4\" class\u003d\"data row6 col4\" \u003e$46\u003c/td\u003e \n    \u003c/tr\u003e    \u003ctr\u003e \n        \u003cth id\u003d\"T_f75f3568_983d_11ed_bb48_f23b1644f743level1_row7\" class\u003d\"row_heading level1 row7\" \u003e0.25\u003c/th\u003e \n        \u003ctd id\u003d\"T_f75f3568_983d_11ed_bb48_f23b1644f743row7_col0\" class\u003d\"data row7 col0\" \u003e34,500 FCFA\u003c/td\u003e \n        \u003ctd id\u003d\"T_f75f3568_983d_11ed_bb48_f23b1644f743row7_col1\" class\u003d\"data row7 col1\" \u003e0.15\u003c/td\u003e \n        \u003ctd id\u003d\"T_f75f3568_983d_11ed_bb48_f23b1644f743row7_col2\" class\u003d\"data row7 col2\" \u003e$94\u003c/td\u003e \n        \u003ctd id\u003d\"T_f75f3568_983d_11ed_bb48_f23b1644f743row7_col3\" class\u003d\"data row7 col3\" \u003e$1\u003c/td\u003e \n        \u003ctd id\u003d\"T_f75f3568_983d_11ed_bb48_f23b1644f743row7_col4\" class\u003d\"data row7 col4\" \u003e$92\u003c/td\u003e \n    \u003c/tr\u003e    \u003ctr\u003e \n        \u003cth id\u003d\"T_f75f3568_983d_11ed_bb48_f23b1644f743level1_row8\" class\u003d\"row_heading level1 row8\" \u003e0.5\u003c/th\u003e \n        \u003ctd id\u003d\"T_f75f3568_983d_11ed_bb48_f23b1644f743row8_col0\" class\u003d\"data row8 col0\" \u003e55,500 FCFA\u003c/td\u003e \n        \u003ctd id\u003d\"T_f75f3568_983d_11ed_bb48_f23b1644f743row8_col1\" class\u003d\"data row8 col1\" \u003e0.30\u003c/td\u003e \n        \u003ctd id\u003d\"T_f75f3568_983d_11ed_bb48_f23b1644f743row8_col2\" class\u003d\"data row8 col2\" \u003e$187\u003c/td\u003e \n        \u003ctd id\u003d\"T_f75f3568_983d_11ed_bb48_f23b1644f743row8_col3\" class\u003d\"data row8 col3\" \u003e$3\u003c/td\u003e \n        \u003ctd id\u003d\"T_f75f3568_983d_11ed_bb48_f23b1644f743row8_col4\" class\u003d\"data row8 col4\" \u003e$185\u003c/td\u003e \n    \u003c/tr\u003e    \u003ctr\u003e \n        \u003cth id\u003d\"T_f75f3568_983d_11ed_bb48_f23b1644f743level1_row9\" class\u003d\"row_heading level1 row9\" \u003e1.0\u003c/th\u003e \n        \u003ctd id\u003d\"T_f75f3568_983d_11ed_bb48_f23b1644f743row9_col0\" class\u003d\"data row9 col0\" \u003e102,500 FCFA\u003c/td\u003e \n        \u003ctd id\u003d\"T_f75f3568_983d_11ed_bb48_f23b1644f743row9_col1\" class\u003d\"data row9 col1\" \u003e0.60\u003c/td\u003e \n        \u003ctd id\u003d\"T_f75f3568_983d_11ed_bb48_f23b1644f743row9_col2\" class\u003d\"data row9 col2\" \u003e$374\u003c/td\u003e \n        \u003ctd id\u003d\"T_f75f3568_983d_11ed_bb48_f23b1644f743row9_col3\" class\u003d\"data row9 col3\" \u003e$5\u003c/td\u003e \n        \u003ctd id\u003d\"T_f75f3568_983d_11ed_bb48_f23b1644f743row9_col4\" class\u003d\"data row9 col4\" \u003e$369\u003c/td\u003e \n    \u003c/tr\u003e    \u003ctr\u003e \n        \u003cth id\u003d\"T_f75f3568_983d_11ed_bb48_f23b1644f743level1_row10\" class\u003d\"row_heading level1 row10\" \u003e1.25\u003c/th\u003e \n        \u003ctd id\u003d\"T_f75f3568_983d_11ed_bb48_f23b1644f743row10_col0\" class\u003d\"data row10 col0\" \u003e139,500 FCFA\u003c/td\u003e \n        \u003ctd id\u003d\"T_f75f3568_983d_11ed_bb48_f23b1644f743row10_col1\" class\u003d\"data row10 col1\" \u003e0.75\u003c/td\u003e \n        \u003ctd id\u003d\"T_f75f3568_983d_11ed_bb48_f23b1644f743row10_col2\" class\u003d\"data row10 col2\" \u003e$468\u003c/td\u003e \n        \u003ctd id\u003d\"T_f75f3568_983d_11ed_bb48_f23b1644f743row10_col3\" class\u003d\"data row10 col3\" \u003e$6\u003c/td\u003e \n        \u003ctd id\u003d\"T_f75f3568_983d_11ed_bb48_f23b1644f743row10_col4\" class\u003d\"data row10 col4\" \u003e$461\u003c/td\u003e \n    \u003c/tr\u003e    \u003ctr\u003e \n        \u003cth id\u003d\"T_f75f3568_983d_11ed_bb48_f23b1644f743level1_row11\" class\u003d\"row_heading level1 row11\" \u003e1.5\u003c/th\u003e \n        \u003ctd id\u003d\"T_f75f3568_983d_11ed_bb48_f23b1644f743row11_col0\" class\u003d\"data row11 col0\" \u003e160,500 FCFA\u003c/td\u003e \n        \u003ctd id\u003d\"T_f75f3568_983d_11ed_bb48_f23b1644f743row11_col1\" class\u003d\"data row11 col1\" \u003e0.91\u003c/td\u003e \n        \u003ctd id\u003d\"T_f75f3568_983d_11ed_bb48_f23b1644f743row11_col2\" class\u003d\"data row11 col2\" \u003e$561\u003c/td\u003e \n        \u003ctd id\u003d\"T_f75f3568_983d_11ed_bb48_f23b1644f743row11_col3\" class\u003d\"data row11 col3\" \u003e$8\u003c/td\u003e \n        \u003ctd id\u003d\"T_f75f3568_983d_11ed_bb48_f23b1644f743row11_col4\" class\u003d\"data row11 col4\" \u003e$554\u003c/td\u003e \n    \u003c/tr\u003e    \u003ctr\u003e \n        \u003cth id\u003d\"T_f75f3568_983d_11ed_bb48_f23b1644f743level1_row12\" class\u003d\"row_heading level1 row12\" \u003e2.0\u003c/th\u003e \n        \u003ctd id\u003d\"T_f75f3568_983d_11ed_bb48_f23b1644f743row12_col0\" class\u003d\"data row12 col0\" \u003e207,500 FCFA\u003c/td\u003e \n        \u003ctd id\u003d\"T_f75f3568_983d_11ed_bb48_f23b1644f743row12_col1\" class\u003d\"data row12 col1\" \u003e1.21\u003c/td\u003e \n        \u003ctd id\u003d\"T_f75f3568_983d_11ed_bb48_f23b1644f743row12_col2\" class\u003d\"data row12 col2\" \u003e$748\u003c/td\u003e \n        \u003ctd id\u003d\"T_f75f3568_983d_11ed_bb48_f23b1644f743row12_col3\" class\u003d\"data row12 col3\" \u003e$10\u003c/td\u003e \n        \u003ctd id\u003d\"T_f75f3568_983d_11ed_bb48_f23b1644f743row12_col4\" class\u003d\"data row12 col4\" \u003e$738\u003c/td\u003e \n    \u003c/tr\u003e    \u003ctr\u003e \n        \u003cth id\u003d\"T_f75f3568_983d_11ed_bb48_f23b1644f743level0_row13\" class\u003d\"row_heading level0 row13\" \u003erice\u003c/th\u003e \n        \u003cth id\u003d\"T_f75f3568_983d_11ed_bb48_f23b1644f743level1_row13\" class\u003d\"row_heading level1 row13\" \u003e0.05\u003c/th\u003e \n        \u003ctd id\u003d\"T_f75f3568_983d_11ed_bb48_f23b1644f743row13_col0\" class\u003d\"data row13 col0\" \u003e24,000 FCFA\u003c/td\u003e \n        \u003ctd id\u003d\"T_f75f3568_983d_11ed_bb48_f23b1644f743row13_col1\" class\u003d\"data row13 col1\" \u003e0.04\u003c/td\u003e \n        \u003ctd id\u003d\"T_f75f3568_983d_11ed_bb48_f23b1644f743row13_col2\" class\u003d\"data row13 col2\" \u003e$30\u003c/td\u003e \n        \u003ctd id\u003d\"T_f75f3568_983d_11ed_bb48_f23b1644f743row13_col3\" class\u003d\"data row13 col3\" \u003e$2\u003c/td\u003e \n        \u003ctd id\u003d\"T_f75f3568_983d_11ed_bb48_f23b1644f743row13_col4\" class\u003d\"data row13 col4\" \u003e$28\u003c/td\u003e \n    \u003c/tr\u003e    \u003ctr\u003e \n        \u003cth id\u003d\"T_f75f3568_983d_11ed_bb48_f23b1644f743level0_row14\" class\u003d\"row_heading level0 row14\" rowspan\u003d5\u003esorghum\u003c/th\u003e \n        \u003cth id\u003d\"T_f75f3568_983d_11ed_bb48_f23b1644f743level1_row14\" class\u003d\"row_heading level1 row14\" \u003e0.25\u003c/th\u003e \n        \u003ctd id\u003d\"T_f75f3568_983d_11ed_bb48_f23b1644f743row14_col0\" class\u003d\"data row14 col0\" \u003e33,500 FCFA\u003c/td\u003e \n        \u003ctd id\u003d\"T_f75f3568_983d_11ed_bb48_f23b1644f743row14_col1\" class\u003d\"data row14 col1\" \u003e0.11\u003c/td\u003e \n        \u003ctd id\u003d\"T_f75f3568_983d_11ed_bb48_f23b1644f743row14_col2\" class\u003d\"data row14 col2\" \u003e$61\u003c/td\u003e \n        \u003ctd id\u003d\"T_f75f3568_983d_11ed_bb48_f23b1644f743row14_col3\" class\u003d\"data row14 col3\" \u003e$1\u003c/td\u003e \n        \u003ctd id\u003d\"T_f75f3568_983d_11ed_bb48_f23b1644f743row14_col4\" class\u003d\"data row14 col4\" \u003e$59\u003c/td\u003e \n    \u003c/tr\u003e    \u003ctr\u003e \n        \u003cth id\u003d\"T_f75f3568_983d_11ed_bb48_f23b1644f743level1_row15\" class\u003d\"row_heading level1 row15\" \u003e0.5\u003c/th\u003e \n        \u003ctd id\u003d\"T_f75f3568_983d_11ed_bb48_f23b1644f743row15_col0\" class\u003d\"data row15 col0\" \u003e61,500 FCFA\u003c/td\u003e \n        \u003ctd id\u003d\"T_f75f3568_983d_11ed_bb48_f23b1644f743row15_col1\" class\u003d\"data row15 col1\" \u003e0.23\u003c/td\u003e \n        \u003ctd id\u003d\"T_f75f3568_983d_11ed_bb48_f23b1644f743row15_col2\" class\u003d\"data row15 col2\" \u003e$121\u003c/td\u003e \n        \u003ctd id\u003d\"T_f75f3568_983d_11ed_bb48_f23b1644f743row15_col3\" class\u003d\"data row15 col3\" \u003e$2\u003c/td\u003e \n        \u003ctd id\u003d\"T_f75f3568_983d_11ed_bb48_f23b1644f743row15_col4\" class\u003d\"data row15 col4\" \u003e$119\u003c/td\u003e \n    \u003c/tr\u003e    \u003ctr\u003e \n        \u003cth id\u003d\"T_f75f3568_983d_11ed_bb48_f23b1644f743level1_row16\" class\u003d\"row_heading level1 row16\" \u003e1.0\u003c/th\u003e \n        \u003ctd id\u003d\"T_f75f3568_983d_11ed_bb48_f23b1644f743row16_col0\" class\u003d\"data row16 col0\" \u003e107,500 FCFA\u003c/td\u003e \n        \u003ctd id\u003d\"T_f75f3568_983d_11ed_bb48_f23b1644f743row16_col1\" class\u003d\"data row16 col1\" \u003e0.45\u003c/td\u003e \n        \u003ctd id\u003d\"T_f75f3568_983d_11ed_bb48_f23b1644f743row16_col2\" class\u003d\"data row16 col2\" \u003e$242\u003c/td\u003e \n        \u003ctd id\u003d\"T_f75f3568_983d_11ed_bb48_f23b1644f743row16_col3\" class\u003d\"data row16 col3\" \u003e$5\u003c/td\u003e \n        \u003ctd id\u003d\"T_f75f3568_983d_11ed_bb48_f23b1644f743row16_col4\" class\u003d\"data row16 col4\" \u003e$237\u003c/td\u003e \n    \u003c/tr\u003e    \u003ctr\u003e \n        \u003cth id\u003d\"T_f75f3568_983d_11ed_bb48_f23b1644f743level1_row17\" class\u003d\"row_heading level1 row17\" \u003e1.5\u003c/th\u003e \n        \u003ctd id\u003d\"T_f75f3568_983d_11ed_bb48_f23b1644f743row17_col0\" class\u003d\"data row17 col0\" \u003e171,500 FCFA\u003c/td\u003e \n        \u003ctd id\u003d\"T_f75f3568_983d_11ed_bb48_f23b1644f743row17_col1\" class\u003d\"data row17 col1\" \u003e0.68\u003c/td\u003e \n        \u003ctd id\u003d\"T_f75f3568_983d_11ed_bb48_f23b1644f743row17_col2\" class\u003d\"data row17 col2\" \u003e$363\u003c/td\u003e \n        \u003ctd id\u003d\"T_f75f3568_983d_11ed_bb48_f23b1644f743row17_col3\" class\u003d\"data row17 col3\" \u003e$7\u003c/td\u003e \n        \u003ctd id\u003d\"T_f75f3568_983d_11ed_bb48_f23b1644f743row17_col4\" class\u003d\"data row17 col4\" \u003e$356\u003c/td\u003e \n    \u003c/tr\u003e    \u003ctr\u003e \n        \u003cth id\u003d\"T_f75f3568_983d_11ed_bb48_f23b1644f743level1_row18\" class\u003d\"row_heading level1 row18\" \u003e2.0\u003c/th\u003e \n        \u003ctd id\u003d\"T_f75f3568_983d_11ed_bb48_f23b1644f743row18_col0\" class\u003d\"data row18 col0\" \u003e217,500 FCFA\u003c/td\u003e \n        \u003ctd id\u003d\"T_f75f3568_983d_11ed_bb48_f23b1644f743row18_col1\" class\u003d\"data row18 col1\" \u003e0.90\u003c/td\u003e \n        \u003ctd id\u003d\"T_f75f3568_983d_11ed_bb48_f23b1644f743row18_col2\" class\u003d\"data row18 col2\" \u003e$484\u003c/td\u003e \n        \u003ctd id\u003d\"T_f75f3568_983d_11ed_bb48_f23b1644f743row18_col3\" class\u003d\"data row18 col3\" \u003e$10\u003c/td\u003e \n        \u003ctd id\u003d\"T_f75f3568_983d_11ed_bb48_f23b1644f743row18_col4\" class\u003d\"data row18 col4\" \u003e$475\u003c/td\u003e \n    \u003c/tr\u003e\u003c/tbody\u003e \n\u003c/table\u003e "
          },
          "metadata": {}
        }
      ]
    },
    {
      "cell_type": "markdown",
      "metadata": {},
      "source": [
        "**Senegal Summary Table**"
      ]
    },
    {
      "execution_count": 655,
      "cell_type": "code",
      "metadata": {},
      "source": [
        "net_profit_sn_control.loc[pd.IndexSlice[:, [1, 0.1]], :]\\\n                     .rename_axis([\u0027Product\u0027, \u0027Package Size (Hectares)\u0027])\\\n                     .rename(columns \u003d {\"price_cfa_avg\" : \"Price\",\n                                        \"average_yield_t_package_size_ha\" : \"Average Yield (T/Package Hectarage)\",\n                                        \"gross_value_of_yield_usd\" : \"Gross Value\",\n                                        \"input_costs_usd\" : \"Input Cost\",\n                                        \"net_profit_usd\" : \"Net Profit\"})\\\n                     .style\\\n                     .format({\"Price\": lambda val: f\"{val:,.0f} FCFA\",\n                              \"Average Yield (T/Package Hectarage)\": lambda val: f\"{val:.2f}\",\n                              \"Gross Value\": lambda val: f\"${val:,.0f}\",\n                              \"Input Cost\": lambda val: f\"${val:,.0f}\",\n                              \"Net Profit\": lambda val: f\"${val:,.0f}\"})\\\n                     .set_caption(\u0027Control Cereal Net Profit Per Package\u0027)"
      ],
      "outputs": [
        {
          "output_type": "execute_result",
          "execution_count": 655,
          "data": {
            "text/plain": "\u003cpandas.io.formats.style.Styler at 0x7fba1198b8d0\u003e",
            "text/html": "\u003cstyle  type\u003d\"text/css\" \u003e\n\u003c/style\u003e  \n\u003ctable id\u003d\"T_f7619808_983d_11ed_bb48_f23b1644f743\" \u003e\u003ccaption\u003eControl Cereal Net Profit Per Package\u003c/caption\u003e \n\u003cthead\u003e    \u003ctr\u003e \n        \u003cth class\u003d\"blank\" \u003e\u003c/th\u003e \n        \u003cth class\u003d\"blank level0\" \u003e\u003c/th\u003e \n        \u003cth class\u003d\"col_heading level0 col0\" \u003eAverage Yield (T/Package Hectarage)\u003c/th\u003e \n        \u003cth class\u003d\"col_heading level0 col1\" \u003eGross Value\u003c/th\u003e \n        \u003cth class\u003d\"col_heading level0 col2\" \u003eInput Cost\u003c/th\u003e \n        \u003cth class\u003d\"col_heading level0 col3\" \u003eNet Profit\u003c/th\u003e \n        \u003cth class\u003d\"col_heading level0 col4\" \u003ePrice\u003c/th\u003e \n    \u003c/tr\u003e    \u003ctr\u003e \n        \u003cth class\u003d\"index_name level0\" \u003eProduct\u003c/th\u003e \n        \u003cth class\u003d\"index_name level1\" \u003ePackage Size (Hectares)\u003c/th\u003e \n        \u003cth class\u003d\"blank\" \u003e\u003c/th\u003e \n        \u003cth class\u003d\"blank\" \u003e\u003c/th\u003e \n        \u003cth class\u003d\"blank\" \u003e\u003c/th\u003e \n        \u003cth class\u003d\"blank\" \u003e\u003c/th\u003e \n        \u003cth class\u003d\"blank\" \u003e\u003c/th\u003e \n    \u003c/tr\u003e\u003c/thead\u003e \n\u003ctbody\u003e    \u003ctr\u003e \n        \u003cth id\u003d\"T_f7619808_983d_11ed_bb48_f23b1644f743level0_row0\" class\u003d\"row_heading level0 row0\" \u003emaize\u003c/th\u003e \n        \u003cth id\u003d\"T_f7619808_983d_11ed_bb48_f23b1644f743level1_row0\" class\u003d\"row_heading level1 row0\" \u003e1.0\u003c/th\u003e \n        \u003ctd id\u003d\"T_f7619808_983d_11ed_bb48_f23b1644f743row0_col0\" class\u003d\"data row0 col0\" \u003e1.21\u003c/td\u003e \n        \u003ctd id\u003d\"T_f7619808_983d_11ed_bb48_f23b1644f743row0_col1\" class\u003d\"data row0 col1\" \u003e$660\u003c/td\u003e \n        \u003ctd id\u003d\"T_f7619808_983d_11ed_bb48_f23b1644f743row0_col2\" class\u003d\"data row0 col2\" \u003e$46\u003c/td\u003e \n        \u003ctd id\u003d\"T_f7619808_983d_11ed_bb48_f23b1644f743row0_col3\" class\u003d\"data row0 col3\" \u003e$614\u003c/td\u003e \n        \u003ctd id\u003d\"T_f7619808_983d_11ed_bb48_f23b1644f743row0_col4\" class\u003d\"data row0 col4\" \u003e196,500 FCFA\u003c/td\u003e \n    \u003c/tr\u003e    \u003ctr\u003e \n        \u003cth id\u003d\"T_f7619808_983d_11ed_bb48_f23b1644f743level0_row1\" class\u003d\"row_heading level0 row1\" \u003emillet\u003c/th\u003e \n        \u003cth id\u003d\"T_f7619808_983d_11ed_bb48_f23b1644f743level1_row1\" class\u003d\"row_heading level1 row1\" \u003e1.0\u003c/th\u003e \n        \u003ctd id\u003d\"T_f7619808_983d_11ed_bb48_f23b1644f743row1_col0\" class\u003d\"data row1 col0\" \u003e0.30\u003c/td\u003e \n        \u003ctd id\u003d\"T_f7619808_983d_11ed_bb48_f23b1644f743row1_col1\" class\u003d\"data row1 col1\" \u003e$205\u003c/td\u003e \n        \u003ctd id\u003d\"T_f7619808_983d_11ed_bb48_f23b1644f743row1_col2\" class\u003d\"data row1 col2\" \u003e$14\u003c/td\u003e \n        \u003ctd id\u003d\"T_f7619808_983d_11ed_bb48_f23b1644f743row1_col3\" class\u003d\"data row1 col3\" \u003e$191\u003c/td\u003e \n        \u003ctd id\u003d\"T_f7619808_983d_11ed_bb48_f23b1644f743row1_col4\" class\u003d\"data row1 col4\" \u003e87,500 FCFA\u003c/td\u003e \n    \u003c/tr\u003e    \u003ctr\u003e \n        \u003cth id\u003d\"T_f7619808_983d_11ed_bb48_f23b1644f743level0_row2\" class\u003d\"row_heading level0 row2\" \u003epeanut\u003c/th\u003e \n        \u003cth id\u003d\"T_f7619808_983d_11ed_bb48_f23b1644f743level1_row2\" class\u003d\"row_heading level1 row2\" \u003e1.0\u003c/th\u003e \n        \u003ctd id\u003d\"T_f7619808_983d_11ed_bb48_f23b1644f743row2_col0\" class\u003d\"data row2 col0\" \u003e0.66\u003c/td\u003e \n        \u003ctd id\u003d\"T_f7619808_983d_11ed_bb48_f23b1644f743row2_col1\" class\u003d\"data row2 col1\" \u003e$482\u003c/td\u003e \n        \u003ctd id\u003d\"T_f7619808_983d_11ed_bb48_f23b1644f743row2_col2\" class\u003d\"data row2 col2\" \u003e$73\u003c/td\u003e \n        \u003ctd id\u003d\"T_f7619808_983d_11ed_bb48_f23b1644f743row2_col3\" class\u003d\"data row2 col3\" \u003e$410\u003c/td\u003e \n        \u003ctd id\u003d\"T_f7619808_983d_11ed_bb48_f23b1644f743row2_col4\" class\u003d\"data row2 col4\" \u003e72,500 FCFA\u003c/td\u003e \n    \u003c/tr\u003e    \u003ctr\u003e \n        \u003cth id\u003d\"T_f7619808_983d_11ed_bb48_f23b1644f743level0_row3\" class\u003d\"row_heading level0 row3\" \u003epeanut (fodder only)\u003c/th\u003e \n        \u003cth id\u003d\"T_f7619808_983d_11ed_bb48_f23b1644f743level1_row3\" class\u003d\"row_heading level1 row3\" \u003e1.0\u003c/th\u003e \n        \u003ctd id\u003d\"T_f7619808_983d_11ed_bb48_f23b1644f743row3_col0\" class\u003d\"data row3 col0\" \u003enan\u003c/td\u003e \n        \u003ctd id\u003d\"T_f7619808_983d_11ed_bb48_f23b1644f743row3_col1\" class\u003d\"data row3 col1\" \u003e$nan\u003c/td\u003e \n        \u003ctd id\u003d\"T_f7619808_983d_11ed_bb48_f23b1644f743row3_col2\" class\u003d\"data row3 col2\" \u003e$nan\u003c/td\u003e \n        \u003ctd id\u003d\"T_f7619808_983d_11ed_bb48_f23b1644f743row3_col3\" class\u003d\"data row3 col3\" \u003e$478\u003c/td\u003e \n        \u003ctd id\u003d\"T_f7619808_983d_11ed_bb48_f23b1644f743row3_col4\" class\u003d\"data row3 col4\" \u003enan FCFA\u003c/td\u003e \n    \u003c/tr\u003e    \u003ctr\u003e \n        \u003cth id\u003d\"T_f7619808_983d_11ed_bb48_f23b1644f743level0_row4\" class\u003d\"row_heading level0 row4\" \u003epeanut (w/ fodder)\u003c/th\u003e \n        \u003cth id\u003d\"T_f7619808_983d_11ed_bb48_f23b1644f743level1_row4\" class\u003d\"row_heading level1 row4\" \u003e1.0\u003c/th\u003e \n        \u003ctd id\u003d\"T_f7619808_983d_11ed_bb48_f23b1644f743row4_col0\" class\u003d\"data row4 col0\" \u003enan\u003c/td\u003e \n        \u003ctd id\u003d\"T_f7619808_983d_11ed_bb48_f23b1644f743row4_col1\" class\u003d\"data row4 col1\" \u003e$nan\u003c/td\u003e \n        \u003ctd id\u003d\"T_f7619808_983d_11ed_bb48_f23b1644f743row4_col2\" class\u003d\"data row4 col2\" \u003e$nan\u003c/td\u003e \n        \u003ctd id\u003d\"T_f7619808_983d_11ed_bb48_f23b1644f743row4_col3\" class\u003d\"data row4 col3\" \u003e$888\u003c/td\u003e \n        \u003ctd id\u003d\"T_f7619808_983d_11ed_bb48_f23b1644f743row4_col4\" class\u003d\"data row4 col4\" \u003enan FCFA\u003c/td\u003e \n    \u003c/tr\u003e    \u003ctr\u003e \n        \u003cth id\u003d\"T_f7619808_983d_11ed_bb48_f23b1644f743level0_row5\" class\u003d\"row_heading level0 row5\" \u003erice\u003c/th\u003e \n        \u003cth id\u003d\"T_f7619808_983d_11ed_bb48_f23b1644f743level1_row5\" class\u003d\"row_heading level1 row5\" \u003e0.1\u003c/th\u003e \n        \u003ctd id\u003d\"T_f7619808_983d_11ed_bb48_f23b1644f743row5_col0\" class\u003d\"data row5 col0\" \u003e0.11\u003c/td\u003e \n        \u003ctd id\u003d\"T_f7619808_983d_11ed_bb48_f23b1644f743row5_col1\" class\u003d\"data row5 col1\" \u003e$65\u003c/td\u003e \n        \u003ctd id\u003d\"T_f7619808_983d_11ed_bb48_f23b1644f743row5_col2\" class\u003d\"data row5 col2\" \u003e$13\u003c/td\u003e \n        \u003ctd id\u003d\"T_f7619808_983d_11ed_bb48_f23b1644f743row5_col3\" class\u003d\"data row5 col3\" \u003e$53\u003c/td\u003e \n        \u003ctd id\u003d\"T_f7619808_983d_11ed_bb48_f23b1644f743row5_col4\" class\u003d\"data row5 col4\" \u003e38,000 FCFA\u003c/td\u003e \n    \u003c/tr\u003e\u003c/tbody\u003e \n\u003c/table\u003e "
          },
          "metadata": {}
        }
      ]
    },
    {
      "cell_type": "markdown",
      "metadata": {},
      "source": [
        "**Senegal Full Table**"
      ]
    },
    {
      "execution_count": 656,
      "cell_type": "code",
      "metadata": {},
      "source": [
        "net_profit_sn_control.rename_axis([\u0027Product\u0027, \u0027Package Size (Hectares)\u0027])\\\n                     .rename(columns \u003d {\"price_cfa_avg\" : \"Price\",\n                                        \"average_yield_t_package_size_ha\" : \"Average Yield (T/Package Hectarage)\",\n                                        \"gross_value_of_yield_usd\" : \"Gross Value\",\n                                        \"input_costs_usd\" : \"Input Cost\",\n                                        \"net_profit_usd\" : \"Net Profit\"})\\\n                     .style\\\n                     .format({\"Price\": lambda val: f\"{val:,.0f} FCFA\",\n                              \"Average Yield (T/Package Hectarage)\": lambda val: f\"{val:.2f}\",\n                              \"Gross Value\": lambda val: f\"${val:,.0f}\",\n                              \"Input Cost\": lambda val: f\"${val:,.0f}\",\n                              \"Net Profit\": lambda val: f\"${val:,.0f}\"})\\\n                     .set_caption(\u0027Control Cereal Net Profit Per Package\u0027)"
      ],
      "outputs": [
        {
          "output_type": "execute_result",
          "execution_count": 656,
          "data": {
            "text/plain": "\u003cpandas.io.formats.style.Styler at 0x7fba112b7940\u003e",
            "text/html": "\u003cstyle  type\u003d\"text/css\" \u003e\n\u003c/style\u003e  \n\u003ctable id\u003d\"T_f7637326_983d_11ed_bb48_f23b1644f743\" \u003e\u003ccaption\u003eControl Cereal Net Profit Per Package\u003c/caption\u003e \n\u003cthead\u003e    \u003ctr\u003e \n        \u003cth class\u003d\"blank\" \u003e\u003c/th\u003e \n        \u003cth class\u003d\"blank level0\" \u003e\u003c/th\u003e \n        \u003cth class\u003d\"col_heading level0 col0\" \u003eAverage Yield (T/Package Hectarage)\u003c/th\u003e \n        \u003cth class\u003d\"col_heading level0 col1\" \u003eGross Value\u003c/th\u003e \n        \u003cth class\u003d\"col_heading level0 col2\" \u003eInput Cost\u003c/th\u003e \n        \u003cth class\u003d\"col_heading level0 col3\" \u003eNet Profit\u003c/th\u003e \n        \u003cth class\u003d\"col_heading level0 col4\" \u003ePrice\u003c/th\u003e \n    \u003c/tr\u003e    \u003ctr\u003e \n        \u003cth class\u003d\"index_name level0\" \u003eProduct\u003c/th\u003e \n        \u003cth class\u003d\"index_name level1\" \u003ePackage Size (Hectares)\u003c/th\u003e \n        \u003cth class\u003d\"blank\" \u003e\u003c/th\u003e \n        \u003cth class\u003d\"blank\" \u003e\u003c/th\u003e \n        \u003cth class\u003d\"blank\" \u003e\u003c/th\u003e \n        \u003cth class\u003d\"blank\" \u003e\u003c/th\u003e \n        \u003cth class\u003d\"blank\" \u003e\u003c/th\u003e \n    \u003c/tr\u003e\u003c/thead\u003e \n\u003ctbody\u003e    \u003ctr\u003e \n        \u003cth id\u003d\"T_f7637326_983d_11ed_bb48_f23b1644f743level0_row0\" class\u003d\"row_heading level0 row0\" rowspan\u003d4\u003emaize\u003c/th\u003e \n        \u003cth id\u003d\"T_f7637326_983d_11ed_bb48_f23b1644f743level1_row0\" class\u003d\"row_heading level1 row0\" \u003e0.125\u003c/th\u003e \n        \u003ctd id\u003d\"T_f7637326_983d_11ed_bb48_f23b1644f743row0_col0\" class\u003d\"data row0 col0\" \u003e0.15\u003c/td\u003e \n        \u003ctd id\u003d\"T_f7637326_983d_11ed_bb48_f23b1644f743row0_col1\" class\u003d\"data row0 col1\" \u003e$82\u003c/td\u003e \n        \u003ctd id\u003d\"T_f7637326_983d_11ed_bb48_f23b1644f743row0_col2\" class\u003d\"data row0 col2\" \u003e$6\u003c/td\u003e \n        \u003ctd id\u003d\"T_f7637326_983d_11ed_bb48_f23b1644f743row0_col3\" class\u003d\"data row0 col3\" \u003e$77\u003c/td\u003e \n        \u003ctd id\u003d\"T_f7637326_983d_11ed_bb48_f23b1644f743row0_col4\" class\u003d\"data row0 col4\" \u003e29,500 FCFA\u003c/td\u003e \n    \u003c/tr\u003e    \u003ctr\u003e \n        \u003cth id\u003d\"T_f7637326_983d_11ed_bb48_f23b1644f743level1_row1\" class\u003d\"row_heading level1 row1\" \u003e0.25\u003c/th\u003e \n        \u003ctd id\u003d\"T_f7637326_983d_11ed_bb48_f23b1644f743row1_col0\" class\u003d\"data row1 col0\" \u003e0.30\u003c/td\u003e \n        \u003ctd id\u003d\"T_f7637326_983d_11ed_bb48_f23b1644f743row1_col1\" class\u003d\"data row1 col1\" \u003e$165\u003c/td\u003e \n        \u003ctd id\u003d\"T_f7637326_983d_11ed_bb48_f23b1644f743row1_col2\" class\u003d\"data row1 col2\" \u003e$12\u003c/td\u003e \n        \u003ctd id\u003d\"T_f7637326_983d_11ed_bb48_f23b1644f743row1_col3\" class\u003d\"data row1 col3\" \u003e$153\u003c/td\u003e \n        \u003ctd id\u003d\"T_f7637326_983d_11ed_bb48_f23b1644f743row1_col4\" class\u003d\"data row1 col4\" \u003e55,000 FCFA\u003c/td\u003e \n    \u003c/tr\u003e    \u003ctr\u003e \n        \u003cth id\u003d\"T_f7637326_983d_11ed_bb48_f23b1644f743level1_row2\" class\u003d\"row_heading level1 row2\" \u003e0.5\u003c/th\u003e \n        \u003ctd id\u003d\"T_f7637326_983d_11ed_bb48_f23b1644f743row2_col0\" class\u003d\"data row2 col0\" \u003e0.60\u003c/td\u003e \n        \u003ctd id\u003d\"T_f7637326_983d_11ed_bb48_f23b1644f743row2_col1\" class\u003d\"data row2 col1\" \u003e$330\u003c/td\u003e \n        \u003ctd id\u003d\"T_f7637326_983d_11ed_bb48_f23b1644f743row2_col2\" class\u003d\"data row2 col2\" \u003e$23\u003c/td\u003e \n        \u003ctd id\u003d\"T_f7637326_983d_11ed_bb48_f23b1644f743row2_col3\" class\u003d\"data row2 col3\" \u003e$307\u003c/td\u003e \n        \u003ctd id\u003d\"T_f7637326_983d_11ed_bb48_f23b1644f743row2_col4\" class\u003d\"data row2 col4\" \u003e101,000 FCFA\u003c/td\u003e \n    \u003c/tr\u003e    \u003ctr\u003e \n        \u003cth id\u003d\"T_f7637326_983d_11ed_bb48_f23b1644f743level1_row3\" class\u003d\"row_heading level1 row3\" \u003e1.0\u003c/th\u003e \n        \u003ctd id\u003d\"T_f7637326_983d_11ed_bb48_f23b1644f743row3_col0\" class\u003d\"data row3 col0\" \u003e1.21\u003c/td\u003e \n        \u003ctd id\u003d\"T_f7637326_983d_11ed_bb48_f23b1644f743row3_col1\" class\u003d\"data row3 col1\" \u003e$660\u003c/td\u003e \n        \u003ctd id\u003d\"T_f7637326_983d_11ed_bb48_f23b1644f743row3_col2\" class\u003d\"data row3 col2\" \u003e$46\u003c/td\u003e \n        \u003ctd id\u003d\"T_f7637326_983d_11ed_bb48_f23b1644f743row3_col3\" class\u003d\"data row3 col3\" \u003e$614\u003c/td\u003e \n        \u003ctd id\u003d\"T_f7637326_983d_11ed_bb48_f23b1644f743row3_col4\" class\u003d\"data row3 col4\" \u003e196,500 FCFA\u003c/td\u003e \n    \u003c/tr\u003e    \u003ctr\u003e \n        \u003cth id\u003d\"T_f7637326_983d_11ed_bb48_f23b1644f743level0_row4\" class\u003d\"row_heading level0 row4\" rowspan\u003d3\u003emillet\u003c/th\u003e \n        \u003cth id\u003d\"T_f7637326_983d_11ed_bb48_f23b1644f743level1_row4\" class\u003d\"row_heading level1 row4\" \u003e0.33\u003c/th\u003e \n        \u003ctd id\u003d\"T_f7637326_983d_11ed_bb48_f23b1644f743row4_col0\" class\u003d\"data row4 col0\" \u003e0.10\u003c/td\u003e \n        \u003ctd id\u003d\"T_f7637326_983d_11ed_bb48_f23b1644f743row4_col1\" class\u003d\"data row4 col1\" \u003e$68\u003c/td\u003e \n        \u003ctd id\u003d\"T_f7637326_983d_11ed_bb48_f23b1644f743row4_col2\" class\u003d\"data row4 col2\" \u003e$5\u003c/td\u003e \n        \u003ctd id\u003d\"T_f7637326_983d_11ed_bb48_f23b1644f743row4_col3\" class\u003d\"data row4 col3\" \u003e$63\u003c/td\u003e \n        \u003ctd id\u003d\"T_f7637326_983d_11ed_bb48_f23b1644f743row4_col4\" class\u003d\"data row4 col4\" \u003e33,500 FCFA\u003c/td\u003e \n    \u003c/tr\u003e    \u003ctr\u003e \n        \u003cth id\u003d\"T_f7637326_983d_11ed_bb48_f23b1644f743level1_row5\" class\u003d\"row_heading level1 row5\" \u003e0.67\u003c/th\u003e \n        \u003ctd id\u003d\"T_f7637326_983d_11ed_bb48_f23b1644f743row5_col0\" class\u003d\"data row5 col0\" \u003e0.20\u003c/td\u003e \n        \u003ctd id\u003d\"T_f7637326_983d_11ed_bb48_f23b1644f743row5_col1\" class\u003d\"data row5 col1\" \u003e$137\u003c/td\u003e \n        \u003ctd id\u003d\"T_f7637326_983d_11ed_bb48_f23b1644f743row5_col2\" class\u003d\"data row5 col2\" \u003e$10\u003c/td\u003e \n        \u003ctd id\u003d\"T_f7637326_983d_11ed_bb48_f23b1644f743row5_col3\" class\u003d\"data row5 col3\" \u003e$128\u003c/td\u003e \n        \u003ctd id\u003d\"T_f7637326_983d_11ed_bb48_f23b1644f743row5_col4\" class\u003d\"data row5 col4\" \u003e62,500 FCFA\u003c/td\u003e \n    \u003c/tr\u003e    \u003ctr\u003e \n        \u003cth id\u003d\"T_f7637326_983d_11ed_bb48_f23b1644f743level1_row6\" class\u003d\"row_heading level1 row6\" \u003e1.0\u003c/th\u003e \n        \u003ctd id\u003d\"T_f7637326_983d_11ed_bb48_f23b1644f743row6_col0\" class\u003d\"data row6 col0\" \u003e0.30\u003c/td\u003e \n        \u003ctd id\u003d\"T_f7637326_983d_11ed_bb48_f23b1644f743row6_col1\" class\u003d\"data row6 col1\" \u003e$205\u003c/td\u003e \n        \u003ctd id\u003d\"T_f7637326_983d_11ed_bb48_f23b1644f743row6_col2\" class\u003d\"data row6 col2\" \u003e$14\u003c/td\u003e \n        \u003ctd id\u003d\"T_f7637326_983d_11ed_bb48_f23b1644f743row6_col3\" class\u003d\"data row6 col3\" \u003e$191\u003c/td\u003e \n        \u003ctd id\u003d\"T_f7637326_983d_11ed_bb48_f23b1644f743row6_col4\" class\u003d\"data row6 col4\" \u003e87,500 FCFA\u003c/td\u003e \n    \u003c/tr\u003e    \u003ctr\u003e \n        \u003cth id\u003d\"T_f7637326_983d_11ed_bb48_f23b1644f743level0_row7\" class\u003d\"row_heading level0 row7\" rowspan\u003d4\u003epeanut\u003c/th\u003e \n        \u003cth id\u003d\"T_f7637326_983d_11ed_bb48_f23b1644f743level1_row7\" class\u003d\"row_heading level1 row7\" \u003e0.125\u003c/th\u003e \n        \u003ctd id\u003d\"T_f7637326_983d_11ed_bb48_f23b1644f743row7_col0\" class\u003d\"data row7 col0\" \u003e0.08\u003c/td\u003e \n        \u003ctd id\u003d\"T_f7637326_983d_11ed_bb48_f23b1644f743row7_col1\" class\u003d\"data row7 col1\" \u003e$60\u003c/td\u003e \n        \u003ctd id\u003d\"T_f7637326_983d_11ed_bb48_f23b1644f743row7_col2\" class\u003d\"data row7 col2\" \u003e$9\u003c/td\u003e \n        \u003ctd id\u003d\"T_f7637326_983d_11ed_bb48_f23b1644f743row7_col3\" class\u003d\"data row7 col3\" \u003e$51\u003c/td\u003e \n        \u003ctd id\u003d\"T_f7637326_983d_11ed_bb48_f23b1644f743row7_col4\" class\u003d\"data row7 col4\" \u003e9,500 FCFA\u003c/td\u003e \n    \u003c/tr\u003e    \u003ctr\u003e \n        \u003cth id\u003d\"T_f7637326_983d_11ed_bb48_f23b1644f743level1_row8\" class\u003d\"row_heading level1 row8\" \u003e0.25\u003c/th\u003e \n        \u003ctd id\u003d\"T_f7637326_983d_11ed_bb48_f23b1644f743row8_col0\" class\u003d\"data row8 col0\" \u003e0.17\u003c/td\u003e \n        \u003ctd id\u003d\"T_f7637326_983d_11ed_bb48_f23b1644f743row8_col1\" class\u003d\"data row8 col1\" \u003e$121\u003c/td\u003e \n        \u003ctd id\u003d\"T_f7637326_983d_11ed_bb48_f23b1644f743row8_col2\" class\u003d\"data row8 col2\" \u003e$18\u003c/td\u003e \n        \u003ctd id\u003d\"T_f7637326_983d_11ed_bb48_f23b1644f743row8_col3\" class\u003d\"data row8 col3\" \u003e$102\u003c/td\u003e \n        \u003ctd id\u003d\"T_f7637326_983d_11ed_bb48_f23b1644f743row8_col4\" class\u003d\"data row8 col4\" \u003e21,500 FCFA\u003c/td\u003e \n    \u003c/tr\u003e    \u003ctr\u003e \n        \u003cth id\u003d\"T_f7637326_983d_11ed_bb48_f23b1644f743level1_row9\" class\u003d\"row_heading level1 row9\" \u003e0.5\u003c/th\u003e \n        \u003ctd id\u003d\"T_f7637326_983d_11ed_bb48_f23b1644f743row9_col0\" class\u003d\"data row9 col0\" \u003e0.33\u003c/td\u003e \n        \u003ctd id\u003d\"T_f7637326_983d_11ed_bb48_f23b1644f743row9_col1\" class\u003d\"data row9 col1\" \u003e$241\u003c/td\u003e \n        \u003ctd id\u003d\"T_f7637326_983d_11ed_bb48_f23b1644f743row9_col2\" class\u003d\"data row9 col2\" \u003e$36\u003c/td\u003e \n        \u003ctd id\u003d\"T_f7637326_983d_11ed_bb48_f23b1644f743row9_col3\" class\u003d\"data row9 col3\" \u003e$205\u003c/td\u003e \n        \u003ctd id\u003d\"T_f7637326_983d_11ed_bb48_f23b1644f743row9_col4\" class\u003d\"data row9 col4\" \u003e38,500 FCFA\u003c/td\u003e \n    \u003c/tr\u003e    \u003ctr\u003e \n        \u003cth id\u003d\"T_f7637326_983d_11ed_bb48_f23b1644f743level1_row10\" class\u003d\"row_heading level1 row10\" \u003e1.0\u003c/th\u003e \n        \u003ctd id\u003d\"T_f7637326_983d_11ed_bb48_f23b1644f743row10_col0\" class\u003d\"data row10 col0\" \u003e0.66\u003c/td\u003e \n        \u003ctd id\u003d\"T_f7637326_983d_11ed_bb48_f23b1644f743row10_col1\" class\u003d\"data row10 col1\" \u003e$482\u003c/td\u003e \n        \u003ctd id\u003d\"T_f7637326_983d_11ed_bb48_f23b1644f743row10_col2\" class\u003d\"data row10 col2\" \u003e$73\u003c/td\u003e \n        \u003ctd id\u003d\"T_f7637326_983d_11ed_bb48_f23b1644f743row10_col3\" class\u003d\"data row10 col3\" \u003e$410\u003c/td\u003e \n        \u003ctd id\u003d\"T_f7637326_983d_11ed_bb48_f23b1644f743row10_col4\" class\u003d\"data row10 col4\" \u003e72,500 FCFA\u003c/td\u003e \n    \u003c/tr\u003e    \u003ctr\u003e \n        \u003cth id\u003d\"T_f7637326_983d_11ed_bb48_f23b1644f743level0_row11\" class\u003d\"row_heading level0 row11\" rowspan\u003d4\u003epeanut (fodder only)\u003c/th\u003e \n        \u003cth id\u003d\"T_f7637326_983d_11ed_bb48_f23b1644f743level1_row11\" class\u003d\"row_heading level1 row11\" \u003e0.125\u003c/th\u003e \n        \u003ctd id\u003d\"T_f7637326_983d_11ed_bb48_f23b1644f743row11_col0\" class\u003d\"data row11 col0\" \u003enan\u003c/td\u003e \n        \u003ctd id\u003d\"T_f7637326_983d_11ed_bb48_f23b1644f743row11_col1\" class\u003d\"data row11 col1\" \u003e$nan\u003c/td\u003e \n        \u003ctd id\u003d\"T_f7637326_983d_11ed_bb48_f23b1644f743row11_col2\" class\u003d\"data row11 col2\" \u003e$nan\u003c/td\u003e \n        \u003ctd id\u003d\"T_f7637326_983d_11ed_bb48_f23b1644f743row11_col3\" class\u003d\"data row11 col3\" \u003e$60\u003c/td\u003e \n        \u003ctd id\u003d\"T_f7637326_983d_11ed_bb48_f23b1644f743row11_col4\" class\u003d\"data row11 col4\" \u003enan FCFA\u003c/td\u003e \n    \u003c/tr\u003e    \u003ctr\u003e \n        \u003cth id\u003d\"T_f7637326_983d_11ed_bb48_f23b1644f743level1_row12\" class\u003d\"row_heading level1 row12\" \u003e0.25\u003c/th\u003e \n        \u003ctd id\u003d\"T_f7637326_983d_11ed_bb48_f23b1644f743row12_col0\" class\u003d\"data row12 col0\" \u003enan\u003c/td\u003e \n        \u003ctd id\u003d\"T_f7637326_983d_11ed_bb48_f23b1644f743row12_col1\" class\u003d\"data row12 col1\" \u003e$nan\u003c/td\u003e \n        \u003ctd id\u003d\"T_f7637326_983d_11ed_bb48_f23b1644f743row12_col2\" class\u003d\"data row12 col2\" \u003e$nan\u003c/td\u003e \n        \u003ctd id\u003d\"T_f7637326_983d_11ed_bb48_f23b1644f743row12_col3\" class\u003d\"data row12 col3\" \u003e$120\u003c/td\u003e \n        \u003ctd id\u003d\"T_f7637326_983d_11ed_bb48_f23b1644f743row12_col4\" class\u003d\"data row12 col4\" \u003enan FCFA\u003c/td\u003e \n    \u003c/tr\u003e    \u003ctr\u003e \n        \u003cth id\u003d\"T_f7637326_983d_11ed_bb48_f23b1644f743level1_row13\" class\u003d\"row_heading level1 row13\" \u003e0.5\u003c/th\u003e \n        \u003ctd id\u003d\"T_f7637326_983d_11ed_bb48_f23b1644f743row13_col0\" class\u003d\"data row13 col0\" \u003enan\u003c/td\u003e \n        \u003ctd id\u003d\"T_f7637326_983d_11ed_bb48_f23b1644f743row13_col1\" class\u003d\"data row13 col1\" \u003e$nan\u003c/td\u003e \n        \u003ctd id\u003d\"T_f7637326_983d_11ed_bb48_f23b1644f743row13_col2\" class\u003d\"data row13 col2\" \u003e$nan\u003c/td\u003e \n        \u003ctd id\u003d\"T_f7637326_983d_11ed_bb48_f23b1644f743row13_col3\" class\u003d\"data row13 col3\" \u003e$239\u003c/td\u003e \n        \u003ctd id\u003d\"T_f7637326_983d_11ed_bb48_f23b1644f743row13_col4\" class\u003d\"data row13 col4\" \u003enan FCFA\u003c/td\u003e \n    \u003c/tr\u003e    \u003ctr\u003e \n        \u003cth id\u003d\"T_f7637326_983d_11ed_bb48_f23b1644f743level1_row14\" class\u003d\"row_heading level1 row14\" \u003e1.0\u003c/th\u003e \n        \u003ctd id\u003d\"T_f7637326_983d_11ed_bb48_f23b1644f743row14_col0\" class\u003d\"data row14 col0\" \u003enan\u003c/td\u003e \n        \u003ctd id\u003d\"T_f7637326_983d_11ed_bb48_f23b1644f743row14_col1\" class\u003d\"data row14 col1\" \u003e$nan\u003c/td\u003e \n        \u003ctd id\u003d\"T_f7637326_983d_11ed_bb48_f23b1644f743row14_col2\" class\u003d\"data row14 col2\" \u003e$nan\u003c/td\u003e \n        \u003ctd id\u003d\"T_f7637326_983d_11ed_bb48_f23b1644f743row14_col3\" class\u003d\"data row14 col3\" \u003e$478\u003c/td\u003e \n        \u003ctd id\u003d\"T_f7637326_983d_11ed_bb48_f23b1644f743row14_col4\" class\u003d\"data row14 col4\" \u003enan FCFA\u003c/td\u003e \n    \u003c/tr\u003e    \u003ctr\u003e \n        \u003cth id\u003d\"T_f7637326_983d_11ed_bb48_f23b1644f743level0_row15\" class\u003d\"row_heading level0 row15\" rowspan\u003d4\u003epeanut (w/ fodder)\u003c/th\u003e \n        \u003cth id\u003d\"T_f7637326_983d_11ed_bb48_f23b1644f743level1_row15\" class\u003d\"row_heading level1 row15\" \u003e0.125\u003c/th\u003e \n        \u003ctd id\u003d\"T_f7637326_983d_11ed_bb48_f23b1644f743row15_col0\" class\u003d\"data row15 col0\" \u003enan\u003c/td\u003e \n        \u003ctd id\u003d\"T_f7637326_983d_11ed_bb48_f23b1644f743row15_col1\" class\u003d\"data row15 col1\" \u003e$nan\u003c/td\u003e \n        \u003ctd id\u003d\"T_f7637326_983d_11ed_bb48_f23b1644f743row15_col2\" class\u003d\"data row15 col2\" \u003e$nan\u003c/td\u003e \n        \u003ctd id\u003d\"T_f7637326_983d_11ed_bb48_f23b1644f743row15_col3\" class\u003d\"data row15 col3\" \u003e$111\u003c/td\u003e \n        \u003ctd id\u003d\"T_f7637326_983d_11ed_bb48_f23b1644f743row15_col4\" class\u003d\"data row15 col4\" \u003enan FCFA\u003c/td\u003e \n    \u003c/tr\u003e    \u003ctr\u003e \n        \u003cth id\u003d\"T_f7637326_983d_11ed_bb48_f23b1644f743level1_row16\" class\u003d\"row_heading level1 row16\" \u003e0.25\u003c/th\u003e \n        \u003ctd id\u003d\"T_f7637326_983d_11ed_bb48_f23b1644f743row16_col0\" class\u003d\"data row16 col0\" \u003enan\u003c/td\u003e \n        \u003ctd id\u003d\"T_f7637326_983d_11ed_bb48_f23b1644f743row16_col1\" class\u003d\"data row16 col1\" \u003e$nan\u003c/td\u003e \n        \u003ctd id\u003d\"T_f7637326_983d_11ed_bb48_f23b1644f743row16_col2\" class\u003d\"data row16 col2\" \u003e$nan\u003c/td\u003e \n        \u003ctd id\u003d\"T_f7637326_983d_11ed_bb48_f23b1644f743row16_col3\" class\u003d\"data row16 col3\" \u003e$222\u003c/td\u003e \n        \u003ctd id\u003d\"T_f7637326_983d_11ed_bb48_f23b1644f743row16_col4\" class\u003d\"data row16 col4\" \u003enan FCFA\u003c/td\u003e \n    \u003c/tr\u003e    \u003ctr\u003e \n        \u003cth id\u003d\"T_f7637326_983d_11ed_bb48_f23b1644f743level1_row17\" class\u003d\"row_heading level1 row17\" \u003e0.5\u003c/th\u003e \n        \u003ctd id\u003d\"T_f7637326_983d_11ed_bb48_f23b1644f743row17_col0\" class\u003d\"data row17 col0\" \u003enan\u003c/td\u003e \n        \u003ctd id\u003d\"T_f7637326_983d_11ed_bb48_f23b1644f743row17_col1\" class\u003d\"data row17 col1\" \u003e$nan\u003c/td\u003e \n        \u003ctd id\u003d\"T_f7637326_983d_11ed_bb48_f23b1644f743row17_col2\" class\u003d\"data row17 col2\" \u003e$nan\u003c/td\u003e \n        \u003ctd id\u003d\"T_f7637326_983d_11ed_bb48_f23b1644f743row17_col3\" class\u003d\"data row17 col3\" \u003e$444\u003c/td\u003e \n        \u003ctd id\u003d\"T_f7637326_983d_11ed_bb48_f23b1644f743row17_col4\" class\u003d\"data row17 col4\" \u003enan FCFA\u003c/td\u003e \n    \u003c/tr\u003e    \u003ctr\u003e \n        \u003cth id\u003d\"T_f7637326_983d_11ed_bb48_f23b1644f743level1_row18\" class\u003d\"row_heading level1 row18\" \u003e1.0\u003c/th\u003e \n        \u003ctd id\u003d\"T_f7637326_983d_11ed_bb48_f23b1644f743row18_col0\" class\u003d\"data row18 col0\" \u003enan\u003c/td\u003e \n        \u003ctd id\u003d\"T_f7637326_983d_11ed_bb48_f23b1644f743row18_col1\" class\u003d\"data row18 col1\" \u003e$nan\u003c/td\u003e \n        \u003ctd id\u003d\"T_f7637326_983d_11ed_bb48_f23b1644f743row18_col2\" class\u003d\"data row18 col2\" \u003e$nan\u003c/td\u003e \n        \u003ctd id\u003d\"T_f7637326_983d_11ed_bb48_f23b1644f743row18_col3\" class\u003d\"data row18 col3\" \u003e$888\u003c/td\u003e \n        \u003ctd id\u003d\"T_f7637326_983d_11ed_bb48_f23b1644f743row18_col4\" class\u003d\"data row18 col4\" \u003enan FCFA\u003c/td\u003e \n    \u003c/tr\u003e    \u003ctr\u003e \n        \u003cth id\u003d\"T_f7637326_983d_11ed_bb48_f23b1644f743level0_row19\" class\u003d\"row_heading level0 row19\" rowspan\u003d2\u003erice\u003c/th\u003e \n        \u003cth id\u003d\"T_f7637326_983d_11ed_bb48_f23b1644f743level1_row19\" class\u003d\"row_heading level1 row19\" \u003e0.05\u003c/th\u003e \n        \u003ctd id\u003d\"T_f7637326_983d_11ed_bb48_f23b1644f743row19_col0\" class\u003d\"data row19 col0\" \u003e0.05\u003c/td\u003e \n        \u003ctd id\u003d\"T_f7637326_983d_11ed_bb48_f23b1644f743row19_col1\" class\u003d\"data row19 col1\" \u003e$33\u003c/td\u003e \n        \u003ctd id\u003d\"T_f7637326_983d_11ed_bb48_f23b1644f743row19_col2\" class\u003d\"data row19 col2\" \u003e$6\u003c/td\u003e \n        \u003ctd id\u003d\"T_f7637326_983d_11ed_bb48_f23b1644f743row19_col3\" class\u003d\"data row19 col3\" \u003e$26\u003c/td\u003e \n        \u003ctd id\u003d\"T_f7637326_983d_11ed_bb48_f23b1644f743row19_col4\" class\u003d\"data row19 col4\" \u003e20,500 FCFA\u003c/td\u003e \n    \u003c/tr\u003e    \u003ctr\u003e \n        \u003cth id\u003d\"T_f7637326_983d_11ed_bb48_f23b1644f743level1_row20\" class\u003d\"row_heading level1 row20\" \u003e0.1\u003c/th\u003e \n        \u003ctd id\u003d\"T_f7637326_983d_11ed_bb48_f23b1644f743row20_col0\" class\u003d\"data row20 col0\" \u003e0.11\u003c/td\u003e \n        \u003ctd id\u003d\"T_f7637326_983d_11ed_bb48_f23b1644f743row20_col1\" class\u003d\"data row20 col1\" \u003e$65\u003c/td\u003e \n        \u003ctd id\u003d\"T_f7637326_983d_11ed_bb48_f23b1644f743row20_col2\" class\u003d\"data row20 col2\" \u003e$13\u003c/td\u003e \n        \u003ctd id\u003d\"T_f7637326_983d_11ed_bb48_f23b1644f743row20_col3\" class\u003d\"data row20 col3\" \u003e$53\u003c/td\u003e \n        \u003ctd id\u003d\"T_f7637326_983d_11ed_bb48_f23b1644f743row20_col4\" class\u003d\"data row20 col4\" \u003e38,000 FCFA\u003c/td\u003e \n    \u003c/tr\u003e\u003c/tbody\u003e \n\u003c/table\u003e "
          },
          "metadata": {}
        }
      ]
    },
    {
      "execution_count": 657,
      "cell_type": "code",
      "metadata": {},
      "source": [
        "net_profit_ml_control \u003d net_profit_ml_control.drop([\"price_cfa_avg\"], axis \u003d 1)\nnet_profit_sn_control \u003d net_profit_sn_control.drop([\"price_cfa_avg\"], axis \u003d 1)"
      ],
      "outputs": []
    },
    {
      "cell_type": "markdown",
      "metadata": {},
      "source": [
        "##### 2.a.3. Merge myAgro and Control Cereal Net Profit Per Package Dataframes"
      ]
    },
    {
      "execution_count": 658,
      "cell_type": "code",
      "metadata": {
        "scrolled": true
      },
      "source": [
        "net_profit_ml \u003d net_profit_ml_myagro.merge(net_profit_ml_control, how \u003d \u0027left\u0027, left_on\u003d[\u0027product\u0027, \u0027Package Size (Hectares)\u0027], right_on\u003d[\u0027product\u0027, \u0027Package Size (Hectares)\u0027], suffixes \u003d (\u0027\u0027, \u0027_control\u0027))\nnet_profit_sn \u003d net_profit_sn_myagro.merge(net_profit_sn_control, how \u003d \u0027left\u0027, left_on\u003d[\u0027product\u0027, \u0027Package Size (Hectares)\u0027], right_on\u003d[\u0027product\u0027, \u0027Package Size (Hectares)\u0027], suffixes \u003d (\u0027\u0027, \u0027_control\u0027))"
      ],
      "outputs": []
    },
    {
      "cell_type": "markdown",
      "metadata": {},
      "source": [
        "##### 2.a.4. Calculate MyAgro Vegetable Net Profit Per Package (stand alone packages \u0026 add ons)"
      ]
    },
    {
      "execution_count": 659,
      "cell_type": "code",
      "metadata": {},
      "source": [
        "package_price_by_product_type \u003d package_price_by_product_hectarage.set_index([\u0027product_type\u0027])"
      ],
      "outputs": []
    },
    {
      "execution_count": 660,
      "cell_type": "code",
      "metadata": {},
      "source": [
        "package_price_by_product_hectarage_veg \u003d package_price_by_product_type.loc[\"vegetable\"]\npackage_price_by_product_hectarage_addon \u003d package_price_by_product_type.loc[\"add_on\"]\n\npackage_price_by_product_hectarage_veg \u003d package_price_by_product_hectarage_veg.append(package_price_by_product_hectarage_addon).set_index([\u0027country_name\u0027, \u0027product\u0027]).drop([\u0027count\u0027], axis\u003d1).sort_index()"
      ],
      "outputs": []
    },
    {
      "execution_count": 661,
      "cell_type": "code",
      "metadata": {},
      "source": [
        "avg_yield_veg1 \u003d package_price_by_product_hectarage_veg.loc[(\"Mali\", \"cowpea_add_on\")].assign(average_yield_t_package_size_ha \u003d cowpea_t_ha_ml)\navg_yield_veg2 \u003d package_price_by_product_hectarage_veg.loc[(\"Mali\", \"okra\")].assign(average_yield_t_package_size_ha \u003d okra_t_ha_ml)\navg_yield_veg3 \u003d package_price_by_product_hectarage_veg.loc[(\"Mali\", \"okra_add_on\")].assign(average_yield_t_package_size_ha \u003d okra_t_ha_ml)\n\navg_yield_veg5 \u003d package_price_by_product_hectarage_veg.loc[(\"Senegal\", \"bissap\")].assign(average_yield_t_package_size_ha \u003d bissap_t_ha_sn)\navg_yield_veg6 \u003d package_price_by_product_hectarage_veg.loc[(\"Senegal\", \"bissap_add_on\")].assign(average_yield_t_package_size_ha \u003d bissap_t_ha_sn)\navg_yield_veg7 \u003d package_price_by_product_hectarage_veg.loc[(\"Senegal\", \"cowpea_add_on\")].assign(average_yield_t_package_size_ha \u003d cowpea_t_ha_sn)\navg_yield_veg8 \u003d package_price_by_product_hectarage_veg.loc[(\"Senegal\", \"okra\")].assign(average_yield_t_package_size_ha \u003d okra_t_ha_sn)\navg_yield_veg9 \u003d package_price_by_product_hectarage_veg.loc[(\"Senegal\", \"okra_add_on\")].assign(average_yield_t_package_size_ha \u003d okra_t_ha_sn)\navg_yield_veg10 \u003d package_price_by_product_hectarage_veg.loc[(\"Senegal\", \"watermelon\")].assign(average_yield_t_package_size_ha \u003d watermelon_t_ha_sn)\navg_yield_veg11 \u003d package_price_by_product_hectarage_veg.loc[(\"Senegal\", \"watermelon_add_on\")].assign(average_yield_t_package_size_ha \u003d watermelon_t_ha_sn)\n\npackage_price_by_product_hectarage_veg \u003d avg_yield_veg1.append([avg_yield_veg2, avg_yield_veg3, avg_yield_veg5, avg_yield_veg6, avg_yield_veg7, avg_yield_veg8, avg_yield_veg9, avg_yield_veg10, avg_yield_veg11])"
      ],
      "outputs": []
    },
    {
      "execution_count": 662,
      "cell_type": "code",
      "metadata": {},
      "source": [
        "package_price_by_product_hectarage_veg[\u0027average_yield_t_package_size_ha\u0027] \u003d package_price_by_product_hectarage_veg[\u0027average_yield_t_package_size_ha\u0027] * package_price_by_product_hectarage_veg[\u0027size_hectares\u0027]"
      ],
      "outputs": []
    },
    {
      "execution_count": 663,
      "cell_type": "code",
      "metadata": {},
      "source": [
        "mkt_price_veg1 \u003d package_price_by_product_hectarage_veg.loc[(\"Mali\", \"cowpea_add_on\")].assign(gross_value_of_yield_usd \u003d cowpea_usd_t_ml)\nmkt_price_veg2 \u003d package_price_by_product_hectarage_veg.loc[(\"Mali\", \"okra\")].assign(gross_value_of_yield_usd \u003d okra_usd_t_ml)\nmkt_price_veg3 \u003d package_price_by_product_hectarage_veg.loc[(\"Mali\", \"okra_add_on\")].assign(gross_value_of_yield_usd \u003d okra_usd_t_ml)\n\nmkt_price_veg5 \u003d package_price_by_product_hectarage_veg.loc[(\"Senegal\", \"bissap\")].assign(gross_value_of_yield_usd \u003d bissap_usd_t_sn)\nmkt_price_veg6 \u003d package_price_by_product_hectarage_veg.loc[(\"Senegal\", \"bissap_add_on\")].assign(gross_value_of_yield_usd \u003d bissap_usd_t_sn)\nmkt_price_veg7 \u003d package_price_by_product_hectarage_veg.loc[(\"Senegal\", \"cowpea_add_on\")].assign(gross_value_of_yield_usd \u003d cowpea_usd_t_sn)\nmkt_price_veg8 \u003d package_price_by_product_hectarage_veg.loc[(\"Senegal\", \"okra\")].assign(gross_value_of_yield_usd \u003d okra_usd_t_sn)\nmkt_price_veg9 \u003d package_price_by_product_hectarage_veg.loc[(\"Senegal\", \"okra_add_on\")].assign(gross_value_of_yield_usd \u003d okra_usd_t_sn)\nmkt_price_veg10 \u003d package_price_by_product_hectarage_veg.loc[(\"Senegal\", \"watermelon\")].assign(gross_value_of_yield_usd \u003d watermelon_usd_t_sn)\nmkt_price_veg11 \u003d package_price_by_product_hectarage_veg.loc[(\"Senegal\", \"watermelon_add_on\")].assign(gross_value_of_yield_usd \u003d watermelon_usd_t_sn)\n\npackage_price_by_product_hectarage_veg \u003d mkt_price_veg2.append([mkt_price_veg1, mkt_price_veg3, mkt_price_veg5, mkt_price_veg6, mkt_price_veg7, mkt_price_veg8, mkt_price_veg9, mkt_price_veg10, mkt_price_veg11])"
      ],
      "outputs": []
    },
    {
      "execution_count": 664,
      "cell_type": "code",
      "metadata": {},
      "source": [
        "package_price_by_product_hectarage_veg[\u0027gross_value_of_yield_usd\u0027] \u003d package_price_by_product_hectarage_veg[\u0027average_yield_t_package_size_ha\u0027] * package_price_by_product_hectarage_veg[\u0027gross_value_of_yield_usd\u0027]"
      ],
      "outputs": []
    },
    {
      "execution_count": 665,
      "cell_type": "code",
      "metadata": {},
      "source": [
        "package_price_by_product_hectarage_veg[\u0027input_costs_usd\u0027] \u003d package_price_by_product_hectarage_veg[\u0027price_cfa_avg\u0027] / ex_rate_cfa_to_usd\npackage_price_by_product_hectarage_veg[\u0027net_profit_usd\u0027] \u003d package_price_by_product_hectarage_veg[\u0027gross_value_of_yield_usd\u0027] - package_price_by_product_hectarage_veg[\u0027input_costs_usd\u0027]"
      ],
      "outputs": []
    },
    {
      "execution_count": 666,
      "cell_type": "code",
      "metadata": {},
      "source": [
        "net_profit_ml_veg \u003d package_price_by_product_hectarage_veg.loc[\"Mali\"].rename(columns \u003d {\u0027size_hectares\u0027: \u0027Package Size (Hectares)\u0027}).set_index([\u0027Package Size (Hectares)\u0027], append\u003dTrue)\nnet_profit_sn_veg \u003d package_price_by_product_hectarage_veg.loc[\"Senegal\"].rename(columns \u003d {\u0027size_hectares\u0027: \u0027Package Size (Hectares)\u0027}).set_index([\u0027Package Size (Hectares)\u0027], append\u003dTrue)"
      ],
      "outputs": []
    },
    {
      "cell_type": "markdown",
      "metadata": {},
      "source": [
        "**Mali**"
      ]
    },
    {
      "execution_count": 667,
      "cell_type": "code",
      "metadata": {},
      "source": [
        "net_profit_ml_veg.rename_axis([\u0027Product\u0027, \u0027Package Size (Hectares)\u0027])\\\n                 .rename(columns \u003d {\"price_cfa_avg\" : \"Price\",\n                                    \"average_yield_t_package_size_ha\" : \"Average Yield (T/Package Hectarage)\",\n                                    \"gross_value_of_yield_usd\" : \"Gross Value\",\n                                    \"input_costs_usd\" : \"Input Cost\",\n                                    \"net_profit_usd\" : \"Net Profit\"})\\\n                 .style\\\n                 .format({\"Price\": lambda val: f\"{val:,.0f} FCFA\",\n                          \"Average Yield (T/Package Hectarage)\": lambda val: f\"{val:.2f}\",\n                          \"Gross Value\": lambda val: f\"${val:,.0f}\",\n                          \"Input Cost\": lambda val: f\"${val:,.0f}\",\n                          \"Net Profit\": lambda val: f\"${val:,.0f}\"})\\\n                 .set_caption(\u0027myAgro Vegetable Net Profit Per Package\u0027)"
      ],
      "outputs": [
        {
          "output_type": "execute_result",
          "execution_count": 667,
          "data": {
            "text/plain": "\u003cpandas.io.formats.style.Styler at 0x7fba1189ccc0\u003e",
            "text/html": "\u003cstyle  type\u003d\"text/css\" \u003e\n\u003c/style\u003e  \n\u003ctable id\u003d\"T_f7779054_983d_11ed_bb48_f23b1644f743\" \u003e\u003ccaption\u003emyAgro Vegetable Net Profit Per Package\u003c/caption\u003e \n\u003cthead\u003e    \u003ctr\u003e \n        \u003cth class\u003d\"blank\" \u003e\u003c/th\u003e \n        \u003cth class\u003d\"blank level0\" \u003e\u003c/th\u003e \n        \u003cth class\u003d\"col_heading level0 col0\" \u003ePrice\u003c/th\u003e \n        \u003cth class\u003d\"col_heading level0 col1\" \u003eAverage Yield (T/Package Hectarage)\u003c/th\u003e \n        \u003cth class\u003d\"col_heading level0 col2\" \u003eGross Value\u003c/th\u003e \n        \u003cth class\u003d\"col_heading level0 col3\" \u003eInput Cost\u003c/th\u003e \n        \u003cth class\u003d\"col_heading level0 col4\" \u003eNet Profit\u003c/th\u003e \n    \u003c/tr\u003e    \u003ctr\u003e \n        \u003cth class\u003d\"index_name level0\" \u003eProduct\u003c/th\u003e \n        \u003cth class\u003d\"index_name level1\" \u003ePackage Size (Hectares)\u003c/th\u003e \n        \u003cth class\u003d\"blank\" \u003e\u003c/th\u003e \n        \u003cth class\u003d\"blank\" \u003e\u003c/th\u003e \n        \u003cth class\u003d\"blank\" \u003e\u003c/th\u003e \n        \u003cth class\u003d\"blank\" \u003e\u003c/th\u003e \n        \u003cth class\u003d\"blank\" \u003e\u003c/th\u003e \n    \u003c/tr\u003e\u003c/thead\u003e \n\u003ctbody\u003e    \u003ctr\u003e \n        \u003cth id\u003d\"T_f7779054_983d_11ed_bb48_f23b1644f743level0_row0\" class\u003d\"row_heading level0 row0\" \u003eokra\u003c/th\u003e \n        \u003cth id\u003d\"T_f7779054_983d_11ed_bb48_f23b1644f743level1_row0\" class\u003d\"row_heading level1 row0\" \u003e0.03\u003c/th\u003e \n        \u003ctd id\u003d\"T_f7779054_983d_11ed_bb48_f23b1644f743row0_col0\" class\u003d\"data row0 col0\" \u003e13,000 FCFA\u003c/td\u003e \n        \u003ctd id\u003d\"T_f7779054_983d_11ed_bb48_f23b1644f743row0_col1\" class\u003d\"data row0 col1\" \u003e0.18\u003c/td\u003e \n        \u003ctd id\u003d\"T_f7779054_983d_11ed_bb48_f23b1644f743row0_col2\" class\u003d\"data row0 col2\" \u003e$72\u003c/td\u003e \n        \u003ctd id\u003d\"T_f7779054_983d_11ed_bb48_f23b1644f743row0_col3\" class\u003d\"data row0 col3\" \u003e$21\u003c/td\u003e \n        \u003ctd id\u003d\"T_f7779054_983d_11ed_bb48_f23b1644f743row0_col4\" class\u003d\"data row0 col4\" \u003e$52\u003c/td\u003e \n    \u003c/tr\u003e    \u003ctr\u003e \n        \u003cth id\u003d\"T_f7779054_983d_11ed_bb48_f23b1644f743level0_row1\" class\u003d\"row_heading level0 row1\" \u003ecowpea_add_on\u003c/th\u003e \n        \u003cth id\u003d\"T_f7779054_983d_11ed_bb48_f23b1644f743level1_row1\" class\u003d\"row_heading level1 row1\" \u003e0.005\u003c/th\u003e \n        \u003ctd id\u003d\"T_f7779054_983d_11ed_bb48_f23b1644f743row1_col0\" class\u003d\"data row1 col0\" \u003e2,500 FCFA\u003c/td\u003e \n        \u003ctd id\u003d\"T_f7779054_983d_11ed_bb48_f23b1644f743row1_col1\" class\u003d\"data row1 col1\" \u003e0.00\u003c/td\u003e \n        \u003ctd id\u003d\"T_f7779054_983d_11ed_bb48_f23b1644f743row1_col2\" class\u003d\"data row1 col2\" \u003e$2\u003c/td\u003e \n        \u003ctd id\u003d\"T_f7779054_983d_11ed_bb48_f23b1644f743row1_col3\" class\u003d\"data row1 col3\" \u003e$4\u003c/td\u003e \n        \u003ctd id\u003d\"T_f7779054_983d_11ed_bb48_f23b1644f743row1_col4\" class\u003d\"data row1 col4\" \u003e$-2\u003c/td\u003e \n    \u003c/tr\u003e    \u003ctr\u003e \n        \u003cth id\u003d\"T_f7779054_983d_11ed_bb48_f23b1644f743level0_row2\" class\u003d\"row_heading level0 row2\" \u003eokra_add_on\u003c/th\u003e \n        \u003cth id\u003d\"T_f7779054_983d_11ed_bb48_f23b1644f743level1_row2\" class\u003d\"row_heading level1 row2\" \u003e0.016\u003c/th\u003e \n        \u003ctd id\u003d\"T_f7779054_983d_11ed_bb48_f23b1644f743row2_col0\" class\u003d\"data row2 col0\" \u003e2,500 FCFA\u003c/td\u003e \n        \u003ctd id\u003d\"T_f7779054_983d_11ed_bb48_f23b1644f743row2_col1\" class\u003d\"data row2 col1\" \u003e0.10\u003c/td\u003e \n        \u003ctd id\u003d\"T_f7779054_983d_11ed_bb48_f23b1644f743row2_col2\" class\u003d\"data row2 col2\" \u003e$39\u003c/td\u003e \n        \u003ctd id\u003d\"T_f7779054_983d_11ed_bb48_f23b1644f743row2_col3\" class\u003d\"data row2 col3\" \u003e$4\u003c/td\u003e \n        \u003ctd id\u003d\"T_f7779054_983d_11ed_bb48_f23b1644f743row2_col4\" class\u003d\"data row2 col4\" \u003e$35\u003c/td\u003e \n    \u003c/tr\u003e\u003c/tbody\u003e \n\u003c/table\u003e "
          },
          "metadata": {}
        }
      ]
    },
    {
      "cell_type": "markdown",
      "metadata": {},
      "source": [
        "**Senegal**"
      ]
    },
    {
      "execution_count": 668,
      "cell_type": "code",
      "metadata": {},
      "source": [
        "net_profit_sn_veg.rename_axis([\u0027Product\u0027, \u0027Package Size (Hectares)\u0027])\\\n                 .rename(columns \u003d {\"price_cfa_avg\" : \"Price\",\n                                    \"average_yield_t_package_size_ha\" : \"Average Yield (T/Package Hectarage)\",\n                                    \"gross_value_of_yield_usd\" : \"Gross Value\",\n                                    \"input_costs_usd\" : \"Input Cost\",\n                                    \"net_profit_usd\" : \"Net Profit\"})\\\n                 .style\\\n                 .format({\"Price\": lambda val: f\"{val:,.0f} FCFA\",\n                          \"Average Yield (T/Package Hectarage)\": lambda val: f\"{val:.2f}\",\n                          \"Gross Value\": lambda val: f\"${val:,.0f}\",\n                          \"Input Cost\": lambda val: f\"${val:,.0f}\",\n                          \"Net Profit\": lambda val: f\"${val:,.0f}\"})\\\n                 .set_caption(\u0027myAgro Vegetable Net Profit Per Package\u0027)"
      ],
      "outputs": [
        {
          "output_type": "execute_result",
          "execution_count": 668,
          "data": {
            "text/plain": "\u003cpandas.io.formats.style.Styler at 0x7fba1185add8\u003e",
            "text/html": "\u003cstyle  type\u003d\"text/css\" \u003e\n\u003c/style\u003e  \n\u003ctable id\u003d\"T_f7795222_983d_11ed_bb48_f23b1644f743\" \u003e\u003ccaption\u003emyAgro Vegetable Net Profit Per Package\u003c/caption\u003e \n\u003cthead\u003e    \u003ctr\u003e \n        \u003cth class\u003d\"blank\" \u003e\u003c/th\u003e \n        \u003cth class\u003d\"blank level0\" \u003e\u003c/th\u003e \n        \u003cth class\u003d\"col_heading level0 col0\" \u003ePrice\u003c/th\u003e \n        \u003cth class\u003d\"col_heading level0 col1\" \u003eAverage Yield (T/Package Hectarage)\u003c/th\u003e \n        \u003cth class\u003d\"col_heading level0 col2\" \u003eGross Value\u003c/th\u003e \n        \u003cth class\u003d\"col_heading level0 col3\" \u003eInput Cost\u003c/th\u003e \n        \u003cth class\u003d\"col_heading level0 col4\" \u003eNet Profit\u003c/th\u003e \n    \u003c/tr\u003e    \u003ctr\u003e \n        \u003cth class\u003d\"index_name level0\" \u003eProduct\u003c/th\u003e \n        \u003cth class\u003d\"index_name level1\" \u003ePackage Size (Hectares)\u003c/th\u003e \n        \u003cth class\u003d\"blank\" \u003e\u003c/th\u003e \n        \u003cth class\u003d\"blank\" \u003e\u003c/th\u003e \n        \u003cth class\u003d\"blank\" \u003e\u003c/th\u003e \n        \u003cth class\u003d\"blank\" \u003e\u003c/th\u003e \n        \u003cth class\u003d\"blank\" \u003e\u003c/th\u003e \n    \u003c/tr\u003e\u003c/thead\u003e \n\u003ctbody\u003e    \u003ctr\u003e \n        \u003cth id\u003d\"T_f7795222_983d_11ed_bb48_f23b1644f743level0_row0\" class\u003d\"row_heading level0 row0\" rowspan\u003d2\u003ebissap\u003c/th\u003e \n        \u003cth id\u003d\"T_f7795222_983d_11ed_bb48_f23b1644f743level1_row0\" class\u003d\"row_heading level1 row0\" \u003e0.0625\u003c/th\u003e \n        \u003ctd id\u003d\"T_f7795222_983d_11ed_bb48_f23b1644f743row0_col0\" class\u003d\"data row0 col0\" \u003e7,500 FCFA\u003c/td\u003e \n        \u003ctd id\u003d\"T_f7795222_983d_11ed_bb48_f23b1644f743row0_col1\" class\u003d\"data row0 col1\" \u003e0.03\u003c/td\u003e \n        \u003ctd id\u003d\"T_f7795222_983d_11ed_bb48_f23b1644f743row0_col2\" class\u003d\"data row0 col2\" \u003e$121\u003c/td\u003e \n        \u003ctd id\u003d\"T_f7795222_983d_11ed_bb48_f23b1644f743row0_col3\" class\u003d\"data row0 col3\" \u003e$12\u003c/td\u003e \n        \u003ctd id\u003d\"T_f7795222_983d_11ed_bb48_f23b1644f743row0_col4\" class\u003d\"data row0 col4\" \u003e$109\u003c/td\u003e \n    \u003c/tr\u003e    \u003ctr\u003e \n        \u003cth id\u003d\"T_f7795222_983d_11ed_bb48_f23b1644f743level1_row1\" class\u003d\"row_heading level1 row1\" \u003e0.125\u003c/th\u003e \n        \u003ctd id\u003d\"T_f7795222_983d_11ed_bb48_f23b1644f743row1_col0\" class\u003d\"data row1 col0\" \u003e15,000 FCFA\u003c/td\u003e \n        \u003ctd id\u003d\"T_f7795222_983d_11ed_bb48_f23b1644f743row1_col1\" class\u003d\"data row1 col1\" \u003e0.06\u003c/td\u003e \n        \u003ctd id\u003d\"T_f7795222_983d_11ed_bb48_f23b1644f743row1_col2\" class\u003d\"data row1 col2\" \u003e$242\u003c/td\u003e \n        \u003ctd id\u003d\"T_f7795222_983d_11ed_bb48_f23b1644f743row1_col3\" class\u003d\"data row1 col3\" \u003e$24\u003c/td\u003e \n        \u003ctd id\u003d\"T_f7795222_983d_11ed_bb48_f23b1644f743row1_col4\" class\u003d\"data row1 col4\" \u003e$219\u003c/td\u003e \n    \u003c/tr\u003e    \u003ctr\u003e \n        \u003cth id\u003d\"T_f7795222_983d_11ed_bb48_f23b1644f743level0_row2\" class\u003d\"row_heading level0 row2\" \u003ebissap_add_on\u003c/th\u003e \n        \u003cth id\u003d\"T_f7795222_983d_11ed_bb48_f23b1644f743level1_row2\" class\u003d\"row_heading level1 row2\" \u003e0.025\u003c/th\u003e \n        \u003ctd id\u003d\"T_f7795222_983d_11ed_bb48_f23b1644f743row2_col0\" class\u003d\"data row2 col0\" \u003e2,500 FCFA\u003c/td\u003e \n        \u003ctd id\u003d\"T_f7795222_983d_11ed_bb48_f23b1644f743row2_col1\" class\u003d\"data row2 col1\" \u003e0.01\u003c/td\u003e \n        \u003ctd id\u003d\"T_f7795222_983d_11ed_bb48_f23b1644f743row2_col2\" class\u003d\"data row2 col2\" \u003e$48\u003c/td\u003e \n        \u003ctd id\u003d\"T_f7795222_983d_11ed_bb48_f23b1644f743row2_col3\" class\u003d\"data row2 col3\" \u003e$4\u003c/td\u003e \n        \u003ctd id\u003d\"T_f7795222_983d_11ed_bb48_f23b1644f743row2_col4\" class\u003d\"data row2 col4\" \u003e$45\u003c/td\u003e \n    \u003c/tr\u003e    \u003ctr\u003e \n        \u003cth id\u003d\"T_f7795222_983d_11ed_bb48_f23b1644f743level0_row3\" class\u003d\"row_heading level0 row3\" \u003ecowpea_add_on\u003c/th\u003e \n        \u003cth id\u003d\"T_f7795222_983d_11ed_bb48_f23b1644f743level1_row3\" class\u003d\"row_heading level1 row3\" \u003e0.005\u003c/th\u003e \n        \u003ctd id\u003d\"T_f7795222_983d_11ed_bb48_f23b1644f743row3_col0\" class\u003d\"data row3 col0\" \u003e2,500 FCFA\u003c/td\u003e \n        \u003ctd id\u003d\"T_f7795222_983d_11ed_bb48_f23b1644f743row3_col1\" class\u003d\"data row3 col1\" \u003e0.00\u003c/td\u003e \n        \u003ctd id\u003d\"T_f7795222_983d_11ed_bb48_f23b1644f743row3_col2\" class\u003d\"data row3 col2\" \u003e$5\u003c/td\u003e \n        \u003ctd id\u003d\"T_f7795222_983d_11ed_bb48_f23b1644f743row3_col3\" class\u003d\"data row3 col3\" \u003e$4\u003c/td\u003e \n        \u003ctd id\u003d\"T_f7795222_983d_11ed_bb48_f23b1644f743row3_col4\" class\u003d\"data row3 col4\" \u003e$1\u003c/td\u003e \n    \u003c/tr\u003e    \u003ctr\u003e \n        \u003cth id\u003d\"T_f7795222_983d_11ed_bb48_f23b1644f743level0_row4\" class\u003d\"row_heading level0 row4\" rowspan\u003d2\u003eokra\u003c/th\u003e \n        \u003cth id\u003d\"T_f7795222_983d_11ed_bb48_f23b1644f743level1_row4\" class\u003d\"row_heading level1 row4\" \u003e0.04\u003c/th\u003e \n        \u003ctd id\u003d\"T_f7795222_983d_11ed_bb48_f23b1644f743row4_col0\" class\u003d\"data row4 col0\" \u003e7,500 FCFA\u003c/td\u003e \n        \u003ctd id\u003d\"T_f7795222_983d_11ed_bb48_f23b1644f743row4_col1\" class\u003d\"data row4 col1\" \u003e0.21\u003c/td\u003e \n        \u003ctd id\u003d\"T_f7795222_983d_11ed_bb48_f23b1644f743row4_col2\" class\u003d\"data row4 col2\" \u003e$172\u003c/td\u003e \n        \u003ctd id\u003d\"T_f7795222_983d_11ed_bb48_f23b1644f743row4_col3\" class\u003d\"data row4 col3\" \u003e$12\u003c/td\u003e \n        \u003ctd id\u003d\"T_f7795222_983d_11ed_bb48_f23b1644f743row4_col4\" class\u003d\"data row4 col4\" \u003e$161\u003c/td\u003e \n    \u003c/tr\u003e    \u003ctr\u003e \n        \u003cth id\u003d\"T_f7795222_983d_11ed_bb48_f23b1644f743level1_row5\" class\u003d\"row_heading level1 row5\" \u003e0.08\u003c/th\u003e \n        \u003ctd id\u003d\"T_f7795222_983d_11ed_bb48_f23b1644f743row5_col0\" class\u003d\"data row5 col0\" \u003e15,000 FCFA\u003c/td\u003e \n        \u003ctd id\u003d\"T_f7795222_983d_11ed_bb48_f23b1644f743row5_col1\" class\u003d\"data row5 col1\" \u003e0.42\u003c/td\u003e \n        \u003ctd id\u003d\"T_f7795222_983d_11ed_bb48_f23b1644f743row5_col2\" class\u003d\"data row5 col2\" \u003e$345\u003c/td\u003e \n        \u003ctd id\u003d\"T_f7795222_983d_11ed_bb48_f23b1644f743row5_col3\" class\u003d\"data row5 col3\" \u003e$24\u003c/td\u003e \n        \u003ctd id\u003d\"T_f7795222_983d_11ed_bb48_f23b1644f743row5_col4\" class\u003d\"data row5 col4\" \u003e$321\u003c/td\u003e \n    \u003c/tr\u003e    \u003ctr\u003e \n        \u003cth id\u003d\"T_f7795222_983d_11ed_bb48_f23b1644f743level0_row6\" class\u003d\"row_heading level0 row6\" \u003eokra_add_on\u003c/th\u003e \n        \u003cth id\u003d\"T_f7795222_983d_11ed_bb48_f23b1644f743level1_row6\" class\u003d\"row_heading level1 row6\" \u003e0.016\u003c/th\u003e \n        \u003ctd id\u003d\"T_f7795222_983d_11ed_bb48_f23b1644f743row6_col0\" class\u003d\"data row6 col0\" \u003e2,500 FCFA\u003c/td\u003e \n        \u003ctd id\u003d\"T_f7795222_983d_11ed_bb48_f23b1644f743row6_col1\" class\u003d\"data row6 col1\" \u003e0.08\u003c/td\u003e \n        \u003ctd id\u003d\"T_f7795222_983d_11ed_bb48_f23b1644f743row6_col2\" class\u003d\"data row6 col2\" \u003e$69\u003c/td\u003e \n        \u003ctd id\u003d\"T_f7795222_983d_11ed_bb48_f23b1644f743row6_col3\" class\u003d\"data row6 col3\" \u003e$4\u003c/td\u003e \n        \u003ctd id\u003d\"T_f7795222_983d_11ed_bb48_f23b1644f743row6_col4\" class\u003d\"data row6 col4\" \u003e$65\u003c/td\u003e \n    \u003c/tr\u003e    \u003ctr\u003e \n        \u003cth id\u003d\"T_f7795222_983d_11ed_bb48_f23b1644f743level0_row7\" class\u003d\"row_heading level0 row7\" rowspan\u003d2\u003ewatermelon\u003c/th\u003e \n        \u003cth id\u003d\"T_f7795222_983d_11ed_bb48_f23b1644f743level1_row7\" class\u003d\"row_heading level1 row7\" \u003e0.0125\u003c/th\u003e \n        \u003ctd id\u003d\"T_f7795222_983d_11ed_bb48_f23b1644f743row7_col0\" class\u003d\"data row7 col0\" \u003e7,500 FCFA\u003c/td\u003e \n        \u003ctd id\u003d\"T_f7795222_983d_11ed_bb48_f23b1644f743row7_col1\" class\u003d\"data row7 col1\" \u003e0.35\u003c/td\u003e \n        \u003ctd id\u003d\"T_f7795222_983d_11ed_bb48_f23b1644f743row7_col2\" class\u003d\"data row7 col2\" \u003e$110\u003c/td\u003e \n        \u003ctd id\u003d\"T_f7795222_983d_11ed_bb48_f23b1644f743row7_col3\" class\u003d\"data row7 col3\" \u003e$12\u003c/td\u003e \n        \u003ctd id\u003d\"T_f7795222_983d_11ed_bb48_f23b1644f743row7_col4\" class\u003d\"data row7 col4\" \u003e$98\u003c/td\u003e \n    \u003c/tr\u003e    \u003ctr\u003e \n        \u003cth id\u003d\"T_f7795222_983d_11ed_bb48_f23b1644f743level1_row8\" class\u003d\"row_heading level1 row8\" \u003e0.025\u003c/th\u003e \n        \u003ctd id\u003d\"T_f7795222_983d_11ed_bb48_f23b1644f743row8_col0\" class\u003d\"data row8 col0\" \u003e15,000 FCFA\u003c/td\u003e \n        \u003ctd id\u003d\"T_f7795222_983d_11ed_bb48_f23b1644f743row8_col1\" class\u003d\"data row8 col1\" \u003e0.70\u003c/td\u003e \n        \u003ctd id\u003d\"T_f7795222_983d_11ed_bb48_f23b1644f743row8_col2\" class\u003d\"data row8 col2\" \u003e$220\u003c/td\u003e \n        \u003ctd id\u003d\"T_f7795222_983d_11ed_bb48_f23b1644f743row8_col3\" class\u003d\"data row8 col3\" \u003e$24\u003c/td\u003e \n        \u003ctd id\u003d\"T_f7795222_983d_11ed_bb48_f23b1644f743row8_col4\" class\u003d\"data row8 col4\" \u003e$197\u003c/td\u003e \n    \u003c/tr\u003e    \u003ctr\u003e \n        \u003cth id\u003d\"T_f7795222_983d_11ed_bb48_f23b1644f743level0_row9\" class\u003d\"row_heading level0 row9\" \u003ewatermelon_add_on\u003c/th\u003e \n        \u003cth id\u003d\"T_f7795222_983d_11ed_bb48_f23b1644f743level1_row9\" class\u003d\"row_heading level1 row9\" \u003e0.005\u003c/th\u003e \n        \u003ctd id\u003d\"T_f7795222_983d_11ed_bb48_f23b1644f743row9_col0\" class\u003d\"data row9 col0\" \u003e2,500 FCFA\u003c/td\u003e \n        \u003ctd id\u003d\"T_f7795222_983d_11ed_bb48_f23b1644f743row9_col1\" class\u003d\"data row9 col1\" \u003e0.14\u003c/td\u003e \n        \u003ctd id\u003d\"T_f7795222_983d_11ed_bb48_f23b1644f743row9_col2\" class\u003d\"data row9 col2\" \u003e$44\u003c/td\u003e \n        \u003ctd id\u003d\"T_f7795222_983d_11ed_bb48_f23b1644f743row9_col3\" class\u003d\"data row9 col3\" \u003e$4\u003c/td\u003e \n        \u003ctd id\u003d\"T_f7795222_983d_11ed_bb48_f23b1644f743row9_col4\" class\u003d\"data row9 col4\" \u003e$40\u003c/td\u003e \n    \u003c/tr\u003e\u003c/tbody\u003e \n\u003c/table\u003e "
          },
          "metadata": {}
        }
      ]
    },
    {
      "cell_type": "markdown",
      "metadata": {},
      "source": [
        "##### 2.a.5. Calculate Vegetable Add-on Weighted Net Profit \u0026 Weighted Package Size"
      ]
    },
    {
      "cell_type": "markdown",
      "metadata": {},
      "source": [
        "All cereal packages in Mali and Senegal include the farmer\u0027s choice of vegetable add-on package. To include the impact of add-ons in the impact per package of cereal packages, the weighted average net profit of all add-on package options is calculated for each country and subsequently added to the net profit of each cereal package.\n\n\u003e**Weighted net profit of add-on package (USD)** \u003d percentage delivered out of all delivered add-on packages * net profit (USD)\n\n\u003e**Weighted net profit of add-on packages in a country (USD)** \u003d the sum of the weighted net profit of all country add-on package options (USD)\n\nTo include the impact of vegetable add-ons in the impact per cereal crop type, the weighted average of the package sizes for all the add-on package selections within a country is calculated. This is used to determine the total vegetable add-on hectares and total vegetable impact per crop type in each country, which contribute to the final net profit and impact figures per crop type for each country.\n\n\u003e**Weighted package size of add-on packages in a country (hectares)** \u003d the sum of the total hectares delivered of all country add-on package options / the total number of add-on packages delivered"
      ]
    },
    {
      "cell_type": "markdown",
      "metadata": {},
      "source": [
        "**Decision 2.a.2** \nNumber of packages is used to calculate weighted net profit for vegetable add ons. This has always been the case, but it has been labeled as number of farmers in past impact reports. This decision is simply for the purpose of increasing accuracy."
      ]
    },
    {
      "execution_count": 669,
      "cell_type": "code",
      "metadata": {},
      "source": [
        "veg_add_on_weighted_net_profit \u003d products_delivered_hectarage.set_index([\u0027country_name\u0027, \u0027product_type\u0027]).sort_index()\nveg_add_on_weighted_net_profit_ml \u003d veg_add_on_weighted_net_profit.loc[(\u0027Mali\u0027, \u0027add_on\u0027)].set_index([\u0027product\u0027])\nveg_add_on_weighted_net_profit_sn \u003d veg_add_on_weighted_net_profit.loc[(\u0027Senegal\u0027, \u0027add_on\u0027)].set_index([\u0027product\u0027])"
      ],
      "outputs": []
    },
    {
      "execution_count": 670,
      "cell_type": "code",
      "metadata": {},
      "source": [
        "veg_add_on_weighted_net_profit_ml \u003d veg_add_on_weighted_net_profit_ml.merge(net_profit_ml_veg, left_on \u003d [\u0027product\u0027], right_on \u003d [\u0027product\u0027])\nveg_add_on_weighted_net_profit_sn \u003d veg_add_on_weighted_net_profit_sn.merge(net_profit_sn_veg, left_on \u003d [\u0027product\u0027], right_on \u003d [\u0027product\u0027])"
      ],
      "outputs": []
    },
    {
      "execution_count": 671,
      "cell_type": "code",
      "metadata": {},
      "source": [
        "total_veg_add_on_packages_delivered_ml \u003d sum(veg_add_on_weighted_net_profit_ml[\u0027packages_delivered\u0027])\nveg_add_on_weighted_net_profit_ml[\u0027percentage_of_total_packages_delivered\u0027] \u003d veg_add_on_weighted_net_profit_ml[\u0027packages_delivered\u0027] / total_veg_add_on_packages_delivered_ml\nveg_add_on_weighted_net_profit_ml[\u0027weighted_net_profit\u0027] \u003d veg_add_on_weighted_net_profit_ml[\u0027net_profit_usd\u0027] * veg_add_on_weighted_net_profit_ml[\u0027percentage_of_total_packages_delivered\u0027]\nadd_on_weighted_net_profit_usd_ml \u003d sum(veg_add_on_weighted_net_profit_ml[\u0027weighted_net_profit\u0027])\n\ntotal_veg_add_on_packages_delivered_sn \u003d sum(veg_add_on_weighted_net_profit_sn[\u0027packages_delivered\u0027])\nveg_add_on_weighted_net_profit_sn[\u0027percentage_of_total_packages_delivered\u0027] \u003d veg_add_on_weighted_net_profit_sn[\u0027packages_delivered\u0027] / total_veg_add_on_packages_delivered_sn\nveg_add_on_weighted_net_profit_sn[\u0027weighted_net_profit\u0027] \u003d veg_add_on_weighted_net_profit_sn[\u0027net_profit_usd\u0027] * veg_add_on_weighted_net_profit_sn[\u0027percentage_of_total_packages_delivered\u0027]\nadd_on_weighted_net_profit_usd_sn \u003d sum(veg_add_on_weighted_net_profit_sn[\u0027weighted_net_profit\u0027])"
      ],
      "outputs": []
    },
    {
      "execution_count": 672,
      "cell_type": "code",
      "metadata": {},
      "source": [
        "#veg_add_on_weighted_net_profit_ml"
      ],
      "outputs": []
    },
    {
      "execution_count": 673,
      "cell_type": "code",
      "metadata": {},
      "source": [
        "#veg_add_on_weighted_net_profit_sn"
      ],
      "outputs": []
    },
    {
      "execution_count": 674,
      "cell_type": "code",
      "metadata": {},
      "source": [
        "add_on_package_size_ml \u003d package_price_by_product_hectarage_addon[[\u0027country_name\u0027, \u0027product\u0027, \u0027size_hectares\u0027]].set_index(\u0027country_name\u0027).loc[\u0027Mali\u0027].set_index(\u0027product\u0027)\nadd_on_package_size_sn \u003d package_price_by_product_hectarage_addon[[\u0027country_name\u0027, \u0027product\u0027, \u0027size_hectares\u0027]].set_index(\u0027country_name\u0027).loc[\u0027Senegal\u0027].set_index(\u0027product\u0027)"
      ],
      "outputs": []
    },
    {
      "execution_count": 675,
      "cell_type": "code",
      "metadata": {},
      "source": [
        "veg_add_on_weighted_net_profit_ml \u003d veg_add_on_weighted_net_profit_ml.join(add_on_package_size_ml)\nadd_on_weighted_package_size_ha_ml \u003d sum(veg_add_on_weighted_net_profit_ml[\u0027hectares_delivered\u0027]) / sum(veg_add_on_weighted_net_profit_ml[\u0027packages_delivered\u0027])\n\nveg_add_on_weighted_net_profit_sn \u003d veg_add_on_weighted_net_profit_sn.join(add_on_package_size_sn)\nadd_on_weighted_package_size_ha_sn \u003d sum(veg_add_on_weighted_net_profit_sn[\u0027hectares_delivered\u0027]) / sum(veg_add_on_weighted_net_profit_sn[\u0027packages_delivered\u0027])"
      ],
      "outputs": []
    },
    {
      "cell_type": "markdown",
      "metadata": {},
      "source": [
        "**Mali Vegetable Add-on Weighted Net Profit (USD)**"
      ]
    },
    {
      "execution_count": 676,
      "cell_type": "code",
      "metadata": {},
      "source": [
        "add_on_weighted_net_profit_usd_ml.round()"
      ],
      "outputs": [
        {
          "output_type": "execute_result",
          "execution_count": 676,
          "data": {
            "text/plain": "28.0"
          },
          "metadata": {}
        }
      ]
    },
    {
      "cell_type": "markdown",
      "metadata": {},
      "source": [
        "**Mali Vegetable Add-on Weighted Package Size (hectares)**"
      ]
    },
    {
      "execution_count": 677,
      "cell_type": "code",
      "metadata": {},
      "source": [
        "add_on_weighted_package_size_ha_ml.round(4)"
      ],
      "outputs": [
        {
          "output_type": "execute_result",
          "execution_count": 677,
          "data": {
            "text/plain": "0.0139"
          },
          "metadata": {}
        }
      ]
    },
    {
      "cell_type": "markdown",
      "metadata": {},
      "source": [
        "**Senegal Vegetable Add-on Weighted Net Profit (USD)**"
      ]
    },
    {
      "execution_count": 678,
      "cell_type": "code",
      "metadata": {},
      "source": [
        "add_on_weighted_net_profit_usd_sn.round()"
      ],
      "outputs": [
        {
          "output_type": "execute_result",
          "execution_count": 678,
          "data": {
            "text/plain": "38.0"
          },
          "metadata": {}
        }
      ]
    },
    {
      "cell_type": "markdown",
      "metadata": {},
      "source": [
        "**Senegal Vegetable Add-on Weighted Package Size (hectares)**"
      ]
    },
    {
      "execution_count": 679,
      "cell_type": "code",
      "metadata": {},
      "source": [
        "add_on_weighted_package_size_ha_sn.round(4)"
      ],
      "outputs": [
        {
          "output_type": "execute_result",
          "execution_count": 679,
          "data": {
            "text/plain": "0.0136"
          },
          "metadata": {}
        }
      ]
    },
    {
      "cell_type": "markdown",
      "metadata": {},
      "source": [
        "##### 2.a.6. Add Vegetable Net Profit to Cereal Net Profit "
      ]
    },
    {
      "cell_type": "markdown",
      "metadata": {},
      "source": [
        "Add a column for vegetable add-on weighted net profit to the cereal package net profit dataframes and append the cereal package net profit and vegetable package net profit dataframes."
      ]
    },
    {
      "execution_count": 680,
      "cell_type": "code",
      "metadata": {},
      "source": [
        "# Vegetable add-on weighted net profit is only added to cereal package rows, therefore this column must be added before\n# vegetable package net profit dataframes are appended to the cereal net profit dataframes"
      ],
      "outputs": []
    },
    {
      "execution_count": 681,
      "cell_type": "code",
      "metadata": {},
      "source": [
        "net_profit_ml[\u0027add_on_weighted_net_profit_usd\u0027] \u003d add_on_weighted_net_profit_usd_ml.round()\nnet_profit_sn[\u0027add_on_weighted_net_profit_usd\u0027] \u003d add_on_weighted_net_profit_usd_sn.round()"
      ],
      "outputs": []
    },
    {
      "execution_count": 682,
      "cell_type": "code",
      "metadata": {},
      "source": [
        "net_profit_ml \u003d net_profit_ml.append([net_profit_ml_veg], sort \u003d False)\nnet_profit_sn \u003d net_profit_sn.append([net_profit_sn_veg], sort \u003d False)"
      ],
      "outputs": []
    },
    {
      "cell_type": "markdown",
      "metadata": {},
      "source": [
        "#### 2.b. Impact Per Package\n\nThe following metrics are determined by product \u0026 package size (hectares) for each country:\n\u003e**Percent difference in yield** \u003d (myAgro average yield (tonnes/ha) - control average yield (tonnes/ha)) / control average yield (tonnes/ha)\n\n\u003e**Impact (difference in net profit) (USD)** \u003d myAgro net profit (USD) - control net profit (USD)\n\n\u003e**Percent impact (% difference in net profit)** \u003d impact (USD) / control net profit (USD)\n\n\u003e**Impact including vegetable add-ons (difference in net profit) (USD)** \u003d impact (USD) + vegetable add-on weighted net profit (USD)\n- Cereal core packages only\n\n\u003e**Percent impact including vegetable add-ons (% difference in net profit)** \u003d impact including vegetable add-ons (USD) / control net profit (USD)\n\n**Note:**\nPlanter (Semoir) impact is not included in the package-level tables. It is included at the next level of granularity: impact per crop type"
      ]
    },
    {
      "execution_count": 683,
      "cell_type": "code",
      "metadata": {},
      "source": [
        "#replace zeros with null to avoid divide by zero errors\nnet_profit_ml \u003d net_profit_ml.replace(0, np.nan)\nnet_profit_sn \u003d net_profit_sn.replace(0, np.nan)"
      ],
      "outputs": []
    },
    {
      "execution_count": 684,
      "cell_type": "code",
      "metadata": {},
      "source": [
        "net_profit_ml[\u0027percent_yield_difference\u0027] \u003d (net_profit_ml[\u0027average_yield_t_package_size_ha\u0027] - net_profit_ml[\u0027average_yield_t_package_size_ha_control\u0027]) / net_profit_ml[\u0027average_yield_t_package_size_ha_control\u0027]\nnet_profit_ml[\u0027difference_net_profit_usd\u0027] \u003d net_profit_ml[\u0027net_profit_usd\u0027] - net_profit_ml[\u0027net_profit_usd_control\u0027]\nnet_profit_ml[\u0027percent_difference_net_profit_usd\u0027] \u003d net_profit_ml[\u0027difference_net_profit_usd\u0027] / net_profit_ml[\u0027net_profit_usd_control\u0027]\n\nnet_profit_sn[\u0027percent_yield_difference\u0027] \u003d (net_profit_sn[\u0027average_yield_t_package_size_ha\u0027] - net_profit_sn[\u0027average_yield_t_package_size_ha_control\u0027]) / net_profit_sn[\u0027average_yield_t_package_size_ha_control\u0027]\nnet_profit_sn[\u0027difference_net_profit_usd\u0027] \u003d net_profit_sn[\u0027net_profit_usd\u0027] - net_profit_sn[\u0027net_profit_usd_control\u0027]\nnet_profit_sn[\u0027percent_difference_net_profit_usd\u0027] \u003d net_profit_sn[\u0027difference_net_profit_usd\u0027] / net_profit_sn[\u0027net_profit_usd_control\u0027]"
      ],
      "outputs": []
    },
    {
      "execution_count": 685,
      "cell_type": "code",
      "metadata": {},
      "source": [
        "net_profit_ml[\u0027difference_net_profit_including_add_on\u0027] \u003d net_profit_ml[\u0027difference_net_profit_usd\u0027] + net_profit_ml[\u0027add_on_weighted_net_profit_usd\u0027]\nnet_profit_ml[\u0027percent_difference_net_profit_including_add_on\u0027] \u003d net_profit_ml[\u0027difference_net_profit_including_add_on\u0027] / net_profit_ml[\u0027net_profit_usd_control\u0027]\n\nnet_profit_sn[\u0027difference_net_profit_including_add_on\u0027] \u003d net_profit_sn[\u0027difference_net_profit_usd\u0027] + net_profit_sn[\u0027add_on_weighted_net_profit_usd\u0027]\nnet_profit_sn[\u0027percent_difference_net_profit_including_add_on\u0027] \u003d net_profit_sn[\u0027difference_net_profit_including_add_on\u0027] / net_profit_sn[\u0027net_profit_usd_control\u0027]"
      ],
      "outputs": []
    },
    {
      "execution_count": 686,
      "cell_type": "code",
      "metadata": {},
      "source": [
        "net_profit_sn.loc[\u0027peanut (fodder only)\u0027, \u0027difference_net_profit_including_add_on\u0027] \u003d None\nnet_profit_sn.loc[\u0027peanut (fodder only)\u0027, \u0027percent_difference_net_profit_including_add_on\u0027] \u003d None"
      ],
      "outputs": []
    },
    {
      "execution_count": 687,
      "cell_type": "code",
      "metadata": {},
      "source": [
        "#Tables for Results Section"
      ],
      "outputs": []
    },
    {
      "execution_count": 688,
      "cell_type": "code",
      "metadata": {},
      "source": [
        "impact_per_package_ml \u003d net_profit_ml[[\u0027net_profit_usd\u0027,\n                                       \u0027net_profit_usd_control\u0027,\n                                       \u0027percent_yield_difference\u0027,\n                                       \u0027difference_net_profit_usd\u0027,\n                                       \u0027percent_difference_net_profit_usd\u0027,\n                                       \u0027add_on_weighted_net_profit_usd\u0027,\n                                       \u0027difference_net_profit_including_add_on\u0027,\n                                       \u0027percent_difference_net_profit_including_add_on\u0027]]\\\n                        .fillna(0)\\\n                        .rename_axis([\u0027Product\u0027, \u0027Package Size (Hectares)\u0027])\\\n                        .rename(columns \u003d {\u0027net_profit_usd\u0027: \u0027Net Profit myAgro\u0027,\n                                           \u0027net_profit_usd_control\u0027: \u0027Net Profit Control\u0027,\n                                           \u0027percent_yield_difference\u0027: \u0027% Difference Yield\u0027,\n                                           \u0027difference_net_profit_usd\u0027: \u0027Impact (Difference Net Profit)\u0027,\n                                           \u0027percent_difference_net_profit_usd\u0027: \u0027% Impact\u0027,\n                                           \u0027add_on_weighted_net_profit_usd\u0027: \u0027Add-on Net Profit\u0027,\n                                           \u0027difference_net_profit_including_add_on\u0027: \u0027Impact Including Add-on\u0027,\n                                           \u0027percent_difference_net_profit_including_add_on\u0027: \u0027% Impact Including Add-on\u0027})\\\n                        .style.format({\u0027Net Profit myAgro\u0027: lambda val: f\u0027${val:,.0f}\u0027,\n                                       \u0027Net Profit Control\u0027: lambda val: f\u0027${val:,.0f}\u0027,\n                                       \u0027% Difference Yield\u0027: lambda val: f\u0027{val:.2f}\u0027,\n                                       \u0027Impact (Difference Net Profit)\u0027: lambda val: f\u0027${val:,.0f}\u0027,\n                                       \u0027% Impact\u0027: lambda val: f\u0027{val:.2f}\u0027,\n                                       \u0027Add-on Net Profit\u0027: lambda val: f\u0027${val:,.0f}\u0027,\n                                       \u0027Impact Including Add-on\u0027: lambda val: f\u0027${val:,.0f}\u0027,\n                                       \u0027% Impact Including Add-on\u0027: lambda val: f\u0027{val:.2f}\u0027})"
      ],
      "outputs": []
    },
    {
      "execution_count": 689,
      "cell_type": "code",
      "metadata": {
        "code_folding": []
      },
      "source": [
        "impact_per_package_ml_summary \u003d net_profit_ml[[\u0027net_profit_usd\u0027,\n                                       \u0027net_profit_usd_control\u0027,\n                                       \u0027percent_yield_difference\u0027,\n                                       \u0027difference_net_profit_usd\u0027,\n                                       \u0027percent_difference_net_profit_usd\u0027,\n                                       \u0027add_on_weighted_net_profit_usd\u0027,\n                                       \u0027difference_net_profit_including_add_on\u0027,\n                                       \u0027percent_difference_net_profit_including_add_on\u0027]]\\\n                        .rename_axis([\u0027Product\u0027, \u0027Package Size (Hectares)\u0027])\\\n                        .loc[pd.IndexSlice[:, [1, 0.05]], :]\\\n                        .rename(columns \u003d {\u0027net_profit_usd\u0027: \u0027Net Profit myAgro\u0027,\n                                           \u0027net_profit_usd_control\u0027: \u0027Net Profit Control\u0027,\n                                           \u0027percent_yield_difference\u0027: \u0027% Difference Yield\u0027,\n                                           \u0027difference_net_profit_usd\u0027: \u0027Impact (Difference Net Profit)\u0027,\n                                           \u0027percent_difference_net_profit_usd\u0027: \u0027% Impact\u0027,\n                                           \u0027add_on_weighted_net_profit_usd\u0027: \u0027Add-on Net Profit\u0027,\n                                           \u0027difference_net_profit_including_add_on\u0027: \u0027Impact Including Add-on\u0027,\n                                           \u0027percent_difference_net_profit_including_add_on\u0027: \u0027% Impact Including Add-on\u0027})\\\n                        .style.format({\u0027Net Profit myAgro\u0027: \u0027${:20,.0f}\u0027,\n                                       \u0027Net Profit Control\u0027: \u0027${:20,.0f}\u0027,\n                                       \u0027% Difference Yield\u0027: \u0027{:.2f}\u0027,\n                                       \u0027Impact (Difference Net Profit)\u0027: \u0027${:20,.0f}\u0027,\n                                       \u0027% Impact\u0027: \u0027{:.2f}\u0027,\n                                       \u0027Add-on Net Profit\u0027: \u0027${:20,.0f}\u0027,\n                                       \u0027Impact Including Add-on\u0027: \u0027${:20,.0f}\u0027,\n                                       \u0027% Impact Including Add-on\u0027: \u0027{:.2f}\u0027})"
      ],
      "outputs": []
    },
    {
      "execution_count": 690,
      "cell_type": "code",
      "metadata": {},
      "source": [
        "impact_per_package_sn \u003d net_profit_sn[[\u0027net_profit_usd\u0027,\n                                       \u0027net_profit_usd_control\u0027,\n                                       \u0027percent_yield_difference\u0027,\n                                       \u0027difference_net_profit_usd\u0027,\n                                       \u0027percent_difference_net_profit_usd\u0027,\n                                       \u0027add_on_weighted_net_profit_usd\u0027,\n                                       \u0027difference_net_profit_including_add_on\u0027,\n                                       \u0027percent_difference_net_profit_including_add_on\u0027]]\\\n                        .fillna(0)\\\n                        .rename_axis([\u0027Product\u0027, \u0027Package Size (Hectares)\u0027])\\\n                        .rename(columns \u003d {\u0027net_profit_usd\u0027: \u0027Net Profit myAgro\u0027,\n                                           \u0027net_profit_usd_control\u0027: \u0027Net Profit Control\u0027,\n                                           \u0027percent_yield_difference\u0027: \u0027% Difference Yield\u0027,\n                                           \u0027difference_net_profit_usd\u0027: \u0027Impact (Difference Net Profit)\u0027,\n                                           \u0027percent_difference_net_profit_usd\u0027: \u0027% Impact\u0027,\n                                           \u0027add_on_weighted_net_profit_usd\u0027: \u0027Add-on Net Profit\u0027,\n                                           \u0027difference_net_profit_including_add_on\u0027: \u0027Impact Including Add-on\u0027,\n                                           \u0027percent_difference_net_profit_including_add_on\u0027: \u0027% Impact Including Add-on\u0027})\\\n                        .style.format({\u0027Net Profit myAgro\u0027: \u0027${:20,.0f}\u0027,\n                                       \u0027Net Profit Control\u0027: \u0027${:20,.0f}\u0027,\n                                       \u0027% Difference Yield\u0027: \u0027{:.2f}\u0027,\n                                       \u0027Impact (Difference Net Profit)\u0027: \u0027${:20,.0f}\u0027,\n                                       \u0027% Impact\u0027: \u0027{:.2f}\u0027,\n                                       \u0027Add-on Net Profit\u0027: \u0027${:20,.0f}\u0027,\n                                       \u0027Impact Including Add-on\u0027: \u0027${:20,.0f}\u0027,\n                                       \u0027% Impact Including Add-on\u0027: \u0027{:.2f}\u0027})"
      ],
      "outputs": []
    },
    {
      "execution_count": 691,
      "cell_type": "code",
      "metadata": {},
      "source": [
        "impact_per_package_sn_summary \u003d net_profit_sn[[\u0027net_profit_usd\u0027,\n                                       \u0027net_profit_usd_control\u0027,\n                                       \u0027percent_yield_difference\u0027,\n                                       \u0027difference_net_profit_usd\u0027,\n                                       \u0027percent_difference_net_profit_usd\u0027,\n                                       \u0027add_on_weighted_net_profit_usd\u0027,\n                                       \u0027difference_net_profit_including_add_on\u0027,\n                                       \u0027percent_difference_net_profit_including_add_on\u0027]]\\\n                        .fillna(0)\\\n                        .rename_axis([\u0027Product\u0027, \u0027Package Size (Hectares)\u0027])\\\n                        .loc[pd.IndexSlice[:, [1, 0.1]], :]\\\n                        .rename(columns \u003d {\u0027net_profit_usd\u0027: \u0027Net Profit myAgro\u0027,\n                                           \u0027net_profit_usd_control\u0027: \u0027Net Profit Control\u0027,\n                                           \u0027percent_yield_difference\u0027: \u0027% Difference Yield\u0027,\n                                           \u0027difference_net_profit_usd\u0027: \u0027Impact (Difference Net Profit)\u0027,\n                                           \u0027percent_difference_net_profit_usd\u0027: \u0027% Impact\u0027,\n                                           \u0027add_on_weighted_net_profit_usd\u0027: \u0027Add-on Net Profit\u0027,\n                                           \u0027difference_net_profit_including_add_on\u0027: \u0027Impact Including Add-on\u0027,\n                                           \u0027percent_difference_net_profit_including_add_on\u0027: \u0027% Impact Including Add-on\u0027})\\\n                        .style.format({\u0027Net Profit myAgro\u0027: \u0027${:20,.0f}\u0027,\n                                       \u0027Net Profit Control\u0027: \u0027${:20,.0f}\u0027,\n                                       \u0027% Difference Yield\u0027: \u0027{:.2f}\u0027,\n                                       \u0027Impact (Difference Net Profit)\u0027: \u0027${:20,.0f}\u0027,\n                                       \u0027% Impact\u0027: \u0027{:.2f}\u0027,\n                                       \u0027Add-on Net Profit\u0027: \u0027${:20,.0f}\u0027,\n                                       \u0027Impact Including Add-on\u0027: \u0027${:20,.0f}\u0027,\n                                       \u0027% Impact Including Add-on\u0027: \u0027{:.2f}\u0027})"
      ],
      "outputs": []
    },
    {
      "cell_type": "markdown",
      "metadata": {},
      "source": [
        "#### 2.c. Impact Per Crop Type"
      ]
    },
    {
      "cell_type": "markdown",
      "metadata": {},
      "source": [
        "The following metrics are determined by crop type for each country:\n\n\u003e**Core package hectares delivered**\n- A core package is all non-add-on packages\n\n\u003e**Percent of total core package hectares delivered** \u003d core package hectares delivered / total core package hectares delivered\n\n\u003e**Average % difference in yield**\n\n\u003e**Core package impact (USD/ha)** (See note) \n\n\u003e**Vegetable add-on hectares** \u003d number of core packages delivered * country weighted add-on package size (hectares)\n- Cereal core packages only\n\n\u003e**Vegetable add-on impact (USD/hectare)** \u003d weighted add-on net profit (USD) / weighted add-on package size (hectares)\n- Cereal core packages only\n\n\u003e**Total profit (USD)** \u003d (core package net profit (USD/hectare) \\* number of core package hectares) + (vegetable add-on hectares \\* vegetable add-on impact (USD/hectare))\n- Cereal core packages only\n\n\u003e**Total impact (USD)** \u003d (core package impact (USD/hectare) \\* number of core package hectares) + (vegetable add-on hectares \\* vegetable add-on impact (USD/hectare))\n\n\u003e**Number of packages delivered**\n\n\u003e**% Impact (% difference in net profit)** \u003d (total profit (USD) - (control farmer net profit (USD/hectare) \\* number of core package hectares)) / (control farmer net profit (USD) \\* number of core package hectares)\n\n\u003e**Impact per farmer (USD)** \u003d total impact (USD) / number of packages delivered\n- The impact per farmer of a crop type represents the impact of one package on the farmer who plants it. Therefore, impact per farmer compounds for every myAgro package that a client plants."
      ]
    },
    {
      "cell_type": "markdown",
      "metadata": {},
      "source": [
        "**Note:**\nCrops for which data was not collected during Harvest Measurement, for example most vegetable crops, lack control farmer net profit data, and therefore do not have impact per package values. Core package impact (USD/hectare) for such crop types is calculated by simply taking the difference in the market value of the yield (t/hectare) and the cost of the package. Additionally, the total profit (USD) for these products are also considered their total impact.\n\n\u003e**Vegetable core package impact (USD/ha)** \u003d market value of yield per hectare (USD) - (package price (USD) / package size (hectares))\n\n\u003e**Vegetable total profit (USD)** \u003d vegetable core package hectares * vegetable core package impact (USD/hectare)\n\n\u003e**Vegetable total impact (USD)** \u003d vegetable total profit (USD)\n\nAn alternative method for calculating Planter (Semoir) impact is also required. Impact per planter package is defined as the total impact that one planter has on one farmer in a season, independent of plot size. This is a static figure that was determined during an evalution conducted by myAgro in 2015 and converted to present-day value to be reused. Additionally, the total profit (USD) for a planter is also considered its total impact.\n\n\u003e**Planter core package impact (USD/planter)** \u003d impact per planter per farmer per season (USD)\n\n\u003e**Planter total profit (USD)** \u003d planter core package impact (USD/planter) * number of planters (packages) delivered (USD)\n\n\u003e**Planter total impact (USD)** \u003d planter total profit (USD)"
      ]
    },
    {
      "execution_count": 692,
      "cell_type": "code",
      "metadata": {},
      "source": [
        "# Creating a dataframe to assign product types to packages to easily exclude add-on packages from the net profit dataframes\n\nproduct_by_product_type \u003d package_price_by_product_hectarage[[\u0027product\u0027, \u0027product_type\u0027]]\nproduct_by_product_type \u003d pd.pivot_table(product_by_product_type, values \u003d \u0027product_type\u0027, index \u003d \u0027product\u0027, aggfunc \u003d np.max)"
      ],
      "outputs": []
    },
    {
      "execution_count": 693,
      "cell_type": "code",
      "metadata": {},
      "source": [
        "# For impact per crop type and beyond, peanut with fodder is included for Senegal (while peanut and peanut without fodder\n# is excluded)\n\nproduct_by_product_type_fodder \u003d pd.DataFrame([(\u0027peanut (w/ fodder)\u0027, \u0027cereal\u0027)], columns\u003d(\u0027product\u0027, \u0027product_type\u0027))\\\n                                   .set_index(\u0027product\u0027)\nproduct_by_product_type \u003d product_by_product_type.append(product_by_product_type_fodder)"
      ],
      "outputs": []
    },
    {
      "execution_count": 694,
      "cell_type": "code",
      "metadata": {
        "scrolled": false
      },
      "source": [
        "# average_yield_t_package_size_ha is included for ease of calculating metric tonnes of food grown in overview section \n\nnet_profit_ml_per_crop \u003d net_profit_ml[[\u0027price_cfa_avg\u0027,\n                                        \u0027net_profit_usd\u0027,\n                                        \u0027net_profit_usd_control\u0027,\n                                        \u0027percent_yield_difference\u0027,\n                                        \u0027difference_net_profit_usd\u0027,\n                                        \u0027add_on_weighted_net_profit_usd\u0027,\n                                        \u0027average_yield_t_package_size_ha\u0027]]\\\n                                    .reset_index()\n    \nnet_profit_sn_per_crop \u003d net_profit_sn[[\u0027price_cfa_avg\u0027,\n                                        \u0027net_profit_usd\u0027,\n                                        \u0027net_profit_usd_control\u0027,\n                                        \u0027percent_yield_difference\u0027,\n                                        \u0027difference_net_profit_usd\u0027,\n                                        \u0027add_on_weighted_net_profit_usd\u0027,\n                                        \u0027average_yield_t_package_size_ha\u0027]]\\\n                                    .reset_index()"
      ],
      "outputs": []
    },
    {
      "execution_count": 695,
      "cell_type": "code",
      "metadata": {},
      "source": [
        "net_profit_ml_per_crop \u003d net_profit_ml_per_crop.join(product_by_product_type, how \u003d \u0027left\u0027, on \u003d \u0027product\u0027)\nnet_profit_ml_per_crop \u003d net_profit_ml_per_crop.set_index([\u0027product_type\u0027])\nnet_profit_ml_per_crop \u003d net_profit_ml_per_crop.loc[[\u0027cereal\u0027, \u0027vegetable\u0027]].set_index([\u0027product\u0027, \u0027Package Size (Hectares)\u0027], append\u003dTrue)"
      ],
      "outputs": []
    },
    {
      "execution_count": 696,
      "cell_type": "code",
      "metadata": {},
      "source": [
        "# This line needs to be automated. Function idea below.\n\nnet_profit_ml_per_crop \u003d net_profit_ml_per_crop.loc[pd.IndexSlice[:, :, [1, 0.05, 0.03]], :]"
      ],
      "outputs": []
    },
    {
      "execution_count": 697,
      "cell_type": "code",
      "metadata": {},
      "source": [
        "#write a function that extracts indexes as dictionaries,\n#for each crop, determines if 1ha exists in the package size within each dictionary\n#if yes then returns tuple with crop name and 1.0\n#if no then returns the tuple with the crop and max value within the package sizes for the crop\n#assigns these tuples to a list\n#list is referenced in loc function choosing which rows to keep"
      ],
      "outputs": []
    },
    {
      "execution_count": 698,
      "cell_type": "code",
      "metadata": {},
      "source": [
        "net_profit_sn_per_crop \u003d net_profit_sn_per_crop.join(product_by_product_type, how \u003d \u0027left\u0027, on \u003d \u0027product\u0027)\nnet_profit_sn_per_crop \u003d net_profit_sn_per_crop.set_index([\u0027product_type\u0027])\nnet_profit_sn_per_crop \u003d net_profit_sn_per_crop.loc[[\u0027cereal\u0027, \u0027vegetable\u0027]].set_index([\u0027product\u0027, \u0027Package Size (Hectares)\u0027], append\u003dTrue)"
      ],
      "outputs": []
    },
    {
      "execution_count": 699,
      "cell_type": "code",
      "metadata": {},
      "source": [
        "# Assign to variables the values of Senegal peanut with fodder net_profit_usd, net_profit_usd_control \u0026 difference_net_profit_usd\n# This is to later replace peanut row values in net_profit_sn_per_crop with variable values\n# We keep \u0027peanut\u0027 as the index name for simpler joins with other dataframes by product later\n\nnet_profit_usd_peanut_with_fodder \u003d net_profit_sn_per_crop.at[(\u0027cereal\u0027, \u0027peanut (w/ fodder)\u0027, 1.0), \u0027net_profit_usd\u0027]\nnet_profit_usd_control_peanut_with_fodder \u003d net_profit_sn_per_crop.at[(\u0027cereal\u0027, \u0027peanut (w/ fodder)\u0027, 1.0), \u0027net_profit_usd_control\u0027]\ndifference_net_profit_usd_peanut_with_fodder \u003d net_profit_sn_per_crop.at[(\u0027cereal\u0027, \u0027peanut (w/ fodder)\u0027, 1.0), \u0027difference_net_profit_usd\u0027]"
      ],
      "outputs": []
    },
    {
      "execution_count": 700,
      "cell_type": "code",
      "metadata": {},
      "source": [
        "net_profit_sn_per_crop \u003d net_profit_sn_per_crop.loc[pd.IndexSlice[[(\u0027cereal\u0027, \u0027maize\u0027, 1.0), (\u0027cereal\u0027, \u0027peanut\u0027, 1.0), (\u0027cereal\u0027, \u0027millet\u0027, 1.0), (\u0027cereal\u0027, \u0027rice\u0027, 0.1), (\u0027vegetable\u0027, \u0027bissap\u0027, 0.125), (\u0027vegetable\u0027, \u0027okra\u0027, 0.08), (\u0027vegetable\u0027, \u0027watermelon\u0027, 0.025)]]]"
      ],
      "outputs": []
    },
    {
      "execution_count": 701,
      "cell_type": "code",
      "metadata": {},
      "source": [
        "net_profit_ml_per_crop \u003d net_profit_ml_per_crop.reset_index().set_index(\u0027product\u0027)\nnet_profit_sn_per_crop \u003d net_profit_sn_per_crop.reset_index().set_index(\u0027product\u0027)"
      ],
      "outputs": []
    },
    {
      "execution_count": 702,
      "cell_type": "code",
      "metadata": {},
      "source": [
        "# Replace Senegal peanut net profit and impact values with Senegal peanut with fodder variables\n\nnet_profit_sn_per_crop.loc[\u0027peanut\u0027, \u0027net_profit_usd\u0027] \u003d net_profit_usd_peanut_with_fodder\nnet_profit_sn_per_crop.loc[\u0027peanut\u0027, \u0027net_profit_usd_control\u0027] \u003d net_profit_usd_control_peanut_with_fodder\nnet_profit_sn_per_crop.loc[\u0027peanut\u0027, \u0027difference_net_profit_usd\u0027] \u003d difference_net_profit_usd_peanut_with_fodder"
      ],
      "outputs": []
    },
    {
      "execution_count": 703,
      "cell_type": "code",
      "metadata": {},
      "source": [
        "net_profit_ml_per_crop.loc[\u0027okra\u0027, \u0027difference_net_profit_usd\u0027] \u003d (okra_t_ha_ml * okra_usd_t_ml) - ((net_profit_ml_per_crop.loc[\u0027okra\u0027][\u0027price_cfa_avg\u0027] / ex_rate_cfa_to_usd) /  net_profit_ml_per_crop.loc[\u0027okra\u0027][\u0027Package Size (Hectares)\u0027])\nnet_profit_ml_per_crop \u003d net_profit_ml_per_crop.set_index([\u0027product_type\u0027, \u0027Package Size (Hectares)\u0027], append\u003dTrue)"
      ],
      "outputs": []
    },
    {
      "execution_count": 704,
      "cell_type": "code",
      "metadata": {},
      "source": [
        "planter_product_type \u003d product_by_product_type.loc[[\u0027planter\u0027]]\nplanter_product_type[\u0027Package Size (Hectares)\u0027] \u003d 0\nplanter_product_type[\u0027difference_net_profit_usd\u0027] \u003d planter_impact_usd_ha_ml\nplanter_product_type \u003d planter_product_type.set_index([\u0027product_type\u0027, \u0027Package Size (Hectares)\u0027], append\u003dTrue)"
      ],
      "outputs": []
    },
    {
      "execution_count": 705,
      "cell_type": "code",
      "metadata": {},
      "source": [
        "net_profit_ml_per_crop \u003d net_profit_ml_per_crop.append(planter_product_type, sort\u003dTrue)"
      ],
      "outputs": []
    },
    {
      "execution_count": 706,
      "cell_type": "code",
      "metadata": {},
      "source": [
        "net_profit_sn_per_crop.loc[\u0027bissap\u0027, \u0027difference_net_profit_usd\u0027] \u003d (bissap_t_ha_sn * bissap_usd_t_sn) - ((net_profit_sn_per_crop.loc[\u0027bissap\u0027][\u0027price_cfa_avg\u0027] / ex_rate_cfa_to_usd) /  net_profit_sn_per_crop.loc[\u0027bissap\u0027][\u0027Package Size (Hectares)\u0027])\nnet_profit_sn_per_crop.loc[\u0027okra\u0027, \u0027difference_net_profit_usd\u0027] \u003d (okra_t_ha_sn * okra_usd_t_sn) - ((net_profit_sn_per_crop.loc[\u0027okra\u0027][\u0027price_cfa_avg\u0027] / ex_rate_cfa_to_usd) /  net_profit_sn_per_crop.loc[\u0027okra\u0027][\u0027Package Size (Hectares)\u0027])\nnet_profit_sn_per_crop.loc[\u0027watermelon\u0027, \u0027difference_net_profit_usd\u0027] \u003d (watermelon_t_ha_sn * watermelon_usd_t_sn) - ((net_profit_sn_per_crop.loc[\u0027watermelon\u0027][\u0027price_cfa_avg\u0027] / ex_rate_cfa_to_usd) /  net_profit_sn_per_crop.loc[\u0027watermelon\u0027][\u0027Package Size (Hectares)\u0027])\nnet_profit_sn_per_crop \u003d net_profit_sn_per_crop.set_index([\u0027product_type\u0027, \u0027Package Size (Hectares)\u0027], append\u003dTrue)"
      ],
      "outputs": []
    },
    {
      "execution_count": 707,
      "cell_type": "code",
      "metadata": {},
      "source": [
        "# Add hectares \u0026 packages delivered columns to net profit dataframes\n\npackages_delivered \u003d products_delivered_hectarage[[\u0027country_name\u0027, \u0027product\u0027, \u0027packages_delivered\u0027, \u0027hectares_delivered\u0027]].set_index(\u0027country_name\u0027)\npackages_delivered_ml \u003d packages_delivered.loc[\u0027Mali\u0027].set_index(\u0027product\u0027)\npackages_delivered_sn \u003d packages_delivered.loc[\u0027Senegal\u0027].set_index(\u0027product\u0027)"
      ],
      "outputs": []
    },
    {
      "execution_count": 708,
      "cell_type": "code",
      "metadata": {},
      "source": [
        "net_profit_ml_per_crop \u003d net_profit_ml_per_crop.join(packages_delivered_ml, how\u003d\u0027left\u0027, on\u003d\u0027product\u0027).reset_index().set_index(\u0027product_type\u0027)\nnet_profit_sn_per_crop \u003d net_profit_sn_per_crop.join(packages_delivered_sn, how\u003d\u0027left\u0027, on\u003d\u0027product\u0027).reset_index().set_index(\u0027product_type\u0027)"
      ],
      "outputs": []
    },
    {
      "execution_count": 709,
      "cell_type": "code",
      "metadata": {},
      "source": [
        "total_core_package_hectares_delivered_ml \u003d sum(net_profit_ml_per_crop[\u0027hectares_delivered\u0027])\ntotal_core_package_hectares_delivered_sn \u003d sum(net_profit_sn_per_crop[\u0027hectares_delivered\u0027])"
      ],
      "outputs": []
    },
    {
      "execution_count": 710,
      "cell_type": "code",
      "metadata": {},
      "source": [
        "total_cereal_package_hectares_delivered_ml \u003d sum(net_profit_ml_per_crop.loc[\u0027cereal\u0027][\u0027hectares_delivered\u0027])\ntotal_cereal_package_hectares_delivered_sn \u003d sum(net_profit_sn_per_crop.loc[\u0027cereal\u0027][\u0027hectares_delivered\u0027])\ntotal_cereal_package_hectares_delivered \u003d total_cereal_package_hectares_delivered_ml + total_cereal_package_hectares_delivered_sn"
      ],
      "outputs": []
    },
    {
      "execution_count": 711,
      "cell_type": "code",
      "metadata": {},
      "source": [
        "# Weighted yield difference and impact columns to aggregate for the impact per country"
      ],
      "outputs": []
    },
    {
      "execution_count": 712,
      "cell_type": "code",
      "metadata": {},
      "source": [
        "net_profit_ml_per_crop[\u0027weighted_percent_yield_difference\u0027] \u003d net_profit_ml_per_crop[\u0027percent_yield_difference\u0027] * (net_profit_ml_per_crop[\u0027hectares_delivered\u0027] / total_cereal_package_hectares_delivered_ml)\nnet_profit_sn_per_crop[\u0027weighted_percent_yield_difference\u0027] \u003d net_profit_sn_per_crop[\u0027percent_yield_difference\u0027] * (net_profit_sn_per_crop[\u0027hectares_delivered\u0027] / total_cereal_package_hectares_delivered_sn)"
      ],
      "outputs": []
    },
    {
      "execution_count": 713,
      "cell_type": "code",
      "metadata": {},
      "source": [
        "# Seperate out planter from dataframe to exclude from percentage_total_core_hectares calculation\n# Mali only for 2022"
      ],
      "outputs": []
    },
    {
      "execution_count": 714,
      "cell_type": "code",
      "metadata": {},
      "source": [
        "net_profit_ml_per_crop_planter \u003d net_profit_ml_per_crop.loc[[\u0027planter\u0027]]\nnet_profit_ml_per_crop \u003d net_profit_ml_per_crop.drop(\u0027planter\u0027)"
      ],
      "outputs": []
    },
    {
      "execution_count": 715,
      "cell_type": "code",
      "metadata": {},
      "source": [
        "net_profit_ml_per_crop[\u0027percentage_total_core_hectares\u0027] \u003d net_profit_ml_per_crop[\u0027hectares_delivered\u0027] / total_core_package_hectares_delivered_ml\nnet_profit_sn_per_crop[\u0027percentage_total_core_hectares\u0027] \u003d net_profit_sn_per_crop[\u0027hectares_delivered\u0027] / total_core_package_hectares_delivered_sn"
      ],
      "outputs": []
    },
    {
      "execution_count": 716,
      "cell_type": "code",
      "metadata": {},
      "source": [
        "# Add planter row back into dataframe"
      ],
      "outputs": []
    },
    {
      "execution_count": 717,
      "cell_type": "code",
      "metadata": {},
      "source": [
        "net_profit_ml_per_crop \u003d net_profit_ml_per_crop.append(net_profit_ml_per_crop_planter, sort\u003dTrue)"
      ],
      "outputs": []
    },
    {
      "execution_count": 718,
      "cell_type": "code",
      "metadata": {},
      "source": [
        "net_profit_ml_per_crop[\u0027weighted_difference_net_profit_usd\u0027] \u003d net_profit_ml_per_crop[\u0027difference_net_profit_usd\u0027] * net_profit_ml_per_crop[\u0027percentage_total_core_hectares\u0027]\nnet_profit_sn_per_crop[\u0027weighted_difference_net_profit_usd\u0027] \u003d net_profit_sn_per_crop[\u0027difference_net_profit_usd\u0027] * net_profit_sn_per_crop[\u0027percentage_total_core_hectares\u0027]"
      ],
      "outputs": []
    },
    {
      "execution_count": 719,
      "cell_type": "code",
      "metadata": {},
      "source": [
        "# Append country tables together for ease of calculations now and for impact per country table later\n\nnet_profit_ml_per_crop[\u0027country_name\u0027] \u003d \u0027Mali\u0027\nnet_profit_sn_per_crop[\u0027country_name\u0027] \u003d \u0027Senegal\u0027\n\nnet_profit_ml_per_crop \u003d net_profit_ml_per_crop.reset_index().set_index(\u0027country_name\u0027)\nnet_profit_sn_per_crop \u003d net_profit_sn_per_crop.reset_index().set_index(\u0027country_name\u0027)"
      ],
      "outputs": []
    },
    {
      "execution_count": 720,
      "cell_type": "code",
      "metadata": {},
      "source": [
        "net_profit_per_crop_ml_sn \u003d net_profit_ml_per_crop.append(net_profit_sn_per_crop, sort\u003dTrue).reset_index()"
      ],
      "outputs": []
    },
    {
      "execution_count": 721,
      "cell_type": "code",
      "metadata": {},
      "source": [
        "# Weighted yield difference column to aggregate for overall impact"
      ],
      "outputs": []
    },
    {
      "execution_count": 722,
      "cell_type": "code",
      "metadata": {},
      "source": [
        "net_profit_per_crop_ml_sn[\u0027weighted_percent_yield_difference_overall\u0027] \u003d net_profit_per_crop_ml_sn[\u0027percent_yield_difference\u0027] * (net_profit_per_crop_ml_sn[\u0027hectares_delivered\u0027] / total_cereal_package_hectares_delivered)"
      ],
      "outputs": []
    },
    {
      "execution_count": 723,
      "cell_type": "code",
      "metadata": {},
      "source": [
        "# Add-on variables are allocated to cereal packages only\n\ndef add_on_ha_cereal_crops_only(row):\n    if row[\u0027product_type\u0027] \u003d\u003d \u0027cereal\u0027 and row[\u0027country_name\u0027] \u003d\u003d \u0027Mali\u0027:\n        return row[\u0027packages_delivered\u0027] * add_on_weighted_package_size_ha_ml\n    elif row[\u0027product_type\u0027] \u003d\u003d \u0027cereal\u0027 and row[\u0027country_name\u0027] \u003d\u003d \u0027Senegal\u0027:\n        return row[\u0027packages_delivered\u0027] * add_on_weighted_package_size_ha_sn\n\nnet_profit_per_crop_ml_sn \u003d net_profit_per_crop_ml_sn.assign(add_on_ha\u003dnet_profit_per_crop_ml_sn.apply(add_on_ha_cereal_crops_only, axis\u003d1))"
      ],
      "outputs": []
    },
    {
      "execution_count": 724,
      "cell_type": "code",
      "metadata": {},
      "source": [
        "def add_on_impact(row):\n    if row[\u0027country_name\u0027] \u003d\u003d \u0027Mali\u0027:\n        return row[\u0027add_on_weighted_net_profit_usd\u0027] / add_on_weighted_package_size_ha_ml\n    elif row[\u0027country_name\u0027] \u003d\u003d \u0027Senegal\u0027:\n        return row[\u0027add_on_weighted_net_profit_usd\u0027] / add_on_weighted_package_size_ha_sn\n\nnet_profit_per_crop_ml_sn \u003d net_profit_per_crop_ml_sn.assign(add_on_impact\u003dnet_profit_per_crop_ml_sn.apply(add_on_impact, axis\u003d1))"
      ],
      "outputs": []
    },
    {
      "execution_count": 725,
      "cell_type": "code",
      "metadata": {},
      "source": [
        "def total_profit_calc(row):\n    if row[\u0027product_type\u0027] \u003d\u003d \u0027cereal\u0027:\n        return (row[\u0027net_profit_usd\u0027] * row[\u0027hectares_delivered\u0027]) + (row[\u0027add_on_ha\u0027] * row[\u0027add_on_impact\u0027])\n    elif row[\u0027product_type\u0027] \u003d\u003d \u0027vegetable\u0027:\n        return row[\u0027difference_net_profit_usd\u0027] * row[\u0027hectares_delivered\u0027]\n    elif row[\u0027product_type\u0027] \u003d\u003d \u0027planter\u0027:\n        return row[\u0027difference_net_profit_usd\u0027] * row[\u0027packages_delivered\u0027]\n\nnet_profit_per_crop_ml_sn \u003d net_profit_per_crop_ml_sn.assign(total_profit_usd\u003dnet_profit_per_crop_ml_sn.apply(total_profit_calc, axis\u003d1))"
      ],
      "outputs": []
    },
    {
      "execution_count": 726,
      "cell_type": "code",
      "metadata": {},
      "source": [
        "# In 2022, no vegetable crops were included in harvest measurement data collection, and so we are able to use product type \n# as the condition of the function below\n# Vegetable and planter total impact \u003d total profit\n\ndef total_impact_calc(row):\n    if row[\u0027product_type\u0027] \u003d\u003d \u0027cereal\u0027:\n        return (row[\u0027difference_net_profit_usd\u0027] * row[\u0027hectares_delivered\u0027]) + (row[\u0027add_on_ha\u0027] * row[\u0027add_on_impact\u0027])\n    elif row[\u0027product_type\u0027] \u003d\u003d \u0027vegetable\u0027 or row[\u0027product_type\u0027] \u003d\u003d \u0027planter\u0027:\n        return row[\u0027total_profit_usd\u0027]\n\nnet_profit_per_crop_ml_sn \u003d net_profit_per_crop_ml_sn.assign(total_impact_usd\u003dnet_profit_per_crop_ml_sn.apply(total_impact_calc, axis\u003d1))"
      ],
      "outputs": []
    },
    {
      "execution_count": 727,
      "cell_type": "code",
      "metadata": {},
      "source": [
        "net_profit_per_crop_ml_sn \u003d net_profit_per_crop_ml_sn.set_index([\u0027country_name\u0027, \u0027product\u0027])"
      ],
      "outputs": []
    },
    {
      "execution_count": 728,
      "cell_type": "code",
      "metadata": {},
      "source": [
        "net_profit_per_crop_ml_sn[\u0027percent_total_impact\u0027] \u003d (net_profit_per_crop_ml_sn[\u0027total_profit_usd\u0027] - (net_profit_per_crop_ml_sn[\u0027net_profit_usd_control\u0027] * net_profit_per_crop_ml_sn[\u0027hectares_delivered\u0027])) / (net_profit_per_crop_ml_sn[\u0027net_profit_usd_control\u0027] * net_profit_per_crop_ml_sn[\u0027hectares_delivered\u0027])"
      ],
      "outputs": []
    },
    {
      "execution_count": 729,
      "cell_type": "code",
      "metadata": {},
      "source": [
        "net_profit_per_crop_ml_sn[\u0027impact_per_farmer_usd\u0027] \u003d net_profit_per_crop_ml_sn[\u0027total_impact_usd\u0027] / net_profit_per_crop_ml_sn[\u0027packages_delivered\u0027]"
      ],
      "outputs": []
    },
    {
      "execution_count": 730,
      "cell_type": "code",
      "metadata": {
        "scrolled": true
      },
      "source": [
        "impact_ml_per_crop \u003d net_profit_per_crop_ml_sn.loc[\u0027Mali\u0027][[\u0027percentage_total_core_hectares\u0027, \u0027hectares_delivered\u0027, \u0027percent_yield_difference\u0027, \u0027difference_net_profit_usd\u0027, \u0027add_on_ha\u0027, \u0027add_on_impact\u0027, \u0027total_profit_usd\u0027, \u0027total_impact_usd\u0027, \u0027packages_delivered\u0027, \u0027percent_total_impact\u0027, \u0027impact_per_farmer_usd\u0027]]\nimpact_sn_per_crop \u003d net_profit_per_crop_ml_sn.loc[\u0027Senegal\u0027][[\u0027percentage_total_core_hectares\u0027, \u0027hectares_delivered\u0027, \u0027percent_yield_difference\u0027, \u0027difference_net_profit_usd\u0027, \u0027add_on_ha\u0027, \u0027add_on_impact\u0027, \u0027total_profit_usd\u0027, \u0027total_impact_usd\u0027, \u0027packages_delivered\u0027, \u0027percent_total_impact\u0027, \u0027impact_per_farmer_usd\u0027]]"
      ],
      "outputs": []
    },
    {
      "execution_count": 731,
      "cell_type": "code",
      "metadata": {},
      "source": [
        "# Tables for results section"
      ],
      "outputs": []
    },
    {
      "execution_count": 732,
      "cell_type": "code",
      "metadata": {},
      "source": [
        "impact_ml_per_crop_display \u003d impact_ml_per_crop[[\u0027percentage_total_core_hectares\u0027,\n                                       \u0027hectares_delivered\u0027,\n                                       \u0027percent_yield_difference\u0027,\n                                       \u0027difference_net_profit_usd\u0027,\n                                       \u0027add_on_ha\u0027,\n                                       \u0027add_on_impact\u0027,\n                                       \u0027total_profit_usd\u0027,\n                                       \u0027total_impact_usd\u0027,\n                                       \u0027packages_delivered\u0027,\n                                       \u0027percent_total_impact\u0027,\n                                       \u0027impact_per_farmer_usd\u0027]]\\\n                        .fillna(0)\\\n                        .rename_axis([\u0027Product\u0027])\\\n                        .rename(columns \u003d {\u0027percentage_total_core_hectares\u0027: \u0027% Total Core Package Hectares Delivered\u0027,\n                                           \u0027hectares_delivered\u0027: \u0027Core Package Hectares Delivered\u0027,\n                                           \u0027percent_yield_difference\u0027: \u0027Average % Difference Yield\u0027,\n                                           \u0027difference_net_profit_usd\u0027: \u0027Core Package Impact Per Hectare\u0027,\n                                           \u0027add_on_ha\u0027: \u0027Vegetable Add-on Hectares\u0027,\n                                           \u0027add_on_impact\u0027: \u0027Vegetable Add-on Impact Per Hectare\u0027,\n                                           \u0027total_profit_usd\u0027: \u0027Total Profit\u0027,\n                                           \u0027total_impact_usd\u0027: \u0027Total Impact\u0027,\n                                           \u0027packages_delivered\u0027: \u0027Packages Delivered\u0027,\n                                           \u0027percent_total_impact\u0027: \u0027% Total Impact\u0027,\n                                           \u0027impact_per_farmer_usd\u0027: \u0027Impact Per Farmer\u0027},\n                                index \u003d {\u0027maize\u0027: \u0027Maize + veg. add-on\u0027,\n                                         \u0027peanut\u0027: \u0027Peanut + veg. add-on\u0027,\n                                         \u0027rice\u0027: \u0027Rice + veg. add-on\u0027,\n                                         \u0027sorghum\u0027: \u0027Sorghum + veg. add-on\u0027,\n                                         \u0027okra\u0027: \u0027Okra\u0027,\n                                         \u0027planter\u0027: \u0027Planter\u0027})\\\n                        .style.format({\u0027% Total Core Package Hectares Delivered\u0027: lambda val: f\u0027{val:.2f}\u0027,\n                                       \u0027Core Package Hectares Delivered\u0027: lambda val: f\u0027{val:,.0f}\u0027,\n                                       \u0027Average % Difference Yield\u0027: lambda val: f\u0027{val:.2f}\u0027,\n                                       \u0027Core Package Impact Per Hectare\u0027: lambda val: f\u0027${val:,.0f}\u0027,\n                                       \u0027Vegetable Add-on Hectares\u0027: lambda val: f\u0027{val:.0f}\u0027,\n                                       \u0027Vegetable Add-on Impact Per Hectare\u0027: lambda val: f\u0027${val:,.0f}\u0027,\n                                       \u0027Total Profit\u0027: lambda val: f\u0027${val:,.0f}\u0027,\n                                       \u0027Total Impact\u0027: lambda val: f\u0027${val:,.0f}\u0027,\n                                       \u0027Packages Delivered\u0027: lambda val: f\u0027{val:,}\u0027,\n                                       \u0027% Total Impact\u0027: lambda val: f\u0027{val:.2f}\u0027,\n                                       \u0027Impact Per Farmer\u0027: lambda val: f\u0027${val:,.0f}\u0027})"
      ],
      "outputs": []
    },
    {
      "execution_count": 733,
      "cell_type": "code",
      "metadata": {},
      "source": [
        "impact_sn_per_crop_display \u003d impact_sn_per_crop[[\u0027percentage_total_core_hectares\u0027,\n                                       \u0027hectares_delivered\u0027,\n                                       \u0027percent_yield_difference\u0027,\n                                       \u0027difference_net_profit_usd\u0027,\n                                       \u0027add_on_ha\u0027,\n                                       \u0027add_on_impact\u0027,\n                                       \u0027total_profit_usd\u0027,\n                                       \u0027total_impact_usd\u0027,\n                                       \u0027packages_delivered\u0027,\n                                       \u0027percent_total_impact\u0027,\n                                       \u0027impact_per_farmer_usd\u0027]]\\\n                        .fillna(0)\\\n                        .rename_axis([\u0027Product\u0027])\\\n                        .rename(columns \u003d {\u0027percentage_total_core_hectares\u0027: \u0027% Total Core Package Hectares Delivered\u0027,\n                                           \u0027hectares_delivered\u0027: \u0027Core Package Hectares Delivered\u0027,\n                                           \u0027percent_yield_difference\u0027: \u0027Average % Difference Yield\u0027,\n                                           \u0027difference_net_profit_usd\u0027: \u0027Core Package Impact Per Hectare\u0027,\n                                           \u0027add_on_ha\u0027: \u0027Vegetable Add-on Hectares\u0027,\n                                           \u0027add_on_impact\u0027: \u0027Vegetable Add-on Impact Per Hectare\u0027,\n                                           \u0027total_profit_usd\u0027: \u0027Total Profit\u0027,\n                                           \u0027total_impact_usd\u0027: \u0027Total Impact\u0027,\n                                           \u0027packages_delivered\u0027: \u0027Packages Delivered\u0027,\n                                           \u0027percent_total_impact\u0027: \u0027% Total Impact\u0027,\n                                           \u0027impact_per_farmer_usd\u0027: \u0027Impact Per Farmer\u0027},\n                                index \u003d {\u0027maize\u0027: \u0027Maize + veg. add-on\u0027,\n                                         \u0027peanut\u0027: \u0027Peanut + fodder + veg. add-on\u0027,\n                                         \u0027millet\u0027: \u0027Millet + veg. add-on\u0027,\n                                         \u0027rice\u0027: \u0027Rice + veg. add-on\u0027,\n                                         \u0027okra\u0027: \u0027Okra\u0027,\n                                         \u0027bissap\u0027: \u0027Bissap\u0027,\n                                         \u0027watermelon\u0027: \u0027Watermelon\u0027})\\\n                        .style.format({\u0027% Total Core Package Hectares Delivered\u0027: lambda val: f\u0027{val:.2f}\u0027,\n                                       \u0027Core Package Hectares Delivered\u0027: lambda val: f\u0027{val:,.0f}\u0027,\n                                       \u0027Average % Difference Yield\u0027: lambda val: f\u0027{val:.2f}\u0027,\n                                       \u0027Core Package Impact Per Hectare\u0027: lambda val: f\u0027${val:,.0f}\u0027,\n                                       \u0027Vegetable Add-on Hectares\u0027: lambda val: f\u0027{val:.0f}\u0027,\n                                       \u0027Vegetable Add-on Impact Per Hectare\u0027: lambda val: f\u0027${val:,.0f}\u0027,\n                                       \u0027Total Profit\u0027: lambda val: f\u0027${val:,.0f}\u0027,\n                                       \u0027Total Impact\u0027: lambda val: f\u0027${val:,.0f}\u0027,\n                                       \u0027Packages Delivered\u0027: lambda val: f\u0027{val:,}\u0027,\n                                       \u0027% Total Impact\u0027: lambda val: f\u0027{val:.2f}\u0027,\n                                       \u0027Impact Per Farmer\u0027: lambda val: f\u0027${val:,.0f}\u0027})"
      ],
      "outputs": []
    },
    {
      "cell_type": "markdown",
      "metadata": {},
      "source": [
        "#### 2.d. Impact Per Country"
      ]
    },
    {
      "cell_type": "markdown",
      "metadata": {},
      "source": [
        "The following metrics are determined for each country:\n\n\u003e**Core package hectares delivered** \u003d sum of the results in the impact per crop type table\n\n\u003e**Percent of total core package hectares delivered** \u003d core package hectares delivered / total core package hectares delivered\n\n\u003e**Weighted % difference in yield** \u003d sum of the weighted average % difference in yield for all crop types\n- Weighted by share of total cereal hectares delivered\n\n\u003e**Core package impact (USD/ha)** \u003d sum of the weighted core package impact of all crop types\n- Weighted by the percent of total core package hectares delivered\n\n\u003e**Vegetable add-on hectares** \u003d sum of the results in the impact per crop type table   \n\n\u003e**Vegetable add-on impact (USD/hectare)** (unique country-level variable)\n\n\u003e**Total profit (USD)** \u003d sum of the results in the impact per crop type table\n\n\u003e**Total impact (USD)** \u003d sum of the results in the impact per crop type table\n\n\u003e**Number of farmers** \u003d distinct count of farmers that were delivered at least one myAgro package\n\n\u003e**% Total Impact (% difference in net profit)** \u003d total impact (USD) / (total profit (USD) - total impact (USD))\n\n\u003e**Impact per farmer (USD)** \u003d total impact (USD) / number of farmers\n- Impact per farmer is calculated differently per country than it is per crop type. Impact per farmer per country represents the distribution of the total dollar value of myAgro\u0027s impact among the number of unique farmers that were delivered at least one myAgro package in the season."
      ]
    },
    {
      "execution_count": 734,
      "cell_type": "code",
      "metadata": {},
      "source": [
        "# Weighted_percent_yield_difference_overall is included to later determine overall impact in the impact per country dataframe\n\nimpact_per_country_agg_sum \u003d net_profit_per_crop_ml_sn[[\u0027hectares_delivered\u0027, \u0027add_on_ha\u0027, \u0027total_profit_usd\u0027, \u0027total_impact_usd\u0027, \u0027weighted_percent_yield_difference\u0027, \u0027weighted_difference_net_profit_usd\u0027, \u0027weighted_percent_yield_difference_overall\u0027]].groupby(by\u003d\u0027country_name\u0027).sum()"
      ],
      "outputs": []
    },
    {
      "execution_count": 735,
      "cell_type": "code",
      "metadata": {},
      "source": [
        "# Add-on impact is one country-level value assigned to each crop type, therefore we can use mean to retrieve it\nimpact_per_country_agg_mean \u003d net_profit_per_crop_ml_sn[[\u0027add_on_impact\u0027]].groupby(by\u003d\u0027country_name\u0027).mean()"
      ],
      "outputs": []
    },
    {
      "execution_count": 736,
      "cell_type": "code",
      "metadata": {},
      "source": [
        "impact_per_country \u003d impact_per_country_agg_sum.join(impact_per_country_agg_mean)"
      ],
      "outputs": []
    },
    {
      "execution_count": 737,
      "cell_type": "code",
      "metadata": {},
      "source": [
        "total_core_package_hectares_delivered \u003d total_core_package_hectares_delivered_ml + total_core_package_hectares_delivered_sn"
      ],
      "outputs": []
    },
    {
      "execution_count": 738,
      "cell_type": "code",
      "metadata": {},
      "source": [
        "impact_per_country[\u0027percentage_total_core_hectares\u0027] \u003d impact_per_country[\u0027hectares_delivered\u0027] / total_core_package_hectares_delivered"
      ],
      "outputs": []
    },
    {
      "execution_count": 739,
      "cell_type": "code",
      "metadata": {},
      "source": [
        "impact_per_country[\u0027percent_total_impact\u0027] \u003d impact_per_country[\u0027total_impact_usd\u0027] / (impact_per_country[\u0027total_profit_usd\u0027] - impact_per_country[\u0027total_impact_usd\u0027])"
      ],
      "outputs": []
    },
    {
      "execution_count": 740,
      "cell_type": "code",
      "metadata": {},
      "source": [
        "distinct_delivered_clients_per_country \u003d distinct_delivered_clients_per_country.set_index(\u0027country_name\u0027)\nimpact_per_country \u003d impact_per_country.join(distinct_delivered_clients_per_country)"
      ],
      "outputs": []
    },
    {
      "execution_count": 741,
      "cell_type": "code",
      "metadata": {},
      "source": [
        "impact_per_country[\u0027impact_per_farmer_usd\u0027] \u003d impact_per_country[\u0027total_impact_usd\u0027] / impact_per_country[\u0027clients_delivered\u0027]"
      ],
      "outputs": []
    },
    {
      "cell_type": "markdown",
      "metadata": {},
      "source": [
        "#### 2.e. myAgro Impact"
      ]
    },
    {
      "cell_type": "markdown",
      "metadata": {},
      "source": [
        "Overall myAgro impact is aggregated for each Impact per Country metric using the same methods outlined in section 2.d., with a couple exceptions:\n\n\u003e**Weighted % difference in yield** \u003d sum of the weighted average % difference in yield for all crop types within each country\n- Weighted by share of total cereal hectares delivered in both countries\n- E.g. the weighted average % difference in yield for peanuts in Mali \u003d average % difference in yield for peanuts in Mali * (total hectares of peanut packages delivered in Mali / total hectares of all package types delivered in both countries)\n\n\u003e **Vegetable add-on impact (USD/hectare)** \u003d sum of the weighted vegetable add-on impact per country (USD/hectare)\n- Weighted by share of total vegetable add-on hectares\n\n**Overall Impact per Farmer (USD)** represents the distribution of the total dollar value of myAgro\u0027s impact in both countries among the number of unique farmers that were delivered at least one myAgro package in the season. "
      ]
    },
    {
      "execution_count": 742,
      "cell_type": "code",
      "metadata": {},
      "source": [
        "impact_per_country_total \u003d impact_per_country"
      ],
      "outputs": []
    },
    {
      "execution_count": 743,
      "cell_type": "code",
      "metadata": {},
      "source": [
        "impact_per_country_total[\u0027index\u0027] \u003d \u0027myAgro Overall\u0027\nimpact_per_country_total \u003d impact_per_country_total.set_index(\u0027index\u0027)"
      ],
      "outputs": []
    },
    {
      "execution_count": 744,
      "cell_type": "code",
      "metadata": {},
      "source": [
        "total_add_on_ha \u003d sum(impact_per_country_total[\u0027add_on_ha\u0027])"
      ],
      "outputs": []
    },
    {
      "execution_count": 745,
      "cell_type": "code",
      "metadata": {},
      "source": [
        "impact_per_country_total[\u0027weighted_difference_net_profit_usd\u0027] \u003d impact_per_country_total[\u0027weighted_difference_net_profit_usd\u0027] * impact_per_country_total[\u0027percentage_total_core_hectares\u0027]"
      ],
      "outputs": []
    },
    {
      "execution_count": 746,
      "cell_type": "code",
      "metadata": {},
      "source": [
        "impact_per_country_total[\u0027weighted_add_on_impact\u0027] \u003d impact_per_country_total[\u0027add_on_impact\u0027] * (impact_per_country_total[\u0027add_on_ha\u0027] / total_add_on_ha)"
      ],
      "outputs": []
    },
    {
      "execution_count": 747,
      "cell_type": "code",
      "metadata": {},
      "source": [
        "myagro_impact_agg_sum \u003d impact_per_country_total[[\u0027hectares_delivered\u0027, \u0027weighted_percent_yield_difference_overall\u0027, \u0027weighted_difference_net_profit_usd\u0027, \u0027add_on_ha\u0027, \u0027weighted_add_on_impact\u0027, \u0027total_profit_usd\u0027, \u0027total_impact_usd\u0027, \u0027clients_delivered\u0027]].groupby(\u0027index\u0027).sum()"
      ],
      "outputs": []
    },
    {
      "execution_count": 748,
      "cell_type": "code",
      "metadata": {},
      "source": [
        "myagro_impact_agg_sum \u003d myagro_impact_agg_sum.rename(columns\u003d{\u0027weighted_percent_yield_difference_overall\u0027: \u0027weighted_percent_yield_difference\u0027, \u0027weighted_add_on_impact\u0027: \u0027add_on_impact\u0027})"
      ],
      "outputs": []
    },
    {
      "execution_count": 749,
      "cell_type": "code",
      "metadata": {},
      "source": [
        "myagro_impact_agg_sum[\u0027percent_total_impact\u0027] \u003d myagro_impact_agg_sum[\u0027total_impact_usd\u0027] / (myagro_impact_agg_sum[\u0027total_profit_usd\u0027] - myagro_impact_agg_sum[\u0027total_impact_usd\u0027])"
      ],
      "outputs": []
    },
    {
      "execution_count": 750,
      "cell_type": "code",
      "metadata": {},
      "source": [
        "myagro_impact_agg_sum[\u0027impact_per_farmer_usd\u0027] \u003d myagro_impact_agg_sum[\u0027total_impact_usd\u0027] / myagro_impact_agg_sum[\u0027clients_delivered\u0027]"
      ],
      "outputs": []
    },
    {
      "execution_count": 751,
      "cell_type": "code",
      "metadata": {},
      "source": [
        "myagro_impact \u003d myagro_impact_agg_sum[[\u0027hectares_delivered\u0027,\n                    \u0027weighted_percent_yield_difference\u0027,\n                    \u0027weighted_difference_net_profit_usd\u0027,\n                    \u0027add_on_ha\u0027,\n                    \u0027add_on_impact\u0027,\n                    \u0027total_profit_usd\u0027,\n                    \u0027total_impact_usd\u0027,\n                    \u0027clients_delivered\u0027,\n                    \u0027percent_total_impact\u0027,\n                    \u0027impact_per_farmer_usd\u0027]]\\\n                    .rename_axis([\u0027country_name\u0027])"
      ],
      "outputs": []
    },
    {
      "execution_count": 752,
      "cell_type": "code",
      "metadata": {},
      "source": [
        "impact_per_country \u003d impact_per_country[[\u0027percentage_total_core_hectares\u0027,\n                    \u0027hectares_delivered\u0027,\n                    \u0027weighted_percent_yield_difference\u0027,\n                    \u0027weighted_difference_net_profit_usd\u0027,\n                    \u0027add_on_ha\u0027,\n                    \u0027add_on_impact\u0027,\n                    \u0027total_profit_usd\u0027,\n                    \u0027total_impact_usd\u0027,\n                    \u0027clients_delivered\u0027,\n                    \u0027percent_total_impact\u0027,\n                    \u0027impact_per_farmer_usd\u0027]]"
      ],
      "outputs": []
    },
    {
      "execution_count": 753,
      "cell_type": "code",
      "metadata": {},
      "source": [
        "impact_per_country \u003d impact_per_country.append(myagro_impact, sort\u003dTrue)"
      ],
      "outputs": []
    },
    {
      "execution_count": 754,
      "cell_type": "code",
      "metadata": {},
      "source": [
        "impact_per_country_display \u003d impact_per_country[[\u0027percentage_total_core_hectares\u0027,\n                                       \u0027hectares_delivered\u0027,\n                                       \u0027weighted_percent_yield_difference\u0027,\n                                       \u0027weighted_difference_net_profit_usd\u0027,\n                                       \u0027add_on_ha\u0027,\n                                       \u0027add_on_impact\u0027,\n                                       \u0027total_profit_usd\u0027,\n                                       \u0027total_impact_usd\u0027,\n                                       \u0027clients_delivered\u0027,\n                                       \u0027percent_total_impact\u0027,\n                                       \u0027impact_per_farmer_usd\u0027]]\\\n                        .fillna(0)\\\n                        .rename_axis([\u0027Country\u0027])\\\n                        .rename(columns \u003d {\u0027percentage_total_core_hectares\u0027: \u0027% Total Core Package Hectares Delivered\u0027,\n                                           \u0027hectares_delivered\u0027: \u0027Core Package Hectares Delivered\u0027,\n                                           \u0027weighted_percent_yield_difference\u0027: \u0027Weighted % Difference Yield\u0027,\n                                           \u0027weighted_difference_net_profit_usd\u0027: \u0027Core Package Impact Per Hectare\u0027,\n                                           \u0027add_on_ha\u0027: \u0027Vegetable Add-on Hectares\u0027,\n                                           \u0027add_on_impact\u0027: \u0027Vegetable Add-on Impact Per Hectare\u0027,\n                                           \u0027total_profit_usd\u0027: \u0027Total Profit\u0027,\n                                           \u0027total_impact_usd\u0027: \u0027Total Impact\u0027,\n                                           \u0027clients_delivered\u0027: \u0027Distinct Count Farmers Delivered\u0027,\n                                           \u0027percent_total_impact\u0027: \u0027% Total Impact\u0027,\n                                           \u0027impact_per_farmer_usd\u0027: \u0027Impact Per Farmer\u0027})\\\n                        .style.format({\u0027% Total Core Package Hectares Delivered\u0027: lambda val: f\u0027{val:.2f}\u0027,\n                                       \u0027Core Package Hectares Delivered\u0027: lambda val: f\u0027{val:,.0f}\u0027,\n                                       \u0027Weighted % Difference Yield\u0027: lambda val: f\u0027{val:.2f}\u0027,\n                                       \u0027Core Package Impact Per Hectare\u0027: lambda val: f\u0027${val:,.0f}\u0027,\n                                       \u0027Vegetable Add-on Hectares\u0027: lambda val: f\u0027{val:.0f}\u0027,\n                                       \u0027Vegetable Add-on Impact Per Hectare\u0027: lambda val: f\u0027${val:,.0f}\u0027,\n                                       \u0027Total Profit\u0027: lambda val: f\u0027${val:,.0f}\u0027,\n                                       \u0027Total Impact\u0027: lambda val: f\u0027${val:,.0f}\u0027,\n                                       \u0027Distinct Count Farmers Delivered\u0027: lambda val: f\u0027{val:,}\u0027,\n                                       \u0027% Total Impact\u0027: lambda val: f\u0027{val:.2f}\u0027,\n                                       \u0027Impact Per Farmer\u0027: lambda val: f\u0027${val:,.0f}\u0027})"
      ],
      "outputs": []
    },
    {
      "cell_type": "markdown",
      "metadata": {},
      "source": [
        "#### 2.f. Overview"
      ]
    },
    {
      "cell_type": "markdown",
      "metadata": {},
      "source": [
        "The results overview has three parts:\n\u003e**Farm Impact**\n- Weighted % difference in yield\n- Impact per farmer\n- Metric tonnes of food grown overall and for each country\n\n\u003e**myAgro Social Return on Investment (SROI)**\n- SROI demonstrates for every one US dollar of Net Loss before Philanthrophic Revenue (including for research \u0026 development, Tanzania, etc.), how much impact is generated. SROI is calculated and displayed next to figures from the previous season.\n\n\u003e\u003e**Social Return on Investment (USD)** \u003d Total Impact / Net Loss before Philanthrophic Revenue\n\n\u003e**Path to $1.50 per Farmer per Day**\n- Year to year comparison of Impact per Farmer and Impact per Farmer per Day since the start of harvest evaluation (FY15)\n\n\u003e\u003e**Impact per Farmer per Day (USD)** \u003d myAgro total impact per farmer (USD) / 365 (days)"
      ]
    },
    {
      "cell_type": "markdown",
      "metadata": {},
      "source": [
        "**Decision 2.f.1.** The following changes to SROI reporting in this iteration of the Impact Report should be noted:\n\n1. Change of denominator metric in the SROI calculation\n\nAdvised by myAgro\u0027s VP of Finance, the denominator of the SROI calculation was changed from Philanthropic Revenue to Net Loss before Philanthropic Revenue, i.e. the amount of money needed from donors to break even. This decision was made 1. for increased accuracy, as it is possible to raise more or less than needed to cover operational expenses in a given year (if less, we pay for expenses out of our reserves) and 2. for better year on year comparability, especially considering myAgro\u0027s Audacious award in 2022.\n\n2. Change in myAgro fiscal year\n\nIn 2022 myAgro transitioned from a July 1 fiscal year to a January 1 fiscal year. The main SROI results displayed uses the projected Net Loss before Philanthropic Revenue figure for the twelve months ending December 31, 2022 ($24 million). This will be replaced with the final figure in February 2023. This result is not standardized for comparability with results from previous years. \n\nAn alternative SROI result is also displayed, which can be compared apples to apples with results from previous years. This alternative result is calculated using Net Loss before Philanthropic Revenue for the twelve months ended June 30, 2022 ($19,633,545). This is based on six months of audited financials (the stub period from July 1 to December 31, 2021), plus six months of unaudited management accounts (January to June 2022).\n\nThe large difference in these two Net Loss before Philanthropic Revenue figures, and consequently SROI, may be attributed to myAgro\u0027s increase in costs over the past year.   \n\n3. Elimination of *SROI Core Program* metric\n\nmyAgro\u0027s Finance team has communicated that they are not able to provide a valid figure capturing the Philanthropic Revenue for, or Net Loss before Philanthropic Revenue from, myAgro\u0027s core program (field activity). Therefore, SROI Core Program will not be included in the 2022 Impact Report as it has been in the past for now.\n\n**One should take caution and disclose the above information when comparing or reporting SROI year to year**"
      ]
    },
    {
      "execution_count": 755,
      "cell_type": "code",
      "metadata": {},
      "source": [
        "farm_impact \u003d impact_per_country[[\u0027weighted_percent_yield_difference\u0027, \u0027impact_per_farmer_usd\u0027]]"
      ],
      "outputs": []
    },
    {
      "execution_count": 756,
      "cell_type": "code",
      "metadata": {},
      "source": [
        "mt_food \u003d net_profit_per_crop_ml_sn[[\u0027hectares_delivered\u0027, \u0027average_yield_t_package_size_ha\u0027]].reset_index()"
      ],
      "outputs": []
    },
    {
      "execution_count": 757,
      "cell_type": "code",
      "metadata": {},
      "source": [
        "add_on_mt_food_sn \u003d veg_add_on_weighted_net_profit_sn[[\u0027hectares_delivered\u0027, \u0027average_yield_t_package_size_ha\u0027]].reset_index()\nadd_on_mt_food_ml \u003d veg_add_on_weighted_net_profit_ml[[\u0027hectares_delivered\u0027, \u0027average_yield_t_package_size_ha\u0027]].reset_index()"
      ],
      "outputs": []
    },
    {
      "execution_count": 758,
      "cell_type": "code",
      "metadata": {},
      "source": [
        "add_on_mt_food_sn[\u0027country_name\u0027] \u003d \"Senegal\"\nadd_on_mt_food_ml[\u0027country_name\u0027] \u003d \"Mali\""
      ],
      "outputs": []
    },
    {
      "execution_count": 759,
      "cell_type": "code",
      "metadata": {},
      "source": [
        "add_on_mt_food \u003d add_on_mt_food_sn.append(add_on_mt_food_ml)"
      ],
      "outputs": []
    },
    {
      "execution_count": 760,
      "cell_type": "code",
      "metadata": {},
      "source": [
        "mt_food \u003d mt_food.append(add_on_mt_food, sort \u003d True)"
      ],
      "outputs": []
    },
    {
      "execution_count": 761,
      "cell_type": "code",
      "metadata": {},
      "source": [
        "mt_food[\u0027mt_food_grown\u0027] \u003d mt_food[\u0027hectares_delivered\u0027] * mt_food[\u0027average_yield_t_package_size_ha\u0027]"
      ],
      "outputs": []
    },
    {
      "execution_count": 762,
      "cell_type": "code",
      "metadata": {},
      "source": [
        "mt_food \u003d mt_food.set_index([\u0027country_name\u0027, \u0027product\u0027]).sort_index()"
      ],
      "outputs": []
    },
    {
      "execution_count": 763,
      "cell_type": "code",
      "metadata": {},
      "source": [
        "mt_food_grown_ml \u003d mt_food.loc[(\u0027Mali\u0027, \u0027mt_food_grown\u0027)].sum()\nmt_food_grown_sn \u003d mt_food.loc[(\u0027Senegal\u0027, \u0027mt_food_grown\u0027)].sum()\nmt_food_grown \u003d mt_food_grown_ml + mt_food_grown_sn"
      ],
      "outputs": []
    },
    {
      "execution_count": 764,
      "cell_type": "code",
      "metadata": {},
      "source": [
        "mt_food_grown_ml_column \u003d farm_impact.loc[[\"Mali\"]].assign(mt_food_grown \u003d mt_food_grown_ml)\nmt_food_grown_sn_column \u003d farm_impact.loc[[\"Senegal\"]].assign(mt_food_grown \u003d mt_food_grown_sn)\nmt_food_grown_column \u003d farm_impact.loc[[\"myAgro Overall\"]].assign(mt_food_grown \u003d mt_food_grown)\n\nfarm_impact \u003d mt_food_grown_ml_column.append([mt_food_grown_sn_column, mt_food_grown_column])"
      ],
      "outputs": []
    },
    {
      "execution_count": 765,
      "cell_type": "code",
      "metadata": {},
      "source": [
        "farm_impact_display \u003d farm_impact.rename_axis([\u0027Country\u0027])\\\n                                 .rename(columns \u003d {\u0027weighted_percent_yield_difference\u0027: \u0027Weighted % Difference Yield\u0027,\n                                           \u0027impact_per_farmer_usd\u0027: \u0027Impact Per Farmer\u0027,\n                                           \u0027mt_food_grown\u0027: \u0027Food Grown (Metric Tonnes)\u0027})\\\n                        .style.format({\u0027Weighted % Difference Yield\u0027: lambda val: f\u0027{val:.2f}\u0027,\n                                       \u0027Impact Per Farmer\u0027: lambda val: f\u0027${val:,.0f}\u0027,\n                                       \u0027Food Grown (Metric Tonnes)\u0027: lambda val: f\u0027{val:,.0f}\u0027})"
      ],
      "outputs": []
    },
    {
      "execution_count": 766,
      "cell_type": "code",
      "metadata": {},
      "source": [
        "myagro_overall_impact_usd_2021 \u003d 22378463\n#sroi_core_program_2021 \u003d 4.90\nsroi_all_costs_2021 \u003d 1.85"
      ],
      "outputs": []
    },
    {
      "execution_count": 767,
      "cell_type": "code",
      "metadata": {},
      "source": [
        "myagro_overall_impact_usd_2022 \u003d impact_per_country.loc[(\u0027myAgro Overall\u0027, \u0027total_impact_usd\u0027)]\n\n#philanthropic_revenue_core_program_2021_ml \u003d 2261783\n#philanthropic_revenue_core_program_2021_sn \u003d 2306361\n#philanthropic_revenue_core_program_2021 \u003d philanthropic_revenue_core_program_2021_ml + philanthropic_revenue_core_program_2021_sn\n\n# Leave out SROI core program for now\n# FY 2021 core program revenue is temporary placeholder for FY 2022\n# philanthropic_revenue_core_program_2022 \u003d philanthropic_revenue_core_program_2021\n\n# Estimate from Ryan 1/12/23\nphilanthropic_revenue_all_costs_2022 \u003d 24000000\n\n# sroi_core_program_2022 \u003d myagro_overall_impact_usd_2022 / philanthropic_revenue_core_program_2022\nsroi_all_costs_2022 \u003d myagro_overall_impact_usd_2022 / philanthropic_revenue_all_costs_2022"
      ],
      "outputs": []
    },
    {
      "execution_count": 768,
      "cell_type": "code",
      "metadata": {},
      "source": [
        "# Creating an alternative SROI dataframe with the below philanthropic revenue all costs figure\n# To include as a footnote\n\nphilanthropic_revenue_all_costs_2022_alt \u003d 19633545\nsroi_all_costs_2022_alt \u003d myagro_overall_impact_usd_2022 / philanthropic_revenue_all_costs_2022_alt"
      ],
      "outputs": []
    },
    {
      "execution_count": 769,
      "cell_type": "code",
      "metadata": {},
      "source": [
        "# Includes core program\n#sroi \u003d pd.DataFrame(np.array([[myagro_overall_impact_usd_2022, myagro_overall_impact_usd_2021],\n#                              [sroi_core_program_2022,sroi_core_program_2021],\n#                              [sroi_all_costs_2022,sroi_all_costs_2021]]),\n#                    columns\u003d[\u0027FY 2022\u0027, \u0027FY 2021\u0027],\n#                    index\u003d[\u0027Total Impact\u0027, \u0027SROI Core Program\u0027, \u0027SROI All Costs\u0027])"
      ],
      "outputs": []
    },
    {
      "execution_count": 770,
      "cell_type": "code",
      "metadata": {},
      "source": [
        "sroi \u003d pd.DataFrame(np.array([[myagro_overall_impact_usd_2022, myagro_overall_impact_usd_2021],\n                              [sroi_all_costs_2022,sroi_all_costs_2021]]),\n                    columns\u003d[\u0027FY 2022\u0027, \u0027FY 2021\u0027],\n                    index\u003d[\u0027Total Impact\u0027, \u0027SROI\u0027])"
      ],
      "outputs": []
    },
    {
      "execution_count": 771,
      "cell_type": "code",
      "metadata": {},
      "source": [
        "# Includes core program\n#sroi_alt \u003d pd.DataFrame(np.array([[myagro_overall_impact_usd_2022, myagro_overall_impact_usd_2021],\n#                                  [sroi_core_program_2022,sroi_core_program_2021],\n#                                  [sroi_all_costs_2022_alt,sroi_all_costs_2021]]),\n#                        columns\u003d[\u0027FY 2022\u0027, \u0027FY 2021\u0027],\n#                        index\u003d[\u0027Total Impact\u0027, \u0027SROI Core Program\u0027, \u0027SROI All Costs\u0027])"
      ],
      "outputs": []
    },
    {
      "execution_count": 772,
      "cell_type": "code",
      "metadata": {},
      "source": [
        "sroi_alt \u003d pd.DataFrame(np.array([[myagro_overall_impact_usd_2022, myagro_overall_impact_usd_2021],\n                                  [sroi_all_costs_2022_alt,sroi_all_costs_2021]]),\n                        columns\u003d[\u0027FY 2022\u0027, \u0027FY 2021\u0027],\n                        index\u003d[\u0027Total Impact\u0027, \u0027SROI\u0027])"
      ],
      "outputs": []
    },
    {
      "execution_count": 776,
      "cell_type": "code",
      "metadata": {},
      "source": [
        "def format_row_wise(styler, formatter):\n    for row, row_formatter in formatter.items():\n        row_num \u003d styler.index.get_loc(row)\n\n        for col_num in range(len(styler.columns)):\n            styler._display_funcs[(row_num, col_num)] \u003d row_formatter\n    return styler"
      ],
      "outputs": []
    },
    {
      "execution_count": 777,
      "cell_type": "code",
      "metadata": {},
      "source": [
        "formatters_sroi \u003d {\"Total Impact\":lambda x: f\"${x:,.0f}\",\n                   #\"SROI Core Program\": lambda x: f\"${x:.2f}\",\n                   \"SROI\": lambda x: f\"${x:.2f}\"}\nsroi_display \u003d format_row_wise(sroi.style, formatters_sroi)\nsroi_display_alt \u003d format_row_wise(sroi_alt.style, formatters_sroi)"
      ],
      "outputs": []
    },
    {
      "execution_count": 778,
      "cell_type": "code",
      "metadata": {},
      "source": [
        "impact_per_farmer \u003d int(farm_impact.loc[(\u0027myAgro Overall\u0027, \u0027impact_per_farmer_usd\u0027)].round())\nimpact_per_farmer_per_day \u003d impact_per_farmer / 365\nimpact_per_farmer_per_day \u003d np.around(impact_per_farmer_per_day, 2)"
      ],
      "outputs": []
    },
    {
      "execution_count": 779,
      "cell_type": "code",
      "metadata": {},
      "source": [
        "impact_per_farmer_yoy \u003d pd.DataFrame(np.array([[impact_per_farmer, 194, 178, 110, 104, 107, 124, 193],\n                                               [impact_per_farmer_per_day, 0.53, 0.49, 0.30, 0.29, 0.29, 0.34, 0.53]]),\n                                               columns\u003d[\u0027FY 2022\u0027, \u0027FY 2021\u0027, \u0027FY 2020\u0027, \u0027FY 2019\u0027, \u0027FY 2018\u0027, \u0027FY 2017\u0027,\n                                                        \u0027FY 2016\u0027, \u0027FY 2015\u0027],\n                                               index\u003d[\u0027Impact Per Farmer\u0027, \u0027Impact Per Farmer Per Day\u0027])"
      ],
      "outputs": []
    },
    {
      "execution_count": 780,
      "cell_type": "code",
      "metadata": {},
      "source": [
        "formatters_impact_per_farmer_yoy \u003d {\"Impact Per Farmer\":lambda x: f\"${x:.0f}\",\n                                    \"Impact Per Farmer Per Day\": lambda x: f\"${x:.2f}\"}\nimpact_per_farmer_yoy_display \u003d format_row_wise(impact_per_farmer_yoy.style, formatters_impact_per_farmer_yoy)"
      ],
      "outputs": []
    },
    {
      "cell_type": "markdown",
      "metadata": {},
      "source": [
        "#### 2.g. Yield Descriptive Statistics (Incomplete)"
      ]
    },
    {
      "execution_count": 781,
      "cell_type": "code",
      "metadata": {},
      "source": [
        "farmer_yield \u003d yield_per_farmer_by_country_crop_farmertype.set_index(\u0027country\u0027).drop(\u0027outlier\u0027, axis\u003d1)\nfarmer_yield_ml \u003d farmer_yield.loc[\u0027Mali\u0027]\nfarmer_yield_sn \u003d farmer_yield.loc[\u0027Senegal\u0027]"
      ],
      "outputs": []
    },
    {
      "execution_count": 782,
      "cell_type": "code",
      "metadata": {},
      "source": [
        "farmer_yield_ml \u003d farmer_yield_ml.set_index(\u0027crop\u0027)\nfarmer_yield_sn \u003d farmer_yield_sn.set_index(\u0027crop\u0027)"
      ],
      "outputs": []
    },
    {
      "execution_count": 783,
      "cell_type": "code",
      "metadata": {},
      "source": [
        "farmer_yield_ml_maize \u003d farmer_yield_ml.loc[\u0027maize\u0027]\nfarmer_yield_ml_peanut \u003d farmer_yield_ml.loc[\u0027peanut\u0027]\nfarmer_yield_ml_sorghum \u003d farmer_yield_ml.loc[\u0027sorghum\u0027]\nfarmer_yield_ml_rice \u003d farmer_yield_ml.loc[\u0027rice\u0027]"
      ],
      "outputs": []
    },
    {
      "execution_count": 784,
      "cell_type": "code",
      "metadata": {},
      "source": [
        "farmer_yield_sn_maize \u003d farmer_yield_sn.loc[\u0027maize\u0027]\nfarmer_yield_sn_peanut \u003d farmer_yield_sn.loc[\u0027peanut\u0027]\nfarmer_yield_sn_millet \u003d farmer_yield_sn.loc[\u0027millet\u0027]\nfarmer_yield_sn_rice \u003d farmer_yield_sn.loc[\u0027rice\u0027]"
      ],
      "outputs": []
    },
    {
      "execution_count": 785,
      "cell_type": "code",
      "metadata": {},
      "source": [
        "#farmer_yield_sn_millet.head()"
      ],
      "outputs": []
    },
    {
      "execution_count": 786,
      "cell_type": "code",
      "metadata": {},
      "source": [
        "# two yield columns, one for "
      ],
      "outputs": []
    },
    {
      "execution_count": 787,
      "cell_type": "code",
      "metadata": {},
      "source": [
        "#farmer_yield_ml \u003d farmer_yield_ml.pivot(columns \u003d \u0027farmer_type\u0027, values\u003d)\n#df.pivot(index\u003d\u0027foo\u0027, columns\u003d\u0027bar\u0027, values\u003d[\u0027baz\u0027, \u0027zoo\u0027])"
      ],
      "outputs": []
    },
    {
      "execution_count": 788,
      "cell_type": "code",
      "metadata": {},
      "source": [
        "#farmer_yield_ml"
      ],
      "outputs": []
    },
    {
      "cell_type": "markdown",
      "metadata": {},
      "source": [
        "## Results"
      ]
    },
    {
      "cell_type": "markdown",
      "metadata": {},
      "source": [
        "### 1. Overview"
      ]
    },
    {
      "cell_type": "markdown",
      "metadata": {},
      "source": [
        "**Farm Impact**"
      ]
    },
    {
      "execution_count": 789,
      "cell_type": "code",
      "metadata": {},
      "source": [
        "farm_impact_display"
      ],
      "outputs": [
        {
          "output_type": "execute_result",
          "execution_count": 789,
          "data": {
            "text/plain": "\u003cpandas.io.formats.style.Styler at 0x7fba11295a58\u003e",
            "text/html": "\u003cstyle  type\u003d\"text/css\" \u003e\n\u003c/style\u003e  \n\u003ctable id\u003d\"T_098f2f36_983e_11ed_bb48_f23b1644f743\" \u003e \n\u003cthead\u003e    \u003ctr\u003e \n        \u003cth class\u003d\"blank level0\" \u003e\u003c/th\u003e \n        \u003cth class\u003d\"col_heading level0 col0\" \u003eWeighted % Difference Yield\u003c/th\u003e \n        \u003cth class\u003d\"col_heading level0 col1\" \u003eImpact Per Farmer\u003c/th\u003e \n        \u003cth class\u003d\"col_heading level0 col2\" \u003eFood Grown (Metric Tonnes)\u003c/th\u003e \n    \u003c/tr\u003e    \u003ctr\u003e \n        \u003cth class\u003d\"index_name level0\" \u003eCountry\u003c/th\u003e \n        \u003cth class\u003d\"blank\" \u003e\u003c/th\u003e \n        \u003cth class\u003d\"blank\" \u003e\u003c/th\u003e \n        \u003cth class\u003d\"blank\" \u003e\u003c/th\u003e \n    \u003c/tr\u003e\u003c/thead\u003e \n\u003ctbody\u003e    \u003ctr\u003e \n        \u003cth id\u003d\"T_098f2f36_983e_11ed_bb48_f23b1644f743level0_row0\" class\u003d\"row_heading level0 row0\" \u003eMali\u003c/th\u003e \n        \u003ctd id\u003d\"T_098f2f36_983e_11ed_bb48_f23b1644f743row0_col0\" class\u003d\"data row0 col0\" \u003e1.57\u003c/td\u003e \n        \u003ctd id\u003d\"T_098f2f36_983e_11ed_bb48_f23b1644f743row0_col1\" class\u003d\"data row0 col1\" \u003e$117\u003c/td\u003e \n        \u003ctd id\u003d\"T_098f2f36_983e_11ed_bb48_f23b1644f743row0_col2\" class\u003d\"data row0 col2\" \u003e8,727\u003c/td\u003e \n    \u003c/tr\u003e    \u003ctr\u003e \n        \u003cth id\u003d\"T_098f2f36_983e_11ed_bb48_f23b1644f743level0_row1\" class\u003d\"row_heading level0 row1\" \u003eSenegal\u003c/th\u003e \n        \u003ctd id\u003d\"T_098f2f36_983e_11ed_bb48_f23b1644f743row1_col0\" class\u003d\"data row1 col0\" \u003e1.55\u003c/td\u003e \n        \u003ctd id\u003d\"T_098f2f36_983e_11ed_bb48_f23b1644f743row1_col1\" class\u003d\"data row1 col1\" \u003e$386\u003c/td\u003e \n        \u003ctd id\u003d\"T_098f2f36_983e_11ed_bb48_f23b1644f743row1_col2\" class\u003d\"data row1 col2\" \u003e19,623\u003c/td\u003e \n    \u003c/tr\u003e    \u003ctr\u003e \n        \u003cth id\u003d\"T_098f2f36_983e_11ed_bb48_f23b1644f743level0_row2\" class\u003d\"row_heading level0 row2\" \u003emyAgro Overall\u003c/th\u003e \n        \u003ctd id\u003d\"T_098f2f36_983e_11ed_bb48_f23b1644f743row2_col0\" class\u003d\"data row2 col0\" \u003e1.56\u003c/td\u003e \n        \u003ctd id\u003d\"T_098f2f36_983e_11ed_bb48_f23b1644f743row2_col1\" class\u003d\"data row2 col1\" \u003e$246\u003c/td\u003e \n        \u003ctd id\u003d\"T_098f2f36_983e_11ed_bb48_f23b1644f743row2_col2\" class\u003d\"data row2 col2\" \u003e28,349\u003c/td\u003e \n    \u003c/tr\u003e\u003c/tbody\u003e \n\u003c/table\u003e "
          },
          "metadata": {}
        }
      ]
    },
    {
      "cell_type": "markdown",
      "metadata": {},
      "source": [
        "**myAgro Social Return on Investment (SROI)***\n\nSROI is Total Impact divided by Net Loss before Philanthropic Revenue for FY22 ended December 31."
      ]
    },
    {
      "execution_count": 790,
      "cell_type": "code",
      "metadata": {},
      "source": [
        "sroi_display"
      ],
      "outputs": [
        {
          "output_type": "execute_result",
          "execution_count": 790,
          "data": {
            "text/plain": "\u003cpandas.io.formats.style.Styler at 0x7fba11245f28\u003e",
            "text/html": "\u003cstyle  type\u003d\"text/css\" \u003e\n\u003c/style\u003e  \n\u003ctable id\u003d\"T_09903e80_983e_11ed_bb48_f23b1644f743\" \u003e \n\u003cthead\u003e    \u003ctr\u003e \n        \u003cth class\u003d\"blank level0\" \u003e\u003c/th\u003e \n        \u003cth class\u003d\"col_heading level0 col0\" \u003eFY 2022\u003c/th\u003e \n        \u003cth class\u003d\"col_heading level0 col1\" \u003eFY 2021\u003c/th\u003e \n    \u003c/tr\u003e\u003c/thead\u003e \n\u003ctbody\u003e    \u003ctr\u003e \n        \u003cth id\u003d\"T_09903e80_983e_11ed_bb48_f23b1644f743level0_row0\" class\u003d\"row_heading level0 row0\" \u003eTotal Impact\u003c/th\u003e \n        \u003ctd id\u003d\"T_09903e80_983e_11ed_bb48_f23b1644f743row0_col0\" class\u003d\"data row0 col0\" \u003e$21,505,624\u003c/td\u003e \n        \u003ctd id\u003d\"T_09903e80_983e_11ed_bb48_f23b1644f743row0_col1\" class\u003d\"data row0 col1\" \u003e$22,378,463\u003c/td\u003e \n    \u003c/tr\u003e    \u003ctr\u003e \n        \u003cth id\u003d\"T_09903e80_983e_11ed_bb48_f23b1644f743level0_row1\" class\u003d\"row_heading level0 row1\" \u003eSROI\u003c/th\u003e \n        \u003ctd id\u003d\"T_09903e80_983e_11ed_bb48_f23b1644f743row1_col0\" class\u003d\"data row1 col0\" \u003e$0.90\u003c/td\u003e \n        \u003ctd id\u003d\"T_09903e80_983e_11ed_bb48_f23b1644f743row1_col1\" class\u003d\"data row1 col1\" \u003e$1.85\u003c/td\u003e \n    \u003c/tr\u003e\u003c/tbody\u003e \n\u003c/table\u003e "
          },
          "metadata": {}
        }
      ]
    },
    {
      "cell_type": "markdown",
      "metadata": {},
      "source": [
        "\\*Alternative SROI result: Total Impact divided by Net Loss before Philanthropic Revenue for FY22 ended June 30."
      ]
    },
    {
      "execution_count": 791,
      "cell_type": "code",
      "metadata": {},
      "source": [
        "sroi_display_alt"
      ],
      "outputs": [
        {
          "output_type": "execute_result",
          "execution_count": 791,
          "data": {
            "text/plain": "\u003cpandas.io.formats.style.Styler at 0x7fba11245f60\u003e",
            "text/html": "\u003cstyle  type\u003d\"text/css\" \u003e\n\u003c/style\u003e  \n\u003ctable id\u003d\"T_09917f2a_983e_11ed_bb48_f23b1644f743\" \u003e \n\u003cthead\u003e    \u003ctr\u003e \n        \u003cth class\u003d\"blank level0\" \u003e\u003c/th\u003e \n        \u003cth class\u003d\"col_heading level0 col0\" \u003eFY 2022\u003c/th\u003e \n        \u003cth class\u003d\"col_heading level0 col1\" \u003eFY 2021\u003c/th\u003e \n    \u003c/tr\u003e\u003c/thead\u003e \n\u003ctbody\u003e    \u003ctr\u003e \n        \u003cth id\u003d\"T_09917f2a_983e_11ed_bb48_f23b1644f743level0_row0\" class\u003d\"row_heading level0 row0\" \u003eTotal Impact\u003c/th\u003e \n        \u003ctd id\u003d\"T_09917f2a_983e_11ed_bb48_f23b1644f743row0_col0\" class\u003d\"data row0 col0\" \u003e$21,505,624\u003c/td\u003e \n        \u003ctd id\u003d\"T_09917f2a_983e_11ed_bb48_f23b1644f743row0_col1\" class\u003d\"data row0 col1\" \u003e$22,378,463\u003c/td\u003e \n    \u003c/tr\u003e    \u003ctr\u003e \n        \u003cth id\u003d\"T_09917f2a_983e_11ed_bb48_f23b1644f743level0_row1\" class\u003d\"row_heading level0 row1\" \u003eSROI\u003c/th\u003e \n        \u003ctd id\u003d\"T_09917f2a_983e_11ed_bb48_f23b1644f743row1_col0\" class\u003d\"data row1 col0\" \u003e$1.10\u003c/td\u003e \n        \u003ctd id\u003d\"T_09917f2a_983e_11ed_bb48_f23b1644f743row1_col1\" class\u003d\"data row1 col1\" \u003e$1.85\u003c/td\u003e \n    \u003c/tr\u003e\u003c/tbody\u003e \n\u003c/table\u003e "
          },
          "metadata": {}
        }
      ]
    },
    {
      "cell_type": "markdown",
      "metadata": {},
      "source": [
        "**Path to $1.50 / Farmer / Day**"
      ]
    },
    {
      "execution_count": 792,
      "cell_type": "code",
      "metadata": {},
      "source": [
        "impact_per_farmer_yoy_display"
      ],
      "outputs": [
        {
          "output_type": "execute_result",
          "execution_count": 792,
          "data": {
            "text/plain": "\u003cpandas.io.formats.style.Styler at 0x7fba111f60b8\u003e",
            "text/html": "\u003cstyle  type\u003d\"text/css\" \u003e\n\u003c/style\u003e  \n\u003ctable id\u003d\"T_0992b16a_983e_11ed_bb48_f23b1644f743\" \u003e \n\u003cthead\u003e    \u003ctr\u003e \n        \u003cth class\u003d\"blank level0\" \u003e\u003c/th\u003e \n        \u003cth class\u003d\"col_heading level0 col0\" \u003eFY 2022\u003c/th\u003e \n        \u003cth class\u003d\"col_heading level0 col1\" \u003eFY 2021\u003c/th\u003e \n        \u003cth class\u003d\"col_heading level0 col2\" \u003eFY 2020\u003c/th\u003e \n        \u003cth class\u003d\"col_heading level0 col3\" \u003eFY 2019\u003c/th\u003e \n        \u003cth class\u003d\"col_heading level0 col4\" \u003eFY 2018\u003c/th\u003e \n        \u003cth class\u003d\"col_heading level0 col5\" \u003eFY 2017\u003c/th\u003e \n        \u003cth class\u003d\"col_heading level0 col6\" \u003eFY 2016\u003c/th\u003e \n        \u003cth class\u003d\"col_heading level0 col7\" \u003eFY 2015\u003c/th\u003e \n    \u003c/tr\u003e\u003c/thead\u003e \n\u003ctbody\u003e    \u003ctr\u003e \n        \u003cth id\u003d\"T_0992b16a_983e_11ed_bb48_f23b1644f743level0_row0\" class\u003d\"row_heading level0 row0\" \u003eImpact Per Farmer\u003c/th\u003e \n        \u003ctd id\u003d\"T_0992b16a_983e_11ed_bb48_f23b1644f743row0_col0\" class\u003d\"data row0 col0\" \u003e$246\u003c/td\u003e \n        \u003ctd id\u003d\"T_0992b16a_983e_11ed_bb48_f23b1644f743row0_col1\" class\u003d\"data row0 col1\" \u003e$194\u003c/td\u003e \n        \u003ctd id\u003d\"T_0992b16a_983e_11ed_bb48_f23b1644f743row0_col2\" class\u003d\"data row0 col2\" \u003e$178\u003c/td\u003e \n        \u003ctd id\u003d\"T_0992b16a_983e_11ed_bb48_f23b1644f743row0_col3\" class\u003d\"data row0 col3\" \u003e$110\u003c/td\u003e \n        \u003ctd id\u003d\"T_0992b16a_983e_11ed_bb48_f23b1644f743row0_col4\" class\u003d\"data row0 col4\" \u003e$104\u003c/td\u003e \n        \u003ctd id\u003d\"T_0992b16a_983e_11ed_bb48_f23b1644f743row0_col5\" class\u003d\"data row0 col5\" \u003e$107\u003c/td\u003e \n        \u003ctd id\u003d\"T_0992b16a_983e_11ed_bb48_f23b1644f743row0_col6\" class\u003d\"data row0 col6\" \u003e$124\u003c/td\u003e \n        \u003ctd id\u003d\"T_0992b16a_983e_11ed_bb48_f23b1644f743row0_col7\" class\u003d\"data row0 col7\" \u003e$193\u003c/td\u003e \n    \u003c/tr\u003e    \u003ctr\u003e \n        \u003cth id\u003d\"T_0992b16a_983e_11ed_bb48_f23b1644f743level0_row1\" class\u003d\"row_heading level0 row1\" \u003eImpact Per Farmer Per Day\u003c/th\u003e \n        \u003ctd id\u003d\"T_0992b16a_983e_11ed_bb48_f23b1644f743row1_col0\" class\u003d\"data row1 col0\" \u003e$0.67\u003c/td\u003e \n        \u003ctd id\u003d\"T_0992b16a_983e_11ed_bb48_f23b1644f743row1_col1\" class\u003d\"data row1 col1\" \u003e$0.53\u003c/td\u003e \n        \u003ctd id\u003d\"T_0992b16a_983e_11ed_bb48_f23b1644f743row1_col2\" class\u003d\"data row1 col2\" \u003e$0.49\u003c/td\u003e \n        \u003ctd id\u003d\"T_0992b16a_983e_11ed_bb48_f23b1644f743row1_col3\" class\u003d\"data row1 col3\" \u003e$0.30\u003c/td\u003e \n        \u003ctd id\u003d\"T_0992b16a_983e_11ed_bb48_f23b1644f743row1_col4\" class\u003d\"data row1 col4\" \u003e$0.29\u003c/td\u003e \n        \u003ctd id\u003d\"T_0992b16a_983e_11ed_bb48_f23b1644f743row1_col5\" class\u003d\"data row1 col5\" \u003e$0.29\u003c/td\u003e \n        \u003ctd id\u003d\"T_0992b16a_983e_11ed_bb48_f23b1644f743row1_col6\" class\u003d\"data row1 col6\" \u003e$0.34\u003c/td\u003e \n        \u003ctd id\u003d\"T_0992b16a_983e_11ed_bb48_f23b1644f743row1_col7\" class\u003d\"data row1 col7\" \u003e$0.53\u003c/td\u003e \n    \u003c/tr\u003e\u003c/tbody\u003e \n\u003c/table\u003e "
          },
          "metadata": {}
        }
      ]
    },
    {
      "cell_type": "markdown",
      "metadata": {},
      "source": [
        "### 2. Impact Per Country"
      ]
    },
    {
      "execution_count": 793,
      "cell_type": "code",
      "metadata": {},
      "source": [
        "impact_per_country_display"
      ],
      "outputs": [
        {
          "output_type": "execute_result",
          "execution_count": 793,
          "data": {
            "text/plain": "\u003cpandas.io.formats.style.Styler at 0x7fba11245710\u003e",
            "text/html": "\u003cstyle  type\u003d\"text/css\" \u003e\n\u003c/style\u003e  \n\u003ctable id\u003d\"T_09944c00_983e_11ed_bb48_f23b1644f743\" \u003e \n\u003cthead\u003e    \u003ctr\u003e \n        \u003cth class\u003d\"blank level0\" \u003e\u003c/th\u003e \n        \u003cth class\u003d\"col_heading level0 col0\" \u003e% Total Core Package Hectares Delivered\u003c/th\u003e \n        \u003cth class\u003d\"col_heading level0 col1\" \u003eCore Package Hectares Delivered\u003c/th\u003e \n        \u003cth class\u003d\"col_heading level0 col2\" \u003eWeighted % Difference Yield\u003c/th\u003e \n        \u003cth class\u003d\"col_heading level0 col3\" \u003eCore Package Impact Per Hectare\u003c/th\u003e \n        \u003cth class\u003d\"col_heading level0 col4\" \u003eVegetable Add-on Hectares\u003c/th\u003e \n        \u003cth class\u003d\"col_heading level0 col5\" \u003eVegetable Add-on Impact Per Hectare\u003c/th\u003e \n        \u003cth class\u003d\"col_heading level0 col6\" \u003eTotal Profit\u003c/th\u003e \n        \u003cth class\u003d\"col_heading level0 col7\" \u003eTotal Impact\u003c/th\u003e \n        \u003cth class\u003d\"col_heading level0 col8\" \u003eDistinct Count Farmers Delivered\u003c/th\u003e \n        \u003cth class\u003d\"col_heading level0 col9\" \u003e% Total Impact\u003c/th\u003e \n        \u003cth class\u003d\"col_heading level0 col10\" \u003eImpact Per Farmer\u003c/th\u003e \n    \u003c/tr\u003e    \u003ctr\u003e \n        \u003cth class\u003d\"index_name level0\" \u003eCountry\u003c/th\u003e \n        \u003cth class\u003d\"blank\" \u003e\u003c/th\u003e \n        \u003cth class\u003d\"blank\" \u003e\u003c/th\u003e \n        \u003cth class\u003d\"blank\" \u003e\u003c/th\u003e \n        \u003cth class\u003d\"blank\" \u003e\u003c/th\u003e \n        \u003cth class\u003d\"blank\" \u003e\u003c/th\u003e \n        \u003cth class\u003d\"blank\" \u003e\u003c/th\u003e \n        \u003cth class\u003d\"blank\" \u003e\u003c/th\u003e \n        \u003cth class\u003d\"blank\" \u003e\u003c/th\u003e \n        \u003cth class\u003d\"blank\" \u003e\u003c/th\u003e \n        \u003cth class\u003d\"blank\" \u003e\u003c/th\u003e \n        \u003cth class\u003d\"blank\" \u003e\u003c/th\u003e \n    \u003c/tr\u003e\u003c/thead\u003e \n\u003ctbody\u003e    \u003ctr\u003e \n        \u003cth id\u003d\"T_09944c00_983e_11ed_bb48_f23b1644f743level0_row0\" class\u003d\"row_heading level0 row0\" \u003eMali\u003c/th\u003e \n        \u003ctd id\u003d\"T_09944c00_983e_11ed_bb48_f23b1644f743row0_col0\" class\u003d\"data row0 col0\" \u003e0.32\u003c/td\u003e \n        \u003ctd id\u003d\"T_09944c00_983e_11ed_bb48_f23b1644f743row0_col1\" class\u003d\"data row0 col1\" \u003e5,937\u003c/td\u003e \n        \u003ctd id\u003d\"T_09944c00_983e_11ed_bb48_f23b1644f743row0_col2\" class\u003d\"data row0 col2\" \u003e1.57\u003c/td\u003e \n        \u003ctd id\u003d\"T_09944c00_983e_11ed_bb48_f23b1644f743row0_col3\" class\u003d\"data row0 col3\" \u003e$545\u003c/td\u003e \n        \u003ctd id\u003d\"T_09944c00_983e_11ed_bb48_f23b1644f743row0_col4\" class\u003d\"data row0 col4\" \u003e316\u003c/td\u003e \n        \u003ctd id\u003d\"T_09944c00_983e_11ed_bb48_f23b1644f743row0_col5\" class\u003d\"data row0 col5\" \u003e$2,020\u003c/td\u003e \n        \u003ctd id\u003d\"T_09944c00_983e_11ed_bb48_f23b1644f743row0_col6\" class\u003d\"data row0 col6\" \u003e$7,326,044\u003c/td\u003e \n        \u003ctd id\u003d\"T_09944c00_983e_11ed_bb48_f23b1644f743row0_col7\" class\u003d\"data row0 col7\" \u003e$5,364,832\u003c/td\u003e \n        \u003ctd id\u003d\"T_09944c00_983e_11ed_bb48_f23b1644f743row0_col8\" class\u003d\"data row0 col8\" \u003e45,721\u003c/td\u003e \n        \u003ctd id\u003d\"T_09944c00_983e_11ed_bb48_f23b1644f743row0_col9\" class\u003d\"data row0 col9\" \u003e2.74\u003c/td\u003e \n        \u003ctd id\u003d\"T_09944c00_983e_11ed_bb48_f23b1644f743row0_col10\" class\u003d\"data row0 col10\" \u003e$117\u003c/td\u003e \n    \u003c/tr\u003e    \u003ctr\u003e \n        \u003cth id\u003d\"T_09944c00_983e_11ed_bb48_f23b1644f743level0_row1\" class\u003d\"row_heading level0 row1\" \u003eSenegal\u003c/th\u003e \n        \u003ctd id\u003d\"T_09944c00_983e_11ed_bb48_f23b1644f743row1_col0\" class\u003d\"data row1 col0\" \u003e0.68\u003c/td\u003e \n        \u003ctd id\u003d\"T_09944c00_983e_11ed_bb48_f23b1644f743row1_col1\" class\u003d\"data row1 col1\" \u003e12,683\u003c/td\u003e \n        \u003ctd id\u003d\"T_09944c00_983e_11ed_bb48_f23b1644f743row1_col2\" class\u003d\"data row1 col2\" \u003e1.55\u003c/td\u003e \n        \u003ctd id\u003d\"T_09944c00_983e_11ed_bb48_f23b1644f743row1_col3\" class\u003d\"data row1 col3\" \u003e$1,185\u003c/td\u003e \n        \u003ctd id\u003d\"T_09944c00_983e_11ed_bb48_f23b1644f743row1_col4\" class\u003d\"data row1 col4\" \u003e395\u003c/td\u003e \n        \u003ctd id\u003d\"T_09944c00_983e_11ed_bb48_f23b1644f743row1_col5\" class\u003d\"data row1 col5\" \u003e$2,803\u003c/td\u003e \n        \u003ctd id\u003d\"T_09944c00_983e_11ed_bb48_f23b1644f743row1_col6\" class\u003d\"data row1 col6\" \u003e$24,706,918\u003c/td\u003e \n        \u003ctd id\u003d\"T_09944c00_983e_11ed_bb48_f23b1644f743row1_col7\" class\u003d\"data row1 col7\" \u003e$16,140,792\u003c/td\u003e \n        \u003ctd id\u003d\"T_09944c00_983e_11ed_bb48_f23b1644f743row1_col8\" class\u003d\"data row1 col8\" \u003e41,862\u003c/td\u003e \n        \u003ctd id\u003d\"T_09944c00_983e_11ed_bb48_f23b1644f743row1_col9\" class\u003d\"data row1 col9\" \u003e1.88\u003c/td\u003e \n        \u003ctd id\u003d\"T_09944c00_983e_11ed_bb48_f23b1644f743row1_col10\" class\u003d\"data row1 col10\" \u003e$386\u003c/td\u003e \n    \u003c/tr\u003e    \u003ctr\u003e \n        \u003cth id\u003d\"T_09944c00_983e_11ed_bb48_f23b1644f743level0_row2\" class\u003d\"row_heading level0 row2\" \u003emyAgro Overall\u003c/th\u003e \n        \u003ctd id\u003d\"T_09944c00_983e_11ed_bb48_f23b1644f743row2_col0\" class\u003d\"data row2 col0\" \u003e0.00\u003c/td\u003e \n        \u003ctd id\u003d\"T_09944c00_983e_11ed_bb48_f23b1644f743row2_col1\" class\u003d\"data row2 col1\" \u003e18,620\u003c/td\u003e \n        \u003ctd id\u003d\"T_09944c00_983e_11ed_bb48_f23b1644f743row2_col2\" class\u003d\"data row2 col2\" \u003e1.56\u003c/td\u003e \n        \u003ctd id\u003d\"T_09944c00_983e_11ed_bb48_f23b1644f743row2_col3\" class\u003d\"data row2 col3\" \u003e$981\u003c/td\u003e \n        \u003ctd id\u003d\"T_09944c00_983e_11ed_bb48_f23b1644f743row2_col4\" class\u003d\"data row2 col4\" \u003e710\u003c/td\u003e \n        \u003ctd id\u003d\"T_09944c00_983e_11ed_bb48_f23b1644f743row2_col5\" class\u003d\"data row2 col5\" \u003e$2,455\u003c/td\u003e \n        \u003ctd id\u003d\"T_09944c00_983e_11ed_bb48_f23b1644f743row2_col6\" class\u003d\"data row2 col6\" \u003e$32,032,962\u003c/td\u003e \n        \u003ctd id\u003d\"T_09944c00_983e_11ed_bb48_f23b1644f743row2_col7\" class\u003d\"data row2 col7\" \u003e$21,505,624\u003c/td\u003e \n        \u003ctd id\u003d\"T_09944c00_983e_11ed_bb48_f23b1644f743row2_col8\" class\u003d\"data row2 col8\" \u003e87,583\u003c/td\u003e \n        \u003ctd id\u003d\"T_09944c00_983e_11ed_bb48_f23b1644f743row2_col9\" class\u003d\"data row2 col9\" \u003e2.04\u003c/td\u003e \n        \u003ctd id\u003d\"T_09944c00_983e_11ed_bb48_f23b1644f743row2_col10\" class\u003d\"data row2 col10\" \u003e$246\u003c/td\u003e \n    \u003c/tr\u003e\u003c/tbody\u003e \n\u003c/table\u003e "
          },
          "metadata": {}
        }
      ]
    },
    {
      "cell_type": "markdown",
      "metadata": {},
      "source": [
        "### 3. Impact Per Crop Type"
      ]
    },
    {
      "cell_type": "markdown",
      "metadata": {},
      "source": [
        "**Mali**"
      ]
    },
    {
      "execution_count": 794,
      "cell_type": "code",
      "metadata": {},
      "source": [
        "impact_ml_per_crop_display"
      ],
      "outputs": [
        {
          "output_type": "execute_result",
          "execution_count": 794,
          "data": {
            "text/plain": "\u003cpandas.io.formats.style.Styler at 0x7fba1123a390\u003e",
            "text/html": "\u003cstyle  type\u003d\"text/css\" \u003e\n\u003c/style\u003e  \n\u003ctable id\u003d\"T_09957738_983e_11ed_bb48_f23b1644f743\" \u003e \n\u003cthead\u003e    \u003ctr\u003e \n        \u003cth class\u003d\"blank level0\" \u003e\u003c/th\u003e \n        \u003cth class\u003d\"col_heading level0 col0\" \u003e% Total Core Package Hectares Delivered\u003c/th\u003e \n        \u003cth class\u003d\"col_heading level0 col1\" \u003eCore Package Hectares Delivered\u003c/th\u003e \n        \u003cth class\u003d\"col_heading level0 col2\" \u003eAverage % Difference Yield\u003c/th\u003e \n        \u003cth class\u003d\"col_heading level0 col3\" \u003eCore Package Impact Per Hectare\u003c/th\u003e \n        \u003cth class\u003d\"col_heading level0 col4\" \u003eVegetable Add-on Hectares\u003c/th\u003e \n        \u003cth class\u003d\"col_heading level0 col5\" \u003eVegetable Add-on Impact Per Hectare\u003c/th\u003e \n        \u003cth class\u003d\"col_heading level0 col6\" \u003eTotal Profit\u003c/th\u003e \n        \u003cth class\u003d\"col_heading level0 col7\" \u003eTotal Impact\u003c/th\u003e \n        \u003cth class\u003d\"col_heading level0 col8\" \u003ePackages Delivered\u003c/th\u003e \n        \u003cth class\u003d\"col_heading level0 col9\" \u003e% Total Impact\u003c/th\u003e \n        \u003cth class\u003d\"col_heading level0 col10\" \u003eImpact Per Farmer\u003c/th\u003e \n    \u003c/tr\u003e    \u003ctr\u003e \n        \u003cth class\u003d\"index_name level0\" \u003eProduct\u003c/th\u003e \n        \u003cth class\u003d\"blank\" \u003e\u003c/th\u003e \n        \u003cth class\u003d\"blank\" \u003e\u003c/th\u003e \n        \u003cth class\u003d\"blank\" \u003e\u003c/th\u003e \n        \u003cth class\u003d\"blank\" \u003e\u003c/th\u003e \n        \u003cth class\u003d\"blank\" \u003e\u003c/th\u003e \n        \u003cth class\u003d\"blank\" \u003e\u003c/th\u003e \n        \u003cth class\u003d\"blank\" \u003e\u003c/th\u003e \n        \u003cth class\u003d\"blank\" \u003e\u003c/th\u003e \n        \u003cth class\u003d\"blank\" \u003e\u003c/th\u003e \n        \u003cth class\u003d\"blank\" \u003e\u003c/th\u003e \n        \u003cth class\u003d\"blank\" \u003e\u003c/th\u003e \n    \u003c/tr\u003e\u003c/thead\u003e \n\u003ctbody\u003e    \u003ctr\u003e \n        \u003cth id\u003d\"T_09957738_983e_11ed_bb48_f23b1644f743level0_row0\" class\u003d\"row_heading level0 row0\" \u003eMaize + veg. add-on\u003c/th\u003e \n        \u003ctd id\u003d\"T_09957738_983e_11ed_bb48_f23b1644f743row0_col0\" class\u003d\"data row0 col0\" \u003e0.09\u003c/td\u003e \n        \u003ctd id\u003d\"T_09957738_983e_11ed_bb48_f23b1644f743row0_col1\" class\u003d\"data row0 col1\" \u003e509\u003c/td\u003e \n        \u003ctd id\u003d\"T_09957738_983e_11ed_bb48_f23b1644f743row0_col2\" class\u003d\"data row0 col2\" \u003e0.98\u003c/td\u003e \n        \u003ctd id\u003d\"T_09957738_983e_11ed_bb48_f23b1644f743row0_col3\" class\u003d\"data row0 col3\" \u003e$337\u003c/td\u003e \n        \u003ctd id\u003d\"T_09957738_983e_11ed_bb48_f23b1644f743row0_col4\" class\u003d\"data row0 col4\" \u003e28\u003c/td\u003e \n        \u003ctd id\u003d\"T_09957738_983e_11ed_bb48_f23b1644f743row0_col5\" class\u003d\"data row0 col5\" \u003e$2,020\u003c/td\u003e \n        \u003ctd id\u003d\"T_09957738_983e_11ed_bb48_f23b1644f743row0_col6\" class\u003d\"data row0 col6\" \u003e$564,104\u003c/td\u003e \n        \u003ctd id\u003d\"T_09957738_983e_11ed_bb48_f23b1644f743row0_col7\" class\u003d\"data row0 col7\" \u003e$227,813\u003c/td\u003e \n        \u003ctd id\u003d\"T_09957738_983e_11ed_bb48_f23b1644f743row0_col8\" class\u003d\"data row0 col8\" \u003e2,013\u003c/td\u003e \n        \u003ctd id\u003d\"T_09957738_983e_11ed_bb48_f23b1644f743row0_col9\" class\u003d\"data row0 col9\" \u003e0.68\u003c/td\u003e \n        \u003ctd id\u003d\"T_09957738_983e_11ed_bb48_f23b1644f743row0_col10\" class\u003d\"data row0 col10\" \u003e$113\u003c/td\u003e \n    \u003c/tr\u003e    \u003ctr\u003e \n        \u003cth id\u003d\"T_09957738_983e_11ed_bb48_f23b1644f743level0_row1\" class\u003d\"row_heading level0 row1\" \u003ePeanut + veg. add-on\u003c/th\u003e \n        \u003ctd id\u003d\"T_09957738_983e_11ed_bb48_f23b1644f743row1_col0\" class\u003d\"data row1 col0\" \u003e0.66\u003c/td\u003e \n        \u003ctd id\u003d\"T_09957738_983e_11ed_bb48_f23b1644f743row1_col1\" class\u003d\"data row1 col1\" \u003e3,925\u003c/td\u003e \n        \u003ctd id\u003d\"T_09957738_983e_11ed_bb48_f23b1644f743row1_col2\" class\u003d\"data row1 col2\" \u003e1.54\u003c/td\u003e \n        \u003ctd id\u003d\"T_09957738_983e_11ed_bb48_f23b1644f743row1_col3\" class\u003d\"data row1 col3\" \u003e$421\u003c/td\u003e \n        \u003ctd id\u003d\"T_09957738_983e_11ed_bb48_f23b1644f743row1_col4\" class\u003d\"data row1 col4\" \u003e233\u003c/td\u003e \n        \u003ctd id\u003d\"T_09957738_983e_11ed_bb48_f23b1644f743row1_col5\" class\u003d\"data row1 col5\" \u003e$2,020\u003c/td\u003e \n        \u003ctd id\u003d\"T_09957738_983e_11ed_bb48_f23b1644f743row1_col6\" class\u003d\"data row1 col6\" \u003e$3,570,639\u003c/td\u003e \n        \u003ctd id\u003d\"T_09957738_983e_11ed_bb48_f23b1644f743row1_col7\" class\u003d\"data row1 col7\" \u003e$2,122,002\u003c/td\u003e \n        \u003ctd id\u003d\"T_09957738_983e_11ed_bb48_f23b1644f743row1_col8\" class\u003d\"data row1 col8\" \u003e16,825\u003c/td\u003e \n        \u003ctd id\u003d\"T_09957738_983e_11ed_bb48_f23b1644f743row1_col9\" class\u003d\"data row1 col9\" \u003e1.46\u003c/td\u003e \n        \u003ctd id\u003d\"T_09957738_983e_11ed_bb48_f23b1644f743row1_col10\" class\u003d\"data row1 col10\" \u003e$126\u003c/td\u003e \n    \u003c/tr\u003e    \u003ctr\u003e \n        \u003cth id\u003d\"T_09957738_983e_11ed_bb48_f23b1644f743level0_row2\" class\u003d\"row_heading level0 row2\" \u003eRice + veg. add-on\u003c/th\u003e \n        \u003ctd id\u003d\"T_09957738_983e_11ed_bb48_f23b1644f743row2_col0\" class\u003d\"data row2 col0\" \u003e0.02\u003c/td\u003e \n        \u003ctd id\u003d\"T_09957738_983e_11ed_bb48_f23b1644f743row2_col1\" class\u003d\"data row2 col1\" \u003e109\u003c/td\u003e \n        \u003ctd id\u003d\"T_09957738_983e_11ed_bb48_f23b1644f743row2_col2\" class\u003d\"data row2 col2\" \u003e1.34\u003c/td\u003e \n        \u003ctd id\u003d\"T_09957738_983e_11ed_bb48_f23b1644f743row2_col3\" class\u003d\"data row2 col3\" \u003e$5\u003c/td\u003e \n        \u003ctd id\u003d\"T_09957738_983e_11ed_bb48_f23b1644f743row2_col4\" class\u003d\"data row2 col4\" \u003e30\u003c/td\u003e \n        \u003ctd id\u003d\"T_09957738_983e_11ed_bb48_f23b1644f743row2_col5\" class\u003d\"data row2 col5\" \u003e$2,020\u003c/td\u003e \n        \u003ctd id\u003d\"T_09957738_983e_11ed_bb48_f23b1644f743row2_col6\" class\u003d\"data row2 col6\" \u003e$64,798\u003c/td\u003e \n        \u003ctd id\u003d\"T_09957738_983e_11ed_bb48_f23b1644f743row2_col7\" class\u003d\"data row2 col7\" \u003e$61,764\u003c/td\u003e \n        \u003ctd id\u003d\"T_09957738_983e_11ed_bb48_f23b1644f743row2_col8\" class\u003d\"data row2 col8\" \u003e2,187\u003c/td\u003e \n        \u003ctd id\u003d\"T_09957738_983e_11ed_bb48_f23b1644f743row2_col9\" class\u003d\"data row2 col9\" \u003e20.36\u003c/td\u003e \n        \u003ctd id\u003d\"T_09957738_983e_11ed_bb48_f23b1644f743row2_col10\" class\u003d\"data row2 col10\" \u003e$28\u003c/td\u003e \n    \u003c/tr\u003e    \u003ctr\u003e \n        \u003cth id\u003d\"T_09957738_983e_11ed_bb48_f23b1644f743level0_row3\" class\u003d\"row_heading level0 row3\" \u003eSorghum + veg. add-on\u003c/th\u003e \n        \u003ctd id\u003d\"T_09957738_983e_11ed_bb48_f23b1644f743row3_col0\" class\u003d\"data row3 col0\" \u003e0.12\u003c/td\u003e \n        \u003ctd id\u003d\"T_09957738_983e_11ed_bb48_f23b1644f743row3_col1\" class\u003d\"data row3 col1\" \u003e730\u003c/td\u003e \n        \u003ctd id\u003d\"T_09957738_983e_11ed_bb48_f23b1644f743row3_col2\" class\u003d\"data row3 col2\" \u003e2.18\u003c/td\u003e \n        \u003ctd id\u003d\"T_09957738_983e_11ed_bb48_f23b1644f743row3_col3\" class\u003d\"data row3 col3\" \u003e$364\u003c/td\u003e \n        \u003ctd id\u003d\"T_09957738_983e_11ed_bb48_f23b1644f743row3_col4\" class\u003d\"data row3 col4\" \u003e24\u003c/td\u003e \n        \u003ctd id\u003d\"T_09957738_983e_11ed_bb48_f23b1644f743row3_col5\" class\u003d\"data row3 col5\" \u003e$2,020\u003c/td\u003e \n        \u003ctd id\u003d\"T_09957738_983e_11ed_bb48_f23b1644f743row3_col6\" class\u003d\"data row3 col6\" \u003e$487,557\u003c/td\u003e \n        \u003ctd id\u003d\"T_09957738_983e_11ed_bb48_f23b1644f743row3_col7\" class\u003d\"data row3 col7\" \u003e$314,307\u003c/td\u003e \n        \u003ctd id\u003d\"T_09957738_983e_11ed_bb48_f23b1644f743row3_col8\" class\u003d\"data row3 col8\" \u003e1,743\u003c/td\u003e \n        \u003ctd id\u003d\"T_09957738_983e_11ed_bb48_f23b1644f743row3_col9\" class\u003d\"data row3 col9\" \u003e1.81\u003c/td\u003e \n        \u003ctd id\u003d\"T_09957738_983e_11ed_bb48_f23b1644f743row3_col10\" class\u003d\"data row3 col10\" \u003e$180\u003c/td\u003e \n    \u003c/tr\u003e    \u003ctr\u003e \n        \u003cth id\u003d\"T_09957738_983e_11ed_bb48_f23b1644f743level0_row4\" class\u003d\"row_heading level0 row4\" \u003eOkra\u003c/th\u003e \n        \u003ctd id\u003d\"T_09957738_983e_11ed_bb48_f23b1644f743row4_col0\" class\u003d\"data row4 col0\" \u003e0.11\u003c/td\u003e \n        \u003ctd id\u003d\"T_09957738_983e_11ed_bb48_f23b1644f743row4_col1\" class\u003d\"data row4 col1\" \u003e664\u003c/td\u003e \n        \u003ctd id\u003d\"T_09957738_983e_11ed_bb48_f23b1644f743row4_col2\" class\u003d\"data row4 col2\" \u003e0.00\u003c/td\u003e \n        \u003ctd id\u003d\"T_09957738_983e_11ed_bb48_f23b1644f743row4_col3\" class\u003d\"data row4 col3\" \u003e$1,728\u003c/td\u003e \n        \u003ctd id\u003d\"T_09957738_983e_11ed_bb48_f23b1644f743row4_col4\" class\u003d\"data row4 col4\" \u003e0\u003c/td\u003e \n        \u003ctd id\u003d\"T_09957738_983e_11ed_bb48_f23b1644f743row4_col5\" class\u003d\"data row4 col5\" \u003e$0\u003c/td\u003e \n        \u003ctd id\u003d\"T_09957738_983e_11ed_bb48_f23b1644f743row4_col6\" class\u003d\"data row4 col6\" \u003e$1,147,049\u003c/td\u003e \n        \u003ctd id\u003d\"T_09957738_983e_11ed_bb48_f23b1644f743row4_col7\" class\u003d\"data row4 col7\" \u003e$1,147,049\u003c/td\u003e \n        \u003ctd id\u003d\"T_09957738_983e_11ed_bb48_f23b1644f743row4_col8\" class\u003d\"data row4 col8\" \u003e21,913\u003c/td\u003e \n        \u003ctd id\u003d\"T_09957738_983e_11ed_bb48_f23b1644f743row4_col9\" class\u003d\"data row4 col9\" \u003e0.00\u003c/td\u003e \n        \u003ctd id\u003d\"T_09957738_983e_11ed_bb48_f23b1644f743row4_col10\" class\u003d\"data row4 col10\" \u003e$52\u003c/td\u003e \n    \u003c/tr\u003e    \u003ctr\u003e \n        \u003cth id\u003d\"T_09957738_983e_11ed_bb48_f23b1644f743level0_row5\" class\u003d\"row_heading level0 row5\" \u003ePlanter\u003c/th\u003e \n        \u003ctd id\u003d\"T_09957738_983e_11ed_bb48_f23b1644f743row5_col0\" class\u003d\"data row5 col0\" \u003e0.00\u003c/td\u003e \n        \u003ctd id\u003d\"T_09957738_983e_11ed_bb48_f23b1644f743row5_col1\" class\u003d\"data row5 col1\" \u003e0\u003c/td\u003e \n        \u003ctd id\u003d\"T_09957738_983e_11ed_bb48_f23b1644f743row5_col2\" class\u003d\"data row5 col2\" \u003e0.00\u003c/td\u003e \n        \u003ctd id\u003d\"T_09957738_983e_11ed_bb48_f23b1644f743row5_col3\" class\u003d\"data row5 col3\" \u003e$2,559\u003c/td\u003e \n        \u003ctd id\u003d\"T_09957738_983e_11ed_bb48_f23b1644f743row5_col4\" class\u003d\"data row5 col4\" \u003e0\u003c/td\u003e \n        \u003ctd id\u003d\"T_09957738_983e_11ed_bb48_f23b1644f743row5_col5\" class\u003d\"data row5 col5\" \u003e$0\u003c/td\u003e \n        \u003ctd id\u003d\"T_09957738_983e_11ed_bb48_f23b1644f743row5_col6\" class\u003d\"data row5 col6\" \u003e$1,491,897\u003c/td\u003e \n        \u003ctd id\u003d\"T_09957738_983e_11ed_bb48_f23b1644f743row5_col7\" class\u003d\"data row5 col7\" \u003e$1,491,897\u003c/td\u003e \n        \u003ctd id\u003d\"T_09957738_983e_11ed_bb48_f23b1644f743row5_col8\" class\u003d\"data row5 col8\" \u003e583\u003c/td\u003e \n        \u003ctd id\u003d\"T_09957738_983e_11ed_bb48_f23b1644f743row5_col9\" class\u003d\"data row5 col9\" \u003e0.00\u003c/td\u003e \n        \u003ctd id\u003d\"T_09957738_983e_11ed_bb48_f23b1644f743row5_col10\" class\u003d\"data row5 col10\" \u003e$2,559\u003c/td\u003e \n    \u003c/tr\u003e\u003c/tbody\u003e \n\u003c/table\u003e "
          },
          "metadata": {}
        }
      ]
    },
    {
      "cell_type": "markdown",
      "metadata": {},
      "source": [
        "**Senegal**"
      ]
    },
    {
      "execution_count": 795,
      "cell_type": "code",
      "metadata": {},
      "source": [
        "impact_sn_per_crop_display"
      ],
      "outputs": [
        {
          "output_type": "execute_result",
          "execution_count": 795,
          "data": {
            "text/plain": "\u003cpandas.io.formats.style.Styler at 0x7fba114988d0\u003e",
            "text/html": "\u003cstyle  type\u003d\"text/css\" \u003e\n\u003c/style\u003e  \n\u003ctable id\u003d\"T_0996cc00_983e_11ed_bb48_f23b1644f743\" \u003e \n\u003cthead\u003e    \u003ctr\u003e \n        \u003cth class\u003d\"blank level0\" \u003e\u003c/th\u003e \n        \u003cth class\u003d\"col_heading level0 col0\" \u003e% Total Core Package Hectares Delivered\u003c/th\u003e \n        \u003cth class\u003d\"col_heading level0 col1\" \u003eCore Package Hectares Delivered\u003c/th\u003e \n        \u003cth class\u003d\"col_heading level0 col2\" \u003eAverage % Difference Yield\u003c/th\u003e \n        \u003cth class\u003d\"col_heading level0 col3\" \u003eCore Package Impact Per Hectare\u003c/th\u003e \n        \u003cth class\u003d\"col_heading level0 col4\" \u003eVegetable Add-on Hectares\u003c/th\u003e \n        \u003cth class\u003d\"col_heading level0 col5\" \u003eVegetable Add-on Impact Per Hectare\u003c/th\u003e \n        \u003cth class\u003d\"col_heading level0 col6\" \u003eTotal Profit\u003c/th\u003e \n        \u003cth class\u003d\"col_heading level0 col7\" \u003eTotal Impact\u003c/th\u003e \n        \u003cth class\u003d\"col_heading level0 col8\" \u003ePackages Delivered\u003c/th\u003e \n        \u003cth class\u003d\"col_heading level0 col9\" \u003e% Total Impact\u003c/th\u003e \n        \u003cth class\u003d\"col_heading level0 col10\" \u003eImpact Per Farmer\u003c/th\u003e \n    \u003c/tr\u003e    \u003ctr\u003e \n        \u003cth class\u003d\"index_name level0\" \u003eProduct\u003c/th\u003e \n        \u003cth class\u003d\"blank\" \u003e\u003c/th\u003e \n        \u003cth class\u003d\"blank\" \u003e\u003c/th\u003e \n        \u003cth class\u003d\"blank\" \u003e\u003c/th\u003e \n        \u003cth class\u003d\"blank\" \u003e\u003c/th\u003e \n        \u003cth class\u003d\"blank\" \u003e\u003c/th\u003e \n        \u003cth class\u003d\"blank\" \u003e\u003c/th\u003e \n        \u003cth class\u003d\"blank\" \u003e\u003c/th\u003e \n        \u003cth class\u003d\"blank\" \u003e\u003c/th\u003e \n        \u003cth class\u003d\"blank\" \u003e\u003c/th\u003e \n        \u003cth class\u003d\"blank\" \u003e\u003c/th\u003e \n        \u003cth class\u003d\"blank\" \u003e\u003c/th\u003e \n    \u003c/tr\u003e\u003c/thead\u003e \n\u003ctbody\u003e    \u003ctr\u003e \n        \u003cth id\u003d\"T_0996cc00_983e_11ed_bb48_f23b1644f743level0_row0\" class\u003d\"row_heading level0 row0\" \u003eMaize + veg. add-on\u003c/th\u003e \n        \u003ctd id\u003d\"T_0996cc00_983e_11ed_bb48_f23b1644f743row0_col0\" class\u003d\"data row0 col0\" \u003e0.09\u003c/td\u003e \n        \u003ctd id\u003d\"T_0996cc00_983e_11ed_bb48_f23b1644f743row0_col1\" class\u003d\"data row0 col1\" \u003e1,140\u003c/td\u003e \n        \u003ctd id\u003d\"T_0996cc00_983e_11ed_bb48_f23b1644f743row0_col2\" class\u003d\"data row0 col2\" \u003e0.75\u003c/td\u003e \n        \u003ctd id\u003d\"T_0996cc00_983e_11ed_bb48_f23b1644f743row0_col3\" class\u003d\"data row0 col3\" \u003e$229\u003c/td\u003e \n        \u003ctd id\u003d\"T_0996cc00_983e_11ed_bb48_f23b1644f743row0_col4\" class\u003d\"data row0 col4\" \u003e66\u003c/td\u003e \n        \u003ctd id\u003d\"T_0996cc00_983e_11ed_bb48_f23b1644f743row0_col5\" class\u003d\"data row0 col5\" \u003e$2,803\u003c/td\u003e \n        \u003ctd id\u003d\"T_0996cc00_983e_11ed_bb48_f23b1644f743row0_col6\" class\u003d\"data row0 col6\" \u003e$1,146,438\u003c/td\u003e \n        \u003ctd id\u003d\"T_0996cc00_983e_11ed_bb48_f23b1644f743row0_col7\" class\u003d\"data row0 col7\" \u003e$446,700\u003c/td\u003e \n        \u003ctd id\u003d\"T_0996cc00_983e_11ed_bb48_f23b1644f743row0_col8\" class\u003d\"data row0 col8\" \u003e4,882\u003c/td\u003e \n        \u003ctd id\u003d\"T_0996cc00_983e_11ed_bb48_f23b1644f743row0_col9\" class\u003d\"data row0 col9\" \u003e0.64\u003c/td\u003e \n        \u003ctd id\u003d\"T_0996cc00_983e_11ed_bb48_f23b1644f743row0_col10\" class\u003d\"data row0 col10\" \u003e$91\u003c/td\u003e \n    \u003c/tr\u003e    \u003ctr\u003e \n        \u003cth id\u003d\"T_0996cc00_983e_11ed_bb48_f23b1644f743level0_row1\" class\u003d\"row_heading level0 row1\" \u003ePeanut + fodder + veg. add-on\u003c/th\u003e \n        \u003ctd id\u003d\"T_0996cc00_983e_11ed_bb48_f23b1644f743row1_col0\" class\u003d\"data row1 col0\" \u003e0.66\u003c/td\u003e \n        \u003ctd id\u003d\"T_0996cc00_983e_11ed_bb48_f23b1644f743row1_col1\" class\u003d\"data row1 col1\" \u003e8,384\u003c/td\u003e \n        \u003ctd id\u003d\"T_0996cc00_983e_11ed_bb48_f23b1644f743row1_col2\" class\u003d\"data row1 col2\" \u003e1.80\u003c/td\u003e \n        \u003ctd id\u003d\"T_0996cc00_983e_11ed_bb48_f23b1644f743row1_col3\" class\u003d\"data row1 col3\" \u003e$1,391\u003c/td\u003e \n        \u003ctd id\u003d\"T_0996cc00_983e_11ed_bb48_f23b1644f743row1_col4\" class\u003d\"data row1 col4\" \u003e244\u003c/td\u003e \n        \u003ctd id\u003d\"T_0996cc00_983e_11ed_bb48_f23b1644f743row1_col5\" class\u003d\"data row1 col5\" \u003e$2,803\u003c/td\u003e \n        \u003ctd id\u003d\"T_0996cc00_983e_11ed_bb48_f23b1644f743row1_col6\" class\u003d\"data row1 col6\" \u003e$19,789,318\u003c/td\u003e \n        \u003ctd id\u003d\"T_0996cc00_983e_11ed_bb48_f23b1644f743row1_col7\" class\u003d\"data row1 col7\" \u003e$12,347,022\u003c/td\u003e \n        \u003ctd id\u003d\"T_0996cc00_983e_11ed_bb48_f23b1644f743row1_col8\" class\u003d\"data row1 col8\" \u003e17,969\u003c/td\u003e \n        \u003ctd id\u003d\"T_0996cc00_983e_11ed_bb48_f23b1644f743row1_col9\" class\u003d\"data row1 col9\" \u003e1.66\u003c/td\u003e \n        \u003ctd id\u003d\"T_0996cc00_983e_11ed_bb48_f23b1644f743row1_col10\" class\u003d\"data row1 col10\" \u003e$687\u003c/td\u003e \n    \u003c/tr\u003e    \u003ctr\u003e \n        \u003cth id\u003d\"T_0996cc00_983e_11ed_bb48_f23b1644f743level0_row2\" class\u003d\"row_heading level0 row2\" \u003eMillet + veg. add-on\u003c/th\u003e \n        \u003ctd id\u003d\"T_0996cc00_983e_11ed_bb48_f23b1644f743row2_col0\" class\u003d\"data row2 col0\" \u003e0.17\u003c/td\u003e \n        \u003ctd id\u003d\"T_0996cc00_983e_11ed_bb48_f23b1644f743row2_col1\" class\u003d\"data row2 col1\" \u003e2,190\u003c/td\u003e \n        \u003ctd id\u003d\"T_0996cc00_983e_11ed_bb48_f23b1644f743row2_col2\" class\u003d\"data row2 col2\" \u003e1.05\u003c/td\u003e \n        \u003ctd id\u003d\"T_0996cc00_983e_11ed_bb48_f23b1644f743row2_col3\" class\u003d\"data row2 col3\" \u003e$91\u003c/td\u003e \n        \u003ctd id\u003d\"T_0996cc00_983e_11ed_bb48_f23b1644f743row2_col4\" class\u003d\"data row2 col4\" \u003e53\u003c/td\u003e \n        \u003ctd id\u003d\"T_0996cc00_983e_11ed_bb48_f23b1644f743row2_col5\" class\u003d\"data row2 col5\" \u003e$2,803\u003c/td\u003e \n        \u003ctd id\u003d\"T_0996cc00_983e_11ed_bb48_f23b1644f743row2_col6\" class\u003d\"data row2 col6\" \u003e$765,336\u003c/td\u003e \n        \u003ctd id\u003d\"T_0996cc00_983e_11ed_bb48_f23b1644f743row2_col7\" class\u003d\"data row2 col7\" \u003e$348,176\u003c/td\u003e \n        \u003ctd id\u003d\"T_0996cc00_983e_11ed_bb48_f23b1644f743row2_col8\" class\u003d\"data row2 col8\" \u003e3,940\u003c/td\u003e \n        \u003ctd id\u003d\"T_0996cc00_983e_11ed_bb48_f23b1644f743row2_col9\" class\u003d\"data row2 col9\" \u003e0.83\u003c/td\u003e \n        \u003ctd id\u003d\"T_0996cc00_983e_11ed_bb48_f23b1644f743row2_col10\" class\u003d\"data row2 col10\" \u003e$88\u003c/td\u003e \n    \u003c/tr\u003e    \u003ctr\u003e \n        \u003cth id\u003d\"T_0996cc00_983e_11ed_bb48_f23b1644f743level0_row3\" class\u003d\"row_heading level0 row3\" \u003eRice + veg. add-on\u003c/th\u003e \n        \u003ctd id\u003d\"T_0996cc00_983e_11ed_bb48_f23b1644f743row3_col0\" class\u003d\"data row3 col0\" \u003e0.01\u003c/td\u003e \n        \u003ctd id\u003d\"T_0996cc00_983e_11ed_bb48_f23b1644f743row3_col1\" class\u003d\"data row3 col1\" \u003e132\u003c/td\u003e \n        \u003ctd id\u003d\"T_0996cc00_983e_11ed_bb48_f23b1644f743row3_col2\" class\u003d\"data row3 col2\" \u003e1.21\u003c/td\u003e \n        \u003ctd id\u003d\"T_0996cc00_983e_11ed_bb48_f23b1644f743row3_col3\" class\u003d\"data row3 col3\" \u003e$32\u003c/td\u003e \n        \u003ctd id\u003d\"T_0996cc00_983e_11ed_bb48_f23b1644f743row3_col4\" class\u003d\"data row3 col4\" \u003e32\u003c/td\u003e \n        \u003ctd id\u003d\"T_0996cc00_983e_11ed_bb48_f23b1644f743row3_col5\" class\u003d\"data row3 col5\" \u003e$2,803\u003c/td\u003e \n        \u003ctd id\u003d\"T_0996cc00_983e_11ed_bb48_f23b1644f743row3_col6\" class\u003d\"data row3 col6\" \u003e$100,059\u003c/td\u003e \n        \u003ctd id\u003d\"T_0996cc00_983e_11ed_bb48_f23b1644f743row3_col7\" class\u003d\"data row3 col7\" \u003e$93,127\u003c/td\u003e \n        \u003ctd id\u003d\"T_0996cc00_983e_11ed_bb48_f23b1644f743row3_col8\" class\u003d\"data row3 col8\" \u003e2,340\u003c/td\u003e \n        \u003ctd id\u003d\"T_0996cc00_983e_11ed_bb48_f23b1644f743row3_col9\" class\u003d\"data row3 col9\" \u003e13.44\u003c/td\u003e \n        \u003ctd id\u003d\"T_0996cc00_983e_11ed_bb48_f23b1644f743row3_col10\" class\u003d\"data row3 col10\" \u003e$40\u003c/td\u003e \n    \u003c/tr\u003e    \u003ctr\u003e \n        \u003cth id\u003d\"T_0996cc00_983e_11ed_bb48_f23b1644f743level0_row4\" class\u003d\"row_heading level0 row4\" \u003eBissap\u003c/th\u003e \n        \u003ctd id\u003d\"T_0996cc00_983e_11ed_bb48_f23b1644f743row4_col0\" class\u003d\"data row4 col0\" \u003e0.03\u003c/td\u003e \n        \u003ctd id\u003d\"T_0996cc00_983e_11ed_bb48_f23b1644f743row4_col1\" class\u003d\"data row4 col1\" \u003e386\u003c/td\u003e \n        \u003ctd id\u003d\"T_0996cc00_983e_11ed_bb48_f23b1644f743row4_col2\" class\u003d\"data row4 col2\" \u003e0.00\u003c/td\u003e \n        \u003ctd id\u003d\"T_0996cc00_983e_11ed_bb48_f23b1644f743row4_col3\" class\u003d\"data row4 col3\" \u003e$1,749\u003c/td\u003e \n        \u003ctd id\u003d\"T_0996cc00_983e_11ed_bb48_f23b1644f743row4_col4\" class\u003d\"data row4 col4\" \u003e0\u003c/td\u003e \n        \u003ctd id\u003d\"T_0996cc00_983e_11ed_bb48_f23b1644f743row4_col5\" class\u003d\"data row4 col5\" \u003e$0\u003c/td\u003e \n        \u003ctd id\u003d\"T_0996cc00_983e_11ed_bb48_f23b1644f743row4_col6\" class\u003d\"data row4 col6\" \u003e$674,747\u003c/td\u003e \n        \u003ctd id\u003d\"T_0996cc00_983e_11ed_bb48_f23b1644f743row4_col7\" class\u003d\"data row4 col7\" \u003e$674,747\u003c/td\u003e \n        \u003ctd id\u003d\"T_0996cc00_983e_11ed_bb48_f23b1644f743row4_col8\" class\u003d\"data row4 col8\" \u003e3,294\u003c/td\u003e \n        \u003ctd id\u003d\"T_0996cc00_983e_11ed_bb48_f23b1644f743row4_col9\" class\u003d\"data row4 col9\" \u003e0.00\u003c/td\u003e \n        \u003ctd id\u003d\"T_0996cc00_983e_11ed_bb48_f23b1644f743row4_col10\" class\u003d\"data row4 col10\" \u003e$205\u003c/td\u003e \n    \u003c/tr\u003e    \u003ctr\u003e \n        \u003cth id\u003d\"T_0996cc00_983e_11ed_bb48_f23b1644f743level0_row5\" class\u003d\"row_heading level0 row5\" \u003eOkra\u003c/th\u003e \n        \u003ctd id\u003d\"T_0996cc00_983e_11ed_bb48_f23b1644f743row5_col0\" class\u003d\"data row5 col0\" \u003e0.03\u003c/td\u003e \n        \u003ctd id\u003d\"T_0996cc00_983e_11ed_bb48_f23b1644f743row5_col1\" class\u003d\"data row5 col1\" \u003e342\u003c/td\u003e \n        \u003ctd id\u003d\"T_0996cc00_983e_11ed_bb48_f23b1644f743row5_col2\" class\u003d\"data row5 col2\" \u003e0.00\u003c/td\u003e \n        \u003ctd id\u003d\"T_0996cc00_983e_11ed_bb48_f23b1644f743row5_col3\" class\u003d\"data row5 col3\" \u003e$4,014\u003c/td\u003e \n        \u003ctd id\u003d\"T_0996cc00_983e_11ed_bb48_f23b1644f743row5_col4\" class\u003d\"data row5 col4\" \u003e0\u003c/td\u003e \n        \u003ctd id\u003d\"T_0996cc00_983e_11ed_bb48_f23b1644f743row5_col5\" class\u003d\"data row5 col5\" \u003e$0\u003c/td\u003e \n        \u003ctd id\u003d\"T_0996cc00_983e_11ed_bb48_f23b1644f743row5_col6\" class\u003d\"data row5 col6\" \u003e$1,372,023\u003c/td\u003e \n        \u003ctd id\u003d\"T_0996cc00_983e_11ed_bb48_f23b1644f743row5_col7\" class\u003d\"data row5 col7\" \u003e$1,372,023\u003c/td\u003e \n        \u003ctd id\u003d\"T_0996cc00_983e_11ed_bb48_f23b1644f743row5_col8\" class\u003d\"data row5 col8\" \u003e4,574\u003c/td\u003e \n        \u003ctd id\u003d\"T_0996cc00_983e_11ed_bb48_f23b1644f743row5_col9\" class\u003d\"data row5 col9\" \u003e0.00\u003c/td\u003e \n        \u003ctd id\u003d\"T_0996cc00_983e_11ed_bb48_f23b1644f743row5_col10\" class\u003d\"data row5 col10\" \u003e$300\u003c/td\u003e \n    \u003c/tr\u003e    \u003ctr\u003e \n        \u003cth id\u003d\"T_0996cc00_983e_11ed_bb48_f23b1644f743level0_row6\" class\u003d\"row_heading level0 row6\" \u003eWatermelon\u003c/th\u003e \n        \u003ctd id\u003d\"T_0996cc00_983e_11ed_bb48_f23b1644f743row6_col0\" class\u003d\"data row6 col0\" \u003e0.01\u003c/td\u003e \n        \u003ctd id\u003d\"T_0996cc00_983e_11ed_bb48_f23b1644f743row6_col1\" class\u003d\"data row6 col1\" \u003e109\u003c/td\u003e \n        \u003ctd id\u003d\"T_0996cc00_983e_11ed_bb48_f23b1644f743row6_col2\" class\u003d\"data row6 col2\" \u003e0.00\u003c/td\u003e \n        \u003ctd id\u003d\"T_0996cc00_983e_11ed_bb48_f23b1644f743row6_col3\" class\u003d\"data row6 col3\" \u003e$7,861\u003c/td\u003e \n        \u003ctd id\u003d\"T_0996cc00_983e_11ed_bb48_f23b1644f743row6_col4\" class\u003d\"data row6 col4\" \u003e0\u003c/td\u003e \n        \u003ctd id\u003d\"T_0996cc00_983e_11ed_bb48_f23b1644f743row6_col5\" class\u003d\"data row6 col5\" \u003e$0\u003c/td\u003e \n        \u003ctd id\u003d\"T_0996cc00_983e_11ed_bb48_f23b1644f743row6_col6\" class\u003d\"data row6 col6\" \u003e$858,997\u003c/td\u003e \n        \u003ctd id\u003d\"T_0996cc00_983e_11ed_bb48_f23b1644f743row6_col7\" class\u003d\"data row6 col7\" \u003e$858,997\u003c/td\u003e \n        \u003ctd id\u003d\"T_0996cc00_983e_11ed_bb48_f23b1644f743row6_col8\" class\u003d\"data row6 col8\" \u003e4,541\u003c/td\u003e \n        \u003ctd id\u003d\"T_0996cc00_983e_11ed_bb48_f23b1644f743row6_col9\" class\u003d\"data row6 col9\" \u003e0.00\u003c/td\u003e \n        \u003ctd id\u003d\"T_0996cc00_983e_11ed_bb48_f23b1644f743row6_col10\" class\u003d\"data row6 col10\" \u003e$189\u003c/td\u003e \n    \u003c/tr\u003e\u003c/tbody\u003e \n\u003c/table\u003e "
          },
          "metadata": {}
        }
      ]
    },
    {
      "cell_type": "markdown",
      "metadata": {},
      "source": [
        "### 4. Impact per Package"
      ]
    },
    {
      "cell_type": "markdown",
      "metadata": {},
      "source": [
        "**Mali Summary Table**"
      ]
    },
    {
      "execution_count": 796,
      "cell_type": "code",
      "metadata": {},
      "source": [
        "impact_per_package_ml_summary"
      ],
      "outputs": [
        {
          "output_type": "execute_result",
          "execution_count": 796,
          "data": {
            "text/plain": "\u003cpandas.io.formats.style.Styler at 0x7fba11295cc0\u003e",
            "text/html": "\u003cstyle  type\u003d\"text/css\" \u003e\n\u003c/style\u003e  \n\u003ctable id\u003d\"T_09982a28_983e_11ed_bb48_f23b1644f743\" \u003e \n\u003cthead\u003e    \u003ctr\u003e \n        \u003cth class\u003d\"blank\" \u003e\u003c/th\u003e \n        \u003cth class\u003d\"blank level0\" \u003e\u003c/th\u003e \n        \u003cth class\u003d\"col_heading level0 col0\" \u003eNet Profit myAgro\u003c/th\u003e \n        \u003cth class\u003d\"col_heading level0 col1\" \u003eNet Profit Control\u003c/th\u003e \n        \u003cth class\u003d\"col_heading level0 col2\" \u003e% Difference Yield\u003c/th\u003e \n        \u003cth class\u003d\"col_heading level0 col3\" \u003eImpact (Difference Net Profit)\u003c/th\u003e \n        \u003cth class\u003d\"col_heading level0 col4\" \u003e% Impact\u003c/th\u003e \n        \u003cth class\u003d\"col_heading level0 col5\" \u003eAdd-on Net Profit\u003c/th\u003e \n        \u003cth class\u003d\"col_heading level0 col6\" \u003eImpact Including Add-on\u003c/th\u003e \n        \u003cth class\u003d\"col_heading level0 col7\" \u003e% Impact Including Add-on\u003c/th\u003e \n    \u003c/tr\u003e    \u003ctr\u003e \n        \u003cth class\u003d\"index_name level0\" \u003eProduct\u003c/th\u003e \n        \u003cth class\u003d\"index_name level1\" \u003ePackage Size (Hectares)\u003c/th\u003e \n        \u003cth class\u003d\"blank\" \u003e\u003c/th\u003e \n        \u003cth class\u003d\"blank\" \u003e\u003c/th\u003e \n        \u003cth class\u003d\"blank\" \u003e\u003c/th\u003e \n        \u003cth class\u003d\"blank\" \u003e\u003c/th\u003e \n        \u003cth class\u003d\"blank\" \u003e\u003c/th\u003e \n        \u003cth class\u003d\"blank\" \u003e\u003c/th\u003e \n        \u003cth class\u003d\"blank\" \u003e\u003c/th\u003e \n        \u003cth class\u003d\"blank\" \u003e\u003c/th\u003e \n    \u003c/tr\u003e\u003c/thead\u003e \n\u003ctbody\u003e    \u003ctr\u003e \n        \u003cth id\u003d\"T_09982a28_983e_11ed_bb48_f23b1644f743level0_row0\" class\u003d\"row_heading level0 row0\" \u003emaize\u003c/th\u003e \n        \u003cth id\u003d\"T_09982a28_983e_11ed_bb48_f23b1644f743level1_row0\" class\u003d\"row_heading level1 row0\" \u003e1.0\u003c/th\u003e \n        \u003ctd id\u003d\"T_09982a28_983e_11ed_bb48_f23b1644f743row0_col0\" class\u003d\"data row0 col0\" \u003e$                 997\u003c/td\u003e \n        \u003ctd id\u003d\"T_09982a28_983e_11ed_bb48_f23b1644f743row0_col1\" class\u003d\"data row0 col1\" \u003e$                 661\u003c/td\u003e \n        \u003ctd id\u003d\"T_09982a28_983e_11ed_bb48_f23b1644f743row0_col2\" class\u003d\"data row0 col2\" \u003e0.98\u003c/td\u003e \n        \u003ctd id\u003d\"T_09982a28_983e_11ed_bb48_f23b1644f743row0_col3\" class\u003d\"data row0 col3\" \u003e$                 337\u003c/td\u003e \n        \u003ctd id\u003d\"T_09982a28_983e_11ed_bb48_f23b1644f743row0_col4\" class\u003d\"data row0 col4\" \u003e0.51\u003c/td\u003e \n        \u003ctd id\u003d\"T_09982a28_983e_11ed_bb48_f23b1644f743row0_col5\" class\u003d\"data row0 col5\" \u003e$                  28\u003c/td\u003e \n        \u003ctd id\u003d\"T_09982a28_983e_11ed_bb48_f23b1644f743row0_col6\" class\u003d\"data row0 col6\" \u003e$                 365\u003c/td\u003e \n        \u003ctd id\u003d\"T_09982a28_983e_11ed_bb48_f23b1644f743row0_col7\" class\u003d\"data row0 col7\" \u003e0.55\u003c/td\u003e \n    \u003c/tr\u003e    \u003ctr\u003e \n        \u003cth id\u003d\"T_09982a28_983e_11ed_bb48_f23b1644f743level0_row1\" class\u003d\"row_heading level0 row1\" \u003epeanut\u003c/th\u003e \n        \u003cth id\u003d\"T_09982a28_983e_11ed_bb48_f23b1644f743level1_row1\" class\u003d\"row_heading level1 row1\" \u003e1.0\u003c/th\u003e \n        \u003ctd id\u003d\"T_09982a28_983e_11ed_bb48_f23b1644f743row1_col0\" class\u003d\"data row1 col0\" \u003e$                 790\u003c/td\u003e \n        \u003ctd id\u003d\"T_09982a28_983e_11ed_bb48_f23b1644f743row1_col1\" class\u003d\"data row1 col1\" \u003e$                 369\u003c/td\u003e \n        \u003ctd id\u003d\"T_09982a28_983e_11ed_bb48_f23b1644f743row1_col2\" class\u003d\"data row1 col2\" \u003e1.54\u003c/td\u003e \n        \u003ctd id\u003d\"T_09982a28_983e_11ed_bb48_f23b1644f743row1_col3\" class\u003d\"data row1 col3\" \u003e$                 421\u003c/td\u003e \n        \u003ctd id\u003d\"T_09982a28_983e_11ed_bb48_f23b1644f743row1_col4\" class\u003d\"data row1 col4\" \u003e1.14\u003c/td\u003e \n        \u003ctd id\u003d\"T_09982a28_983e_11ed_bb48_f23b1644f743row1_col5\" class\u003d\"data row1 col5\" \u003e$                  28\u003c/td\u003e \n        \u003ctd id\u003d\"T_09982a28_983e_11ed_bb48_f23b1644f743row1_col6\" class\u003d\"data row1 col6\" \u003e$                 449\u003c/td\u003e \n        \u003ctd id\u003d\"T_09982a28_983e_11ed_bb48_f23b1644f743row1_col7\" class\u003d\"data row1 col7\" \u003e1.22\u003c/td\u003e \n    \u003c/tr\u003e    \u003ctr\u003e \n        \u003cth id\u003d\"T_09982a28_983e_11ed_bb48_f23b1644f743level0_row2\" class\u003d\"row_heading level0 row2\" \u003erice\u003c/th\u003e \n        \u003cth id\u003d\"T_09982a28_983e_11ed_bb48_f23b1644f743level1_row2\" class\u003d\"row_heading level1 row2\" \u003e0.05\u003c/th\u003e \n        \u003ctd id\u003d\"T_09982a28_983e_11ed_bb48_f23b1644f743row2_col0\" class\u003d\"data row2 col0\" \u003e$                  33\u003c/td\u003e \n        \u003ctd id\u003d\"T_09982a28_983e_11ed_bb48_f23b1644f743row2_col1\" class\u003d\"data row2 col1\" \u003e$                  28\u003c/td\u003e \n        \u003ctd id\u003d\"T_09982a28_983e_11ed_bb48_f23b1644f743row2_col2\" class\u003d\"data row2 col2\" \u003e1.34\u003c/td\u003e \n        \u003ctd id\u003d\"T_09982a28_983e_11ed_bb48_f23b1644f743row2_col3\" class\u003d\"data row2 col3\" \u003e$                   5\u003c/td\u003e \n        \u003ctd id\u003d\"T_09982a28_983e_11ed_bb48_f23b1644f743row2_col4\" class\u003d\"data row2 col4\" \u003e0.17\u003c/td\u003e \n        \u003ctd id\u003d\"T_09982a28_983e_11ed_bb48_f23b1644f743row2_col5\" class\u003d\"data row2 col5\" \u003e$                  28\u003c/td\u003e \n        \u003ctd id\u003d\"T_09982a28_983e_11ed_bb48_f23b1644f743row2_col6\" class\u003d\"data row2 col6\" \u003e$                  33\u003c/td\u003e \n        \u003ctd id\u003d\"T_09982a28_983e_11ed_bb48_f23b1644f743row2_col7\" class\u003d\"data row2 col7\" \u003e1.18\u003c/td\u003e \n    \u003c/tr\u003e    \u003ctr\u003e \n        \u003cth id\u003d\"T_09982a28_983e_11ed_bb48_f23b1644f743level0_row3\" class\u003d\"row_heading level0 row3\" \u003esorghum\u003c/th\u003e \n        \u003cth id\u003d\"T_09982a28_983e_11ed_bb48_f23b1644f743level1_row3\" class\u003d\"row_heading level1 row3\" \u003e1.0\u003c/th\u003e \n        \u003ctd id\u003d\"T_09982a28_983e_11ed_bb48_f23b1644f743row3_col0\" class\u003d\"data row3 col0\" \u003e$                 601\u003c/td\u003e \n        \u003ctd id\u003d\"T_09982a28_983e_11ed_bb48_f23b1644f743row3_col1\" class\u003d\"data row3 col1\" \u003e$                 237\u003c/td\u003e \n        \u003ctd id\u003d\"T_09982a28_983e_11ed_bb48_f23b1644f743row3_col2\" class\u003d\"data row3 col2\" \u003e2.18\u003c/td\u003e \n        \u003ctd id\u003d\"T_09982a28_983e_11ed_bb48_f23b1644f743row3_col3\" class\u003d\"data row3 col3\" \u003e$                 364\u003c/td\u003e \n        \u003ctd id\u003d\"T_09982a28_983e_11ed_bb48_f23b1644f743row3_col4\" class\u003d\"data row3 col4\" \u003e1.53\u003c/td\u003e \n        \u003ctd id\u003d\"T_09982a28_983e_11ed_bb48_f23b1644f743row3_col5\" class\u003d\"data row3 col5\" \u003e$                  28\u003c/td\u003e \n        \u003ctd id\u003d\"T_09982a28_983e_11ed_bb48_f23b1644f743row3_col6\" class\u003d\"data row3 col6\" \u003e$                 392\u003c/td\u003e \n        \u003ctd id\u003d\"T_09982a28_983e_11ed_bb48_f23b1644f743row3_col7\" class\u003d\"data row3 col7\" \u003e1.65\u003c/td\u003e \n    \u003c/tr\u003e\u003c/tbody\u003e \n\u003c/table\u003e "
          },
          "metadata": {}
        }
      ]
    },
    {
      "cell_type": "markdown",
      "metadata": {},
      "source": [
        "**Mali Full Table**"
      ]
    },
    {
      "execution_count": 797,
      "cell_type": "code",
      "metadata": {},
      "source": [
        "impact_per_package_ml"
      ],
      "outputs": [
        {
          "output_type": "execute_result",
          "execution_count": 797,
          "data": {
            "text/plain": "\u003cpandas.io.formats.style.Styler at 0x7fba112954e0\u003e",
            "text/html": "\u003cstyle  type\u003d\"text/css\" \u003e\n\u003c/style\u003e  \n\u003ctable id\u003d\"T_09996064_983e_11ed_bb48_f23b1644f743\" \u003e \n\u003cthead\u003e    \u003ctr\u003e \n        \u003cth class\u003d\"blank\" \u003e\u003c/th\u003e \n        \u003cth class\u003d\"blank level0\" \u003e\u003c/th\u003e \n        \u003cth class\u003d\"col_heading level0 col0\" \u003eNet Profit myAgro\u003c/th\u003e \n        \u003cth class\u003d\"col_heading level0 col1\" \u003eNet Profit Control\u003c/th\u003e \n        \u003cth class\u003d\"col_heading level0 col2\" \u003e% Difference Yield\u003c/th\u003e \n        \u003cth class\u003d\"col_heading level0 col3\" \u003eImpact (Difference Net Profit)\u003c/th\u003e \n        \u003cth class\u003d\"col_heading level0 col4\" \u003e% Impact\u003c/th\u003e \n        \u003cth class\u003d\"col_heading level0 col5\" \u003eAdd-on Net Profit\u003c/th\u003e \n        \u003cth class\u003d\"col_heading level0 col6\" \u003eImpact Including Add-on\u003c/th\u003e \n        \u003cth class\u003d\"col_heading level0 col7\" \u003e% Impact Including Add-on\u003c/th\u003e \n    \u003c/tr\u003e    \u003ctr\u003e \n        \u003cth class\u003d\"index_name level0\" \u003eProduct\u003c/th\u003e \n        \u003cth class\u003d\"index_name level1\" \u003ePackage Size (Hectares)\u003c/th\u003e \n        \u003cth class\u003d\"blank\" \u003e\u003c/th\u003e \n        \u003cth class\u003d\"blank\" \u003e\u003c/th\u003e \n        \u003cth class\u003d\"blank\" \u003e\u003c/th\u003e \n        \u003cth class\u003d\"blank\" \u003e\u003c/th\u003e \n        \u003cth class\u003d\"blank\" \u003e\u003c/th\u003e \n        \u003cth class\u003d\"blank\" \u003e\u003c/th\u003e \n        \u003cth class\u003d\"blank\" \u003e\u003c/th\u003e \n        \u003cth class\u003d\"blank\" \u003e\u003c/th\u003e \n    \u003c/tr\u003e\u003c/thead\u003e \n\u003ctbody\u003e    \u003ctr\u003e \n        \u003cth id\u003d\"T_09996064_983e_11ed_bb48_f23b1644f743level0_row0\" class\u003d\"row_heading level0 row0\" rowspan\u003d6\u003emaize\u003c/th\u003e \n        \u003cth id\u003d\"T_09996064_983e_11ed_bb48_f23b1644f743level1_row0\" class\u003d\"row_heading level1 row0\" \u003e0.125\u003c/th\u003e \n        \u003ctd id\u003d\"T_09996064_983e_11ed_bb48_f23b1644f743row0_col0\" class\u003d\"data row0 col0\" \u003e$114\u003c/td\u003e \n        \u003ctd id\u003d\"T_09996064_983e_11ed_bb48_f23b1644f743row0_col1\" class\u003d\"data row0 col1\" \u003e$83\u003c/td\u003e \n        \u003ctd id\u003d\"T_09996064_983e_11ed_bb48_f23b1644f743row0_col2\" class\u003d\"data row0 col2\" \u003e0.98\u003c/td\u003e \n        \u003ctd id\u003d\"T_09996064_983e_11ed_bb48_f23b1644f743row0_col3\" class\u003d\"data row0 col3\" \u003e$31\u003c/td\u003e \n        \u003ctd id\u003d\"T_09996064_983e_11ed_bb48_f23b1644f743row0_col4\" class\u003d\"data row0 col4\" \u003e0.38\u003c/td\u003e \n        \u003ctd id\u003d\"T_09996064_983e_11ed_bb48_f23b1644f743row0_col5\" class\u003d\"data row0 col5\" \u003e$28\u003c/td\u003e \n        \u003ctd id\u003d\"T_09996064_983e_11ed_bb48_f23b1644f743row0_col6\" class\u003d\"data row0 col6\" \u003e$59\u003c/td\u003e \n        \u003ctd id\u003d\"T_09996064_983e_11ed_bb48_f23b1644f743row0_col7\" class\u003d\"data row0 col7\" \u003e0.72\u003c/td\u003e \n    \u003c/tr\u003e    \u003ctr\u003e \n        \u003cth id\u003d\"T_09996064_983e_11ed_bb48_f23b1644f743level1_row1\" class\u003d\"row_heading level1 row1\" \u003e0.25\u003c/th\u003e \n        \u003ctd id\u003d\"T_09996064_983e_11ed_bb48_f23b1644f743row1_col0\" class\u003d\"data row1 col0\" \u003e$235\u003c/td\u003e \n        \u003ctd id\u003d\"T_09996064_983e_11ed_bb48_f23b1644f743row1_col1\" class\u003d\"data row1 col1\" \u003e$165\u003c/td\u003e \n        \u003ctd id\u003d\"T_09996064_983e_11ed_bb48_f23b1644f743row1_col2\" class\u003d\"data row1 col2\" \u003e0.98\u003c/td\u003e \n        \u003ctd id\u003d\"T_09996064_983e_11ed_bb48_f23b1644f743row1_col3\" class\u003d\"data row1 col3\" \u003e$70\u003c/td\u003e \n        \u003ctd id\u003d\"T_09996064_983e_11ed_bb48_f23b1644f743row1_col4\" class\u003d\"data row1 col4\" \u003e0.42\u003c/td\u003e \n        \u003ctd id\u003d\"T_09996064_983e_11ed_bb48_f23b1644f743row1_col5\" class\u003d\"data row1 col5\" \u003e$28\u003c/td\u003e \n        \u003ctd id\u003d\"T_09996064_983e_11ed_bb48_f23b1644f743row1_col6\" class\u003d\"data row1 col6\" \u003e$98\u003c/td\u003e \n        \u003ctd id\u003d\"T_09996064_983e_11ed_bb48_f23b1644f743row1_col7\" class\u003d\"data row1 col7\" \u003e0.59\u003c/td\u003e \n    \u003c/tr\u003e    \u003ctr\u003e \n        \u003cth id\u003d\"T_09996064_983e_11ed_bb48_f23b1644f743level1_row2\" class\u003d\"row_heading level1 row2\" \u003e0.5\u003c/th\u003e \n        \u003ctd id\u003d\"T_09996064_983e_11ed_bb48_f23b1644f743row2_col0\" class\u003d\"data row2 col0\" \u003e$501\u003c/td\u003e \n        \u003ctd id\u003d\"T_09996064_983e_11ed_bb48_f23b1644f743row2_col1\" class\u003d\"data row2 col1\" \u003e$330\u003c/td\u003e \n        \u003ctd id\u003d\"T_09996064_983e_11ed_bb48_f23b1644f743row2_col2\" class\u003d\"data row2 col2\" \u003e0.98\u003c/td\u003e \n        \u003ctd id\u003d\"T_09996064_983e_11ed_bb48_f23b1644f743row2_col3\" class\u003d\"data row2 col3\" \u003e$170\u003c/td\u003e \n        \u003ctd id\u003d\"T_09996064_983e_11ed_bb48_f23b1644f743row2_col4\" class\u003d\"data row2 col4\" \u003e0.52\u003c/td\u003e \n        \u003ctd id\u003d\"T_09996064_983e_11ed_bb48_f23b1644f743row2_col5\" class\u003d\"data row2 col5\" \u003e$28\u003c/td\u003e \n        \u003ctd id\u003d\"T_09996064_983e_11ed_bb48_f23b1644f743row2_col6\" class\u003d\"data row2 col6\" \u003e$198\u003c/td\u003e \n        \u003ctd id\u003d\"T_09996064_983e_11ed_bb48_f23b1644f743row2_col7\" class\u003d\"data row2 col7\" \u003e0.60\u003c/td\u003e \n    \u003c/tr\u003e    \u003ctr\u003e \n        \u003cth id\u003d\"T_09996064_983e_11ed_bb48_f23b1644f743level1_row3\" class\u003d\"row_heading level1 row3\" \u003e1.0\u003c/th\u003e \n        \u003ctd id\u003d\"T_09996064_983e_11ed_bb48_f23b1644f743row3_col0\" class\u003d\"data row3 col0\" \u003e$997\u003c/td\u003e \n        \u003ctd id\u003d\"T_09996064_983e_11ed_bb48_f23b1644f743row3_col1\" class\u003d\"data row3 col1\" \u003e$661\u003c/td\u003e \n        \u003ctd id\u003d\"T_09996064_983e_11ed_bb48_f23b1644f743row3_col2\" class\u003d\"data row3 col2\" \u003e0.98\u003c/td\u003e \n        \u003ctd id\u003d\"T_09996064_983e_11ed_bb48_f23b1644f743row3_col3\" class\u003d\"data row3 col3\" \u003e$337\u003c/td\u003e \n        \u003ctd id\u003d\"T_09996064_983e_11ed_bb48_f23b1644f743row3_col4\" class\u003d\"data row3 col4\" \u003e0.51\u003c/td\u003e \n        \u003ctd id\u003d\"T_09996064_983e_11ed_bb48_f23b1644f743row3_col5\" class\u003d\"data row3 col5\" \u003e$28\u003c/td\u003e \n        \u003ctd id\u003d\"T_09996064_983e_11ed_bb48_f23b1644f743row3_col6\" class\u003d\"data row3 col6\" \u003e$365\u003c/td\u003e \n        \u003ctd id\u003d\"T_09996064_983e_11ed_bb48_f23b1644f743row3_col7\" class\u003d\"data row3 col7\" \u003e0.55\u003c/td\u003e \n    \u003c/tr\u003e    \u003ctr\u003e \n        \u003cth id\u003d\"T_09996064_983e_11ed_bb48_f23b1644f743level1_row4\" class\u003d\"row_heading level1 row4\" \u003e2.0\u003c/th\u003e \n        \u003ctd id\u003d\"T_09996064_983e_11ed_bb48_f23b1644f743row4_col0\" class\u003d\"data row4 col0\" \u003e$1,991\u003c/td\u003e \n        \u003ctd id\u003d\"T_09996064_983e_11ed_bb48_f23b1644f743row4_col1\" class\u003d\"data row4 col1\" \u003e$1,321\u003c/td\u003e \n        \u003ctd id\u003d\"T_09996064_983e_11ed_bb48_f23b1644f743row4_col2\" class\u003d\"data row4 col2\" \u003e0.98\u003c/td\u003e \n        \u003ctd id\u003d\"T_09996064_983e_11ed_bb48_f23b1644f743row4_col3\" class\u003d\"data row4 col3\" \u003e$670\u003c/td\u003e \n        \u003ctd id\u003d\"T_09996064_983e_11ed_bb48_f23b1644f743row4_col4\" class\u003d\"data row4 col4\" \u003e0.51\u003c/td\u003e \n        \u003ctd id\u003d\"T_09996064_983e_11ed_bb48_f23b1644f743row4_col5\" class\u003d\"data row4 col5\" \u003e$28\u003c/td\u003e \n        \u003ctd id\u003d\"T_09996064_983e_11ed_bb48_f23b1644f743row4_col6\" class\u003d\"data row4 col6\" \u003e$698\u003c/td\u003e \n        \u003ctd id\u003d\"T_09996064_983e_11ed_bb48_f23b1644f743row4_col7\" class\u003d\"data row4 col7\" \u003e0.53\u003c/td\u003e \n    \u003c/tr\u003e    \u003ctr\u003e \n        \u003cth id\u003d\"T_09996064_983e_11ed_bb48_f23b1644f743level1_row5\" class\u003d\"row_heading level1 row5\" \u003e4.0\u003c/th\u003e \n        \u003ctd id\u003d\"T_09996064_983e_11ed_bb48_f23b1644f743row5_col0\" class\u003d\"data row5 col0\" \u003e$3,977\u003c/td\u003e \n        \u003ctd id\u003d\"T_09996064_983e_11ed_bb48_f23b1644f743row5_col1\" class\u003d\"data row5 col1\" \u003e$2,642\u003c/td\u003e \n        \u003ctd id\u003d\"T_09996064_983e_11ed_bb48_f23b1644f743row5_col2\" class\u003d\"data row5 col2\" \u003e0.98\u003c/td\u003e \n        \u003ctd id\u003d\"T_09996064_983e_11ed_bb48_f23b1644f743row5_col3\" class\u003d\"data row5 col3\" \u003e$1,335\u003c/td\u003e \n        \u003ctd id\u003d\"T_09996064_983e_11ed_bb48_f23b1644f743row5_col4\" class\u003d\"data row5 col4\" \u003e0.51\u003c/td\u003e \n        \u003ctd id\u003d\"T_09996064_983e_11ed_bb48_f23b1644f743row5_col5\" class\u003d\"data row5 col5\" \u003e$28\u003c/td\u003e \n        \u003ctd id\u003d\"T_09996064_983e_11ed_bb48_f23b1644f743row5_col6\" class\u003d\"data row5 col6\" \u003e$1,363\u003c/td\u003e \n        \u003ctd id\u003d\"T_09996064_983e_11ed_bb48_f23b1644f743row5_col7\" class\u003d\"data row5 col7\" \u003e0.52\u003c/td\u003e \n    \u003c/tr\u003e    \u003ctr\u003e \n        \u003cth id\u003d\"T_09996064_983e_11ed_bb48_f23b1644f743level0_row6\" class\u003d\"row_heading level0 row6\" rowspan\u003d7\u003epeanut\u003c/th\u003e \n        \u003cth id\u003d\"T_09996064_983e_11ed_bb48_f23b1644f743level1_row6\" class\u003d\"row_heading level1 row6\" \u003e0.125\u003c/th\u003e \n        \u003ctd id\u003d\"T_09996064_983e_11ed_bb48_f23b1644f743row6_col0\" class\u003d\"data row6 col0\" \u003e$90\u003c/td\u003e \n        \u003ctd id\u003d\"T_09996064_983e_11ed_bb48_f23b1644f743row6_col1\" class\u003d\"data row6 col1\" \u003e$46\u003c/td\u003e \n        \u003ctd id\u003d\"T_09996064_983e_11ed_bb48_f23b1644f743row6_col2\" class\u003d\"data row6 col2\" \u003e1.54\u003c/td\u003e \n        \u003ctd id\u003d\"T_09996064_983e_11ed_bb48_f23b1644f743row6_col3\" class\u003d\"data row6 col3\" \u003e$44\u003c/td\u003e \n        \u003ctd id\u003d\"T_09996064_983e_11ed_bb48_f23b1644f743row6_col4\" class\u003d\"data row6 col4\" \u003e0.94\u003c/td\u003e \n        \u003ctd id\u003d\"T_09996064_983e_11ed_bb48_f23b1644f743row6_col5\" class\u003d\"data row6 col5\" \u003e$28\u003c/td\u003e \n        \u003ctd id\u003d\"T_09996064_983e_11ed_bb48_f23b1644f743row6_col6\" class\u003d\"data row6 col6\" \u003e$72\u003c/td\u003e \n        \u003ctd id\u003d\"T_09996064_983e_11ed_bb48_f23b1644f743row6_col7\" class\u003d\"data row6 col7\" \u003e1.55\u003c/td\u003e \n    \u003c/tr\u003e    \u003ctr\u003e \n        \u003cth id\u003d\"T_09996064_983e_11ed_bb48_f23b1644f743level1_row7\" class\u003d\"row_heading level1 row7\" \u003e0.25\u003c/th\u003e \n        \u003ctd id\u003d\"T_09996064_983e_11ed_bb48_f23b1644f743row7_col0\" class\u003d\"data row7 col0\" \u003e$183\u003c/td\u003e \n        \u003ctd id\u003d\"T_09996064_983e_11ed_bb48_f23b1644f743row7_col1\" class\u003d\"data row7 col1\" \u003e$92\u003c/td\u003e \n        \u003ctd id\u003d\"T_09996064_983e_11ed_bb48_f23b1644f743row7_col2\" class\u003d\"data row7 col2\" \u003e1.54\u003c/td\u003e \n        \u003ctd id\u003d\"T_09996064_983e_11ed_bb48_f23b1644f743row7_col3\" class\u003d\"data row7 col3\" \u003e$91\u003c/td\u003e \n        \u003ctd id\u003d\"T_09996064_983e_11ed_bb48_f23b1644f743row7_col4\" class\u003d\"data row7 col4\" \u003e0.99\u003c/td\u003e \n        \u003ctd id\u003d\"T_09996064_983e_11ed_bb48_f23b1644f743row7_col5\" class\u003d\"data row7 col5\" \u003e$28\u003c/td\u003e \n        \u003ctd id\u003d\"T_09996064_983e_11ed_bb48_f23b1644f743row7_col6\" class\u003d\"data row7 col6\" \u003e$119\u003c/td\u003e \n        \u003ctd id\u003d\"T_09996064_983e_11ed_bb48_f23b1644f743row7_col7\" class\u003d\"data row7 col7\" \u003e1.29\u003c/td\u003e \n    \u003c/tr\u003e    \u003ctr\u003e \n        \u003cth id\u003d\"T_09996064_983e_11ed_bb48_f23b1644f743level1_row8\" class\u003d\"row_heading level1 row8\" \u003e0.5\u003c/th\u003e \n        \u003ctd id\u003d\"T_09996064_983e_11ed_bb48_f23b1644f743row8_col0\" class\u003d\"data row8 col0\" \u003e$388\u003c/td\u003e \n        \u003ctd id\u003d\"T_09996064_983e_11ed_bb48_f23b1644f743row8_col1\" class\u003d\"data row8 col1\" \u003e$185\u003c/td\u003e \n        \u003ctd id\u003d\"T_09996064_983e_11ed_bb48_f23b1644f743row8_col2\" class\u003d\"data row8 col2\" \u003e1.54\u003c/td\u003e \n        \u003ctd id\u003d\"T_09996064_983e_11ed_bb48_f23b1644f743row8_col3\" class\u003d\"data row8 col3\" \u003e$204\u003c/td\u003e \n        \u003ctd id\u003d\"T_09996064_983e_11ed_bb48_f23b1644f743row8_col4\" class\u003d\"data row8 col4\" \u003e1.10\u003c/td\u003e \n        \u003ctd id\u003d\"T_09996064_983e_11ed_bb48_f23b1644f743row8_col5\" class\u003d\"data row8 col5\" \u003e$28\u003c/td\u003e \n        \u003ctd id\u003d\"T_09996064_983e_11ed_bb48_f23b1644f743row8_col6\" class\u003d\"data row8 col6\" \u003e$232\u003c/td\u003e \n        \u003ctd id\u003d\"T_09996064_983e_11ed_bb48_f23b1644f743row8_col7\" class\u003d\"data row8 col7\" \u003e1.25\u003c/td\u003e \n    \u003c/tr\u003e    \u003ctr\u003e \n        \u003cth id\u003d\"T_09996064_983e_11ed_bb48_f23b1644f743level1_row9\" class\u003d\"row_heading level1 row9\" \u003e1.0\u003c/th\u003e \n        \u003ctd id\u003d\"T_09996064_983e_11ed_bb48_f23b1644f743row9_col0\" class\u003d\"data row9 col0\" \u003e$790\u003c/td\u003e \n        \u003ctd id\u003d\"T_09996064_983e_11ed_bb48_f23b1644f743row9_col1\" class\u003d\"data row9 col1\" \u003e$369\u003c/td\u003e \n        \u003ctd id\u003d\"T_09996064_983e_11ed_bb48_f23b1644f743row9_col2\" class\u003d\"data row9 col2\" \u003e1.54\u003c/td\u003e \n        \u003ctd id\u003d\"T_09996064_983e_11ed_bb48_f23b1644f743row9_col3\" class\u003d\"data row9 col3\" \u003e$421\u003c/td\u003e \n        \u003ctd id\u003d\"T_09996064_983e_11ed_bb48_f23b1644f743row9_col4\" class\u003d\"data row9 col4\" \u003e1.14\u003c/td\u003e \n        \u003ctd id\u003d\"T_09996064_983e_11ed_bb48_f23b1644f743row9_col5\" class\u003d\"data row9 col5\" \u003e$28\u003c/td\u003e \n        \u003ctd id\u003d\"T_09996064_983e_11ed_bb48_f23b1644f743row9_col6\" class\u003d\"data row9 col6\" \u003e$449\u003c/td\u003e \n        \u003ctd id\u003d\"T_09996064_983e_11ed_bb48_f23b1644f743row9_col7\" class\u003d\"data row9 col7\" \u003e1.22\u003c/td\u003e \n    \u003c/tr\u003e    \u003ctr\u003e \n        \u003cth id\u003d\"T_09996064_983e_11ed_bb48_f23b1644f743level1_row10\" class\u003d\"row_heading level1 row10\" \u003e1.25\u003c/th\u003e \n        \u003ctd id\u003d\"T_09996064_983e_11ed_bb48_f23b1644f743row10_col0\" class\u003d\"data row10 col0\" \u003e$969\u003c/td\u003e \n        \u003ctd id\u003d\"T_09996064_983e_11ed_bb48_f23b1644f743row10_col1\" class\u003d\"data row10 col1\" \u003e$461\u003c/td\u003e \n        \u003ctd id\u003d\"T_09996064_983e_11ed_bb48_f23b1644f743row10_col2\" class\u003d\"data row10 col2\" \u003e1.54\u003c/td\u003e \n        \u003ctd id\u003d\"T_09996064_983e_11ed_bb48_f23b1644f743row10_col3\" class\u003d\"data row10 col3\" \u003e$508\u003c/td\u003e \n        \u003ctd id\u003d\"T_09996064_983e_11ed_bb48_f23b1644f743row10_col4\" class\u003d\"data row10 col4\" \u003e1.10\u003c/td\u003e \n        \u003ctd id\u003d\"T_09996064_983e_11ed_bb48_f23b1644f743row10_col5\" class\u003d\"data row10 col5\" \u003e$28\u003c/td\u003e \n        \u003ctd id\u003d\"T_09996064_983e_11ed_bb48_f23b1644f743row10_col6\" class\u003d\"data row10 col6\" \u003e$536\u003c/td\u003e \n        \u003ctd id\u003d\"T_09996064_983e_11ed_bb48_f23b1644f743row10_col7\" class\u003d\"data row10 col7\" \u003e1.16\u003c/td\u003e \n    \u003c/tr\u003e    \u003ctr\u003e \n        \u003cth id\u003d\"T_09996064_983e_11ed_bb48_f23b1644f743level1_row11\" class\u003d\"row_heading level1 row11\" \u003e1.5\u003c/th\u003e \n        \u003ctd id\u003d\"T_09996064_983e_11ed_bb48_f23b1644f743row11_col0\" class\u003d\"data row11 col0\" \u003e$1,174\u003c/td\u003e \n        \u003ctd id\u003d\"T_09996064_983e_11ed_bb48_f23b1644f743row11_col1\" class\u003d\"data row11 col1\" \u003e$554\u003c/td\u003e \n        \u003ctd id\u003d\"T_09996064_983e_11ed_bb48_f23b1644f743row11_col2\" class\u003d\"data row11 col2\" \u003e1.54\u003c/td\u003e \n        \u003ctd id\u003d\"T_09996064_983e_11ed_bb48_f23b1644f743row11_col3\" class\u003d\"data row11 col3\" \u003e$620\u003c/td\u003e \n        \u003ctd id\u003d\"T_09996064_983e_11ed_bb48_f23b1644f743row11_col4\" class\u003d\"data row11 col4\" \u003e1.12\u003c/td\u003e \n        \u003ctd id\u003d\"T_09996064_983e_11ed_bb48_f23b1644f743row11_col5\" class\u003d\"data row11 col5\" \u003e$28\u003c/td\u003e \n        \u003ctd id\u003d\"T_09996064_983e_11ed_bb48_f23b1644f743row11_col6\" class\u003d\"data row11 col6\" \u003e$648\u003c/td\u003e \n        \u003ctd id\u003d\"T_09996064_983e_11ed_bb48_f23b1644f743row11_col7\" class\u003d\"data row11 col7\" \u003e1.17\u003c/td\u003e \n    \u003c/tr\u003e    \u003ctr\u003e \n        \u003cth id\u003d\"T_09996064_983e_11ed_bb48_f23b1644f743level1_row12\" class\u003d\"row_heading level1 row12\" \u003e2.0\u003c/th\u003e \n        \u003ctd id\u003d\"T_09996064_983e_11ed_bb48_f23b1644f743row12_col0\" class\u003d\"data row12 col0\" \u003e$1,575\u003c/td\u003e \n        \u003ctd id\u003d\"T_09996064_983e_11ed_bb48_f23b1644f743row12_col1\" class\u003d\"data row12 col1\" \u003e$738\u003c/td\u003e \n        \u003ctd id\u003d\"T_09996064_983e_11ed_bb48_f23b1644f743row12_col2\" class\u003d\"data row12 col2\" \u003e1.54\u003c/td\u003e \n        \u003ctd id\u003d\"T_09996064_983e_11ed_bb48_f23b1644f743row12_col3\" class\u003d\"data row12 col3\" \u003e$837\u003c/td\u003e \n        \u003ctd id\u003d\"T_09996064_983e_11ed_bb48_f23b1644f743row12_col4\" class\u003d\"data row12 col4\" \u003e1.13\u003c/td\u003e \n        \u003ctd id\u003d\"T_09996064_983e_11ed_bb48_f23b1644f743row12_col5\" class\u003d\"data row12 col5\" \u003e$28\u003c/td\u003e \n        \u003ctd id\u003d\"T_09996064_983e_11ed_bb48_f23b1644f743row12_col6\" class\u003d\"data row12 col6\" \u003e$865\u003c/td\u003e \n        \u003ctd id\u003d\"T_09996064_983e_11ed_bb48_f23b1644f743row12_col7\" class\u003d\"data row12 col7\" \u003e1.17\u003c/td\u003e \n    \u003c/tr\u003e    \u003ctr\u003e \n        \u003cth id\u003d\"T_09996064_983e_11ed_bb48_f23b1644f743level0_row13\" class\u003d\"row_heading level0 row13\" \u003erice\u003c/th\u003e \n        \u003cth id\u003d\"T_09996064_983e_11ed_bb48_f23b1644f743level1_row13\" class\u003d\"row_heading level1 row13\" \u003e0.05\u003c/th\u003e \n        \u003ctd id\u003d\"T_09996064_983e_11ed_bb48_f23b1644f743row13_col0\" class\u003d\"data row13 col0\" \u003e$33\u003c/td\u003e \n        \u003ctd id\u003d\"T_09996064_983e_11ed_bb48_f23b1644f743row13_col1\" class\u003d\"data row13 col1\" \u003e$28\u003c/td\u003e \n        \u003ctd id\u003d\"T_09996064_983e_11ed_bb48_f23b1644f743row13_col2\" class\u003d\"data row13 col2\" \u003e1.34\u003c/td\u003e \n        \u003ctd id\u003d\"T_09996064_983e_11ed_bb48_f23b1644f743row13_col3\" class\u003d\"data row13 col3\" \u003e$5\u003c/td\u003e \n        \u003ctd id\u003d\"T_09996064_983e_11ed_bb48_f23b1644f743row13_col4\" class\u003d\"data row13 col4\" \u003e0.17\u003c/td\u003e \n        \u003ctd id\u003d\"T_09996064_983e_11ed_bb48_f23b1644f743row13_col5\" class\u003d\"data row13 col5\" \u003e$28\u003c/td\u003e \n        \u003ctd id\u003d\"T_09996064_983e_11ed_bb48_f23b1644f743row13_col6\" class\u003d\"data row13 col6\" \u003e$33\u003c/td\u003e \n        \u003ctd id\u003d\"T_09996064_983e_11ed_bb48_f23b1644f743row13_col7\" class\u003d\"data row13 col7\" \u003e1.18\u003c/td\u003e \n    \u003c/tr\u003e    \u003ctr\u003e \n        \u003cth id\u003d\"T_09996064_983e_11ed_bb48_f23b1644f743level0_row14\" class\u003d\"row_heading level0 row14\" rowspan\u003d5\u003esorghum\u003c/th\u003e \n        \u003cth id\u003d\"T_09996064_983e_11ed_bb48_f23b1644f743level1_row14\" class\u003d\"row_heading level1 row14\" \u003e0.25\u003c/th\u003e \n        \u003ctd id\u003d\"T_09996064_983e_11ed_bb48_f23b1644f743row14_col0\" class\u003d\"data row14 col0\" \u003e$140\u003c/td\u003e \n        \u003ctd id\u003d\"T_09996064_983e_11ed_bb48_f23b1644f743row14_col1\" class\u003d\"data row14 col1\" \u003e$59\u003c/td\u003e \n        \u003ctd id\u003d\"T_09996064_983e_11ed_bb48_f23b1644f743row14_col2\" class\u003d\"data row14 col2\" \u003e2.18\u003c/td\u003e \n        \u003ctd id\u003d\"T_09996064_983e_11ed_bb48_f23b1644f743row14_col3\" class\u003d\"data row14 col3\" \u003e$80\u003c/td\u003e \n        \u003ctd id\u003d\"T_09996064_983e_11ed_bb48_f23b1644f743row14_col4\" class\u003d\"data row14 col4\" \u003e1.36\u003c/td\u003e \n        \u003ctd id\u003d\"T_09996064_983e_11ed_bb48_f23b1644f743row14_col5\" class\u003d\"data row14 col5\" \u003e$28\u003c/td\u003e \n        \u003ctd id\u003d\"T_09996064_983e_11ed_bb48_f23b1644f743row14_col6\" class\u003d\"data row14 col6\" \u003e$108\u003c/td\u003e \n        \u003ctd id\u003d\"T_09996064_983e_11ed_bb48_f23b1644f743row14_col7\" class\u003d\"data row14 col7\" \u003e1.83\u003c/td\u003e \n    \u003c/tr\u003e    \u003ctr\u003e \n        \u003cth id\u003d\"T_09996064_983e_11ed_bb48_f23b1644f743level1_row15\" class\u003d\"row_heading level1 row15\" \u003e0.5\u003c/th\u003e \n        \u003ctd id\u003d\"T_09996064_983e_11ed_bb48_f23b1644f743row15_col0\" class\u003d\"data row15 col0\" \u003e$288\u003c/td\u003e \n        \u003ctd id\u003d\"T_09996064_983e_11ed_bb48_f23b1644f743row15_col1\" class\u003d\"data row15 col1\" \u003e$119\u003c/td\u003e \n        \u003ctd id\u003d\"T_09996064_983e_11ed_bb48_f23b1644f743row15_col2\" class\u003d\"data row15 col2\" \u003e2.18\u003c/td\u003e \n        \u003ctd id\u003d\"T_09996064_983e_11ed_bb48_f23b1644f743row15_col3\" class\u003d\"data row15 col3\" \u003e$170\u003c/td\u003e \n        \u003ctd id\u003d\"T_09996064_983e_11ed_bb48_f23b1644f743row15_col4\" class\u003d\"data row15 col4\" \u003e1.43\u003c/td\u003e \n        \u003ctd id\u003d\"T_09996064_983e_11ed_bb48_f23b1644f743row15_col5\" class\u003d\"data row15 col5\" \u003e$28\u003c/td\u003e \n        \u003ctd id\u003d\"T_09996064_983e_11ed_bb48_f23b1644f743row15_col6\" class\u003d\"data row15 col6\" \u003e$198\u003c/td\u003e \n        \u003ctd id\u003d\"T_09996064_983e_11ed_bb48_f23b1644f743row15_col7\" class\u003d\"data row15 col7\" \u003e1.67\u003c/td\u003e \n    \u003c/tr\u003e    \u003ctr\u003e \n        \u003cth id\u003d\"T_09996064_983e_11ed_bb48_f23b1644f743level1_row16\" class\u003d\"row_heading level1 row16\" \u003e1.0\u003c/th\u003e \n        \u003ctd id\u003d\"T_09996064_983e_11ed_bb48_f23b1644f743row16_col0\" class\u003d\"data row16 col0\" \u003e$601\u003c/td\u003e \n        \u003ctd id\u003d\"T_09996064_983e_11ed_bb48_f23b1644f743row16_col1\" class\u003d\"data row16 col1\" \u003e$237\u003c/td\u003e \n        \u003ctd id\u003d\"T_09996064_983e_11ed_bb48_f23b1644f743row16_col2\" class\u003d\"data row16 col2\" \u003e2.18\u003c/td\u003e \n        \u003ctd id\u003d\"T_09996064_983e_11ed_bb48_f23b1644f743row16_col3\" class\u003d\"data row16 col3\" \u003e$364\u003c/td\u003e \n        \u003ctd id\u003d\"T_09996064_983e_11ed_bb48_f23b1644f743row16_col4\" class\u003d\"data row16 col4\" \u003e1.53\u003c/td\u003e \n        \u003ctd id\u003d\"T_09996064_983e_11ed_bb48_f23b1644f743row16_col5\" class\u003d\"data row16 col5\" \u003e$28\u003c/td\u003e \n        \u003ctd id\u003d\"T_09996064_983e_11ed_bb48_f23b1644f743row16_col6\" class\u003d\"data row16 col6\" \u003e$392\u003c/td\u003e \n        \u003ctd id\u003d\"T_09996064_983e_11ed_bb48_f23b1644f743row16_col7\" class\u003d\"data row16 col7\" \u003e1.65\u003c/td\u003e \n    \u003c/tr\u003e    \u003ctr\u003e \n        \u003cth id\u003d\"T_09996064_983e_11ed_bb48_f23b1644f743level1_row17\" class\u003d\"row_heading level1 row17\" \u003e1.5\u003c/th\u003e \n        \u003ctd id\u003d\"T_09996064_983e_11ed_bb48_f23b1644f743row17_col0\" class\u003d\"data row17 col0\" \u003e$885\u003c/td\u003e \n        \u003ctd id\u003d\"T_09996064_983e_11ed_bb48_f23b1644f743row17_col1\" class\u003d\"data row17 col1\" \u003e$356\u003c/td\u003e \n        \u003ctd id\u003d\"T_09996064_983e_11ed_bb48_f23b1644f743row17_col2\" class\u003d\"data row17 col2\" \u003e2.18\u003c/td\u003e \n        \u003ctd id\u003d\"T_09996064_983e_11ed_bb48_f23b1644f743row17_col3\" class\u003d\"data row17 col3\" \u003e$529\u003c/td\u003e \n        \u003ctd id\u003d\"T_09996064_983e_11ed_bb48_f23b1644f743row17_col4\" class\u003d\"data row17 col4\" \u003e1.49\u003c/td\u003e \n        \u003ctd id\u003d\"T_09996064_983e_11ed_bb48_f23b1644f743row17_col5\" class\u003d\"data row17 col5\" \u003e$28\u003c/td\u003e \n        \u003ctd id\u003d\"T_09996064_983e_11ed_bb48_f23b1644f743row17_col6\" class\u003d\"data row17 col6\" \u003e$557\u003c/td\u003e \n        \u003ctd id\u003d\"T_09996064_983e_11ed_bb48_f23b1644f743row17_col7\" class\u003d\"data row17 col7\" \u003e1.57\u003c/td\u003e \n    \u003c/tr\u003e    \u003ctr\u003e \n        \u003cth id\u003d\"T_09996064_983e_11ed_bb48_f23b1644f743level1_row18\" class\u003d\"row_heading level1 row18\" \u003e2.0\u003c/th\u003e \n        \u003ctd id\u003d\"T_09996064_983e_11ed_bb48_f23b1644f743row18_col0\" class\u003d\"data row18 col0\" \u003e$1,198\u003c/td\u003e \n        \u003ctd id\u003d\"T_09996064_983e_11ed_bb48_f23b1644f743row18_col1\" class\u003d\"data row18 col1\" \u003e$475\u003c/td\u003e \n        \u003ctd id\u003d\"T_09996064_983e_11ed_bb48_f23b1644f743row18_col2\" class\u003d\"data row18 col2\" \u003e2.18\u003c/td\u003e \n        \u003ctd id\u003d\"T_09996064_983e_11ed_bb48_f23b1644f743row18_col3\" class\u003d\"data row18 col3\" \u003e$723\u003c/td\u003e \n        \u003ctd id\u003d\"T_09996064_983e_11ed_bb48_f23b1644f743row18_col4\" class\u003d\"data row18 col4\" \u003e1.52\u003c/td\u003e \n        \u003ctd id\u003d\"T_09996064_983e_11ed_bb48_f23b1644f743row18_col5\" class\u003d\"data row18 col5\" \u003e$28\u003c/td\u003e \n        \u003ctd id\u003d\"T_09996064_983e_11ed_bb48_f23b1644f743row18_col6\" class\u003d\"data row18 col6\" \u003e$751\u003c/td\u003e \n        \u003ctd id\u003d\"T_09996064_983e_11ed_bb48_f23b1644f743row18_col7\" class\u003d\"data row18 col7\" \u003e1.58\u003c/td\u003e \n    \u003c/tr\u003e    \u003ctr\u003e \n        \u003cth id\u003d\"T_09996064_983e_11ed_bb48_f23b1644f743level0_row19\" class\u003d\"row_heading level0 row19\" \u003eokra\u003c/th\u003e \n        \u003cth id\u003d\"T_09996064_983e_11ed_bb48_f23b1644f743level1_row19\" class\u003d\"row_heading level1 row19\" \u003e0.03\u003c/th\u003e \n        \u003ctd id\u003d\"T_09996064_983e_11ed_bb48_f23b1644f743row19_col0\" class\u003d\"data row19 col0\" \u003e$52\u003c/td\u003e \n        \u003ctd id\u003d\"T_09996064_983e_11ed_bb48_f23b1644f743row19_col1\" class\u003d\"data row19 col1\" \u003e$0\u003c/td\u003e \n        \u003ctd id\u003d\"T_09996064_983e_11ed_bb48_f23b1644f743row19_col2\" class\u003d\"data row19 col2\" \u003e0.00\u003c/td\u003e \n        \u003ctd id\u003d\"T_09996064_983e_11ed_bb48_f23b1644f743row19_col3\" class\u003d\"data row19 col3\" \u003e$0\u003c/td\u003e \n        \u003ctd id\u003d\"T_09996064_983e_11ed_bb48_f23b1644f743row19_col4\" class\u003d\"data row19 col4\" \u003e0.00\u003c/td\u003e \n        \u003ctd id\u003d\"T_09996064_983e_11ed_bb48_f23b1644f743row19_col5\" class\u003d\"data row19 col5\" \u003e$0\u003c/td\u003e \n        \u003ctd id\u003d\"T_09996064_983e_11ed_bb48_f23b1644f743row19_col6\" class\u003d\"data row19 col6\" \u003e$0\u003c/td\u003e \n        \u003ctd id\u003d\"T_09996064_983e_11ed_bb48_f23b1644f743row19_col7\" class\u003d\"data row19 col7\" \u003e0.00\u003c/td\u003e \n    \u003c/tr\u003e    \u003ctr\u003e \n        \u003cth id\u003d\"T_09996064_983e_11ed_bb48_f23b1644f743level0_row20\" class\u003d\"row_heading level0 row20\" \u003ecowpea_add_on\u003c/th\u003e \n        \u003cth id\u003d\"T_09996064_983e_11ed_bb48_f23b1644f743level1_row20\" class\u003d\"row_heading level1 row20\" \u003e0.005\u003c/th\u003e \n        \u003ctd id\u003d\"T_09996064_983e_11ed_bb48_f23b1644f743row20_col0\" class\u003d\"data row20 col0\" \u003e$-2\u003c/td\u003e \n        \u003ctd id\u003d\"T_09996064_983e_11ed_bb48_f23b1644f743row20_col1\" class\u003d\"data row20 col1\" \u003e$0\u003c/td\u003e \n        \u003ctd id\u003d\"T_09996064_983e_11ed_bb48_f23b1644f743row20_col2\" class\u003d\"data row20 col2\" \u003e0.00\u003c/td\u003e \n        \u003ctd id\u003d\"T_09996064_983e_11ed_bb48_f23b1644f743row20_col3\" class\u003d\"data row20 col3\" \u003e$0\u003c/td\u003e \n        \u003ctd id\u003d\"T_09996064_983e_11ed_bb48_f23b1644f743row20_col4\" class\u003d\"data row20 col4\" \u003e0.00\u003c/td\u003e \n        \u003ctd id\u003d\"T_09996064_983e_11ed_bb48_f23b1644f743row20_col5\" class\u003d\"data row20 col5\" \u003e$0\u003c/td\u003e \n        \u003ctd id\u003d\"T_09996064_983e_11ed_bb48_f23b1644f743row20_col6\" class\u003d\"data row20 col6\" \u003e$0\u003c/td\u003e \n        \u003ctd id\u003d\"T_09996064_983e_11ed_bb48_f23b1644f743row20_col7\" class\u003d\"data row20 col7\" \u003e0.00\u003c/td\u003e \n    \u003c/tr\u003e    \u003ctr\u003e \n        \u003cth id\u003d\"T_09996064_983e_11ed_bb48_f23b1644f743level0_row21\" class\u003d\"row_heading level0 row21\" \u003eokra_add_on\u003c/th\u003e \n        \u003cth id\u003d\"T_09996064_983e_11ed_bb48_f23b1644f743level1_row21\" class\u003d\"row_heading level1 row21\" \u003e0.016\u003c/th\u003e \n        \u003ctd id\u003d\"T_09996064_983e_11ed_bb48_f23b1644f743row21_col0\" class\u003d\"data row21 col0\" \u003e$35\u003c/td\u003e \n        \u003ctd id\u003d\"T_09996064_983e_11ed_bb48_f23b1644f743row21_col1\" class\u003d\"data row21 col1\" \u003e$0\u003c/td\u003e \n        \u003ctd id\u003d\"T_09996064_983e_11ed_bb48_f23b1644f743row21_col2\" class\u003d\"data row21 col2\" \u003e0.00\u003c/td\u003e \n        \u003ctd id\u003d\"T_09996064_983e_11ed_bb48_f23b1644f743row21_col3\" class\u003d\"data row21 col3\" \u003e$0\u003c/td\u003e \n        \u003ctd id\u003d\"T_09996064_983e_11ed_bb48_f23b1644f743row21_col4\" class\u003d\"data row21 col4\" \u003e0.00\u003c/td\u003e \n        \u003ctd id\u003d\"T_09996064_983e_11ed_bb48_f23b1644f743row21_col5\" class\u003d\"data row21 col5\" \u003e$0\u003c/td\u003e \n        \u003ctd id\u003d\"T_09996064_983e_11ed_bb48_f23b1644f743row21_col6\" class\u003d\"data row21 col6\" \u003e$0\u003c/td\u003e \n        \u003ctd id\u003d\"T_09996064_983e_11ed_bb48_f23b1644f743row21_col7\" class\u003d\"data row21 col7\" \u003e0.00\u003c/td\u003e \n    \u003c/tr\u003e\u003c/tbody\u003e \n\u003c/table\u003e "
          },
          "metadata": {}
        }
      ]
    },
    {
      "cell_type": "markdown",
      "metadata": {},
      "source": [
        "**Senegal Summary Table**"
      ]
    },
    {
      "execution_count": 798,
      "cell_type": "code",
      "metadata": {},
      "source": [
        "impact_per_package_sn_summary"
      ],
      "outputs": [
        {
          "output_type": "execute_result",
          "execution_count": 798,
          "data": {
            "text/plain": "\u003cpandas.io.formats.style.Styler at 0x7fba11832748\u003e",
            "text/html": "\u003cstyle  type\u003d\"text/css\" \u003e\n\u003c/style\u003e  \n\u003ctable id\u003d\"T_099b7e1c_983e_11ed_bb48_f23b1644f743\" \u003e \n\u003cthead\u003e    \u003ctr\u003e \n        \u003cth class\u003d\"blank\" \u003e\u003c/th\u003e \n        \u003cth class\u003d\"blank level0\" \u003e\u003c/th\u003e \n        \u003cth class\u003d\"col_heading level0 col0\" \u003eNet Profit myAgro\u003c/th\u003e \n        \u003cth class\u003d\"col_heading level0 col1\" \u003eNet Profit Control\u003c/th\u003e \n        \u003cth class\u003d\"col_heading level0 col2\" \u003e% Difference Yield\u003c/th\u003e \n        \u003cth class\u003d\"col_heading level0 col3\" \u003eImpact (Difference Net Profit)\u003c/th\u003e \n        \u003cth class\u003d\"col_heading level0 col4\" \u003e% Impact\u003c/th\u003e \n        \u003cth class\u003d\"col_heading level0 col5\" \u003eAdd-on Net Profit\u003c/th\u003e \n        \u003cth class\u003d\"col_heading level0 col6\" \u003eImpact Including Add-on\u003c/th\u003e \n        \u003cth class\u003d\"col_heading level0 col7\" \u003e% Impact Including Add-on\u003c/th\u003e \n    \u003c/tr\u003e    \u003ctr\u003e \n        \u003cth class\u003d\"index_name level0\" \u003eProduct\u003c/th\u003e \n        \u003cth class\u003d\"index_name level1\" \u003ePackage Size (Hectares)\u003c/th\u003e \n        \u003cth class\u003d\"blank\" \u003e\u003c/th\u003e \n        \u003cth class\u003d\"blank\" \u003e\u003c/th\u003e \n        \u003cth class\u003d\"blank\" \u003e\u003c/th\u003e \n        \u003cth class\u003d\"blank\" \u003e\u003c/th\u003e \n        \u003cth class\u003d\"blank\" \u003e\u003c/th\u003e \n        \u003cth class\u003d\"blank\" \u003e\u003c/th\u003e \n        \u003cth class\u003d\"blank\" \u003e\u003c/th\u003e \n        \u003cth class\u003d\"blank\" \u003e\u003c/th\u003e \n    \u003c/tr\u003e\u003c/thead\u003e \n\u003ctbody\u003e    \u003ctr\u003e \n        \u003cth id\u003d\"T_099b7e1c_983e_11ed_bb48_f23b1644f743level0_row0\" class\u003d\"row_heading level0 row0\" \u003emaize\u003c/th\u003e \n        \u003cth id\u003d\"T_099b7e1c_983e_11ed_bb48_f23b1644f743level1_row0\" class\u003d\"row_heading level1 row0\" \u003e1.0\u003c/th\u003e \n        \u003ctd id\u003d\"T_099b7e1c_983e_11ed_bb48_f23b1644f743row0_col0\" class\u003d\"data row0 col0\" \u003e$                 843\u003c/td\u003e \n        \u003ctd id\u003d\"T_099b7e1c_983e_11ed_bb48_f23b1644f743row0_col1\" class\u003d\"data row0 col1\" \u003e$                 614\u003c/td\u003e \n        \u003ctd id\u003d\"T_099b7e1c_983e_11ed_bb48_f23b1644f743row0_col2\" class\u003d\"data row0 col2\" \u003e0.75\u003c/td\u003e \n        \u003ctd id\u003d\"T_099b7e1c_983e_11ed_bb48_f23b1644f743row0_col3\" class\u003d\"data row0 col3\" \u003e$                 229\u003c/td\u003e \n        \u003ctd id\u003d\"T_099b7e1c_983e_11ed_bb48_f23b1644f743row0_col4\" class\u003d\"data row0 col4\" \u003e0.37\u003c/td\u003e \n        \u003ctd id\u003d\"T_099b7e1c_983e_11ed_bb48_f23b1644f743row0_col5\" class\u003d\"data row0 col5\" \u003e$                  38\u003c/td\u003e \n        \u003ctd id\u003d\"T_099b7e1c_983e_11ed_bb48_f23b1644f743row0_col6\" class\u003d\"data row0 col6\" \u003e$                 267\u003c/td\u003e \n        \u003ctd id\u003d\"T_099b7e1c_983e_11ed_bb48_f23b1644f743row0_col7\" class\u003d\"data row0 col7\" \u003e0.44\u003c/td\u003e \n    \u003c/tr\u003e    \u003ctr\u003e \n        \u003cth id\u003d\"T_099b7e1c_983e_11ed_bb48_f23b1644f743level0_row1\" class\u003d\"row_heading level0 row1\" \u003emillet\u003c/th\u003e \n        \u003cth id\u003d\"T_099b7e1c_983e_11ed_bb48_f23b1644f743level1_row1\" class\u003d\"row_heading level1 row1\" \u003e1.0\u003c/th\u003e \n        \u003ctd id\u003d\"T_099b7e1c_983e_11ed_bb48_f23b1644f743row1_col0\" class\u003d\"data row1 col0\" \u003e$                 281\u003c/td\u003e \n        \u003ctd id\u003d\"T_099b7e1c_983e_11ed_bb48_f23b1644f743row1_col1\" class\u003d\"data row1 col1\" \u003e$                 191\u003c/td\u003e \n        \u003ctd id\u003d\"T_099b7e1c_983e_11ed_bb48_f23b1644f743row1_col2\" class\u003d\"data row1 col2\" \u003e1.05\u003c/td\u003e \n        \u003ctd id\u003d\"T_099b7e1c_983e_11ed_bb48_f23b1644f743row1_col3\" class\u003d\"data row1 col3\" \u003e$                  91\u003c/td\u003e \n        \u003ctd id\u003d\"T_099b7e1c_983e_11ed_bb48_f23b1644f743row1_col4\" class\u003d\"data row1 col4\" \u003e0.48\u003c/td\u003e \n        \u003ctd id\u003d\"T_099b7e1c_983e_11ed_bb48_f23b1644f743row1_col5\" class\u003d\"data row1 col5\" \u003e$                  38\u003c/td\u003e \n        \u003ctd id\u003d\"T_099b7e1c_983e_11ed_bb48_f23b1644f743row1_col6\" class\u003d\"data row1 col6\" \u003e$                 129\u003c/td\u003e \n        \u003ctd id\u003d\"T_099b7e1c_983e_11ed_bb48_f23b1644f743row1_col7\" class\u003d\"data row1 col7\" \u003e0.68\u003c/td\u003e \n    \u003c/tr\u003e    \u003ctr\u003e \n        \u003cth id\u003d\"T_099b7e1c_983e_11ed_bb48_f23b1644f743level0_row2\" class\u003d\"row_heading level0 row2\" \u003epeanut\u003c/th\u003e \n        \u003cth id\u003d\"T_099b7e1c_983e_11ed_bb48_f23b1644f743level1_row2\" class\u003d\"row_heading level1 row2\" \u003e1.0\u003c/th\u003e \n        \u003ctd id\u003d\"T_099b7e1c_983e_11ed_bb48_f23b1644f743row2_col0\" class\u003d\"data row2 col0\" \u003e$               1,233\u003c/td\u003e \n        \u003ctd id\u003d\"T_099b7e1c_983e_11ed_bb48_f23b1644f743row2_col1\" class\u003d\"data row2 col1\" \u003e$                 410\u003c/td\u003e \n        \u003ctd id\u003d\"T_099b7e1c_983e_11ed_bb48_f23b1644f743row2_col2\" class\u003d\"data row2 col2\" \u003e1.80\u003c/td\u003e \n        \u003ctd id\u003d\"T_099b7e1c_983e_11ed_bb48_f23b1644f743row2_col3\" class\u003d\"data row2 col3\" \u003e$                 824\u003c/td\u003e \n        \u003ctd id\u003d\"T_099b7e1c_983e_11ed_bb48_f23b1644f743row2_col4\" class\u003d\"data row2 col4\" \u003e2.01\u003c/td\u003e \n        \u003ctd id\u003d\"T_099b7e1c_983e_11ed_bb48_f23b1644f743row2_col5\" class\u003d\"data row2 col5\" \u003e$                  38\u003c/td\u003e \n        \u003ctd id\u003d\"T_099b7e1c_983e_11ed_bb48_f23b1644f743row2_col6\" class\u003d\"data row2 col6\" \u003e$                 862\u003c/td\u003e \n        \u003ctd id\u003d\"T_099b7e1c_983e_11ed_bb48_f23b1644f743row2_col7\" class\u003d\"data row2 col7\" \u003e2.10\u003c/td\u003e \n    \u003c/tr\u003e    \u003ctr\u003e \n        \u003cth id\u003d\"T_099b7e1c_983e_11ed_bb48_f23b1644f743level0_row3\" class\u003d\"row_heading level0 row3\" \u003epeanut (fodder only)\u003c/th\u003e \n        \u003cth id\u003d\"T_099b7e1c_983e_11ed_bb48_f23b1644f743level1_row3\" class\u003d\"row_heading level1 row3\" \u003e1.0\u003c/th\u003e \n        \u003ctd id\u003d\"T_099b7e1c_983e_11ed_bb48_f23b1644f743row3_col0\" class\u003d\"data row3 col0\" \u003e$               1,046\u003c/td\u003e \n        \u003ctd id\u003d\"T_099b7e1c_983e_11ed_bb48_f23b1644f743row3_col1\" class\u003d\"data row3 col1\" \u003e$                 478\u003c/td\u003e \n        \u003ctd id\u003d\"T_099b7e1c_983e_11ed_bb48_f23b1644f743row3_col2\" class\u003d\"data row3 col2\" \u003e0.00\u003c/td\u003e \n        \u003ctd id\u003d\"T_099b7e1c_983e_11ed_bb48_f23b1644f743row3_col3\" class\u003d\"data row3 col3\" \u003e$                 568\u003c/td\u003e \n        \u003ctd id\u003d\"T_099b7e1c_983e_11ed_bb48_f23b1644f743row3_col4\" class\u003d\"data row3 col4\" \u003e1.19\u003c/td\u003e \n        \u003ctd id\u003d\"T_099b7e1c_983e_11ed_bb48_f23b1644f743row3_col5\" class\u003d\"data row3 col5\" \u003e$                  38\u003c/td\u003e \n        \u003ctd id\u003d\"T_099b7e1c_983e_11ed_bb48_f23b1644f743row3_col6\" class\u003d\"data row3 col6\" \u003e$                   0\u003c/td\u003e \n        \u003ctd id\u003d\"T_099b7e1c_983e_11ed_bb48_f23b1644f743row3_col7\" class\u003d\"data row3 col7\" \u003e0.00\u003c/td\u003e \n    \u003c/tr\u003e    \u003ctr\u003e \n        \u003cth id\u003d\"T_099b7e1c_983e_11ed_bb48_f23b1644f743level0_row4\" class\u003d\"row_heading level0 row4\" \u003epeanut (w/ fodder)\u003c/th\u003e \n        \u003cth id\u003d\"T_099b7e1c_983e_11ed_bb48_f23b1644f743level1_row4\" class\u003d\"row_heading level1 row4\" \u003e1.0\u003c/th\u003e \n        \u003ctd id\u003d\"T_099b7e1c_983e_11ed_bb48_f23b1644f743row4_col0\" class\u003d\"data row4 col0\" \u003e$               2,279\u003c/td\u003e \n        \u003ctd id\u003d\"T_099b7e1c_983e_11ed_bb48_f23b1644f743row4_col1\" class\u003d\"data row4 col1\" \u003e$                 888\u003c/td\u003e \n        \u003ctd id\u003d\"T_099b7e1c_983e_11ed_bb48_f23b1644f743row4_col2\" class\u003d\"data row4 col2\" \u003e0.00\u003c/td\u003e \n        \u003ctd id\u003d\"T_099b7e1c_983e_11ed_bb48_f23b1644f743row4_col3\" class\u003d\"data row4 col3\" \u003e$               1,391\u003c/td\u003e \n        \u003ctd id\u003d\"T_099b7e1c_983e_11ed_bb48_f23b1644f743row4_col4\" class\u003d\"data row4 col4\" \u003e1.57\u003c/td\u003e \n        \u003ctd id\u003d\"T_099b7e1c_983e_11ed_bb48_f23b1644f743row4_col5\" class\u003d\"data row4 col5\" \u003e$                  38\u003c/td\u003e \n        \u003ctd id\u003d\"T_099b7e1c_983e_11ed_bb48_f23b1644f743row4_col6\" class\u003d\"data row4 col6\" \u003e$               1,429\u003c/td\u003e \n        \u003ctd id\u003d\"T_099b7e1c_983e_11ed_bb48_f23b1644f743row4_col7\" class\u003d\"data row4 col7\" \u003e1.61\u003c/td\u003e \n    \u003c/tr\u003e    \u003ctr\u003e \n        \u003cth id\u003d\"T_099b7e1c_983e_11ed_bb48_f23b1644f743level0_row5\" class\u003d\"row_heading level0 row5\" \u003erice\u003c/th\u003e \n        \u003cth id\u003d\"T_099b7e1c_983e_11ed_bb48_f23b1644f743level1_row5\" class\u003d\"row_heading level1 row5\" \u003e0.1\u003c/th\u003e \n        \u003ctd id\u003d\"T_099b7e1c_983e_11ed_bb48_f23b1644f743row5_col0\" class\u003d\"data row5 col0\" \u003e$                  84\u003c/td\u003e \n        \u003ctd id\u003d\"T_099b7e1c_983e_11ed_bb48_f23b1644f743row5_col1\" class\u003d\"data row5 col1\" \u003e$                  53\u003c/td\u003e \n        \u003ctd id\u003d\"T_099b7e1c_983e_11ed_bb48_f23b1644f743row5_col2\" class\u003d\"data row5 col2\" \u003e1.21\u003c/td\u003e \n        \u003ctd id\u003d\"T_099b7e1c_983e_11ed_bb48_f23b1644f743row5_col3\" class\u003d\"data row5 col3\" \u003e$                  32\u003c/td\u003e \n        \u003ctd id\u003d\"T_099b7e1c_983e_11ed_bb48_f23b1644f743row5_col4\" class\u003d\"data row5 col4\" \u003e0.61\u003c/td\u003e \n        \u003ctd id\u003d\"T_099b7e1c_983e_11ed_bb48_f23b1644f743row5_col5\" class\u003d\"data row5 col5\" \u003e$                  38\u003c/td\u003e \n        \u003ctd id\u003d\"T_099b7e1c_983e_11ed_bb48_f23b1644f743row5_col6\" class\u003d\"data row5 col6\" \u003e$                  70\u003c/td\u003e \n        \u003ctd id\u003d\"T_099b7e1c_983e_11ed_bb48_f23b1644f743row5_col7\" class\u003d\"data row5 col7\" \u003e1.33\u003c/td\u003e \n    \u003c/tr\u003e\u003c/tbody\u003e \n\u003c/table\u003e "
          },
          "metadata": {}
        }
      ]
    },
    {
      "cell_type": "markdown",
      "metadata": {},
      "source": [
        "**Senegal Full Table**"
      ]
    },
    {
      "execution_count": 799,
      "cell_type": "code",
      "metadata": {},
      "source": [
        "impact_per_package_sn"
      ],
      "outputs": [
        {
          "output_type": "execute_result",
          "execution_count": 799,
          "data": {
            "text/plain": "\u003cpandas.io.formats.style.Styler at 0x7fba11295828\u003e",
            "text/html": "\u003cstyle  type\u003d\"text/css\" \u003e\n\u003c/style\u003e  \n\u003ctable id\u003d\"T_099d064c_983e_11ed_bb48_f23b1644f743\" \u003e \n\u003cthead\u003e    \u003ctr\u003e \n        \u003cth class\u003d\"blank\" \u003e\u003c/th\u003e \n        \u003cth class\u003d\"blank level0\" \u003e\u003c/th\u003e \n        \u003cth class\u003d\"col_heading level0 col0\" \u003eNet Profit myAgro\u003c/th\u003e \n        \u003cth class\u003d\"col_heading level0 col1\" \u003eNet Profit Control\u003c/th\u003e \n        \u003cth class\u003d\"col_heading level0 col2\" \u003e% Difference Yield\u003c/th\u003e \n        \u003cth class\u003d\"col_heading level0 col3\" \u003eImpact (Difference Net Profit)\u003c/th\u003e \n        \u003cth class\u003d\"col_heading level0 col4\" \u003e% Impact\u003c/th\u003e \n        \u003cth class\u003d\"col_heading level0 col5\" \u003eAdd-on Net Profit\u003c/th\u003e \n        \u003cth class\u003d\"col_heading level0 col6\" \u003eImpact Including Add-on\u003c/th\u003e \n        \u003cth class\u003d\"col_heading level0 col7\" \u003e% Impact Including Add-on\u003c/th\u003e \n    \u003c/tr\u003e    \u003ctr\u003e \n        \u003cth class\u003d\"index_name level0\" \u003eProduct\u003c/th\u003e \n        \u003cth class\u003d\"index_name level1\" \u003ePackage Size (Hectares)\u003c/th\u003e \n        \u003cth class\u003d\"blank\" \u003e\u003c/th\u003e \n        \u003cth class\u003d\"blank\" \u003e\u003c/th\u003e \n        \u003cth class\u003d\"blank\" \u003e\u003c/th\u003e \n        \u003cth class\u003d\"blank\" \u003e\u003c/th\u003e \n        \u003cth class\u003d\"blank\" \u003e\u003c/th\u003e \n        \u003cth class\u003d\"blank\" \u003e\u003c/th\u003e \n        \u003cth class\u003d\"blank\" \u003e\u003c/th\u003e \n        \u003cth class\u003d\"blank\" \u003e\u003c/th\u003e \n    \u003c/tr\u003e\u003c/thead\u003e \n\u003ctbody\u003e    \u003ctr\u003e \n        \u003cth id\u003d\"T_099d064c_983e_11ed_bb48_f23b1644f743level0_row0\" class\u003d\"row_heading level0 row0\" rowspan\u003d4\u003emaize\u003c/th\u003e \n        \u003cth id\u003d\"T_099d064c_983e_11ed_bb48_f23b1644f743level1_row0\" class\u003d\"row_heading level1 row0\" \u003e0.125\u003c/th\u003e \n        \u003ctd id\u003d\"T_099d064c_983e_11ed_bb48_f23b1644f743row0_col0\" class\u003d\"data row0 col0\" \u003e$                  98\u003c/td\u003e \n        \u003ctd id\u003d\"T_099d064c_983e_11ed_bb48_f23b1644f743row0_col1\" class\u003d\"data row0 col1\" \u003e$                  77\u003c/td\u003e \n        \u003ctd id\u003d\"T_099d064c_983e_11ed_bb48_f23b1644f743row0_col2\" class\u003d\"data row0 col2\" \u003e0.75\u003c/td\u003e \n        \u003ctd id\u003d\"T_099d064c_983e_11ed_bb48_f23b1644f743row0_col3\" class\u003d\"data row0 col3\" \u003e$                  21\u003c/td\u003e \n        \u003ctd id\u003d\"T_099d064c_983e_11ed_bb48_f23b1644f743row0_col4\" class\u003d\"data row0 col4\" \u003e0.27\u003c/td\u003e \n        \u003ctd id\u003d\"T_099d064c_983e_11ed_bb48_f23b1644f743row0_col5\" class\u003d\"data row0 col5\" \u003e$                  38\u003c/td\u003e \n        \u003ctd id\u003d\"T_099d064c_983e_11ed_bb48_f23b1644f743row0_col6\" class\u003d\"data row0 col6\" \u003e$                  59\u003c/td\u003e \n        \u003ctd id\u003d\"T_099d064c_983e_11ed_bb48_f23b1644f743row0_col7\" class\u003d\"data row0 col7\" \u003e0.77\u003c/td\u003e \n    \u003c/tr\u003e    \u003ctr\u003e \n        \u003cth id\u003d\"T_099d064c_983e_11ed_bb48_f23b1644f743level1_row1\" class\u003d\"row_heading level1 row1\" \u003e0.25\u003c/th\u003e \n        \u003ctd id\u003d\"T_099d064c_983e_11ed_bb48_f23b1644f743row1_col0\" class\u003d\"data row1 col0\" \u003e$                 201\u003c/td\u003e \n        \u003ctd id\u003d\"T_099d064c_983e_11ed_bb48_f23b1644f743row1_col1\" class\u003d\"data row1 col1\" \u003e$                 153\u003c/td\u003e \n        \u003ctd id\u003d\"T_099d064c_983e_11ed_bb48_f23b1644f743row1_col2\" class\u003d\"data row1 col2\" \u003e0.75\u003c/td\u003e \n        \u003ctd id\u003d\"T_099d064c_983e_11ed_bb48_f23b1644f743row1_col3\" class\u003d\"data row1 col3\" \u003e$                  48\u003c/td\u003e \n        \u003ctd id\u003d\"T_099d064c_983e_11ed_bb48_f23b1644f743row1_col4\" class\u003d\"data row1 col4\" \u003e0.31\u003c/td\u003e \n        \u003ctd id\u003d\"T_099d064c_983e_11ed_bb48_f23b1644f743row1_col5\" class\u003d\"data row1 col5\" \u003e$                  38\u003c/td\u003e \n        \u003ctd id\u003d\"T_099d064c_983e_11ed_bb48_f23b1644f743row1_col6\" class\u003d\"data row1 col6\" \u003e$                  86\u003c/td\u003e \n        \u003ctd id\u003d\"T_099d064c_983e_11ed_bb48_f23b1644f743row1_col7\" class\u003d\"data row1 col7\" \u003e0.56\u003c/td\u003e \n    \u003c/tr\u003e    \u003ctr\u003e \n        \u003cth id\u003d\"T_099d064c_983e_11ed_bb48_f23b1644f743level1_row2\" class\u003d\"row_heading level1 row2\" \u003e0.5\u003c/th\u003e \n        \u003ctd id\u003d\"T_099d064c_983e_11ed_bb48_f23b1644f743row2_col0\" class\u003d\"data row2 col0\" \u003e$                 417\u003c/td\u003e \n        \u003ctd id\u003d\"T_099d064c_983e_11ed_bb48_f23b1644f743row2_col1\" class\u003d\"data row2 col1\" \u003e$                 307\u003c/td\u003e \n        \u003ctd id\u003d\"T_099d064c_983e_11ed_bb48_f23b1644f743row2_col2\" class\u003d\"data row2 col2\" \u003e0.75\u003c/td\u003e \n        \u003ctd id\u003d\"T_099d064c_983e_11ed_bb48_f23b1644f743row2_col3\" class\u003d\"data row2 col3\" \u003e$                 110\u003c/td\u003e \n        \u003ctd id\u003d\"T_099d064c_983e_11ed_bb48_f23b1644f743row2_col4\" class\u003d\"data row2 col4\" \u003e0.36\u003c/td\u003e \n        \u003ctd id\u003d\"T_099d064c_983e_11ed_bb48_f23b1644f743row2_col5\" class\u003d\"data row2 col5\" \u003e$                  38\u003c/td\u003e \n        \u003ctd id\u003d\"T_099d064c_983e_11ed_bb48_f23b1644f743row2_col6\" class\u003d\"data row2 col6\" \u003e$                 148\u003c/td\u003e \n        \u003ctd id\u003d\"T_099d064c_983e_11ed_bb48_f23b1644f743row2_col7\" class\u003d\"data row2 col7\" \u003e0.48\u003c/td\u003e \n    \u003c/tr\u003e    \u003ctr\u003e \n        \u003cth id\u003d\"T_099d064c_983e_11ed_bb48_f23b1644f743level1_row3\" class\u003d\"row_heading level1 row3\" \u003e1.0\u003c/th\u003e \n        \u003ctd id\u003d\"T_099d064c_983e_11ed_bb48_f23b1644f743row3_col0\" class\u003d\"data row3 col0\" \u003e$                 843\u003c/td\u003e \n        \u003ctd id\u003d\"T_099d064c_983e_11ed_bb48_f23b1644f743row3_col1\" class\u003d\"data row3 col1\" \u003e$                 614\u003c/td\u003e \n        \u003ctd id\u003d\"T_099d064c_983e_11ed_bb48_f23b1644f743row3_col2\" class\u003d\"data row3 col2\" \u003e0.75\u003c/td\u003e \n        \u003ctd id\u003d\"T_099d064c_983e_11ed_bb48_f23b1644f743row3_col3\" class\u003d\"data row3 col3\" \u003e$                 229\u003c/td\u003e \n        \u003ctd id\u003d\"T_099d064c_983e_11ed_bb48_f23b1644f743row3_col4\" class\u003d\"data row3 col4\" \u003e0.37\u003c/td\u003e \n        \u003ctd id\u003d\"T_099d064c_983e_11ed_bb48_f23b1644f743row3_col5\" class\u003d\"data row3 col5\" \u003e$                  38\u003c/td\u003e \n        \u003ctd id\u003d\"T_099d064c_983e_11ed_bb48_f23b1644f743row3_col6\" class\u003d\"data row3 col6\" \u003e$                 267\u003c/td\u003e \n        \u003ctd id\u003d\"T_099d064c_983e_11ed_bb48_f23b1644f743row3_col7\" class\u003d\"data row3 col7\" \u003e0.44\u003c/td\u003e \n    \u003c/tr\u003e    \u003ctr\u003e \n        \u003cth id\u003d\"T_099d064c_983e_11ed_bb48_f23b1644f743level0_row4\" class\u003d\"row_heading level0 row4\" rowspan\u003d3\u003emillet\u003c/th\u003e \n        \u003cth id\u003d\"T_099d064c_983e_11ed_bb48_f23b1644f743level1_row4\" class\u003d\"row_heading level1 row4\" \u003e0.33\u003c/th\u003e \n        \u003ctd id\u003d\"T_099d064c_983e_11ed_bb48_f23b1644f743row4_col0\" class\u003d\"data row4 col0\" \u003e$                  85\u003c/td\u003e \n        \u003ctd id\u003d\"T_099d064c_983e_11ed_bb48_f23b1644f743row4_col1\" class\u003d\"data row4 col1\" \u003e$                  63\u003c/td\u003e \n        \u003ctd id\u003d\"T_099d064c_983e_11ed_bb48_f23b1644f743row4_col2\" class\u003d\"data row4 col2\" \u003e1.05\u003c/td\u003e \n        \u003ctd id\u003d\"T_099d064c_983e_11ed_bb48_f23b1644f743row4_col3\" class\u003d\"data row4 col3\" \u003e$                  23\u003c/td\u003e \n        \u003ctd id\u003d\"T_099d064c_983e_11ed_bb48_f23b1644f743row4_col4\" class\u003d\"data row4 col4\" \u003e0.36\u003c/td\u003e \n        \u003ctd id\u003d\"T_099d064c_983e_11ed_bb48_f23b1644f743row4_col5\" class\u003d\"data row4 col5\" \u003e$                  38\u003c/td\u003e \n        \u003ctd id\u003d\"T_099d064c_983e_11ed_bb48_f23b1644f743row4_col6\" class\u003d\"data row4 col6\" \u003e$                  61\u003c/td\u003e \n        \u003ctd id\u003d\"T_099d064c_983e_11ed_bb48_f23b1644f743row4_col7\" class\u003d\"data row4 col7\" \u003e0.96\u003c/td\u003e \n    \u003c/tr\u003e    \u003ctr\u003e \n        \u003cth id\u003d\"T_099d064c_983e_11ed_bb48_f23b1644f743level1_row5\" class\u003d\"row_heading level1 row5\" \u003e0.67\u003c/th\u003e \n        \u003ctd id\u003d\"T_099d064c_983e_11ed_bb48_f23b1644f743row5_col0\" class\u003d\"data row5 col0\" \u003e$                 182\u003c/td\u003e \n        \u003ctd id\u003d\"T_099d064c_983e_11ed_bb48_f23b1644f743row5_col1\" class\u003d\"data row5 col1\" \u003e$                 128\u003c/td\u003e \n        \u003ctd id\u003d\"T_099d064c_983e_11ed_bb48_f23b1644f743row5_col2\" class\u003d\"data row5 col2\" \u003e1.05\u003c/td\u003e \n        \u003ctd id\u003d\"T_099d064c_983e_11ed_bb48_f23b1644f743row5_col3\" class\u003d\"data row5 col3\" \u003e$                  55\u003c/td\u003e \n        \u003ctd id\u003d\"T_099d064c_983e_11ed_bb48_f23b1644f743row5_col4\" class\u003d\"data row5 col4\" \u003e0.43\u003c/td\u003e \n        \u003ctd id\u003d\"T_099d064c_983e_11ed_bb48_f23b1644f743row5_col5\" class\u003d\"data row5 col5\" \u003e$                  38\u003c/td\u003e \n        \u003ctd id\u003d\"T_099d064c_983e_11ed_bb48_f23b1644f743row5_col6\" class\u003d\"data row5 col6\" \u003e$                  93\u003c/td\u003e \n        \u003ctd id\u003d\"T_099d064c_983e_11ed_bb48_f23b1644f743row5_col7\" class\u003d\"data row5 col7\" \u003e0.73\u003c/td\u003e \n    \u003c/tr\u003e    \u003ctr\u003e \n        \u003cth id\u003d\"T_099d064c_983e_11ed_bb48_f23b1644f743level1_row6\" class\u003d\"row_heading level1 row6\" \u003e1.0\u003c/th\u003e \n        \u003ctd id\u003d\"T_099d064c_983e_11ed_bb48_f23b1644f743row6_col0\" class\u003d\"data row6 col0\" \u003e$                 281\u003c/td\u003e \n        \u003ctd id\u003d\"T_099d064c_983e_11ed_bb48_f23b1644f743row6_col1\" class\u003d\"data row6 col1\" \u003e$                 191\u003c/td\u003e \n        \u003ctd id\u003d\"T_099d064c_983e_11ed_bb48_f23b1644f743row6_col2\" class\u003d\"data row6 col2\" \u003e1.05\u003c/td\u003e \n        \u003ctd id\u003d\"T_099d064c_983e_11ed_bb48_f23b1644f743row6_col3\" class\u003d\"data row6 col3\" \u003e$                  91\u003c/td\u003e \n        \u003ctd id\u003d\"T_099d064c_983e_11ed_bb48_f23b1644f743row6_col4\" class\u003d\"data row6 col4\" \u003e0.48\u003c/td\u003e \n        \u003ctd id\u003d\"T_099d064c_983e_11ed_bb48_f23b1644f743row6_col5\" class\u003d\"data row6 col5\" \u003e$                  38\u003c/td\u003e \n        \u003ctd id\u003d\"T_099d064c_983e_11ed_bb48_f23b1644f743row6_col6\" class\u003d\"data row6 col6\" \u003e$                 129\u003c/td\u003e \n        \u003ctd id\u003d\"T_099d064c_983e_11ed_bb48_f23b1644f743row6_col7\" class\u003d\"data row6 col7\" \u003e0.68\u003c/td\u003e \n    \u003c/tr\u003e    \u003ctr\u003e \n        \u003cth id\u003d\"T_099d064c_983e_11ed_bb48_f23b1644f743level0_row7\" class\u003d\"row_heading level0 row7\" rowspan\u003d4\u003epeanut\u003c/th\u003e \n        \u003cth id\u003d\"T_099d064c_983e_11ed_bb48_f23b1644f743level1_row7\" class\u003d\"row_heading level1 row7\" \u003e0.125\u003c/th\u003e \n        \u003ctd id\u003d\"T_099d064c_983e_11ed_bb48_f23b1644f743row7_col0\" class\u003d\"data row7 col0\" \u003e$                 153\u003c/td\u003e \n        \u003ctd id\u003d\"T_099d064c_983e_11ed_bb48_f23b1644f743row7_col1\" class\u003d\"data row7 col1\" \u003e$                  51\u003c/td\u003e \n        \u003ctd id\u003d\"T_099d064c_983e_11ed_bb48_f23b1644f743row7_col2\" class\u003d\"data row7 col2\" \u003e1.80\u003c/td\u003e \n        \u003ctd id\u003d\"T_099d064c_983e_11ed_bb48_f23b1644f743row7_col3\" class\u003d\"data row7 col3\" \u003e$                 102\u003c/td\u003e \n        \u003ctd id\u003d\"T_099d064c_983e_11ed_bb48_f23b1644f743row7_col4\" class\u003d\"data row7 col4\" \u003e2.00\u003c/td\u003e \n        \u003ctd id\u003d\"T_099d064c_983e_11ed_bb48_f23b1644f743row7_col5\" class\u003d\"data row7 col5\" \u003e$                  38\u003c/td\u003e \n        \u003ctd id\u003d\"T_099d064c_983e_11ed_bb48_f23b1644f743row7_col6\" class\u003d\"data row7 col6\" \u003e$                 140\u003c/td\u003e \n        \u003ctd id\u003d\"T_099d064c_983e_11ed_bb48_f23b1644f743row7_col7\" class\u003d\"data row7 col7\" \u003e2.74\u003c/td\u003e \n    \u003c/tr\u003e    \u003ctr\u003e \n        \u003cth id\u003d\"T_099d064c_983e_11ed_bb48_f23b1644f743level1_row8\" class\u003d\"row_heading level1 row8\" \u003e0.25\u003c/th\u003e \n        \u003ctd id\u003d\"T_099d064c_983e_11ed_bb48_f23b1644f743row8_col0\" class\u003d\"data row8 col0\" \u003e$                 303\u003c/td\u003e \n        \u003ctd id\u003d\"T_099d064c_983e_11ed_bb48_f23b1644f743row8_col1\" class\u003d\"data row8 col1\" \u003e$                 102\u003c/td\u003e \n        \u003ctd id\u003d\"T_099d064c_983e_11ed_bb48_f23b1644f743row8_col2\" class\u003d\"data row8 col2\" \u003e1.80\u003c/td\u003e \n        \u003ctd id\u003d\"T_099d064c_983e_11ed_bb48_f23b1644f743row8_col3\" class\u003d\"data row8 col3\" \u003e$                 201\u003c/td\u003e \n        \u003ctd id\u003d\"T_099d064c_983e_11ed_bb48_f23b1644f743row8_col4\" class\u003d\"data row8 col4\" \u003e1.96\u003c/td\u003e \n        \u003ctd id\u003d\"T_099d064c_983e_11ed_bb48_f23b1644f743row8_col5\" class\u003d\"data row8 col5\" \u003e$                  38\u003c/td\u003e \n        \u003ctd id\u003d\"T_099d064c_983e_11ed_bb48_f23b1644f743row8_col6\" class\u003d\"data row8 col6\" \u003e$                 239\u003c/td\u003e \n        \u003ctd id\u003d\"T_099d064c_983e_11ed_bb48_f23b1644f743row8_col7\" class\u003d\"data row8 col7\" \u003e2.33\u003c/td\u003e \n    \u003c/tr\u003e    \u003ctr\u003e \n        \u003cth id\u003d\"T_099d064c_983e_11ed_bb48_f23b1644f743level1_row9\" class\u003d\"row_heading level1 row9\" \u003e0.5\u003c/th\u003e \n        \u003ctd id\u003d\"T_099d064c_983e_11ed_bb48_f23b1644f743row9_col0\" class\u003d\"data row9 col0\" \u003e$                 613\u003c/td\u003e \n        \u003ctd id\u003d\"T_099d064c_983e_11ed_bb48_f23b1644f743row9_col1\" class\u003d\"data row9 col1\" \u003e$                 205\u003c/td\u003e \n        \u003ctd id\u003d\"T_099d064c_983e_11ed_bb48_f23b1644f743row9_col2\" class\u003d\"data row9 col2\" \u003e1.80\u003c/td\u003e \n        \u003ctd id\u003d\"T_099d064c_983e_11ed_bb48_f23b1644f743row9_col3\" class\u003d\"data row9 col3\" \u003e$                 408\u003c/td\u003e \n        \u003ctd id\u003d\"T_099d064c_983e_11ed_bb48_f23b1644f743row9_col4\" class\u003d\"data row9 col4\" \u003e1.99\u003c/td\u003e \n        \u003ctd id\u003d\"T_099d064c_983e_11ed_bb48_f23b1644f743row9_col5\" class\u003d\"data row9 col5\" \u003e$                  38\u003c/td\u003e \n        \u003ctd id\u003d\"T_099d064c_983e_11ed_bb48_f23b1644f743row9_col6\" class\u003d\"data row9 col6\" \u003e$                 446\u003c/td\u003e \n        \u003ctd id\u003d\"T_099d064c_983e_11ed_bb48_f23b1644f743row9_col7\" class\u003d\"data row9 col7\" \u003e2.18\u003c/td\u003e \n    \u003c/tr\u003e    \u003ctr\u003e \n        \u003cth id\u003d\"T_099d064c_983e_11ed_bb48_f23b1644f743level1_row10\" class\u003d\"row_heading level1 row10\" \u003e1.0\u003c/th\u003e \n        \u003ctd id\u003d\"T_099d064c_983e_11ed_bb48_f23b1644f743row10_col0\" class\u003d\"data row10 col0\" \u003e$               1,233\u003c/td\u003e \n        \u003ctd id\u003d\"T_099d064c_983e_11ed_bb48_f23b1644f743row10_col1\" class\u003d\"data row10 col1\" \u003e$                 410\u003c/td\u003e \n        \u003ctd id\u003d\"T_099d064c_983e_11ed_bb48_f23b1644f743row10_col2\" class\u003d\"data row10 col2\" \u003e1.80\u003c/td\u003e \n        \u003ctd id\u003d\"T_099d064c_983e_11ed_bb48_f23b1644f743row10_col3\" class\u003d\"data row10 col3\" \u003e$                 824\u003c/td\u003e \n        \u003ctd id\u003d\"T_099d064c_983e_11ed_bb48_f23b1644f743row10_col4\" class\u003d\"data row10 col4\" \u003e2.01\u003c/td\u003e \n        \u003ctd id\u003d\"T_099d064c_983e_11ed_bb48_f23b1644f743row10_col5\" class\u003d\"data row10 col5\" \u003e$                  38\u003c/td\u003e \n        \u003ctd id\u003d\"T_099d064c_983e_11ed_bb48_f23b1644f743row10_col6\" class\u003d\"data row10 col6\" \u003e$                 862\u003c/td\u003e \n        \u003ctd id\u003d\"T_099d064c_983e_11ed_bb48_f23b1644f743row10_col7\" class\u003d\"data row10 col7\" \u003e2.10\u003c/td\u003e \n    \u003c/tr\u003e    \u003ctr\u003e \n        \u003cth id\u003d\"T_099d064c_983e_11ed_bb48_f23b1644f743level0_row11\" class\u003d\"row_heading level0 row11\" rowspan\u003d4\u003epeanut (fodder only)\u003c/th\u003e \n        \u003cth id\u003d\"T_099d064c_983e_11ed_bb48_f23b1644f743level1_row11\" class\u003d\"row_heading level1 row11\" \u003e0.125\u003c/th\u003e \n        \u003ctd id\u003d\"T_099d064c_983e_11ed_bb48_f23b1644f743row11_col0\" class\u003d\"data row11 col0\" \u003e$                 131\u003c/td\u003e \n        \u003ctd id\u003d\"T_099d064c_983e_11ed_bb48_f23b1644f743row11_col1\" class\u003d\"data row11 col1\" \u003e$                  60\u003c/td\u003e \n        \u003ctd id\u003d\"T_099d064c_983e_11ed_bb48_f23b1644f743row11_col2\" class\u003d\"data row11 col2\" \u003e0.00\u003c/td\u003e \n        \u003ctd id\u003d\"T_099d064c_983e_11ed_bb48_f23b1644f743row11_col3\" class\u003d\"data row11 col3\" \u003e$                  71\u003c/td\u003e \n        \u003ctd id\u003d\"T_099d064c_983e_11ed_bb48_f23b1644f743row11_col4\" class\u003d\"data row11 col4\" \u003e1.19\u003c/td\u003e \n        \u003ctd id\u003d\"T_099d064c_983e_11ed_bb48_f23b1644f743row11_col5\" class\u003d\"data row11 col5\" \u003e$                  38\u003c/td\u003e \n        \u003ctd id\u003d\"T_099d064c_983e_11ed_bb48_f23b1644f743row11_col6\" class\u003d\"data row11 col6\" \u003e$                   0\u003c/td\u003e \n        \u003ctd id\u003d\"T_099d064c_983e_11ed_bb48_f23b1644f743row11_col7\" class\u003d\"data row11 col7\" \u003e0.00\u003c/td\u003e \n    \u003c/tr\u003e    \u003ctr\u003e \n        \u003cth id\u003d\"T_099d064c_983e_11ed_bb48_f23b1644f743level1_row12\" class\u003d\"row_heading level1 row12\" \u003e0.25\u003c/th\u003e \n        \u003ctd id\u003d\"T_099d064c_983e_11ed_bb48_f23b1644f743row12_col0\" class\u003d\"data row12 col0\" \u003e$                 261\u003c/td\u003e \n        \u003ctd id\u003d\"T_099d064c_983e_11ed_bb48_f23b1644f743row12_col1\" class\u003d\"data row12 col1\" \u003e$                 120\u003c/td\u003e \n        \u003ctd id\u003d\"T_099d064c_983e_11ed_bb48_f23b1644f743row12_col2\" class\u003d\"data row12 col2\" \u003e0.00\u003c/td\u003e \n        \u003ctd id\u003d\"T_099d064c_983e_11ed_bb48_f23b1644f743row12_col3\" class\u003d\"data row12 col3\" \u003e$                 142\u003c/td\u003e \n        \u003ctd id\u003d\"T_099d064c_983e_11ed_bb48_f23b1644f743row12_col4\" class\u003d\"data row12 col4\" \u003e1.19\u003c/td\u003e \n        \u003ctd id\u003d\"T_099d064c_983e_11ed_bb48_f23b1644f743row12_col5\" class\u003d\"data row12 col5\" \u003e$                  38\u003c/td\u003e \n        \u003ctd id\u003d\"T_099d064c_983e_11ed_bb48_f23b1644f743row12_col6\" class\u003d\"data row12 col6\" \u003e$                   0\u003c/td\u003e \n        \u003ctd id\u003d\"T_099d064c_983e_11ed_bb48_f23b1644f743row12_col7\" class\u003d\"data row12 col7\" \u003e0.00\u003c/td\u003e \n    \u003c/tr\u003e    \u003ctr\u003e \n        \u003cth id\u003d\"T_099d064c_983e_11ed_bb48_f23b1644f743level1_row13\" class\u003d\"row_heading level1 row13\" \u003e0.5\u003c/th\u003e \n        \u003ctd id\u003d\"T_099d064c_983e_11ed_bb48_f23b1644f743row13_col0\" class\u003d\"data row13 col0\" \u003e$                 523\u003c/td\u003e \n        \u003ctd id\u003d\"T_099d064c_983e_11ed_bb48_f23b1644f743row13_col1\" class\u003d\"data row13 col1\" \u003e$                 239\u003c/td\u003e \n        \u003ctd id\u003d\"T_099d064c_983e_11ed_bb48_f23b1644f743row13_col2\" class\u003d\"data row13 col2\" \u003e0.00\u003c/td\u003e \n        \u003ctd id\u003d\"T_099d064c_983e_11ed_bb48_f23b1644f743row13_col3\" class\u003d\"data row13 col3\" \u003e$                 284\u003c/td\u003e \n        \u003ctd id\u003d\"T_099d064c_983e_11ed_bb48_f23b1644f743row13_col4\" class\u003d\"data row13 col4\" \u003e1.19\u003c/td\u003e \n        \u003ctd id\u003d\"T_099d064c_983e_11ed_bb48_f23b1644f743row13_col5\" class\u003d\"data row13 col5\" \u003e$                  38\u003c/td\u003e \n        \u003ctd id\u003d\"T_099d064c_983e_11ed_bb48_f23b1644f743row13_col6\" class\u003d\"data row13 col6\" \u003e$                   0\u003c/td\u003e \n        \u003ctd id\u003d\"T_099d064c_983e_11ed_bb48_f23b1644f743row13_col7\" class\u003d\"data row13 col7\" \u003e0.00\u003c/td\u003e \n    \u003c/tr\u003e    \u003ctr\u003e \n        \u003cth id\u003d\"T_099d064c_983e_11ed_bb48_f23b1644f743level1_row14\" class\u003d\"row_heading level1 row14\" \u003e1.0\u003c/th\u003e \n        \u003ctd id\u003d\"T_099d064c_983e_11ed_bb48_f23b1644f743row14_col0\" class\u003d\"data row14 col0\" \u003e$               1,046\u003c/td\u003e \n        \u003ctd id\u003d\"T_099d064c_983e_11ed_bb48_f23b1644f743row14_col1\" class\u003d\"data row14 col1\" \u003e$                 478\u003c/td\u003e \n        \u003ctd id\u003d\"T_099d064c_983e_11ed_bb48_f23b1644f743row14_col2\" class\u003d\"data row14 col2\" \u003e0.00\u003c/td\u003e \n        \u003ctd id\u003d\"T_099d064c_983e_11ed_bb48_f23b1644f743row14_col3\" class\u003d\"data row14 col3\" \u003e$                 568\u003c/td\u003e \n        \u003ctd id\u003d\"T_099d064c_983e_11ed_bb48_f23b1644f743row14_col4\" class\u003d\"data row14 col4\" \u003e1.19\u003c/td\u003e \n        \u003ctd id\u003d\"T_099d064c_983e_11ed_bb48_f23b1644f743row14_col5\" class\u003d\"data row14 col5\" \u003e$                  38\u003c/td\u003e \n        \u003ctd id\u003d\"T_099d064c_983e_11ed_bb48_f23b1644f743row14_col6\" class\u003d\"data row14 col6\" \u003e$                   0\u003c/td\u003e \n        \u003ctd id\u003d\"T_099d064c_983e_11ed_bb48_f23b1644f743row14_col7\" class\u003d\"data row14 col7\" \u003e0.00\u003c/td\u003e \n    \u003c/tr\u003e    \u003ctr\u003e \n        \u003cth id\u003d\"T_099d064c_983e_11ed_bb48_f23b1644f743level0_row15\" class\u003d\"row_heading level0 row15\" rowspan\u003d4\u003epeanut (w/ fodder)\u003c/th\u003e \n        \u003cth id\u003d\"T_099d064c_983e_11ed_bb48_f23b1644f743level1_row15\" class\u003d\"row_heading level1 row15\" \u003e0.125\u003c/th\u003e \n        \u003ctd id\u003d\"T_099d064c_983e_11ed_bb48_f23b1644f743row15_col0\" class\u003d\"data row15 col0\" \u003e$                 284\u003c/td\u003e \n        \u003ctd id\u003d\"T_099d064c_983e_11ed_bb48_f23b1644f743row15_col1\" class\u003d\"data row15 col1\" \u003e$                 111\u003c/td\u003e \n        \u003ctd id\u003d\"T_099d064c_983e_11ed_bb48_f23b1644f743row15_col2\" class\u003d\"data row15 col2\" \u003e0.00\u003c/td\u003e \n        \u003ctd id\u003d\"T_099d064c_983e_11ed_bb48_f23b1644f743row15_col3\" class\u003d\"data row15 col3\" \u003e$                 173\u003c/td\u003e \n        \u003ctd id\u003d\"T_099d064c_983e_11ed_bb48_f23b1644f743row15_col4\" class\u003d\"data row15 col4\" \u003e1.56\u003c/td\u003e \n        \u003ctd id\u003d\"T_099d064c_983e_11ed_bb48_f23b1644f743row15_col5\" class\u003d\"data row15 col5\" \u003e$                  38\u003c/td\u003e \n        \u003ctd id\u003d\"T_099d064c_983e_11ed_bb48_f23b1644f743row15_col6\" class\u003d\"data row15 col6\" \u003e$                 211\u003c/td\u003e \n        \u003ctd id\u003d\"T_099d064c_983e_11ed_bb48_f23b1644f743row15_col7\" class\u003d\"data row15 col7\" \u003e1.90\u003c/td\u003e \n    \u003c/tr\u003e    \u003ctr\u003e \n        \u003cth id\u003d\"T_099d064c_983e_11ed_bb48_f23b1644f743level1_row16\" class\u003d\"row_heading level1 row16\" \u003e0.25\u003c/th\u003e \n        \u003ctd id\u003d\"T_099d064c_983e_11ed_bb48_f23b1644f743row16_col0\" class\u003d\"data row16 col0\" \u003e$                 564\u003c/td\u003e \n        \u003ctd id\u003d\"T_099d064c_983e_11ed_bb48_f23b1644f743row16_col1\" class\u003d\"data row16 col1\" \u003e$                 222\u003c/td\u003e \n        \u003ctd id\u003d\"T_099d064c_983e_11ed_bb48_f23b1644f743row16_col2\" class\u003d\"data row16 col2\" \u003e0.00\u003c/td\u003e \n        \u003ctd id\u003d\"T_099d064c_983e_11ed_bb48_f23b1644f743row16_col3\" class\u003d\"data row16 col3\" \u003e$                 342\u003c/td\u003e \n        \u003ctd id\u003d\"T_099d064c_983e_11ed_bb48_f23b1644f743row16_col4\" class\u003d\"data row16 col4\" \u003e1.54\u003c/td\u003e \n        \u003ctd id\u003d\"T_099d064c_983e_11ed_bb48_f23b1644f743row16_col5\" class\u003d\"data row16 col5\" \u003e$                  38\u003c/td\u003e \n        \u003ctd id\u003d\"T_099d064c_983e_11ed_bb48_f23b1644f743row16_col6\" class\u003d\"data row16 col6\" \u003e$                 380\u003c/td\u003e \n        \u003ctd id\u003d\"T_099d064c_983e_11ed_bb48_f23b1644f743row16_col7\" class\u003d\"data row16 col7\" \u003e1.71\u003c/td\u003e \n    \u003c/tr\u003e    \u003ctr\u003e \n        \u003cth id\u003d\"T_099d064c_983e_11ed_bb48_f23b1644f743level1_row17\" class\u003d\"row_heading level1 row17\" \u003e0.5\u003c/th\u003e \n        \u003ctd id\u003d\"T_099d064c_983e_11ed_bb48_f23b1644f743row17_col0\" class\u003d\"data row17 col0\" \u003e$               1,136\u003c/td\u003e \n        \u003ctd id\u003d\"T_099d064c_983e_11ed_bb48_f23b1644f743row17_col1\" class\u003d\"data row17 col1\" \u003e$                 444\u003c/td\u003e \n        \u003ctd id\u003d\"T_099d064c_983e_11ed_bb48_f23b1644f743row17_col2\" class\u003d\"data row17 col2\" \u003e0.00\u003c/td\u003e \n        \u003ctd id\u003d\"T_099d064c_983e_11ed_bb48_f23b1644f743row17_col3\" class\u003d\"data row17 col3\" \u003e$                 692\u003c/td\u003e \n        \u003ctd id\u003d\"T_099d064c_983e_11ed_bb48_f23b1644f743row17_col4\" class\u003d\"data row17 col4\" \u003e1.56\u003c/td\u003e \n        \u003ctd id\u003d\"T_099d064c_983e_11ed_bb48_f23b1644f743row17_col5\" class\u003d\"data row17 col5\" \u003e$                  38\u003c/td\u003e \n        \u003ctd id\u003d\"T_099d064c_983e_11ed_bb48_f23b1644f743row17_col6\" class\u003d\"data row17 col6\" \u003e$                 730\u003c/td\u003e \n        \u003ctd id\u003d\"T_099d064c_983e_11ed_bb48_f23b1644f743row17_col7\" class\u003d\"data row17 col7\" \u003e1.64\u003c/td\u003e \n    \u003c/tr\u003e    \u003ctr\u003e \n        \u003cth id\u003d\"T_099d064c_983e_11ed_bb48_f23b1644f743level1_row18\" class\u003d\"row_heading level1 row18\" \u003e1.0\u003c/th\u003e \n        \u003ctd id\u003d\"T_099d064c_983e_11ed_bb48_f23b1644f743row18_col0\" class\u003d\"data row18 col0\" \u003e$               2,279\u003c/td\u003e \n        \u003ctd id\u003d\"T_099d064c_983e_11ed_bb48_f23b1644f743row18_col1\" class\u003d\"data row18 col1\" \u003e$                 888\u003c/td\u003e \n        \u003ctd id\u003d\"T_099d064c_983e_11ed_bb48_f23b1644f743row18_col2\" class\u003d\"data row18 col2\" \u003e0.00\u003c/td\u003e \n        \u003ctd id\u003d\"T_099d064c_983e_11ed_bb48_f23b1644f743row18_col3\" class\u003d\"data row18 col3\" \u003e$               1,391\u003c/td\u003e \n        \u003ctd id\u003d\"T_099d064c_983e_11ed_bb48_f23b1644f743row18_col4\" class\u003d\"data row18 col4\" \u003e1.57\u003c/td\u003e \n        \u003ctd id\u003d\"T_099d064c_983e_11ed_bb48_f23b1644f743row18_col5\" class\u003d\"data row18 col5\" \u003e$                  38\u003c/td\u003e \n        \u003ctd id\u003d\"T_099d064c_983e_11ed_bb48_f23b1644f743row18_col6\" class\u003d\"data row18 col6\" \u003e$               1,429\u003c/td\u003e \n        \u003ctd id\u003d\"T_099d064c_983e_11ed_bb48_f23b1644f743row18_col7\" class\u003d\"data row18 col7\" \u003e1.61\u003c/td\u003e \n    \u003c/tr\u003e    \u003ctr\u003e \n        \u003cth id\u003d\"T_099d064c_983e_11ed_bb48_f23b1644f743level0_row19\" class\u003d\"row_heading level0 row19\" rowspan\u003d2\u003erice\u003c/th\u003e \n        \u003cth id\u003d\"T_099d064c_983e_11ed_bb48_f23b1644f743level1_row19\" class\u003d\"row_heading level1 row19\" \u003e0.05\u003c/th\u003e \n        \u003ctd id\u003d\"T_099d064c_983e_11ed_bb48_f23b1644f743row19_col0\" class\u003d\"data row19 col0\" \u003e$                  40\u003c/td\u003e \n        \u003ctd id\u003d\"T_099d064c_983e_11ed_bb48_f23b1644f743row19_col1\" class\u003d\"data row19 col1\" \u003e$                  26\u003c/td\u003e \n        \u003ctd id\u003d\"T_099d064c_983e_11ed_bb48_f23b1644f743row19_col2\" class\u003d\"data row19 col2\" \u003e1.21\u003c/td\u003e \n        \u003ctd id\u003d\"T_099d064c_983e_11ed_bb48_f23b1644f743row19_col3\" class\u003d\"data row19 col3\" \u003e$                  14\u003c/td\u003e \n        \u003ctd id\u003d\"T_099d064c_983e_11ed_bb48_f23b1644f743row19_col4\" class\u003d\"data row19 col4\" \u003e0.52\u003c/td\u003e \n        \u003ctd id\u003d\"T_099d064c_983e_11ed_bb48_f23b1644f743row19_col5\" class\u003d\"data row19 col5\" \u003e$                  38\u003c/td\u003e \n        \u003ctd id\u003d\"T_099d064c_983e_11ed_bb48_f23b1644f743row19_col6\" class\u003d\"data row19 col6\" \u003e$                  52\u003c/td\u003e \n        \u003ctd id\u003d\"T_099d064c_983e_11ed_bb48_f23b1644f743row19_col7\" class\u003d\"data row19 col7\" \u003e1.96\u003c/td\u003e \n    \u003c/tr\u003e    \u003ctr\u003e \n        \u003cth id\u003d\"T_099d064c_983e_11ed_bb48_f23b1644f743level1_row20\" class\u003d\"row_heading level1 row20\" \u003e0.1\u003c/th\u003e \n        \u003ctd id\u003d\"T_099d064c_983e_11ed_bb48_f23b1644f743row20_col0\" class\u003d\"data row20 col0\" \u003e$                  84\u003c/td\u003e \n        \u003ctd id\u003d\"T_099d064c_983e_11ed_bb48_f23b1644f743row20_col1\" class\u003d\"data row20 col1\" \u003e$                  53\u003c/td\u003e \n        \u003ctd id\u003d\"T_099d064c_983e_11ed_bb48_f23b1644f743row20_col2\" class\u003d\"data row20 col2\" \u003e1.21\u003c/td\u003e \n        \u003ctd id\u003d\"T_099d064c_983e_11ed_bb48_f23b1644f743row20_col3\" class\u003d\"data row20 col3\" \u003e$                  32\u003c/td\u003e \n        \u003ctd id\u003d\"T_099d064c_983e_11ed_bb48_f23b1644f743row20_col4\" class\u003d\"data row20 col4\" \u003e0.61\u003c/td\u003e \n        \u003ctd id\u003d\"T_099d064c_983e_11ed_bb48_f23b1644f743row20_col5\" class\u003d\"data row20 col5\" \u003e$                  38\u003c/td\u003e \n        \u003ctd id\u003d\"T_099d064c_983e_11ed_bb48_f23b1644f743row20_col6\" class\u003d\"data row20 col6\" \u003e$                  70\u003c/td\u003e \n        \u003ctd id\u003d\"T_099d064c_983e_11ed_bb48_f23b1644f743row20_col7\" class\u003d\"data row20 col7\" \u003e1.33\u003c/td\u003e \n    \u003c/tr\u003e    \u003ctr\u003e \n        \u003cth id\u003d\"T_099d064c_983e_11ed_bb48_f23b1644f743level0_row21\" class\u003d\"row_heading level0 row21\" rowspan\u003d2\u003ebissap\u003c/th\u003e \n        \u003cth id\u003d\"T_099d064c_983e_11ed_bb48_f23b1644f743level1_row21\" class\u003d\"row_heading level1 row21\" \u003e0.0625\u003c/th\u003e \n        \u003ctd id\u003d\"T_099d064c_983e_11ed_bb48_f23b1644f743row21_col0\" class\u003d\"data row21 col0\" \u003e$                 109\u003c/td\u003e \n        \u003ctd id\u003d\"T_099d064c_983e_11ed_bb48_f23b1644f743row21_col1\" class\u003d\"data row21 col1\" \u003e$                   0\u003c/td\u003e \n        \u003ctd id\u003d\"T_099d064c_983e_11ed_bb48_f23b1644f743row21_col2\" class\u003d\"data row21 col2\" \u003e0.00\u003c/td\u003e \n        \u003ctd id\u003d\"T_099d064c_983e_11ed_bb48_f23b1644f743row21_col3\" class\u003d\"data row21 col3\" \u003e$                   0\u003c/td\u003e \n        \u003ctd id\u003d\"T_099d064c_983e_11ed_bb48_f23b1644f743row21_col4\" class\u003d\"data row21 col4\" \u003e0.00\u003c/td\u003e \n        \u003ctd id\u003d\"T_099d064c_983e_11ed_bb48_f23b1644f743row21_col5\" class\u003d\"data row21 col5\" \u003e$                   0\u003c/td\u003e \n        \u003ctd id\u003d\"T_099d064c_983e_11ed_bb48_f23b1644f743row21_col6\" class\u003d\"data row21 col6\" \u003e$                   0\u003c/td\u003e \n        \u003ctd id\u003d\"T_099d064c_983e_11ed_bb48_f23b1644f743row21_col7\" class\u003d\"data row21 col7\" \u003e0.00\u003c/td\u003e \n    \u003c/tr\u003e    \u003ctr\u003e \n        \u003cth id\u003d\"T_099d064c_983e_11ed_bb48_f23b1644f743level1_row22\" class\u003d\"row_heading level1 row22\" \u003e0.125\u003c/th\u003e \n        \u003ctd id\u003d\"T_099d064c_983e_11ed_bb48_f23b1644f743row22_col0\" class\u003d\"data row22 col0\" \u003e$                 219\u003c/td\u003e \n        \u003ctd id\u003d\"T_099d064c_983e_11ed_bb48_f23b1644f743row22_col1\" class\u003d\"data row22 col1\" \u003e$                   0\u003c/td\u003e \n        \u003ctd id\u003d\"T_099d064c_983e_11ed_bb48_f23b1644f743row22_col2\" class\u003d\"data row22 col2\" \u003e0.00\u003c/td\u003e \n        \u003ctd id\u003d\"T_099d064c_983e_11ed_bb48_f23b1644f743row22_col3\" class\u003d\"data row22 col3\" \u003e$                   0\u003c/td\u003e \n        \u003ctd id\u003d\"T_099d064c_983e_11ed_bb48_f23b1644f743row22_col4\" class\u003d\"data row22 col4\" \u003e0.00\u003c/td\u003e \n        \u003ctd id\u003d\"T_099d064c_983e_11ed_bb48_f23b1644f743row22_col5\" class\u003d\"data row22 col5\" \u003e$                   0\u003c/td\u003e \n        \u003ctd id\u003d\"T_099d064c_983e_11ed_bb48_f23b1644f743row22_col6\" class\u003d\"data row22 col6\" \u003e$                   0\u003c/td\u003e \n        \u003ctd id\u003d\"T_099d064c_983e_11ed_bb48_f23b1644f743row22_col7\" class\u003d\"data row22 col7\" \u003e0.00\u003c/td\u003e \n    \u003c/tr\u003e    \u003ctr\u003e \n        \u003cth id\u003d\"T_099d064c_983e_11ed_bb48_f23b1644f743level0_row23\" class\u003d\"row_heading level0 row23\" \u003ebissap_add_on\u003c/th\u003e \n        \u003cth id\u003d\"T_099d064c_983e_11ed_bb48_f23b1644f743level1_row23\" class\u003d\"row_heading level1 row23\" \u003e0.025\u003c/th\u003e \n        \u003ctd id\u003d\"T_099d064c_983e_11ed_bb48_f23b1644f743row23_col0\" class\u003d\"data row23 col0\" \u003e$                  45\u003c/td\u003e \n        \u003ctd id\u003d\"T_099d064c_983e_11ed_bb48_f23b1644f743row23_col1\" class\u003d\"data row23 col1\" \u003e$                   0\u003c/td\u003e \n        \u003ctd id\u003d\"T_099d064c_983e_11ed_bb48_f23b1644f743row23_col2\" class\u003d\"data row23 col2\" \u003e0.00\u003c/td\u003e \n        \u003ctd id\u003d\"T_099d064c_983e_11ed_bb48_f23b1644f743row23_col3\" class\u003d\"data row23 col3\" \u003e$                   0\u003c/td\u003e \n        \u003ctd id\u003d\"T_099d064c_983e_11ed_bb48_f23b1644f743row23_col4\" class\u003d\"data row23 col4\" \u003e0.00\u003c/td\u003e \n        \u003ctd id\u003d\"T_099d064c_983e_11ed_bb48_f23b1644f743row23_col5\" class\u003d\"data row23 col5\" \u003e$                   0\u003c/td\u003e \n        \u003ctd id\u003d\"T_099d064c_983e_11ed_bb48_f23b1644f743row23_col6\" class\u003d\"data row23 col6\" \u003e$                   0\u003c/td\u003e \n        \u003ctd id\u003d\"T_099d064c_983e_11ed_bb48_f23b1644f743row23_col7\" class\u003d\"data row23 col7\" \u003e0.00\u003c/td\u003e \n    \u003c/tr\u003e    \u003ctr\u003e \n        \u003cth id\u003d\"T_099d064c_983e_11ed_bb48_f23b1644f743level0_row24\" class\u003d\"row_heading level0 row24\" \u003ecowpea_add_on\u003c/th\u003e \n        \u003cth id\u003d\"T_099d064c_983e_11ed_bb48_f23b1644f743level1_row24\" class\u003d\"row_heading level1 row24\" \u003e0.005\u003c/th\u003e \n        \u003ctd id\u003d\"T_099d064c_983e_11ed_bb48_f23b1644f743row24_col0\" class\u003d\"data row24 col0\" \u003e$                   1\u003c/td\u003e \n        \u003ctd id\u003d\"T_099d064c_983e_11ed_bb48_f23b1644f743row24_col1\" class\u003d\"data row24 col1\" \u003e$                   0\u003c/td\u003e \n        \u003ctd id\u003d\"T_099d064c_983e_11ed_bb48_f23b1644f743row24_col2\" class\u003d\"data row24 col2\" \u003e0.00\u003c/td\u003e \n        \u003ctd id\u003d\"T_099d064c_983e_11ed_bb48_f23b1644f743row24_col3\" class\u003d\"data row24 col3\" \u003e$                   0\u003c/td\u003e \n        \u003ctd id\u003d\"T_099d064c_983e_11ed_bb48_f23b1644f743row24_col4\" class\u003d\"data row24 col4\" \u003e0.00\u003c/td\u003e \n        \u003ctd id\u003d\"T_099d064c_983e_11ed_bb48_f23b1644f743row24_col5\" class\u003d\"data row24 col5\" \u003e$                   0\u003c/td\u003e \n        \u003ctd id\u003d\"T_099d064c_983e_11ed_bb48_f23b1644f743row24_col6\" class\u003d\"data row24 col6\" \u003e$                   0\u003c/td\u003e \n        \u003ctd id\u003d\"T_099d064c_983e_11ed_bb48_f23b1644f743row24_col7\" class\u003d\"data row24 col7\" \u003e0.00\u003c/td\u003e \n    \u003c/tr\u003e    \u003ctr\u003e \n        \u003cth id\u003d\"T_099d064c_983e_11ed_bb48_f23b1644f743level0_row25\" class\u003d\"row_heading level0 row25\" rowspan\u003d2\u003eokra\u003c/th\u003e \n        \u003cth id\u003d\"T_099d064c_983e_11ed_bb48_f23b1644f743level1_row25\" class\u003d\"row_heading level1 row25\" \u003e0.04\u003c/th\u003e \n        \u003ctd id\u003d\"T_099d064c_983e_11ed_bb48_f23b1644f743row25_col0\" class\u003d\"data row25 col0\" \u003e$                 161\u003c/td\u003e \n        \u003ctd id\u003d\"T_099d064c_983e_11ed_bb48_f23b1644f743row25_col1\" class\u003d\"data row25 col1\" \u003e$                   0\u003c/td\u003e \n        \u003ctd id\u003d\"T_099d064c_983e_11ed_bb48_f23b1644f743row25_col2\" class\u003d\"data row25 col2\" \u003e0.00\u003c/td\u003e \n        \u003ctd id\u003d\"T_099d064c_983e_11ed_bb48_f23b1644f743row25_col3\" class\u003d\"data row25 col3\" \u003e$                   0\u003c/td\u003e \n        \u003ctd id\u003d\"T_099d064c_983e_11ed_bb48_f23b1644f743row25_col4\" class\u003d\"data row25 col4\" \u003e0.00\u003c/td\u003e \n        \u003ctd id\u003d\"T_099d064c_983e_11ed_bb48_f23b1644f743row25_col5\" class\u003d\"data row25 col5\" \u003e$                   0\u003c/td\u003e \n        \u003ctd id\u003d\"T_099d064c_983e_11ed_bb48_f23b1644f743row25_col6\" class\u003d\"data row25 col6\" \u003e$                   0\u003c/td\u003e \n        \u003ctd id\u003d\"T_099d064c_983e_11ed_bb48_f23b1644f743row25_col7\" class\u003d\"data row25 col7\" \u003e0.00\u003c/td\u003e \n    \u003c/tr\u003e    \u003ctr\u003e \n        \u003cth id\u003d\"T_099d064c_983e_11ed_bb48_f23b1644f743level1_row26\" class\u003d\"row_heading level1 row26\" \u003e0.08\u003c/th\u003e \n        \u003ctd id\u003d\"T_099d064c_983e_11ed_bb48_f23b1644f743row26_col0\" class\u003d\"data row26 col0\" \u003e$                 321\u003c/td\u003e \n        \u003ctd id\u003d\"T_099d064c_983e_11ed_bb48_f23b1644f743row26_col1\" class\u003d\"data row26 col1\" \u003e$                   0\u003c/td\u003e \n        \u003ctd id\u003d\"T_099d064c_983e_11ed_bb48_f23b1644f743row26_col2\" class\u003d\"data row26 col2\" \u003e0.00\u003c/td\u003e \n        \u003ctd id\u003d\"T_099d064c_983e_11ed_bb48_f23b1644f743row26_col3\" class\u003d\"data row26 col3\" \u003e$                   0\u003c/td\u003e \n        \u003ctd id\u003d\"T_099d064c_983e_11ed_bb48_f23b1644f743row26_col4\" class\u003d\"data row26 col4\" \u003e0.00\u003c/td\u003e \n        \u003ctd id\u003d\"T_099d064c_983e_11ed_bb48_f23b1644f743row26_col5\" class\u003d\"data row26 col5\" \u003e$                   0\u003c/td\u003e \n        \u003ctd id\u003d\"T_099d064c_983e_11ed_bb48_f23b1644f743row26_col6\" class\u003d\"data row26 col6\" \u003e$                   0\u003c/td\u003e \n        \u003ctd id\u003d\"T_099d064c_983e_11ed_bb48_f23b1644f743row26_col7\" class\u003d\"data row26 col7\" \u003e0.00\u003c/td\u003e \n    \u003c/tr\u003e    \u003ctr\u003e \n        \u003cth id\u003d\"T_099d064c_983e_11ed_bb48_f23b1644f743level0_row27\" class\u003d\"row_heading level0 row27\" \u003eokra_add_on\u003c/th\u003e \n        \u003cth id\u003d\"T_099d064c_983e_11ed_bb48_f23b1644f743level1_row27\" class\u003d\"row_heading level1 row27\" \u003e0.016\u003c/th\u003e \n        \u003ctd id\u003d\"T_099d064c_983e_11ed_bb48_f23b1644f743row27_col0\" class\u003d\"data row27 col0\" \u003e$                  65\u003c/td\u003e \n        \u003ctd id\u003d\"T_099d064c_983e_11ed_bb48_f23b1644f743row27_col1\" class\u003d\"data row27 col1\" \u003e$                   0\u003c/td\u003e \n        \u003ctd id\u003d\"T_099d064c_983e_11ed_bb48_f23b1644f743row27_col2\" class\u003d\"data row27 col2\" \u003e0.00\u003c/td\u003e \n        \u003ctd id\u003d\"T_099d064c_983e_11ed_bb48_f23b1644f743row27_col3\" class\u003d\"data row27 col3\" \u003e$                   0\u003c/td\u003e \n        \u003ctd id\u003d\"T_099d064c_983e_11ed_bb48_f23b1644f743row27_col4\" class\u003d\"data row27 col4\" \u003e0.00\u003c/td\u003e \n        \u003ctd id\u003d\"T_099d064c_983e_11ed_bb48_f23b1644f743row27_col5\" class\u003d\"data row27 col5\" \u003e$                   0\u003c/td\u003e \n        \u003ctd id\u003d\"T_099d064c_983e_11ed_bb48_f23b1644f743row27_col6\" class\u003d\"data row27 col6\" \u003e$                   0\u003c/td\u003e \n        \u003ctd id\u003d\"T_099d064c_983e_11ed_bb48_f23b1644f743row27_col7\" class\u003d\"data row27 col7\" \u003e0.00\u003c/td\u003e \n    \u003c/tr\u003e    \u003ctr\u003e \n        \u003cth id\u003d\"T_099d064c_983e_11ed_bb48_f23b1644f743level0_row28\" class\u003d\"row_heading level0 row28\" rowspan\u003d2\u003ewatermelon\u003c/th\u003e \n        \u003cth id\u003d\"T_099d064c_983e_11ed_bb48_f23b1644f743level1_row28\" class\u003d\"row_heading level1 row28\" \u003e0.0125\u003c/th\u003e \n        \u003ctd id\u003d\"T_099d064c_983e_11ed_bb48_f23b1644f743row28_col0\" class\u003d\"data row28 col0\" \u003e$                  98\u003c/td\u003e \n        \u003ctd id\u003d\"T_099d064c_983e_11ed_bb48_f23b1644f743row28_col1\" class\u003d\"data row28 col1\" \u003e$                   0\u003c/td\u003e \n        \u003ctd id\u003d\"T_099d064c_983e_11ed_bb48_f23b1644f743row28_col2\" class\u003d\"data row28 col2\" \u003e0.00\u003c/td\u003e \n        \u003ctd id\u003d\"T_099d064c_983e_11ed_bb48_f23b1644f743row28_col3\" class\u003d\"data row28 col3\" \u003e$                   0\u003c/td\u003e \n        \u003ctd id\u003d\"T_099d064c_983e_11ed_bb48_f23b1644f743row28_col4\" class\u003d\"data row28 col4\" \u003e0.00\u003c/td\u003e \n        \u003ctd id\u003d\"T_099d064c_983e_11ed_bb48_f23b1644f743row28_col5\" class\u003d\"data row28 col5\" \u003e$                   0\u003c/td\u003e \n        \u003ctd id\u003d\"T_099d064c_983e_11ed_bb48_f23b1644f743row28_col6\" class\u003d\"data row28 col6\" \u003e$                   0\u003c/td\u003e \n        \u003ctd id\u003d\"T_099d064c_983e_11ed_bb48_f23b1644f743row28_col7\" class\u003d\"data row28 col7\" \u003e0.00\u003c/td\u003e \n    \u003c/tr\u003e    \u003ctr\u003e \n        \u003cth id\u003d\"T_099d064c_983e_11ed_bb48_f23b1644f743level1_row29\" class\u003d\"row_heading level1 row29\" \u003e0.025\u003c/th\u003e \n        \u003ctd id\u003d\"T_099d064c_983e_11ed_bb48_f23b1644f743row29_col0\" class\u003d\"data row29 col0\" \u003e$                 197\u003c/td\u003e \n        \u003ctd id\u003d\"T_099d064c_983e_11ed_bb48_f23b1644f743row29_col1\" class\u003d\"data row29 col1\" \u003e$                   0\u003c/td\u003e \n        \u003ctd id\u003d\"T_099d064c_983e_11ed_bb48_f23b1644f743row29_col2\" class\u003d\"data row29 col2\" \u003e0.00\u003c/td\u003e \n        \u003ctd id\u003d\"T_099d064c_983e_11ed_bb48_f23b1644f743row29_col3\" class\u003d\"data row29 col3\" \u003e$                   0\u003c/td\u003e \n        \u003ctd id\u003d\"T_099d064c_983e_11ed_bb48_f23b1644f743row29_col4\" class\u003d\"data row29 col4\" \u003e0.00\u003c/td\u003e \n        \u003ctd id\u003d\"T_099d064c_983e_11ed_bb48_f23b1644f743row29_col5\" class\u003d\"data row29 col5\" \u003e$                   0\u003c/td\u003e \n        \u003ctd id\u003d\"T_099d064c_983e_11ed_bb48_f23b1644f743row29_col6\" class\u003d\"data row29 col6\" \u003e$                   0\u003c/td\u003e \n        \u003ctd id\u003d\"T_099d064c_983e_11ed_bb48_f23b1644f743row29_col7\" class\u003d\"data row29 col7\" \u003e0.00\u003c/td\u003e \n    \u003c/tr\u003e    \u003ctr\u003e \n        \u003cth id\u003d\"T_099d064c_983e_11ed_bb48_f23b1644f743level0_row30\" class\u003d\"row_heading level0 row30\" \u003ewatermelon_add_on\u003c/th\u003e \n        \u003cth id\u003d\"T_099d064c_983e_11ed_bb48_f23b1644f743level1_row30\" class\u003d\"row_heading level1 row30\" \u003e0.005\u003c/th\u003e \n        \u003ctd id\u003d\"T_099d064c_983e_11ed_bb48_f23b1644f743row30_col0\" class\u003d\"data row30 col0\" \u003e$                  40\u003c/td\u003e \n        \u003ctd id\u003d\"T_099d064c_983e_11ed_bb48_f23b1644f743row30_col1\" class\u003d\"data row30 col1\" \u003e$                   0\u003c/td\u003e \n        \u003ctd id\u003d\"T_099d064c_983e_11ed_bb48_f23b1644f743row30_col2\" class\u003d\"data row30 col2\" \u003e0.00\u003c/td\u003e \n        \u003ctd id\u003d\"T_099d064c_983e_11ed_bb48_f23b1644f743row30_col3\" class\u003d\"data row30 col3\" \u003e$                   0\u003c/td\u003e \n        \u003ctd id\u003d\"T_099d064c_983e_11ed_bb48_f23b1644f743row30_col4\" class\u003d\"data row30 col4\" \u003e0.00\u003c/td\u003e \n        \u003ctd id\u003d\"T_099d064c_983e_11ed_bb48_f23b1644f743row30_col5\" class\u003d\"data row30 col5\" \u003e$                   0\u003c/td\u003e \n        \u003ctd id\u003d\"T_099d064c_983e_11ed_bb48_f23b1644f743row30_col6\" class\u003d\"data row30 col6\" \u003e$                   0\u003c/td\u003e \n        \u003ctd id\u003d\"T_099d064c_983e_11ed_bb48_f23b1644f743row30_col7\" class\u003d\"data row30 col7\" \u003e0.00\u003c/td\u003e \n    \u003c/tr\u003e\u003c/tbody\u003e \n\u003c/table\u003e "
          },
          "metadata": {}
        }
      ]
    },
    {
      "cell_type": "markdown",
      "metadata": {},
      "source": [
        "### 5. Descriptive Statistics (Incomplete)"
      ]
    },
    {
      "cell_type": "markdown",
      "metadata": {},
      "source": [
        "## Discussion (Incomplete)"
      ]
    },
    {
      "cell_type": "markdown",
      "metadata": {},
      "source": [
        "(Idea stage)\n\n**Findings**\n1. Peanut farmers didn\u0027t buy fertilizer\n\n**Future**\n1. Updating methodology of impact by package to look at impact separately for packages where country, product, and package size are the same, but prices are different, i.e. due to different varieties of seeds, etc. (Take the weighted average of the prices next year? This year was just averages, no matter the number of packages delivered). \n2. Calculating total impact using impact per hectare and total hectares, instead of a sum of impact per package size times number of hectares for that package option. The latter is more accurate. How much is the way we\u0027re calculating total impact inflating our impact?\n3. Procedure for market prices. To be more accurate - ask farmers what farmers they\u0027re actually getting. To be more consistent - same source year on year. Idea \u003d collect market prices consistently during a defined time period. This also makes the impact calculation process more feasible and efficient, as the same conversation occurs every year as to which prices we use, from where, and are they good enough?\n4. Re-evaluate the assumptions behind vegetable add-on impact. We use number of packages to determine weighted net profit of add ons, but impact is per farmer.\n5. If any monetary figures from previous impact reports are used as inputs in impact calculations, they should be adjusted for inflation. These adjustments should occur in CFA and then converted back into USD."
      ]
    },
    {
      "cell_type": "markdown",
      "metadata": {},
      "source": [
        "## Appendix I\n### All Documented Decisions\n\nFor decisions on data sources and inputs see Appendix II."
      ]
    },
    {
      "cell_type": "markdown",
      "metadata": {},
      "source": [
        "**Decision 1.b.1.**\nData collected on the wet and dry weights of control farmer peanut plants during 2022 Harvest Evaluation--variables that determine the dry matter content of peanut fodder, an important factor in caclulating impact--deviated drastically from previous years. Following an investigation, the lack of agricultural explanation and magnitude of the difference from the norm led to the decision to replace calculated dry matter content values with the average of the figures from the previous three years (2019, 2020, and 2021) for both myAgro and control groups.\n\n\u003e*Dry Matter Content Values*\n\n\u003e\u003e**2019:** *myAgro* 0.5 | *Control* 0.44\n\n\u003e\u003e**2020:** *myAgro* 0.43 | *Control* 0.44\n\n\u003e\u003e**2021:** *myAgro* 0.39 | *Control* 0.44\n\n\u003e\u003e**2019-2021 Average:** *myAgro* 0.44 | *Control* 0.44\n\n\u003e\u003e**2022:** *myAgro* 0.46 | ***Control* 0.27**"
      ]
    },
    {
      "cell_type": "markdown",
      "metadata": {},
      "source": [
        "**Decision 1.b.2.**\nThe 2021 Impact Report uses a static value of \\$2,541 for planter impact. This figure is not consistent with the value used in all previous impact reports for this metric (\\$2,559), which was determined by the 2015 evaluation of myAgro impact per planter. The reason for this is not recorded, nor known to anyone. Therefore the original figure for this metric is used in the 2022 report."
      ]
    },
    {
      "cell_type": "markdown",
      "metadata": {},
      "source": [
        "**Decision 1.b.3.**\nThe metric used for this analysis is the average expense for seeds \u0026 fertilizer (CFA/hectare). Control farmer pesticide expense is not included this year because myAgro packages did not include pesticides. We collect pesticide expense data because packages have included pesticides in the past, and may again in the future."
      ]
    },
    {
      "cell_type": "markdown",
      "metadata": {},
      "source": [
        "**Decision 1.b.4.**\nOutliers were excluded from control farmer expense data with the following logic: observations with values greater than the 75% quantile of seeds + fertilizer expenses (calculated excluding seed + fertilizer expenses equal to zero) were excluded from each expense category, and thus do not contribute towards the average exepense figures per crop type. This value is 302,172 CFA/Hectare."
      ]
    },
    {
      "cell_type": "markdown",
      "metadata": {},
      "source": [
        "**Decision 2.a.1.**\nIn data cleaning*, the prices for cereal packages were adjusted to reflect the package price without the add-on, using the assumption that the price of all add-on packages is 2,500CFA.\n\n\\*The initial prepare step in Dataiku for the package_price_by_product_hectarage dataset"
      ]
    },
    {
      "cell_type": "markdown",
      "metadata": {},
      "source": [
        "**Decision 2.a.2** \nNumber of packages is used to calculate weighted net profit for vegetable add ons. In the past number of farmers was used however number of packages is more accurate. Therefore these elements are not standardized to compare year to year. (But results are very similar."
      ]
    },
    {
      "cell_type": "markdown",
      "metadata": {},
      "source": [
        "**Decision 2.f.1.**\nThe following changes to SROI reporting in this iteration of the Impact Report should be noted:\n\n1. Change of denominator metric in the SROI calculation\n\nAdvised by myAgro\u0027s VP of Finance, the denominator of the SROI calculation was changed from Philanthropic Revenue to Net Loss before Philanthropic Revenue, i.e. the amount of money needed from donors to break even. This decision was made 1. for increased accuracy, as it is possible to raise more or less than needed to cover operational expenses in a given year (if less, we pay for expenses out of our reserves) and 2. for better year on year comparability, especially considering myAgro\u0027s Audacious award in 2022.\n\n2. Change in myAgro fiscal year\n\nIn 2022 myAgro transitioned from a July 1 fiscal year to a January 1 fiscal year. The main SROI results displayed uses the projected Net Loss before Philanthropic Revenue figure for the twelve months ending December 31, 2022 ($24 million). This will be replaced with the final figure in February 2023. This result is not standardized for comparability with results from previous years. \n\nAn alternative SROI result is also displayed, which can be compared apples to apples with results from previous years. This alternative result is calculated using Net Loss before Philanthropic Revenue for the twelve months ended June 30, 2022 ($19,633,545). This is based on six months of audited financials (the stub period from July 1 to December 31, 2021), plus six months of unaudited management accounts (January to June 2022).\n\nThe large difference in these two Net Loss before Philanthropic Revenue figures, and consequently SROI, may be attributed to myAgro\u0027s increase in costs over the past year.   \n\n3. Elimination of *SROI Core Program* metric\n\nmyAgro\u0027s Finance team has communicated that they are not able to provide a valid figure capturing the Philanthropic Revenue for, or Net Loss before Philanthropic Revenue from, myAgro\u0027s core program (field activity). Therefore, SROI Core Program will not be included in the 2022 Impact Report as it has been in the past for now.\n\n**One should take caution and disclose the above information when comparing or reporting SROI year to year**"
      ]
    },
    {
      "cell_type": "markdown",
      "metadata": {},
      "source": [
        "## Appendix II (Incomplete)\n### Data Sources"
      ]
    },
    {
      "cell_type": "markdown",
      "metadata": {},
      "source": [
        "**1.b.1. Cereal yields:** Internal harvest measurement data.\n\n**1.b.2. Vegetable yields (Bissap, Watermelon, Okra):** Figures sourced from the 2021 Impact Report (insert original source).\n\n**1.b.2. Vegetable yields (Cow Pea):** FAOSTAT (Viable if yield isn\u0027t measured and provided by the M\u0026E team for either/both the add-on and pilot. This is a placeholder until the data is provided, if at all).\n\n**1.b.3. Market Prices:** Placeholders sourced from the 2021 Impact Report.\n\n**1.b.4. Peanut Fodder:** *Weight (kg/bag)* from weight data collected from 13 different sites in 2019, figures sourced from the 2021 Impact Report. *Price (CFA/bag)* is the minimum price collected from multiple sources in Thies in November 2019, figures sourced from the 2021 Impact Report. - decision made to increase 15% to 4000 based on field research\n\n**1.b.5. Planter Impact:** Figure sourced from the 2015 planter impact evaluation. The 2021 Impact Report used a different number than the 2015 figure that all previous reports used, and no one knows or remembers why, and so the original value is used in this report.\n\n**1.b.6. Exchange Rate:**\n\n**1.b.7. Control Farmer Expenses:** Internal control farmer expense survey (include more detail)"
      ]
    },
    {
      "execution_count": 800,
      "cell_type": "code",
      "metadata": {},
      "source": [
        "#Appendix III\n#Notes for Analyst (Incomplete)\n\n#Data Preparation (Dataiku Inputs)\n\n#Packages prices\n#Median to account for changes within the season\n#Fpr impact per package: Aggregated by weighted averages of package prices because there are some instances of packages of the same size with different prices for the same crop and within the same country\n\n#Packages/hectares delivered\n#prepare step in dataiku creates columns for each package type, there may be some to add each year to accommodate for new packages, new add-ons, and pilots, and some existing columns that will need editing\n\n#Join of control farmer expenses\n#- Expense columns separated into three different datasets to filter out value \u003d\u003d 0 before finding averages\n#- Left join to merge them back together must start with the dataset with the most rows, i.e. crops. For 2022 there is data for pesticide expense for sorghum farmers in Mali, but no other expense is available\n\n# Peanut Fodder\n# Tableau Analysis should be automated / added to flow each year"
      ],
      "outputs": []
    },
    {
      "cell_type": "markdown",
      "metadata": {},
      "source": [
        "### Narrative EDA (Incomplete, Temporary Location)\n\nAvailability of fertilizer, we were a consistent supplier\nAble to maintain impact even though package prices went up\nControl farmers either used less or had to pay more\n\nQuantity and price of fertilizer\n- maybe looking only at those who gave specific amounts\n\nWomen vs men\n- Farmers seem to have paid more in SN (more men)\n- Invested less in Mali, may be because women have lower access to fertilizer\n\nLook into data in terms of use of fertilizer \n\n"
      ]
    },
    {
      "execution_count": 801,
      "cell_type": "code",
      "metadata": {
        "scrolled": false
      },
      "source": [
        "#fertilizer_usage_and_expense_per_farmer.head()"
      ],
      "outputs": []
    },
    {
      "execution_count": 802,
      "cell_type": "code",
      "metadata": {
        "scrolled": false
      },
      "source": [
        "fertilizer_usage_and_expense \u003d dataiku.Dataset(\"fertilizer_usage_and_expense\")\nfertilizer_usage_and_expense_per_farmer \u003d fertilizer_usage_and_expense.get_dataframe()\ncontrol_fert_usage \u003d fertilizer_usage_and_expense_per_farmer.set_index(\u0027info_type_producteur\u0027)\ncontrol_fert_usage \u003d control_fert_usage.loc[\u0027control\u0027, [\u0027info_pays\u0027, \u0027info_culture\u0027, \u0027info_sexe\u0027, \u0027control_npk_used\u0027, \u0027control_uree_used\u0027, \u0027control_used_dap\u0027, \u0027control_one_or_more_fertilizer_used\u0027]]\\\n                                       .set_index([\u0027info_pays\u0027, \u0027info_culture\u0027])"
      ],
      "outputs": []
    },
    {
      "execution_count": 803,
      "cell_type": "code",
      "metadata": {
        "scrolled": true
      },
      "source": [
        "# All reported yes or no, no null values\n\ncontrol_sample_fertilizer_usage \u003d {\u0027total number of control farmers\u0027: len(control_fert_usage),\n                                   \u0027number of farmers used dap\u0027: control_fert_usage[\u0027control_used_dap\u0027].sum(),\n                                   \u0027proportion of farmers that used dap\u0027: round(control_fert_usage[\u0027control_used_dap\u0027].sum()/len(control_fert_usage),2),\n                                   \u0027number of farmers used npk\u0027: control_fert_usage[\u0027control_npk_used\u0027].sum(),\n                                   \u0027proportion of farmers that used npk\u0027: round(control_fert_usage[\u0027control_npk_used\u0027].sum()/len(control_fert_usage),2),\n                                   \u0027number of farmers used uree\u0027: control_fert_usage[\u0027control_uree_used\u0027].sum(),\n                                   \u0027proportion of farmers that used uree\u0027: round(control_fert_usage[\u0027control_uree_used\u0027].sum()/len(control_fert_usage),2),\n                                   \u0027number of farmers used at least one kind of fertilizer\u0027: control_fert_usage[\u0027control_one_or_more_fertilizer_used\u0027].sum(),\n                                   \u0027proportion of farmers that used at least one kind of fertilizer\u0027: round(control_fert_usage[\u0027control_one_or_more_fertilizer_used\u0027].sum()/len(control_fert_usage),2)}\ncontrol_sample_fertilizer_usage"
      ],
      "outputs": [
        {
          "output_type": "execute_result",
          "execution_count": 803,
          "data": {
            "text/plain": "{\u0027total number of control farmers\u0027: 1278,\n \u0027number of farmers used dap\u0027: 71.0,\n \u0027proportion of farmers that used dap\u0027: 0.06,\n \u0027number of farmers used npk\u0027: 150.0,\n \u0027proportion of farmers that used npk\u0027: 0.12,\n \u0027number of farmers used uree\u0027: 179.0,\n \u0027proportion of farmers that used uree\u0027: 0.14,\n \u0027number of farmers used at least one kind of fertilizer\u0027: 263,\n \u0027proportion of farmers that used at least one kind of fertilizer\u0027: 0.21}"
          },
          "metadata": {}
        }
      ]
    }
  ]
}